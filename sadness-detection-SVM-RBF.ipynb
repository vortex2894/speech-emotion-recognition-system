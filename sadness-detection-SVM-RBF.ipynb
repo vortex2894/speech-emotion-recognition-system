{
 "cells": [
  {
   "cell_type": "markdown",
   "metadata": {},
   "source": [
    "# Libraries"
   ]
  },
  {
   "cell_type": "code",
   "execution_count": 1,
   "metadata": {},
   "outputs": [
    {
     "name": "stderr",
     "output_type": "stream",
     "text": [
      "/home/vrtx26/.local/lib/python3.8/site-packages/pydub/utils.py:170: RuntimeWarning: Couldn't find ffmpeg or avconv - defaulting to ffmpeg, but may not work\n",
      "  warn(\"Couldn't find ffmpeg or avconv - defaulting to ffmpeg, but may not work\", RuntimeWarning)\n"
     ]
    }
   ],
   "source": [
    "from matplotlib import pyplot as plt\n",
    "%matplotlib inline\n",
    "# %matplotlib widget    # interactive 3d plots\n",
    "from sklearn.svm import SVC\n",
    "import time\n",
    "import pandas as pd\n",
    "import numpy as np\n",
    "from tqdm import tqdm\n",
    "import data_loader\n",
    "import model_evaluation\n",
    "import plotting_utils\n",
    "import model_training\n",
    "from sklearn import linear_model\n",
    "from sklearn import metrics\n",
    "import copy\n",
    "from mv_utils import lasso_rank, SVM_eval\n",
    "# from tqdm import tqdm"
   ]
  },
  {
   "cell_type": "markdown",
   "metadata": {},
   "source": [
    "# Feature (MFCC) extraction (Dataset generation)"
   ]
  },
  {
   "cell_type": "code",
   "execution_count": 3,
   "metadata": {},
   "outputs": [
    {
     "name": "stdout",
     "output_type": "stream",
     "text": [
      "{'ravdess': True, 'ravdess_speech': False, 'ravdess_song': False, 'tess': False}\n",
      "INFO: n_fft=16384, n_mfcc=34\n",
      "{'ravdess': True, 'ravdess_speech': False, 'ravdess_song': False, 'tess': False}\n"
     ]
    },
    {
     "name": "stderr",
     "output_type": "stream",
     "text": [
      "0it [00:00, ?it/s]"
     ]
    },
    {
     "name": "stdout",
     "output_type": "stream",
     "text": [
      "--- Data loaded. Loading time: 0.003998756408691406 seconds ---\n",
      "X.shape =  (0, 0)\n",
      "y.shape =  (0, 0)\n",
      "ID.shape =  (0, 0)\n",
      "data loaded in 0.010998964309692383ms\n",
      "Empty DataFrame\n",
      "Columns: []\n",
      "Index: []\n",
      "X.shape =  (0, 0)\n",
      "X.columns =  Index([], dtype='object')\n"
     ]
    },
    {
     "name": "stderr",
     "output_type": "stream",
     "text": [
      "\n"
     ]
    }
   ],
   "source": [
    "# run this function if you need to generate a csv data set from scratch\n",
    "X, y, ID = data_loader.load_dataset(should_generate_dataset=True, \n",
    "                                    use_vad=False, \n",
    "                                    use_delta_mfcc=False,\n",
    "                                    use_delta_delta_mfcc=True)"
   ]
  },
  {
   "cell_type": "markdown",
   "metadata": {},
   "source": [
    "# Loading Dataset"
   ]
  },
  {
   "cell_type": "code",
   "execution_count": 2,
   "metadata": {},
   "outputs": [
    {
     "name": "stdout",
     "output_type": "stream",
     "text": [
      "data loaded in 0.0777890682220459ms\n",
      "          0         1         2         3         4         5         6  \\\n",
      "0  0.327805 -0.464719 -0.540320 -0.983787 -1.276392 -0.517576 -0.059207   \n",
      "1 -0.483202 -0.287426  0.073267 -0.259939 -1.043461  0.220426 -0.243781   \n",
      "2 -0.982079  1.092156 -0.237941 -0.002997 -0.934974  0.313563  0.708375   \n",
      "3  0.968642 -1.604765 -0.123183 -0.789169 -1.783557 -0.222486 -0.352760   \n",
      "4  0.548607 -1.485735 -0.842989 -0.959707 -1.563772 -0.373401 -0.273213   \n",
      "\n",
      "          7         8         9  ...       296       297       298       299  \\\n",
      "0 -1.325718 -0.865250 -1.400271  ... -0.000500  0.245232  0.467592  0.179897   \n",
      "1 -0.745799 -0.558315 -0.667095  ...  0.081401 -0.156604  0.054227  1.335473   \n",
      "2  0.392641 -0.112142 -0.675854  ...  1.159202 -0.281807  0.370446  0.969862   \n",
      "3 -1.354752 -0.871037 -0.944073  ... -0.582348  1.606737 -1.213523  0.283672   \n",
      "4 -1.374351 -0.530736 -0.333489  ... -0.312877 -1.016252 -0.713702  0.537837   \n",
      "\n",
      "        300       301       302       303       304       305  \n",
      "0 -0.071906 -0.257116  0.544333 -0.231348  0.071897 -0.767122  \n",
      "1 -0.344696  0.016769  0.729152  0.075905 -0.108514 -0.293366  \n",
      "2 -0.315806  0.671840  0.658161  0.343669  1.597481  0.445682  \n",
      "3 -0.615416 -0.066494 -0.169077 -0.277765 -0.735832 -0.675801  \n",
      "4  1.182357  1.962940 -0.635250  0.001021 -0.530822 -0.600576  \n",
      "\n",
      "[5 rows x 306 columns]\n",
      "X.shape =  (1440, 306)\n",
      "X.columns =  Index(['0', '1', '2', '3', '4', '5', '6', '7', '8', '9',\n",
      "       ...\n",
      "       '296', '297', '298', '299', '300', '301', '302', '303', '304', '305'],\n",
      "      dtype='object', length=306)\n"
     ]
    }
   ],
   "source": [
    "X, y, ID = data_loader.load_dataset(X_path='data/2023-11-08/feature_mfcc_34_delta_delta_nfft_4096.csv', \n",
    "                                    y_path='data/2023-11-08/y_labels_feature_34_mfcc_delta_delta_nfft_4096.csv',\n",
    "                                    ID_path='data/2023-11-08/IDs_feature_mfcc_34_delta_delta_nfft_4096.csv') "
   ]
  },
  {
   "cell_type": "markdown",
   "metadata": {},
   "source": [
    "## Relabeling and normilizing"
   ]
  },
  {
   "cell_type": "code",
   "execution_count": 3,
   "metadata": {},
   "outputs": [],
   "source": [
    "y_true = np.zeros((len(y)))\n",
    "y_true[np.squeeze(y.values=='sad')] = 1\n",
    "y_true[y_true==0] = -1\n",
    "\n",
    "X_data = X.values\n",
    "X_norm = (X_data - X_data.mean(axis=0)) / X_data.std(axis=0)\n",
    "y_reg = copy.copy(y_true)"
   ]
  },
  {
   "cell_type": "markdown",
   "metadata": {},
   "source": [
    "# LASSO ranking"
   ]
  },
  {
   "cell_type": "code",
   "execution_count": 4,
   "metadata": {},
   "outputs": [
    {
     "name": "stderr",
     "output_type": "stream",
     "text": [
      "/usr/local/lib/python3.8/dist-packages/sklearn/linear_model/_coordinate_descent.py:631: ConvergenceWarning: Objective did not converge. You might want to increase the number of iterations, check the scale of the features or consider increasing regularisation. Duality gap: 2.007e+02, tolerance: 6.656e-02\n",
      "  model = cd_fast.enet_coordinate_descent(\n",
      "/usr/local/lib/python3.8/dist-packages/sklearn/linear_model/_coordinate_descent.py:631: ConvergenceWarning: Objective did not converge. You might want to increase the number of iterations, check the scale of the features or consider increasing regularisation. Duality gap: 2.001e+02, tolerance: 6.656e-02\n",
      "  model = cd_fast.enet_coordinate_descent(\n",
      "/usr/local/lib/python3.8/dist-packages/sklearn/linear_model/_coordinate_descent.py:631: ConvergenceWarning: Objective did not converge. You might want to increase the number of iterations, check the scale of the features or consider increasing regularisation. Duality gap: 1.831e+02, tolerance: 6.656e-02\n",
      "  model = cd_fast.enet_coordinate_descent(\n",
      "/usr/local/lib/python3.8/dist-packages/sklearn/linear_model/_coordinate_descent.py:631: ConvergenceWarning: Objective did not converge. You might want to increase the number of iterations, check the scale of the features or consider increasing regularisation. Duality gap: 1.249e+02, tolerance: 6.656e-02\n",
      "  model = cd_fast.enet_coordinate_descent(\n",
      "/usr/local/lib/python3.8/dist-packages/sklearn/linear_model/_coordinate_descent.py:631: ConvergenceWarning: Objective did not converge. You might want to increase the number of iterations, check the scale of the features or consider increasing regularisation. Duality gap: 1.239e+02, tolerance: 6.656e-02\n",
      "  model = cd_fast.enet_coordinate_descent(\n",
      "/usr/local/lib/python3.8/dist-packages/sklearn/linear_model/_coordinate_descent.py:631: ConvergenceWarning: Objective did not converge. You might want to increase the number of iterations, check the scale of the features or consider increasing regularisation. Duality gap: 2.315e+01, tolerance: 6.656e-02\n",
      "  model = cd_fast.enet_coordinate_descent(\n"
     ]
    },
    {
     "data": {
      "text/plain": [
       "Text(0, 0.5, 'Coeffs')"
      ]
     },
     "execution_count": 4,
     "metadata": {},
     "output_type": "execute_result"
    },
    {
     "data": {
      "image/png": "[encoded data removed]",
      "text/plain": [
       "<Figure size 704x528 with 1 Axes>"
      ]
     },
     "metadata": {},
     "output_type": "display_data"
    }
   ],
   "source": [
    "Lasso_model = linear_model.Lasso()\n",
    "Npt = 10\n",
    "coeffs = np.zeros((X_norm.shape[1],Npt))\n",
    "lambda_ = np.logspace(-12.0, 0.5, Npt)\n",
    "i = 0\n",
    "for lamb in lambda_:\n",
    "    Lasso_model = linear_model.Lasso(alpha=lamb, max_iter=20000)\n",
    "    Lasso_model.fit(X_norm,y_reg)\n",
    "    coeffs[:,i] = Lasso_model.coef_\n",
    "    i = i + 1\n",
    "\n",
    "plt.figure(dpi=110)\n",
    "plt.plot(coeffs.T)\n",
    "plt.xlabel('$\\lambda$ number')\n",
    "plt.ylabel('Coeffs')"
   ]
  },
  {
   "cell_type": "code",
   "execution_count": 5,
   "metadata": {},
   "outputs": [],
   "source": [
    "Rank_lasso = []\n",
    "for i in range(coeffs.shape[1]-1,-1,-1):\n",
    "    withdraw_features = np.nonzero(coeffs[:,i])[0];\n",
    "    something_new = np.setdiff1d(withdraw_features, Rank_lasso)\n",
    "    if len(something_new):\n",
    "        for ii in range(len(something_new)):\n",
    "            Rank_lasso.append(something_new[ii])"
   ]
  },
  {
   "cell_type": "code",
   "execution_count": 6,
   "metadata": {},
   "outputs": [],
   "source": [
    "np.save('data/Lasso_Ranking_sad_result.npy', Rank_lasso)    # .npy extension is added if not given\n",
    "Rank_lasso = np.load('data/Lasso_Ranking_sad_result.npy')"
   ]
  },
  {
   "cell_type": "markdown",
   "metadata": {},
   "source": [
    "# LOSO accuracy estimation"
   ]
  },
  {
   "cell_type": "code",
   "execution_count": 7,
   "metadata": {},
   "outputs": [
    {
     "name": "stdout",
     "output_type": "stream",
     "text": [
      "Iter =  1  AUC = 0.6554\n",
      "Iter =  3  AUC = 0.6751\n",
      "Iter =  5  AUC = 0.6763\n",
      "Iter =  6  AUC = 0.6903\n",
      "Iter =  16  AUC = 0.7033\n",
      "Iter =  18  AUC = 0.7192\n",
      "Iter =  55  AUC = 0.7234\n",
      "Iter =  59  AUC = 0.7238\n",
      "Iter =  65  AUC = 0.7240\n",
      "Iter =  66  AUC = 0.7264\n",
      "Iter =  71  AUC = 0.7334\n",
      "Iter =  72  AUC = 0.7402\n",
      "Iter =  81  AUC = 0.7420\n",
      "Iter =  83  AUC = 0.7428\n",
      "auc_best = 0.74278846\n"
     ]
    },
    {
     "data": {
      "image/png": "[encoded data removed]",
      "text/plain": [
       "<Figure size 700x400 with 1 Axes>"
      ]
     },
     "metadata": {},
     "output_type": "display_data"
    }
   ],
   "source": [
    "# Rank = lasso_rank(X,y)\n",
    "# Rank = np.array(Rank)\n",
    "\n",
    "# subj_IDs = np.squeeze(ID.values)\n",
    "\n",
    "Rank = Rank_lasso\n",
    "auc_svm = []\n",
    "auc_best = 0\n",
    "ind_best = 0\n",
    "for k in range(1,len(Rank)+1):\n",
    "    feature_inds = Rank[:k]\n",
    "    auc = SVM_eval(X_norm,y_reg, feature_inds, ID)    \n",
    "    auc_svm.append(auc)\n",
    "    if (auc>auc_best):\n",
    "        auc_best = auc\n",
    "        ind_best = k-1\n",
    "        print('Iter = ', k, f' AUC = {auc:.4f}' )\n",
    "    \n",
    "fig,ax=plt.subplots(figsize=(7,4),dpi=100)\n",
    "plt.rcParams.update({'font.size': 14})\n",
    "plt.plot(auc_svm,marker='o', linestyle='dashed')\n",
    "plt.text(ind_best, auc_best+0.01, f'{auc_best:.3f}')\n",
    "plt.xlabel('Number of features')\n",
    "plt.ylabel('Accuracy')\n",
    "plt.title('LDA classifier')\n",
    "plt.ylim([0.45, 1.00])\n",
    "\n",
    "print(f'auc_best = {auc_best:.8f}')\n",
    "\n",
    "# image_name = 'figures\\\\ACC_LDA_vowel_a.jpg'\n",
    "# fig.savefig(image_name, bbox_inches='tight', pad_inches = 0.2)"
   ]
  },
  {
   "cell_type": "code",
   "execution_count": 8,
   "metadata": {},
   "outputs": [
    {
     "name": "stdout",
     "output_type": "stream",
     "text": [
      "best auc (LDA) =  0.7427884615384616 Number of features =  82\n"
     ]
    }
   ],
   "source": [
    "print('best auc (LDA) = ', np.max(auc_svm), 'Number of features = ', np.argmax(auc_svm))"
   ]
  },
  {
   "cell_type": "markdown",
   "metadata": {},
   "source": [
    "# Backward step selection"
   ]
  },
  {
   "cell_type": "code",
   "execution_count": 9,
   "metadata": {},
   "outputs": [],
   "source": [
    "def back_step_selection_loso(X,y,feature_ind, ID):\n",
    "# BACK_STEP_SELECTION Automatic procedure of feature selection\n",
    "\n",
    "#basic version\n",
    "   acc_mu_curr = SVM_eval(X,y,feature_ind, ID)\n",
    "   some_feature_droped = True\n",
    "   while (some_feature_droped):\n",
    "      print('NEW ROUND')\n",
    "      acc_up = -np.ones_like(feature_ind)\n",
    "      for i in range(len(feature_ind)):\n",
    "         cur_inds = np.setdiff1d(feature_ind,feature_ind[i])\n",
    "         acc_mu = SVM_eval(X,y,cur_inds, ID)\n",
    "         \n",
    "         print(f'Iter #{i}: {acc_mu:.3f} <-> {acc_mu_curr:.3f}')\n",
    "         \n",
    "         if (acc_mu>=acc_mu_curr):\n",
    "            acc_up[i] = acc_mu-acc_mu_curr\n",
    "      m_val = np.max(acc_up)\n",
    "      m_ind = np.argmax(acc_up)\n",
    "      \n",
    "      if (m_val>=0):\n",
    "         print(f'Withdraw feature #{m_ind}, added accracy {m_val}')\n",
    "         feature_ind = np.setdiff1d(feature_ind,feature_ind[m_ind]);\n",
    "         some_feature_droped = True       \n",
    "         # new basic version\n",
    "         acc_mu_curr = SVM_eval(X,y,feature_ind, ID)\n",
    "      else:\n",
    "         acc_final = acc_mu_curr\n",
    "         some_feature_droped = False\n",
    "\n",
    "   return acc_final, feature_ind"
   ]
  },
  {
   "cell_type": "code",
   "execution_count": 10,
   "metadata": {},
   "outputs": [
    {
     "name": "stdout",
     "output_type": "stream",
     "text": [
      "NEW ROUND\n",
      "Iter #0: 0.737 <-> 0.743\n",
      "Iter #1: 0.740 <-> 0.743\n",
      "Iter #2: 0.725 <-> 0.743\n",
      "Iter #3: 0.747 <-> 0.743\n",
      "Iter #4: 0.742 <-> 0.743\n",
      "Iter #5: 0.734 <-> 0.743\n",
      "Iter #6: 0.737 <-> 0.743\n",
      "Iter #7: 0.740 <-> 0.743\n",
      "Iter #8: 0.743 <-> 0.743\n",
      "Iter #9: 0.738 <-> 0.743\n",
      "Iter #10: 0.738 <-> 0.743\n",
      "Iter #11: 0.741 <-> 0.743\n",
      "Iter #12: 0.744 <-> 0.743\n",
      "Iter #13: 0.739 <-> 0.743\n",
      "Iter #14: 0.693 <-> 0.743\n",
      "Iter #15: 0.739 <-> 0.743\n",
      "Iter #16: 0.735 <-> 0.743\n",
      "Iter #17: 0.737 <-> 0.743\n",
      "Iter #18: 0.741 <-> 0.743\n",
      "Iter #19: 0.743 <-> 0.743\n",
      "Iter #20: 0.741 <-> 0.743\n",
      "Iter #21: 0.740 <-> 0.743\n",
      "Iter #22: 0.742 <-> 0.743\n",
      "Iter #23: 0.741 <-> 0.743\n",
      "Iter #24: 0.740 <-> 0.743\n",
      "Iter #25: 0.742 <-> 0.743\n",
      "Iter #26: 0.742 <-> 0.743\n",
      "Iter #27: 0.742 <-> 0.743\n",
      "Iter #28: 0.732 <-> 0.743\n",
      "Iter #29: 0.742 <-> 0.743\n",
      "Iter #30: 0.732 <-> 0.743\n",
      "Iter #31: 0.740 <-> 0.743\n",
      "Iter #32: 0.735 <-> 0.743\n",
      "Iter #33: 0.735 <-> 0.743\n",
      "Iter #34: 0.735 <-> 0.743\n",
      "Iter #35: 0.735 <-> 0.743\n",
      "Iter #36: 0.735 <-> 0.743\n",
      "Iter #37: 0.741 <-> 0.743\n",
      "Iter #38: 0.741 <-> 0.743\n",
      "Iter #39: 0.741 <-> 0.743\n",
      "Iter #40: 0.736 <-> 0.743\n",
      "Iter #41: 0.735 <-> 0.743\n",
      "Iter #42: 0.734 <-> 0.743\n",
      "Iter #43: 0.743 <-> 0.743\n",
      "Iter #44: 0.743 <-> 0.743\n",
      "Iter #45: 0.741 <-> 0.743\n",
      "Iter #46: 0.737 <-> 0.743\n",
      "Iter #47: 0.742 <-> 0.743\n",
      "Iter #48: 0.695 <-> 0.743\n",
      "Iter #49: 0.738 <-> 0.743\n",
      "Iter #50: 0.737 <-> 0.743\n",
      "Iter #51: 0.737 <-> 0.743\n",
      "Iter #52: 0.741 <-> 0.743\n",
      "Iter #53: 0.744 <-> 0.743\n",
      "Iter #54: 0.726 <-> 0.743\n",
      "Iter #55: 0.732 <-> 0.743\n",
      "Iter #56: 0.735 <-> 0.743\n",
      "Iter #57: 0.742 <-> 0.743\n",
      "Iter #58: 0.739 <-> 0.743\n",
      "Iter #59: 0.742 <-> 0.743\n",
      "Iter #60: 0.746 <-> 0.743\n",
      "Iter #61: 0.739 <-> 0.743\n",
      "Iter #62: 0.739 <-> 0.743\n",
      "Iter #63: 0.744 <-> 0.743\n",
      "Iter #64: 0.734 <-> 0.743\n",
      "Iter #65: 0.724 <-> 0.743\n",
      "Iter #66: 0.739 <-> 0.743\n",
      "Iter #67: 0.740 <-> 0.743\n",
      "Iter #68: 0.733 <-> 0.743\n",
      "Iter #69: 0.735 <-> 0.743\n",
      "Iter #70: 0.735 <-> 0.743\n",
      "Iter #71: 0.713 <-> 0.743\n",
      "Iter #72: 0.740 <-> 0.743\n",
      "Iter #73: 0.742 <-> 0.743\n",
      "Iter #74: 0.740 <-> 0.743\n",
      "Iter #75: 0.737 <-> 0.743\n",
      "Iter #76: 0.727 <-> 0.743\n",
      "Iter #77: 0.744 <-> 0.743\n",
      "Iter #78: 0.736 <-> 0.743\n",
      "Iter #79: 0.738 <-> 0.743\n",
      "Iter #80: 0.693 <-> 0.743\n",
      "Iter #81: 0.742 <-> 0.743\n",
      "Iter #82: 0.741 <-> 0.743\n",
      "Withdraw feature #3, added accracy 0\n",
      "NEW ROUND\n",
      "Iter #0: 0.738 <-> 0.747\n",
      "Iter #1: 0.725 <-> 0.747\n",
      "Iter #2: 0.728 <-> 0.747\n",
      "Iter #3: 0.746 <-> 0.747\n",
      "Iter #4: 0.694 <-> 0.747\n",
      "Iter #5: 0.741 <-> 0.747\n",
      "Iter #6: 0.736 <-> 0.747\n",
      "Iter #7: 0.741 <-> 0.747\n",
      "Iter #8: 0.740 <-> 0.747\n",
      "Iter #9: 0.741 <-> 0.747\n",
      "Iter #10: 0.746 <-> 0.747\n",
      "Iter #11: 0.743 <-> 0.747\n",
      "Iter #12: 0.740 <-> 0.747\n",
      "Iter #13: 0.741 <-> 0.747\n",
      "Iter #14: 0.742 <-> 0.747\n",
      "Iter #15: 0.738 <-> 0.747\n",
      "Iter #16: 0.745 <-> 0.747\n",
      "Iter #17: 0.748 <-> 0.747\n",
      "Iter #18: 0.744 <-> 0.747\n",
      "Iter #19: 0.722 <-> 0.747\n",
      "Iter #20: 0.698 <-> 0.747\n",
      "Iter #21: 0.742 <-> 0.747\n",
      "Iter #22: 0.744 <-> 0.747\n",
      "Iter #23: 0.740 <-> 0.747\n",
      "Iter #24: 0.746 <-> 0.747\n",
      "Iter #25: 0.743 <-> 0.747\n",
      "Iter #26: 0.745 <-> 0.747\n",
      "Iter #27: 0.747 <-> 0.747\n",
      "Iter #28: 0.747 <-> 0.747\n",
      "Iter #29: 0.745 <-> 0.747\n",
      "Iter #30: 0.739 <-> 0.747\n",
      "Iter #31: 0.739 <-> 0.747\n",
      "Iter #32: 0.739 <-> 0.747\n",
      "Iter #33: 0.739 <-> 0.747\n",
      "Iter #34: 0.739 <-> 0.747\n",
      "Iter #35: 0.741 <-> 0.747\n",
      "Iter #36: 0.740 <-> 0.747\n",
      "Iter #37: 0.740 <-> 0.747\n",
      "Iter #38: 0.729 <-> 0.747\n",
      "Iter #39: 0.738 <-> 0.747\n",
      "Iter #40: 0.739 <-> 0.747\n",
      "Iter #41: 0.747 <-> 0.747\n",
      "Iter #42: 0.700 <-> 0.747\n",
      "Iter #43: 0.741 <-> 0.747\n",
      "Iter #44: 0.739 <-> 0.747\n",
      "Iter #45: 0.700 <-> 0.747\n",
      "Iter #46: 0.740 <-> 0.747\n",
      "Iter #47: 0.704 <-> 0.747\n",
      "Iter #48: 0.738 <-> 0.747\n",
      "Iter #49: 0.738 <-> 0.747\n",
      "Iter #50: 0.738 <-> 0.747\n",
      "Iter #51: 0.742 <-> 0.747\n",
      "Iter #52: 0.691 <-> 0.747\n",
      "Iter #53: 0.730 <-> 0.747\n",
      "Iter #54: 0.737 <-> 0.747\n",
      "Iter #55: 0.736 <-> 0.747\n",
      "Iter #56: 0.746 <-> 0.747\n",
      "Iter #57: 0.699 <-> 0.747\n",
      "Iter #58: 0.742 <-> 0.747\n",
      "Iter #59: 0.745 <-> 0.747\n",
      "Iter #60: 0.730 <-> 0.747\n",
      "Iter #61: 0.736 <-> 0.747\n",
      "Iter #62: 0.749 <-> 0.747\n",
      "Iter #63: 0.726 <-> 0.747\n",
      "Iter #64: 0.734 <-> 0.747\n",
      "Iter #65: 0.744 <-> 0.747\n",
      "Iter #66: 0.738 <-> 0.747\n",
      "Iter #67: 0.733 <-> 0.747\n",
      "Iter #68: 0.738 <-> 0.747\n",
      "Iter #69: 0.705 <-> 0.747\n",
      "Iter #70: 0.713 <-> 0.747\n",
      "Iter #71: 0.740 <-> 0.747\n",
      "Iter #72: 0.745 <-> 0.747\n",
      "Iter #73: 0.741 <-> 0.747\n",
      "Iter #74: 0.740 <-> 0.747\n",
      "Iter #75: 0.743 <-> 0.747\n",
      "Iter #76: 0.745 <-> 0.747\n",
      "Iter #77: 0.748 <-> 0.747\n",
      "Iter #78: 0.740 <-> 0.747\n",
      "Iter #79: 0.746 <-> 0.747\n",
      "Iter #80: 0.745 <-> 0.747\n",
      "Iter #81: 0.746 <-> 0.747\n",
      "Withdraw feature #17, added accracy 0\n",
      "NEW ROUND\n",
      "Iter #0: 0.741 <-> 0.748\n",
      "Iter #1: 0.727 <-> 0.748\n",
      "Iter #2: 0.730 <-> 0.748\n",
      "Iter #3: 0.746 <-> 0.748\n",
      "Iter #4: 0.694 <-> 0.748\n",
      "Iter #5: 0.742 <-> 0.748\n",
      "Iter #6: 0.734 <-> 0.748\n",
      "Iter #7: 0.742 <-> 0.748\n",
      "Iter #8: 0.740 <-> 0.748\n",
      "Iter #9: 0.742 <-> 0.748\n",
      "Iter #10: 0.746 <-> 0.748\n",
      "Iter #11: 0.743 <-> 0.748\n",
      "Iter #12: 0.743 <-> 0.748\n",
      "Iter #13: 0.724 <-> 0.748\n",
      "Iter #14: 0.741 <-> 0.748\n",
      "Iter #15: 0.730 <-> 0.748\n",
      "Iter #16: 0.743 <-> 0.748\n",
      "Iter #17: 0.745 <-> 0.748\n",
      "Iter #18: 0.743 <-> 0.748\n",
      "Iter #19: 0.702 <-> 0.748\n",
      "Iter #20: 0.742 <-> 0.748\n",
      "Iter #21: 0.744 <-> 0.748\n",
      "Iter #22: 0.740 <-> 0.748\n",
      "Iter #23: 0.747 <-> 0.748\n",
      "Iter #24: 0.743 <-> 0.748\n",
      "Iter #25: 0.703 <-> 0.748\n",
      "Iter #26: 0.748 <-> 0.748\n",
      "Iter #27: 0.747 <-> 0.748\n",
      "Iter #28: 0.745 <-> 0.748\n",
      "Iter #29: 0.740 <-> 0.748\n",
      "Iter #30: 0.740 <-> 0.748\n",
      "Iter #31: 0.740 <-> 0.748\n",
      "Iter #32: 0.740 <-> 0.748\n",
      "Iter #33: 0.740 <-> 0.748\n",
      "Iter #34: 0.741 <-> 0.748\n",
      "Iter #35: 0.742 <-> 0.748\n",
      "Iter #36: 0.741 <-> 0.748\n",
      "Iter #37: 0.697 <-> 0.748\n",
      "Iter #38: 0.739 <-> 0.748\n",
      "Iter #39: 0.737 <-> 0.748\n",
      "Iter #40: 0.748 <-> 0.748\n",
      "Iter #41: 0.705 <-> 0.748\n",
      "Iter #42: 0.741 <-> 0.748\n",
      "Iter #43: 0.741 <-> 0.748\n",
      "Iter #44: 0.704 <-> 0.748\n",
      "Iter #45: 0.742 <-> 0.748\n",
      "Iter #46: 0.704 <-> 0.748\n",
      "Iter #47: 0.737 <-> 0.748\n",
      "Iter #48: 0.737 <-> 0.748\n",
      "Iter #49: 0.737 <-> 0.748\n",
      "Iter #50: 0.746 <-> 0.748\n",
      "Iter #51: 0.744 <-> 0.748\n",
      "Iter #52: 0.730 <-> 0.748\n",
      "Iter #53: 0.737 <-> 0.748\n",
      "Iter #54: 0.738 <-> 0.748\n",
      "Iter #55: 0.747 <-> 0.748\n",
      "Iter #56: 0.702 <-> 0.748\n",
      "Iter #57: 0.742 <-> 0.748\n",
      "Iter #58: 0.747 <-> 0.748\n",
      "Iter #59: 0.727 <-> 0.748\n",
      "Iter #60: 0.738 <-> 0.748\n",
      "Iter #61: 0.749 <-> 0.748\n",
      "Iter #62: 0.730 <-> 0.748\n",
      "Iter #63: 0.734 <-> 0.748\n",
      "Iter #64: 0.745 <-> 0.748\n",
      "Iter #65: 0.739 <-> 0.748\n",
      "Iter #66: 0.733 <-> 0.748\n",
      "Iter #67: 0.741 <-> 0.748\n",
      "Iter #68: 0.706 <-> 0.748\n",
      "Iter #69: 0.723 <-> 0.748\n",
      "Iter #70: 0.741 <-> 0.748\n",
      "Iter #71: 0.722 <-> 0.748\n",
      "Iter #72: 0.741 <-> 0.748\n",
      "Iter #73: 0.741 <-> 0.748\n",
      "Iter #74: 0.742 <-> 0.748\n",
      "Iter #75: 0.747 <-> 0.748\n",
      "Iter #76: 0.748 <-> 0.748\n",
      "Iter #77: 0.737 <-> 0.748\n",
      "Iter #78: 0.747 <-> 0.748\n",
      "Iter #79: 0.744 <-> 0.748\n",
      "Iter #80: 0.743 <-> 0.748\n",
      "Withdraw feature #26, added accracy 0\n",
      "NEW ROUND\n",
      "Iter #0: 0.744 <-> 0.748\n",
      "Iter #1: 0.699 <-> 0.748\n",
      "Iter #2: 0.724 <-> 0.748\n",
      "Iter #3: 0.747 <-> 0.748\n",
      "Iter #4: 0.746 <-> 0.748\n",
      "Iter #5: 0.743 <-> 0.748\n",
      "Iter #6: 0.745 <-> 0.748\n",
      "Iter #7: 0.744 <-> 0.748\n",
      "Iter #8: 0.726 <-> 0.748\n",
      "Iter #9: 0.745 <-> 0.748\n",
      "Iter #10: 0.746 <-> 0.748\n",
      "Iter #11: 0.742 <-> 0.748\n",
      "Iter #12: 0.690 <-> 0.748\n",
      "Iter #13: 0.742 <-> 0.748\n",
      "Iter #14: 0.741 <-> 0.748\n",
      "Iter #15: 0.739 <-> 0.748\n",
      "Iter #16: 0.743 <-> 0.748\n",
      "Iter #17: 0.745 <-> 0.748\n",
      "Iter #18: 0.746 <-> 0.748\n",
      "Iter #19: 0.700 <-> 0.748\n",
      "Iter #20: 0.746 <-> 0.748\n",
      "Iter #21: 0.744 <-> 0.748\n",
      "Iter #22: 0.743 <-> 0.748\n",
      "Iter #23: 0.746 <-> 0.748\n",
      "Iter #24: 0.743 <-> 0.748\n",
      "Iter #25: 0.701 <-> 0.748\n",
      "Iter #26: 0.747 <-> 0.748\n",
      "Iter #27: 0.747 <-> 0.748\n",
      "Iter #28: 0.742 <-> 0.748\n",
      "Iter #29: 0.742 <-> 0.748\n",
      "Iter #30: 0.742 <-> 0.748\n",
      "Iter #31: 0.742 <-> 0.748\n",
      "Iter #32: 0.742 <-> 0.748\n",
      "Iter #33: 0.739 <-> 0.748\n",
      "Iter #34: 0.742 <-> 0.748\n",
      "Iter #35: 0.742 <-> 0.748\n",
      "Iter #36: 0.693 <-> 0.748\n",
      "Iter #37: 0.742 <-> 0.748\n",
      "Iter #38: 0.699 <-> 0.748\n",
      "Iter #39: 0.748 <-> 0.748\n",
      "Iter #40: 0.698 <-> 0.748\n",
      "Iter #41: 0.740 <-> 0.748\n",
      "Iter #42: 0.696 <-> 0.748\n",
      "Iter #43: 0.700 <-> 0.748\n",
      "Iter #44: 0.699 <-> 0.748\n",
      "Iter #45: 0.698 <-> 0.748\n",
      "Iter #46: 0.743 <-> 0.748\n",
      "Iter #47: 0.743 <-> 0.748\n",
      "Iter #48: 0.743 <-> 0.748\n",
      "Iter #49: 0.748 <-> 0.748\n",
      "Iter #50: 0.691 <-> 0.748\n",
      "Iter #51: 0.730 <-> 0.748\n",
      "Iter #52: 0.738 <-> 0.748\n",
      "Iter #53: 0.735 <-> 0.748\n",
      "Iter #54: 0.747 <-> 0.748\n",
      "Iter #55: 0.714 <-> 0.748\n",
      "Iter #56: 0.745 <-> 0.748\n",
      "Iter #57: 0.747 <-> 0.748\n",
      "Iter #58: 0.748 <-> 0.748\n",
      "Iter #59: 0.739 <-> 0.748\n",
      "Iter #60: 0.748 <-> 0.748\n",
      "Iter #61: 0.699 <-> 0.748\n",
      "Iter #62: 0.697 <-> 0.748\n",
      "Iter #63: 0.746 <-> 0.748\n",
      "Iter #64: 0.741 <-> 0.748\n"
     ]
    },
    {
     "name": "stdout",
     "output_type": "stream",
     "text": [
      "Iter #65: 0.698 <-> 0.748\n",
      "Iter #66: 0.741 <-> 0.748\n",
      "Iter #67: 0.698 <-> 0.748\n",
      "Iter #68: 0.735 <-> 0.748\n",
      "Iter #69: 0.741 <-> 0.748\n",
      "Iter #70: 0.745 <-> 0.748\n",
      "Iter #71: 0.746 <-> 0.748\n",
      "Iter #72: 0.744 <-> 0.748\n",
      "Iter #73: 0.743 <-> 0.748\n",
      "Iter #74: 0.747 <-> 0.748\n",
      "Iter #75: 0.749 <-> 0.748\n",
      "Iter #76: 0.739 <-> 0.748\n",
      "Iter #77: 0.748 <-> 0.748\n",
      "Iter #78: 0.747 <-> 0.748\n",
      "Iter #79: 0.747 <-> 0.748\n",
      "Withdraw feature #39, added accracy 0\n",
      "NEW ROUND\n",
      "Iter #0: 0.744 <-> 0.748\n",
      "Iter #1: 0.695 <-> 0.748\n",
      "Iter #2: 0.695 <-> 0.748\n",
      "Iter #3: 0.699 <-> 0.748\n",
      "Iter #4: 0.748 <-> 0.748\n",
      "Iter #5: 0.743 <-> 0.748\n",
      "Iter #6: 0.745 <-> 0.748\n",
      "Iter #7: 0.744 <-> 0.748\n",
      "Iter #8: 0.741 <-> 0.748\n",
      "Iter #9: 0.745 <-> 0.748\n",
      "Iter #10: 0.704 <-> 0.748\n",
      "Iter #11: 0.743 <-> 0.748\n",
      "Iter #12: 0.741 <-> 0.748\n",
      "Iter #13: 0.694 <-> 0.748\n",
      "Iter #14: 0.746 <-> 0.748\n",
      "Iter #15: 0.739 <-> 0.748\n",
      "Iter #16: 0.742 <-> 0.748\n",
      "Iter #17: 0.744 <-> 0.748\n",
      "Iter #18: 0.718 <-> 0.748\n",
      "Iter #19: 0.702 <-> 0.748\n",
      "Iter #20: 0.745 <-> 0.748\n",
      "Iter #21: 0.743 <-> 0.748\n",
      "Iter #22: 0.743 <-> 0.748\n",
      "Iter #23: 0.747 <-> 0.748\n",
      "Iter #24: 0.744 <-> 0.748\n",
      "Iter #25: 0.743 <-> 0.748\n",
      "Iter #26: 0.747 <-> 0.748\n",
      "Iter #27: 0.747 <-> 0.748\n",
      "Iter #28: 0.745 <-> 0.748\n",
      "Iter #29: 0.745 <-> 0.748\n",
      "Iter #30: 0.745 <-> 0.748\n",
      "Iter #31: 0.745 <-> 0.748\n",
      "Iter #32: 0.745 <-> 0.748\n",
      "Iter #33: 0.739 <-> 0.748\n",
      "Iter #34: 0.713 <-> 0.748\n",
      "Iter #35: 0.742 <-> 0.748\n",
      "Iter #36: 0.693 <-> 0.748\n",
      "Iter #37: 0.741 <-> 0.748\n",
      "Iter #38: 0.694 <-> 0.748\n",
      "Iter #39: 0.748 <-> 0.748\n",
      "Iter #40: 0.740 <-> 0.748\n",
      "Iter #41: 0.698 <-> 0.748\n",
      "Iter #42: 0.698 <-> 0.748\n",
      "Iter #43: 0.701 <-> 0.748\n",
      "Iter #44: 0.741 <-> 0.748\n",
      "Iter #45: 0.743 <-> 0.748\n",
      "Iter #46: 0.743 <-> 0.748\n",
      "Iter #47: 0.743 <-> 0.748\n",
      "Iter #48: 0.745 <-> 0.748\n",
      "Iter #49: 0.744 <-> 0.748\n",
      "Iter #50: 0.717 <-> 0.748\n",
      "Iter #51: 0.735 <-> 0.748\n",
      "Iter #52: 0.738 <-> 0.748\n",
      "Iter #53: 0.698 <-> 0.748\n",
      "Iter #54: 0.742 <-> 0.748\n",
      "Iter #55: 0.745 <-> 0.748\n",
      "Iter #56: 0.738 <-> 0.748\n",
      "Iter #57: 0.747 <-> 0.748\n",
      "Iter #58: 0.738 <-> 0.748\n",
      "Iter #59: 0.750 <-> 0.748\n",
      "Iter #60: 0.693 <-> 0.748\n",
      "Iter #61: 0.737 <-> 0.748\n",
      "Iter #62: 0.699 <-> 0.748\n",
      "Iter #63: 0.740 <-> 0.748\n",
      "Iter #64: 0.732 <-> 0.748\n",
      "Iter #65: 0.741 <-> 0.748\n",
      "Iter #66: 0.699 <-> 0.748\n",
      "Iter #67: 0.736 <-> 0.748\n",
      "Iter #68: 0.740 <-> 0.748\n",
      "Iter #69: 0.746 <-> 0.748\n",
      "Iter #70: 0.722 <-> 0.748\n",
      "Iter #71: 0.744 <-> 0.748\n",
      "Iter #72: 0.744 <-> 0.748\n",
      "Iter #73: 0.746 <-> 0.748\n",
      "Iter #74: 0.749 <-> 0.748\n",
      "Iter #75: 0.739 <-> 0.748\n",
      "Iter #76: 0.747 <-> 0.748\n",
      "Iter #77: 0.747 <-> 0.748\n",
      "Iter #78: 0.746 <-> 0.748\n",
      "Withdraw feature #4, added accracy 0\n",
      "NEW ROUND\n",
      "Iter #0: 0.745 <-> 0.748\n",
      "Iter #1: 0.694 <-> 0.748\n",
      "Iter #2: 0.730 <-> 0.748\n",
      "Iter #3: 0.734 <-> 0.748\n",
      "Iter #4: 0.746 <-> 0.748\n",
      "Iter #5: 0.745 <-> 0.748\n",
      "Iter #6: 0.745 <-> 0.748\n",
      "Iter #7: 0.740 <-> 0.748\n",
      "Iter #8: 0.743 <-> 0.748\n",
      "Iter #9: 0.746 <-> 0.748\n",
      "Iter #10: 0.745 <-> 0.748\n",
      "Iter #11: 0.691 <-> 0.748\n",
      "Iter #12: 0.742 <-> 0.748\n",
      "Iter #13: 0.744 <-> 0.748\n",
      "Iter #14: 0.740 <-> 0.748\n",
      "Iter #15: 0.737 <-> 0.748\n",
      "Iter #16: 0.745 <-> 0.748\n",
      "Iter #17: 0.744 <-> 0.748\n",
      "Iter #18: 0.698 <-> 0.748\n",
      "Iter #19: 0.747 <-> 0.748\n",
      "Iter #20: 0.744 <-> 0.748\n",
      "Iter #21: 0.695 <-> 0.748\n",
      "Iter #22: 0.746 <-> 0.748\n",
      "Iter #23: 0.743 <-> 0.748\n",
      "Iter #24: 0.744 <-> 0.748\n",
      "Iter #25: 0.743 <-> 0.748\n",
      "Iter #26: 0.744 <-> 0.748\n",
      "Iter #27: 0.746 <-> 0.748\n",
      "Iter #28: 0.746 <-> 0.748\n",
      "Iter #29: 0.746 <-> 0.748\n",
      "Iter #30: 0.746 <-> 0.748\n",
      "Iter #31: 0.746 <-> 0.748\n",
      "Iter #32: 0.739 <-> 0.748\n",
      "Iter #33: 0.735 <-> 0.748\n",
      "Iter #34: 0.745 <-> 0.748\n",
      "Iter #35: 0.741 <-> 0.748\n",
      "Iter #36: 0.693 <-> 0.748\n",
      "Iter #37: 0.734 <-> 0.748\n",
      "Iter #38: 0.745 <-> 0.748\n",
      "Iter #39: 0.740 <-> 0.748\n",
      "Iter #40: 0.740 <-> 0.748\n",
      "Iter #41: 0.746 <-> 0.748\n",
      "Iter #42: 0.698 <-> 0.748\n",
      "Iter #43: 0.739 <-> 0.748\n",
      "Iter #44: 0.744 <-> 0.748\n",
      "Iter #45: 0.744 <-> 0.748\n",
      "Iter #46: 0.744 <-> 0.748\n",
      "Iter #47: 0.748 <-> 0.748\n",
      "Iter #48: 0.744 <-> 0.748\n",
      "Iter #49: 0.726 <-> 0.748\n",
      "Iter #50: 0.736 <-> 0.748\n",
      "Iter #51: 0.739 <-> 0.748\n",
      "Iter #52: 0.747 <-> 0.748\n",
      "Iter #53: 0.694 <-> 0.748\n",
      "Iter #54: 0.738 <-> 0.748\n",
      "Iter #55: 0.745 <-> 0.748\n",
      "Iter #56: 0.748 <-> 0.748\n",
      "Iter #57: 0.740 <-> 0.748\n",
      "Iter #58: 0.749 <-> 0.748\n",
      "Iter #59: 0.738 <-> 0.748\n",
      "Iter #60: 0.694 <-> 0.748\n",
      "Iter #61: 0.746 <-> 0.748\n",
      "Iter #62: 0.742 <-> 0.748\n",
      "Iter #63: 0.736 <-> 0.748\n",
      "Iter #64: 0.740 <-> 0.748\n",
      "Iter #65: 0.694 <-> 0.748\n",
      "Iter #66: 0.733 <-> 0.748\n",
      "Iter #67: 0.741 <-> 0.748\n",
      "Iter #68: 0.741 <-> 0.748\n",
      "Iter #69: 0.724 <-> 0.748\n",
      "Iter #70: 0.746 <-> 0.748\n",
      "Iter #71: 0.744 <-> 0.748\n",
      "Iter #72: 0.745 <-> 0.748\n",
      "Iter #73: 0.745 <-> 0.748\n",
      "Iter #74: 0.703 <-> 0.748\n",
      "Iter #75: 0.747 <-> 0.748\n",
      "Iter #76: 0.746 <-> 0.748\n",
      "Iter #77: 0.745 <-> 0.748\n",
      "Withdraw feature #47, added accracy 0\n",
      "NEW ROUND\n",
      "Iter #0: 0.742 <-> 0.748\n",
      "Iter #1: 0.694 <-> 0.748\n",
      "Iter #2: 0.693 <-> 0.748\n",
      "Iter #3: 0.729 <-> 0.748\n",
      "Iter #4: 0.746 <-> 0.748\n",
      "Iter #5: 0.744 <-> 0.748\n",
      "Iter #6: 0.745 <-> 0.748\n",
      "Iter #7: 0.745 <-> 0.748\n",
      "Iter #8: 0.744 <-> 0.748\n",
      "Iter #9: 0.747 <-> 0.748\n",
      "Iter #10: 0.748 <-> 0.748\n",
      "Iter #11: 0.694 <-> 0.748\n",
      "Iter #12: 0.746 <-> 0.748\n",
      "Iter #13: 0.743 <-> 0.748\n",
      "Iter #14: 0.748 <-> 0.748\n",
      "Iter #15: 0.729 <-> 0.748\n",
      "Iter #16: 0.742 <-> 0.748\n",
      "Iter #17: 0.746 <-> 0.748\n",
      "Iter #18: 0.736 <-> 0.748\n",
      "Iter #19: 0.747 <-> 0.748\n",
      "Iter #20: 0.745 <-> 0.748\n",
      "Iter #21: 0.733 <-> 0.748\n",
      "Iter #22: 0.748 <-> 0.748\n",
      "Iter #23: 0.744 <-> 0.748\n",
      "Iter #24: 0.747 <-> 0.748\n",
      "Iter #25: 0.745 <-> 0.748\n",
      "Iter #26: 0.746 <-> 0.748\n",
      "Iter #27: 0.744 <-> 0.748\n",
      "Iter #28: 0.744 <-> 0.748\n",
      "Iter #29: 0.744 <-> 0.748\n",
      "Iter #30: 0.744 <-> 0.748\n",
      "Iter #31: 0.744 <-> 0.748\n",
      "Iter #32: 0.738 <-> 0.748\n",
      "Iter #33: 0.734 <-> 0.748\n",
      "Iter #34: 0.744 <-> 0.748\n",
      "Iter #35: 0.696 <-> 0.748\n",
      "Iter #36: 0.696 <-> 0.748\n",
      "Iter #37: 0.732 <-> 0.748\n",
      "Iter #38: 0.745 <-> 0.748\n",
      "Iter #39: 0.739 <-> 0.748\n",
      "Iter #40: 0.742 <-> 0.748\n",
      "Iter #41: 0.696 <-> 0.748\n",
      "Iter #42: 0.698 <-> 0.748\n",
      "Iter #43: 0.739 <-> 0.748\n",
      "Iter #44: 0.745 <-> 0.748\n",
      "Iter #45: 0.745 <-> 0.748\n",
      "Iter #46: 0.745 <-> 0.748\n",
      "Iter #47: 0.727 <-> 0.748\n",
      "Iter #48: 0.725 <-> 0.748\n",
      "Iter #49: 0.729 <-> 0.748\n",
      "Iter #50: 0.740 <-> 0.748\n",
      "Iter #51: 0.748 <-> 0.748\n",
      "Iter #52: 0.695 <-> 0.748\n",
      "Iter #53: 0.739 <-> 0.748\n",
      "Iter #54: 0.742 <-> 0.748\n",
      "Iter #55: 0.749 <-> 0.748\n",
      "Iter #56: 0.735 <-> 0.748\n",
      "Iter #57: 0.750 <-> 0.748\n",
      "Iter #58: 0.727 <-> 0.748\n",
      "Iter #59: 0.733 <-> 0.748\n",
      "Iter #60: 0.746 <-> 0.748\n",
      "Iter #61: 0.743 <-> 0.748\n",
      "Iter #62: 0.739 <-> 0.748\n",
      "Iter #63: 0.742 <-> 0.748\n",
      "Iter #64: 0.694 <-> 0.748\n",
      "Iter #65: 0.734 <-> 0.748\n",
      "Iter #66: 0.742 <-> 0.748\n",
      "Iter #67: 0.740 <-> 0.748\n",
      "Iter #68: 0.727 <-> 0.748\n",
      "Iter #69: 0.747 <-> 0.748\n",
      "Iter #70: 0.743 <-> 0.748\n",
      "Iter #71: 0.745 <-> 0.748\n",
      "Iter #72: 0.746 <-> 0.748\n",
      "Iter #73: 0.730 <-> 0.748\n",
      "Iter #74: 0.748 <-> 0.748\n",
      "Iter #75: 0.747 <-> 0.748\n",
      "Iter #76: 0.746 <-> 0.748\n",
      "Withdraw feature #10, added accracy 0\n",
      "NEW ROUND\n",
      "Iter #0: 0.742 <-> 0.748\n",
      "Iter #1: 0.726 <-> 0.748\n",
      "Iter #2: 0.730 <-> 0.748\n",
      "Iter #3: 0.748 <-> 0.748\n",
      "Iter #4: 0.744 <-> 0.748\n",
      "Iter #5: 0.746 <-> 0.748\n",
      "Iter #6: 0.746 <-> 0.748\n",
      "Iter #7: 0.693 <-> 0.748\n",
      "Iter #8: 0.744 <-> 0.748\n",
      "Iter #9: 0.697 <-> 0.748\n",
      "Iter #10: 0.742 <-> 0.748\n",
      "Iter #11: 0.743 <-> 0.748\n",
      "Iter #12: 0.746 <-> 0.748\n",
      "Iter #13: 0.748 <-> 0.748\n",
      "Iter #14: 0.740 <-> 0.748\n",
      "Iter #15: 0.744 <-> 0.748\n",
      "Iter #16: 0.739 <-> 0.748\n",
      "Iter #17: 0.730 <-> 0.748\n",
      "Iter #18: 0.747 <-> 0.748\n",
      "Iter #19: 0.744 <-> 0.748\n",
      "Iter #20: 0.741 <-> 0.748\n",
      "Iter #21: 0.747 <-> 0.748\n",
      "Iter #22: 0.747 <-> 0.748\n",
      "Iter #23: 0.745 <-> 0.748\n",
      "Iter #24: 0.747 <-> 0.748\n",
      "Iter #25: 0.740 <-> 0.748\n",
      "Iter #26: 0.742 <-> 0.748\n",
      "Iter #27: 0.742 <-> 0.748\n",
      "Iter #28: 0.742 <-> 0.748\n",
      "Iter #29: 0.742 <-> 0.748\n",
      "Iter #30: 0.742 <-> 0.748\n",
      "Iter #31: 0.718 <-> 0.748\n",
      "Iter #32: 0.731 <-> 0.748\n",
      "Iter #33: 0.742 <-> 0.748\n",
      "Iter #34: 0.743 <-> 0.748\n",
      "Iter #35: 0.736 <-> 0.748\n",
      "Iter #36: 0.725 <-> 0.748\n",
      "Iter #37: 0.749 <-> 0.748\n",
      "Iter #38: 0.742 <-> 0.748\n",
      "Iter #39: 0.746 <-> 0.748\n",
      "Iter #40: 0.743 <-> 0.748\n",
      "Iter #41: 0.695 <-> 0.748\n",
      "Iter #42: 0.728 <-> 0.748\n",
      "Iter #43: 0.748 <-> 0.748\n",
      "Iter #44: 0.748 <-> 0.748\n",
      "Iter #45: 0.748 <-> 0.748\n",
      "Iter #46: 0.694 <-> 0.748\n",
      "Iter #47: 0.733 <-> 0.748\n",
      "Iter #48: 0.738 <-> 0.748\n",
      "Iter #49: 0.738 <-> 0.748\n",
      "Iter #50: 0.748 <-> 0.748\n",
      "Iter #51: 0.739 <-> 0.748\n",
      "Iter #52: 0.741 <-> 0.748\n",
      "Iter #53: 0.746 <-> 0.748\n",
      "Iter #54: 0.735 <-> 0.748\n",
      "Iter #55: 0.749 <-> 0.748\n",
      "Iter #56: 0.745 <-> 0.748\n",
      "Iter #57: 0.693 <-> 0.748\n",
      "Iter #58: 0.716 <-> 0.748\n",
      "Iter #59: 0.747 <-> 0.748\n",
      "Iter #60: 0.728 <-> 0.748\n"
     ]
    },
    {
     "name": "stdout",
     "output_type": "stream",
     "text": [
      "Iter #61: 0.746 <-> 0.748\n",
      "Iter #62: 0.746 <-> 0.748\n",
      "Iter #63: 0.745 <-> 0.748\n",
      "Iter #64: 0.727 <-> 0.748\n",
      "Iter #65: 0.744 <-> 0.748\n",
      "Iter #66: 0.744 <-> 0.748\n",
      "Iter #67: 0.749 <-> 0.748\n",
      "Iter #68: 0.747 <-> 0.748\n",
      "Iter #69: 0.747 <-> 0.748\n",
      "Iter #70: 0.746 <-> 0.748\n",
      "Iter #71: 0.749 <-> 0.748\n",
      "Iter #72: 0.744 <-> 0.748\n",
      "Iter #73: 0.747 <-> 0.748\n",
      "Iter #74: 0.748 <-> 0.748\n",
      "Iter #75: 0.747 <-> 0.748\n",
      "Withdraw feature #3, added accracy 0\n",
      "NEW ROUND\n",
      "Iter #0: 0.743 <-> 0.748\n",
      "Iter #1: 0.727 <-> 0.748\n",
      "Iter #2: 0.741 <-> 0.748\n",
      "Iter #3: 0.744 <-> 0.748\n",
      "Iter #4: 0.747 <-> 0.748\n",
      "Iter #5: 0.726 <-> 0.748\n",
      "Iter #6: 0.728 <-> 0.748\n",
      "Iter #7: 0.745 <-> 0.748\n",
      "Iter #8: 0.737 <-> 0.748\n",
      "Iter #9: 0.746 <-> 0.748\n",
      "Iter #10: 0.742 <-> 0.748\n",
      "Iter #11: 0.745 <-> 0.748\n",
      "Iter #12: 0.751 <-> 0.748\n",
      "Iter #13: 0.732 <-> 0.748\n",
      "Iter #14: 0.744 <-> 0.748\n",
      "Iter #15: 0.743 <-> 0.748\n",
      "Iter #16: 0.749 <-> 0.748\n",
      "Iter #17: 0.744 <-> 0.748\n",
      "Iter #18: 0.744 <-> 0.748\n",
      "Iter #19: 0.745 <-> 0.748\n",
      "Iter #20: 0.747 <-> 0.748\n",
      "Iter #21: 0.746 <-> 0.748\n",
      "Iter #22: 0.747 <-> 0.748\n",
      "Iter #23: 0.746 <-> 0.748\n",
      "Iter #24: 0.741 <-> 0.748\n",
      "Iter #25: 0.740 <-> 0.748\n",
      "Iter #26: 0.740 <-> 0.748\n",
      "Iter #27: 0.740 <-> 0.748\n",
      "Iter #28: 0.740 <-> 0.748\n",
      "Iter #29: 0.740 <-> 0.748\n",
      "Iter #30: 0.718 <-> 0.748\n",
      "Iter #31: 0.733 <-> 0.748\n",
      "Iter #32: 0.742 <-> 0.748\n",
      "Iter #33: 0.742 <-> 0.748\n",
      "Iter #34: 0.737 <-> 0.748\n",
      "Iter #35: 0.737 <-> 0.748\n",
      "Iter #36: 0.747 <-> 0.748\n",
      "Iter #37: 0.743 <-> 0.748\n",
      "Iter #38: 0.747 <-> 0.748\n",
      "Iter #39: 0.743 <-> 0.748\n",
      "Iter #40: 0.694 <-> 0.748\n",
      "Iter #41: 0.736 <-> 0.748\n",
      "Iter #42: 0.748 <-> 0.748\n",
      "Iter #43: 0.748 <-> 0.748\n",
      "Iter #44: 0.748 <-> 0.748\n",
      "Iter #45: 0.748 <-> 0.748\n",
      "Iter #46: 0.734 <-> 0.748\n",
      "Iter #47: 0.743 <-> 0.748\n",
      "Iter #48: 0.740 <-> 0.748\n",
      "Iter #49: 0.748 <-> 0.748\n",
      "Iter #50: 0.731 <-> 0.748\n",
      "Iter #51: 0.741 <-> 0.748\n",
      "Iter #52: 0.745 <-> 0.748\n",
      "Iter #53: 0.746 <-> 0.748\n",
      "Iter #54: 0.749 <-> 0.748\n",
      "Iter #55: 0.747 <-> 0.748\n",
      "Iter #56: 0.724 <-> 0.748\n",
      "Iter #57: 0.689 <-> 0.748\n",
      "Iter #58: 0.745 <-> 0.748\n",
      "Iter #59: 0.739 <-> 0.748\n",
      "Iter #60: 0.744 <-> 0.748\n",
      "Iter #61: 0.745 <-> 0.748\n",
      "Iter #62: 0.732 <-> 0.748\n",
      "Iter #63: 0.730 <-> 0.748\n",
      "Iter #64: 0.745 <-> 0.748\n",
      "Iter #65: 0.743 <-> 0.748\n",
      "Iter #66: 0.750 <-> 0.748\n",
      "Iter #67: 0.748 <-> 0.748\n",
      "Iter #68: 0.745 <-> 0.748\n",
      "Iter #69: 0.748 <-> 0.748\n",
      "Iter #70: 0.747 <-> 0.748\n",
      "Iter #71: 0.743 <-> 0.748\n",
      "Iter #72: 0.747 <-> 0.748\n",
      "Iter #73: 0.747 <-> 0.748\n",
      "Iter #74: 0.747 <-> 0.748\n",
      "Withdraw feature #12, added accracy 0\n",
      "NEW ROUND\n",
      "Iter #0: 0.739 <-> 0.751\n",
      "Iter #1: 0.735 <-> 0.751\n",
      "Iter #2: 0.739 <-> 0.751\n",
      "Iter #3: 0.727 <-> 0.751\n",
      "Iter #4: 0.748 <-> 0.751\n",
      "Iter #5: 0.752 <-> 0.751\n",
      "Iter #6: 0.744 <-> 0.751\n",
      "Iter #7: 0.748 <-> 0.751\n",
      "Iter #8: 0.734 <-> 0.751\n",
      "Iter #9: 0.743 <-> 0.751\n",
      "Iter #10: 0.750 <-> 0.751\n",
      "Iter #11: 0.735 <-> 0.751\n",
      "Iter #12: 0.740 <-> 0.751\n",
      "Iter #13: 0.730 <-> 0.751\n",
      "Iter #14: 0.744 <-> 0.751\n",
      "Iter #15: 0.732 <-> 0.751\n",
      "Iter #16: 0.745 <-> 0.751\n",
      "Iter #17: 0.726 <-> 0.751\n",
      "Iter #18: 0.748 <-> 0.751\n",
      "Iter #19: 0.747 <-> 0.751\n",
      "Iter #20: 0.745 <-> 0.751\n",
      "Iter #21: 0.745 <-> 0.751\n",
      "Iter #22: 0.750 <-> 0.751\n",
      "Iter #23: 0.743 <-> 0.751\n",
      "Iter #24: 0.749 <-> 0.751\n",
      "Iter #25: 0.749 <-> 0.751\n",
      "Iter #26: 0.749 <-> 0.751\n",
      "Iter #27: 0.749 <-> 0.751\n",
      "Iter #28: 0.749 <-> 0.751\n",
      "Iter #29: 0.743 <-> 0.751\n",
      "Iter #30: 0.725 <-> 0.751\n",
      "Iter #31: 0.743 <-> 0.751\n",
      "Iter #32: 0.745 <-> 0.751\n",
      "Iter #33: 0.732 <-> 0.751\n",
      "Iter #34: 0.745 <-> 0.751\n",
      "Iter #35: 0.751 <-> 0.751\n",
      "Iter #36: 0.717 <-> 0.751\n",
      "Iter #37: 0.745 <-> 0.751\n",
      "Iter #38: 0.749 <-> 0.751\n",
      "Iter #39: 0.737 <-> 0.751\n",
      "Iter #40: 0.719 <-> 0.751\n",
      "Iter #41: 0.749 <-> 0.751\n",
      "Iter #42: 0.749 <-> 0.751\n",
      "Iter #43: 0.749 <-> 0.751\n",
      "Iter #44: 0.729 <-> 0.751\n",
      "Iter #45: 0.730 <-> 0.751\n",
      "Iter #46: 0.735 <-> 0.751\n",
      "Iter #47: 0.746 <-> 0.751\n",
      "Iter #48: 0.750 <-> 0.751\n",
      "Iter #49: 0.737 <-> 0.751\n",
      "Iter #50: 0.733 <-> 0.751\n",
      "Iter #51: 0.749 <-> 0.751\n",
      "Iter #52: 0.734 <-> 0.751\n",
      "Iter #53: 0.695 <-> 0.751\n",
      "Iter #54: 0.745 <-> 0.751\n",
      "Iter #55: 0.748 <-> 0.751\n",
      "Iter #56: 0.721 <-> 0.751\n",
      "Iter #57: 0.747 <-> 0.751\n",
      "Iter #58: 0.731 <-> 0.751\n",
      "Iter #59: 0.741 <-> 0.751\n",
      "Iter #60: 0.749 <-> 0.751\n",
      "Iter #61: 0.727 <-> 0.751\n",
      "Iter #62: 0.729 <-> 0.751\n",
      "Iter #63: 0.750 <-> 0.751\n",
      "Iter #64: 0.740 <-> 0.751\n",
      "Iter #65: 0.744 <-> 0.751\n",
      "Iter #66: 0.728 <-> 0.751\n",
      "Iter #67: 0.731 <-> 0.751\n",
      "Iter #68: 0.749 <-> 0.751\n",
      "Iter #69: 0.751 <-> 0.751\n",
      "Iter #70: 0.746 <-> 0.751\n",
      "Iter #71: 0.748 <-> 0.751\n",
      "Iter #72: 0.737 <-> 0.751\n",
      "Iter #73: 0.734 <-> 0.751\n",
      "Withdraw feature #5, added accracy 0\n",
      "NEW ROUND\n",
      "Iter #0: 0.749 <-> 0.752\n",
      "Iter #1: 0.729 <-> 0.752\n",
      "Iter #2: 0.735 <-> 0.752\n",
      "Iter #3: 0.755 <-> 0.752\n",
      "Iter #4: 0.747 <-> 0.752\n",
      "Iter #5: 0.747 <-> 0.752\n",
      "Iter #6: 0.749 <-> 0.752\n",
      "Iter #7: 0.731 <-> 0.752\n",
      "Iter #8: 0.745 <-> 0.752\n",
      "Iter #9: 0.752 <-> 0.752\n",
      "Iter #10: 0.737 <-> 0.752\n",
      "Iter #11: 0.739 <-> 0.752\n",
      "Iter #12: 0.735 <-> 0.752\n",
      "Iter #13: 0.743 <-> 0.752\n",
      "Iter #14: 0.732 <-> 0.752\n",
      "Iter #15: 0.749 <-> 0.752\n",
      "Iter #16: 0.747 <-> 0.752\n",
      "Iter #17: 0.750 <-> 0.752\n",
      "Iter #18: 0.753 <-> 0.752\n",
      "Iter #19: 0.750 <-> 0.752\n",
      "Iter #20: 0.748 <-> 0.752\n",
      "Iter #21: 0.753 <-> 0.752\n",
      "Iter #22: 0.741 <-> 0.752\n",
      "Iter #23: 0.748 <-> 0.752\n",
      "Iter #24: 0.748 <-> 0.752\n",
      "Iter #25: 0.748 <-> 0.752\n",
      "Iter #26: 0.748 <-> 0.752\n",
      "Iter #27: 0.748 <-> 0.752\n",
      "Iter #28: 0.741 <-> 0.752\n",
      "Iter #29: 0.733 <-> 0.752\n",
      "Iter #30: 0.742 <-> 0.752\n",
      "Iter #31: 0.733 <-> 0.752\n",
      "Iter #32: 0.731 <-> 0.752\n",
      "Iter #33: 0.740 <-> 0.752\n",
      "Iter #34: 0.753 <-> 0.752\n",
      "Iter #35: 0.719 <-> 0.752\n",
      "Iter #36: 0.734 <-> 0.752\n",
      "Iter #37: 0.751 <-> 0.752\n",
      "Iter #38: 0.693 <-> 0.752\n",
      "Iter #39: 0.739 <-> 0.752\n",
      "Iter #40: 0.749 <-> 0.752\n",
      "Iter #41: 0.749 <-> 0.752\n",
      "Iter #42: 0.749 <-> 0.752\n",
      "Iter #43: 0.724 <-> 0.752\n",
      "Iter #44: 0.730 <-> 0.752\n",
      "Iter #45: 0.738 <-> 0.752\n",
      "Iter #46: 0.740 <-> 0.752\n",
      "Iter #47: 0.753 <-> 0.752\n",
      "Iter #48: 0.738 <-> 0.752\n",
      "Iter #49: 0.734 <-> 0.752\n",
      "Iter #50: 0.754 <-> 0.752\n",
      "Iter #51: 0.745 <-> 0.752\n",
      "Iter #52: 0.751 <-> 0.752\n",
      "Iter #53: 0.747 <-> 0.752\n",
      "Iter #54: 0.725 <-> 0.752\n",
      "Iter #55: 0.721 <-> 0.752\n",
      "Iter #56: 0.741 <-> 0.752\n",
      "Iter #57: 0.741 <-> 0.752\n",
      "Iter #58: 0.741 <-> 0.752\n",
      "Iter #59: 0.751 <-> 0.752\n",
      "Iter #60: 0.730 <-> 0.752\n",
      "Iter #61: 0.728 <-> 0.752\n",
      "Iter #62: 0.749 <-> 0.752\n",
      "Iter #63: 0.741 <-> 0.752\n",
      "Iter #64: 0.737 <-> 0.752\n",
      "Iter #65: 0.726 <-> 0.752\n",
      "Iter #66: 0.749 <-> 0.752\n",
      "Iter #67: 0.750 <-> 0.752\n",
      "Iter #68: 0.747 <-> 0.752\n",
      "Iter #69: 0.731 <-> 0.752\n",
      "Iter #70: 0.752 <-> 0.752\n",
      "Iter #71: 0.752 <-> 0.752\n",
      "Iter #72: 0.736 <-> 0.752\n",
      "Withdraw feature #3, added accracy 0\n",
      "NEW ROUND\n",
      "Iter #0: 0.753 <-> 0.755\n",
      "Iter #1: 0.731 <-> 0.755\n",
      "Iter #2: 0.735 <-> 0.755\n",
      "Iter #3: 0.750 <-> 0.755\n",
      "Iter #4: 0.751 <-> 0.755\n",
      "Iter #5: 0.753 <-> 0.755\n",
      "Iter #6: 0.690 <-> 0.755\n",
      "Iter #7: 0.746 <-> 0.755\n",
      "Iter #8: 0.753 <-> 0.755\n",
      "Iter #9: 0.737 <-> 0.755\n",
      "Iter #10: 0.735 <-> 0.755\n",
      "Iter #11: 0.750 <-> 0.755\n",
      "Iter #12: 0.743 <-> 0.755\n",
      "Iter #13: 0.741 <-> 0.755\n",
      "Iter #14: 0.748 <-> 0.755\n",
      "Iter #15: 0.748 <-> 0.755\n",
      "Iter #16: 0.750 <-> 0.755\n",
      "Iter #17: 0.732 <-> 0.755\n",
      "Iter #18: 0.753 <-> 0.755\n",
      "Iter #19: 0.735 <-> 0.755\n",
      "Iter #20: 0.753 <-> 0.755\n",
      "Iter #21: 0.750 <-> 0.755\n",
      "Iter #22: 0.752 <-> 0.755\n",
      "Iter #23: 0.752 <-> 0.755\n",
      "Iter #24: 0.752 <-> 0.755\n",
      "Iter #25: 0.752 <-> 0.755\n",
      "Iter #26: 0.752 <-> 0.755\n",
      "Iter #27: 0.742 <-> 0.755\n",
      "Iter #28: 0.725 <-> 0.755\n",
      "Iter #29: 0.742 <-> 0.755\n",
      "Iter #30: 0.735 <-> 0.755\n",
      "Iter #31: 0.742 <-> 0.755\n",
      "Iter #32: 0.740 <-> 0.755\n",
      "Iter #33: 0.752 <-> 0.755\n",
      "Iter #34: 0.721 <-> 0.755\n",
      "Iter #35: 0.750 <-> 0.755\n",
      "Iter #36: 0.751 <-> 0.755\n",
      "Iter #37: 0.734 <-> 0.755\n",
      "Iter #38: 0.741 <-> 0.755\n",
      "Iter #39: 0.752 <-> 0.755\n",
      "Iter #40: 0.752 <-> 0.755\n",
      "Iter #41: 0.752 <-> 0.755\n",
      "Iter #42: 0.736 <-> 0.755\n",
      "Iter #43: 0.732 <-> 0.755\n",
      "Iter #44: 0.738 <-> 0.755\n",
      "Iter #45: 0.743 <-> 0.755\n",
      "Iter #46: 0.755 <-> 0.755\n",
      "Iter #47: 0.735 <-> 0.755\n",
      "Iter #48: 0.732 <-> 0.755\n",
      "Iter #49: 0.755 <-> 0.755\n",
      "Iter #50: 0.747 <-> 0.755\n",
      "Iter #51: 0.753 <-> 0.755\n",
      "Iter #52: 0.754 <-> 0.755\n",
      "Iter #53: 0.722 <-> 0.755\n",
      "Iter #54: 0.725 <-> 0.755\n",
      "Iter #55: 0.748 <-> 0.755\n",
      "Iter #56: 0.740 <-> 0.755\n",
      "Iter #57: 0.737 <-> 0.755\n",
      "Iter #58: 0.750 <-> 0.755\n",
      "Iter #59: 0.748 <-> 0.755\n",
      "Iter #60: 0.726 <-> 0.755\n",
      "Iter #61: 0.751 <-> 0.755\n",
      "Iter #62: 0.743 <-> 0.755\n",
      "Iter #63: 0.739 <-> 0.755\n",
      "Iter #64: 0.729 <-> 0.755\n",
      "Iter #65: 0.752 <-> 0.755\n",
      "Iter #66: 0.750 <-> 0.755\n",
      "Iter #67: 0.751 <-> 0.755\n",
      "Iter #68: 0.752 <-> 0.755\n",
      "Iter #69: 0.755 <-> 0.755\n",
      "Iter #70: 0.734 <-> 0.755\n",
      "Iter #71: 0.734 <-> 0.755\n",
      "Withdraw feature #46, added accracy 0\n"
     ]
    },
    {
     "name": "stdout",
     "output_type": "stream",
     "text": [
      "NEW ROUND\n",
      "Iter #0: 0.753 <-> 0.755\n",
      "Iter #1: 0.734 <-> 0.755\n",
      "Iter #2: 0.740 <-> 0.755\n",
      "Iter #3: 0.747 <-> 0.755\n",
      "Iter #4: 0.747 <-> 0.755\n",
      "Iter #5: 0.754 <-> 0.755\n",
      "Iter #6: 0.755 <-> 0.755\n",
      "Iter #7: 0.742 <-> 0.755\n",
      "Iter #8: 0.751 <-> 0.755\n",
      "Iter #9: 0.751 <-> 0.755\n",
      "Iter #10: 0.734 <-> 0.755\n",
      "Iter #11: 0.749 <-> 0.755\n",
      "Iter #12: 0.742 <-> 0.755\n",
      "Iter #13: 0.752 <-> 0.755\n",
      "Iter #14: 0.748 <-> 0.755\n",
      "Iter #15: 0.750 <-> 0.755\n",
      "Iter #16: 0.750 <-> 0.755\n",
      "Iter #17: 0.755 <-> 0.755\n",
      "Iter #18: 0.753 <-> 0.755\n",
      "Iter #19: 0.736 <-> 0.755\n",
      "Iter #20: 0.738 <-> 0.755\n",
      "Iter #21: 0.751 <-> 0.755\n",
      "Iter #22: 0.754 <-> 0.755\n",
      "Iter #23: 0.754 <-> 0.755\n",
      "Iter #24: 0.754 <-> 0.755\n",
      "Iter #25: 0.754 <-> 0.755\n",
      "Iter #26: 0.754 <-> 0.755\n",
      "Iter #27: 0.744 <-> 0.755\n",
      "Iter #28: 0.747 <-> 0.755\n",
      "Iter #29: 0.745 <-> 0.755\n",
      "Iter #30: 0.746 <-> 0.755\n",
      "Iter #31: 0.744 <-> 0.755\n",
      "Iter #32: 0.740 <-> 0.755\n",
      "Iter #33: 0.752 <-> 0.755\n",
      "Iter #34: 0.749 <-> 0.755\n",
      "Iter #35: 0.748 <-> 0.755\n",
      "Iter #36: 0.752 <-> 0.755\n",
      "Iter #37: 0.733 <-> 0.755\n",
      "Iter #38: 0.741 <-> 0.755\n",
      "Iter #39: 0.753 <-> 0.755\n",
      "Iter #40: 0.753 <-> 0.755\n",
      "Iter #41: 0.753 <-> 0.755\n",
      "Iter #42: 0.729 <-> 0.755\n",
      "Iter #43: 0.725 <-> 0.755\n",
      "Iter #44: 0.736 <-> 0.755\n",
      "Iter #45: 0.743 <-> 0.755\n",
      "Iter #46: 0.737 <-> 0.755\n",
      "Iter #47: 0.750 <-> 0.755\n",
      "Iter #48: 0.755 <-> 0.755\n",
      "Iter #49: 0.751 <-> 0.755\n",
      "Iter #50: 0.752 <-> 0.755\n",
      "Iter #51: 0.754 <-> 0.755\n",
      "Iter #52: 0.727 <-> 0.755\n",
      "Iter #53: 0.738 <-> 0.755\n",
      "Iter #54: 0.749 <-> 0.755\n",
      "Iter #55: 0.740 <-> 0.755\n",
      "Iter #56: 0.735 <-> 0.755\n",
      "Iter #57: 0.750 <-> 0.755\n",
      "Iter #58: 0.747 <-> 0.755\n",
      "Iter #59: 0.724 <-> 0.755\n",
      "Iter #60: 0.751 <-> 0.755\n",
      "Iter #61: 0.742 <-> 0.755\n",
      "Iter #62: 0.739 <-> 0.755\n",
      "Iter #63: 0.754 <-> 0.755\n",
      "Iter #64: 0.752 <-> 0.755\n",
      "Iter #65: 0.752 <-> 0.755\n",
      "Iter #66: 0.752 <-> 0.755\n",
      "Iter #67: 0.751 <-> 0.755\n",
      "Iter #68: 0.755 <-> 0.755\n",
      "Iter #69: 0.734 <-> 0.755\n",
      "Iter #70: 0.736 <-> 0.755\n",
      "Withdraw feature #68, added accracy 0\n",
      "NEW ROUND\n",
      "Iter #0: 0.754 <-> 0.755\n",
      "Iter #1: 0.733 <-> 0.755\n",
      "Iter #2: 0.728 <-> 0.755\n",
      "Iter #3: 0.754 <-> 0.755\n",
      "Iter #4: 0.749 <-> 0.755\n",
      "Iter #5: 0.755 <-> 0.755\n",
      "Iter #6: 0.755 <-> 0.755\n",
      "Iter #7: 0.744 <-> 0.755\n",
      "Iter #8: 0.754 <-> 0.755\n",
      "Iter #9: 0.733 <-> 0.755\n",
      "Iter #10: 0.733 <-> 0.755\n",
      "Iter #11: 0.750 <-> 0.755\n",
      "Iter #12: 0.744 <-> 0.755\n",
      "Iter #13: 0.756 <-> 0.755\n",
      "Iter #14: 0.752 <-> 0.755\n",
      "Iter #15: 0.749 <-> 0.755\n",
      "Iter #16: 0.747 <-> 0.755\n",
      "Iter #17: 0.755 <-> 0.755\n",
      "Iter #18: 0.753 <-> 0.755\n",
      "Iter #19: 0.749 <-> 0.755\n",
      "Iter #20: 0.754 <-> 0.755\n",
      "Iter #21: 0.737 <-> 0.755\n",
      "Iter #22: 0.752 <-> 0.755\n",
      "Iter #23: 0.752 <-> 0.755\n",
      "Iter #24: 0.752 <-> 0.755\n",
      "Iter #25: 0.752 <-> 0.755\n",
      "Iter #26: 0.752 <-> 0.755\n",
      "Iter #27: 0.743 <-> 0.755\n",
      "Iter #28: 0.726 <-> 0.755\n",
      "Iter #29: 0.746 <-> 0.755\n",
      "Iter #30: 0.736 <-> 0.755\n",
      "Iter #31: 0.748 <-> 0.755\n",
      "Iter #32: 0.741 <-> 0.755\n",
      "Iter #33: 0.752 <-> 0.755\n",
      "Iter #34: 0.723 <-> 0.755\n",
      "Iter #35: 0.749 <-> 0.755\n",
      "Iter #36: 0.750 <-> 0.755\n",
      "Iter #37: 0.694 <-> 0.755\n",
      "Iter #38: 0.741 <-> 0.755\n",
      "Iter #39: 0.753 <-> 0.755\n",
      "Iter #40: 0.753 <-> 0.755\n",
      "Iter #41: 0.753 <-> 0.755\n",
      "Iter #42: 0.695 <-> 0.755\n",
      "Iter #43: 0.732 <-> 0.755\n",
      "Iter #44: 0.733 <-> 0.755\n",
      "Iter #45: 0.730 <-> 0.755\n",
      "Iter #46: 0.697 <-> 0.755\n",
      "Iter #47: 0.752 <-> 0.755\n",
      "Iter #48: 0.755 <-> 0.755\n",
      "Iter #49: 0.751 <-> 0.755\n",
      "Iter #50: 0.700 <-> 0.755\n",
      "Iter #51: 0.698 <-> 0.755\n",
      "Iter #52: 0.694 <-> 0.755\n",
      "Iter #53: 0.689 <-> 0.755\n",
      "Iter #54: 0.750 <-> 0.755\n",
      "Iter #55: 0.745 <-> 0.755\n",
      "Iter #56: 0.734 <-> 0.755\n",
      "Iter #57: 0.731 <-> 0.755\n",
      "Iter #58: 0.747 <-> 0.755\n",
      "Iter #59: 0.732 <-> 0.755\n",
      "Iter #60: 0.753 <-> 0.755\n",
      "Iter #61: 0.743 <-> 0.755\n",
      "Iter #62: 0.725 <-> 0.755\n",
      "Iter #63: 0.756 <-> 0.755\n",
      "Iter #64: 0.752 <-> 0.755\n",
      "Iter #65: 0.752 <-> 0.755\n",
      "Iter #66: 0.753 <-> 0.755\n",
      "Iter #67: 0.752 <-> 0.755\n",
      "Iter #68: 0.739 <-> 0.755\n",
      "Iter #69: 0.753 <-> 0.755\n",
      "Withdraw feature #6, added accracy 0\n",
      "NEW ROUND\n",
      "Iter #0: 0.695 <-> 0.755\n",
      "Iter #1: 0.737 <-> 0.755\n",
      "Iter #2: 0.752 <-> 0.755\n",
      "Iter #3: 0.691 <-> 0.755\n",
      "Iter #4: 0.729 <-> 0.755\n",
      "Iter #5: 0.753 <-> 0.755\n",
      "Iter #6: 0.698 <-> 0.755\n",
      "Iter #7: 0.752 <-> 0.755\n",
      "Iter #8: 0.753 <-> 0.755\n",
      "Iter #9: 0.738 <-> 0.755\n",
      "Iter #10: 0.752 <-> 0.755\n",
      "Iter #11: 0.745 <-> 0.755\n",
      "Iter #12: 0.753 <-> 0.755\n",
      "Iter #13: 0.750 <-> 0.755\n",
      "Iter #14: 0.750 <-> 0.755\n",
      "Iter #15: 0.752 <-> 0.755\n",
      "Iter #16: 0.739 <-> 0.755\n",
      "Iter #17: 0.750 <-> 0.755\n",
      "Iter #18: 0.743 <-> 0.755\n",
      "Iter #19: 0.696 <-> 0.755\n",
      "Iter #20: 0.745 <-> 0.755\n",
      "Iter #21: 0.745 <-> 0.755\n",
      "Iter #22: 0.745 <-> 0.755\n",
      "Iter #23: 0.745 <-> 0.755\n",
      "Iter #24: 0.745 <-> 0.755\n",
      "Iter #25: 0.745 <-> 0.755\n",
      "Iter #26: 0.745 <-> 0.755\n",
      "Iter #27: 0.692 <-> 0.755\n",
      "Iter #28: 0.747 <-> 0.755\n",
      "Iter #29: 0.735 <-> 0.755\n",
      "Iter #30: 0.747 <-> 0.755\n",
      "Iter #31: 0.737 <-> 0.755\n",
      "Iter #32: 0.755 <-> 0.755\n",
      "Iter #33: 0.752 <-> 0.755\n",
      "Iter #34: 0.748 <-> 0.755\n",
      "Iter #35: 0.696 <-> 0.755\n",
      "Iter #36: 0.702 <-> 0.755\n",
      "Iter #37: 0.696 <-> 0.755\n",
      "Iter #38: 0.753 <-> 0.755\n",
      "Iter #39: 0.753 <-> 0.755\n",
      "Iter #40: 0.753 <-> 0.755\n",
      "Iter #41: 0.728 <-> 0.755\n",
      "Iter #42: 0.691 <-> 0.755\n",
      "Iter #43: 0.738 <-> 0.755\n",
      "Iter #44: 0.735 <-> 0.755\n",
      "Iter #45: 0.700 <-> 0.755\n",
      "Iter #46: 0.753 <-> 0.755\n",
      "Iter #47: 0.755 <-> 0.755\n",
      "Iter #48: 0.738 <-> 0.755\n",
      "Iter #49: 0.701 <-> 0.755\n",
      "Iter #50: 0.696 <-> 0.755\n",
      "Iter #51: 0.697 <-> 0.755\n",
      "Iter #52: 0.723 <-> 0.755\n",
      "Iter #53: 0.740 <-> 0.755\n",
      "Iter #54: 0.743 <-> 0.755\n",
      "Iter #55: 0.753 <-> 0.755\n",
      "Iter #56: 0.753 <-> 0.755\n",
      "Iter #57: 0.747 <-> 0.755\n",
      "Iter #58: 0.731 <-> 0.755\n",
      "Iter #59: 0.697 <-> 0.755\n",
      "Iter #60: 0.740 <-> 0.755\n",
      "Iter #61: 0.732 <-> 0.755\n",
      "Iter #62: 0.755 <-> 0.755\n",
      "Iter #63: 0.698 <-> 0.755\n",
      "Iter #64: 0.700 <-> 0.755\n",
      "Iter #65: 0.753 <-> 0.755\n",
      "Iter #66: 0.755 <-> 0.755\n",
      "Iter #67: 0.756 <-> 0.755\n",
      "Iter #68: 0.755 <-> 0.755\n",
      "Withdraw feature #47, added accracy 0\n",
      "NEW ROUND\n",
      "Iter #0: 0.759 <-> 0.755\n",
      "Iter #1: 0.699 <-> 0.755\n",
      "Iter #2: 0.752 <-> 0.755\n",
      "Iter #3: 0.753 <-> 0.755\n",
      "Iter #4: 0.748 <-> 0.755\n",
      "Iter #5: 0.753 <-> 0.755\n",
      "Iter #6: 0.751 <-> 0.755\n",
      "Iter #7: 0.733 <-> 0.755\n",
      "Iter #8: 0.752 <-> 0.755\n",
      "Iter #9: 0.735 <-> 0.755\n",
      "Iter #10: 0.743 <-> 0.755\n",
      "Iter #11: 0.750 <-> 0.755\n",
      "Iter #12: 0.756 <-> 0.755\n",
      "Iter #13: 0.756 <-> 0.755\n",
      "Iter #14: 0.751 <-> 0.755\n",
      "Iter #15: 0.755 <-> 0.755\n",
      "Iter #16: 0.756 <-> 0.755\n",
      "Iter #17: 0.753 <-> 0.755\n",
      "Iter #18: 0.742 <-> 0.755\n",
      "Iter #19: 0.754 <-> 0.755\n",
      "Iter #20: 0.746 <-> 0.755\n",
      "Iter #21: 0.745 <-> 0.755\n",
      "Iter #22: 0.745 <-> 0.755\n",
      "Iter #23: 0.745 <-> 0.755\n",
      "Iter #24: 0.745 <-> 0.755\n",
      "Iter #25: 0.745 <-> 0.755\n",
      "Iter #26: 0.748 <-> 0.755\n",
      "Iter #27: 0.742 <-> 0.755\n",
      "Iter #28: 0.752 <-> 0.755\n",
      "Iter #29: 0.747 <-> 0.755\n",
      "Iter #30: 0.746 <-> 0.755\n",
      "Iter #31: 0.738 <-> 0.755\n",
      "Iter #32: 0.756 <-> 0.755\n",
      "Iter #33: 0.754 <-> 0.755\n",
      "Iter #34: 0.748 <-> 0.755\n",
      "Iter #35: 0.755 <-> 0.755\n",
      "Iter #36: 0.699 <-> 0.755\n",
      "Iter #37: 0.699 <-> 0.755\n",
      "Iter #38: 0.754 <-> 0.755\n",
      "Iter #39: 0.754 <-> 0.755\n",
      "Iter #40: 0.754 <-> 0.755\n",
      "Iter #41: 0.728 <-> 0.755\n",
      "Iter #42: 0.738 <-> 0.755\n",
      "Iter #43: 0.741 <-> 0.755\n",
      "Iter #44: 0.738 <-> 0.755\n",
      "Iter #45: 0.747 <-> 0.755\n",
      "Iter #46: 0.749 <-> 0.755\n",
      "Iter #47: 0.748 <-> 0.755\n",
      "Iter #48: 0.756 <-> 0.755\n",
      "Iter #49: 0.757 <-> 0.755\n",
      "Iter #50: 0.699 <-> 0.755\n",
      "Iter #51: 0.729 <-> 0.755\n",
      "Iter #52: 0.698 <-> 0.755\n",
      "Iter #53: 0.747 <-> 0.755\n",
      "Iter #54: 0.756 <-> 0.755\n",
      "Iter #55: 0.749 <-> 0.755\n",
      "Iter #56: 0.748 <-> 0.755\n",
      "Iter #57: 0.738 <-> 0.755\n",
      "Iter #58: 0.755 <-> 0.755\n",
      "Iter #59: 0.746 <-> 0.755\n",
      "Iter #60: 0.749 <-> 0.755\n",
      "Iter #61: 0.755 <-> 0.755\n",
      "Iter #62: 0.752 <-> 0.755\n",
      "Iter #63: 0.751 <-> 0.755\n",
      "Iter #64: 0.754 <-> 0.755\n",
      "Iter #65: 0.752 <-> 0.755\n",
      "Iter #66: 0.755 <-> 0.755\n",
      "Iter #67: 0.755 <-> 0.755\n",
      "Withdraw feature #0, added accracy 0\n",
      "NEW ROUND\n",
      "Iter #0: 0.739 <-> 0.759\n",
      "Iter #1: 0.752 <-> 0.759\n",
      "Iter #2: 0.750 <-> 0.759\n",
      "Iter #3: 0.751 <-> 0.759\n",
      "Iter #4: 0.698 <-> 0.759\n",
      "Iter #5: 0.753 <-> 0.759\n",
      "Iter #6: 0.752 <-> 0.759\n",
      "Iter #7: 0.757 <-> 0.759\n",
      "Iter #8: 0.737 <-> 0.759\n",
      "Iter #9: 0.741 <-> 0.759\n",
      "Iter #10: 0.751 <-> 0.759\n",
      "Iter #11: 0.758 <-> 0.759\n",
      "Iter #12: 0.753 <-> 0.759\n",
      "Iter #13: 0.752 <-> 0.759\n",
      "Iter #14: 0.757 <-> 0.759\n",
      "Iter #15: 0.758 <-> 0.759\n",
      "Iter #16: 0.753 <-> 0.759\n",
      "Iter #17: 0.743 <-> 0.759\n",
      "Iter #18: 0.756 <-> 0.759\n",
      "Iter #19: 0.700 <-> 0.759\n",
      "Iter #20: 0.745 <-> 0.759\n",
      "Iter #21: 0.745 <-> 0.759\n",
      "Iter #22: 0.745 <-> 0.759\n",
      "Iter #23: 0.745 <-> 0.759\n",
      "Iter #24: 0.745 <-> 0.759\n",
      "Iter #25: 0.748 <-> 0.759\n",
      "Iter #26: 0.742 <-> 0.759\n",
      "Iter #27: 0.751 <-> 0.759\n",
      "Iter #28: 0.751 <-> 0.759\n",
      "Iter #29: 0.692 <-> 0.759\n",
      "Iter #30: 0.743 <-> 0.759\n",
      "Iter #31: 0.754 <-> 0.759\n"
     ]
    },
    {
     "name": "stdout",
     "output_type": "stream",
     "text": [
      "Iter #32: 0.752 <-> 0.759\n",
      "Iter #33: 0.754 <-> 0.759\n",
      "Iter #34: 0.696 <-> 0.759\n",
      "Iter #35: 0.701 <-> 0.759\n",
      "Iter #36: 0.696 <-> 0.759\n",
      "Iter #37: 0.750 <-> 0.759\n",
      "Iter #38: 0.750 <-> 0.759\n",
      "Iter #39: 0.750 <-> 0.759\n",
      "Iter #40: 0.695 <-> 0.759\n",
      "Iter #41: 0.735 <-> 0.759\n",
      "Iter #42: 0.743 <-> 0.759\n",
      "Iter #43: 0.739 <-> 0.759\n",
      "Iter #44: 0.747 <-> 0.759\n",
      "Iter #45: 0.752 <-> 0.759\n",
      "Iter #46: 0.748 <-> 0.759\n",
      "Iter #47: 0.752 <-> 0.759\n",
      "Iter #48: 0.757 <-> 0.759\n",
      "Iter #49: 0.738 <-> 0.759\n",
      "Iter #50: 0.700 <-> 0.759\n",
      "Iter #51: 0.695 <-> 0.759\n",
      "Iter #52: 0.750 <-> 0.759\n",
      "Iter #53: 0.695 <-> 0.759\n",
      "Iter #54: 0.753 <-> 0.759\n",
      "Iter #55: 0.744 <-> 0.759\n",
      "Iter #56: 0.737 <-> 0.759\n",
      "Iter #57: 0.757 <-> 0.759\n",
      "Iter #58: 0.746 <-> 0.759\n",
      "Iter #59: 0.699 <-> 0.759\n",
      "Iter #60: 0.759 <-> 0.759\n",
      "Iter #61: 0.754 <-> 0.759\n",
      "Iter #62: 0.753 <-> 0.759\n",
      "Iter #63: 0.757 <-> 0.759\n",
      "Iter #64: 0.695 <-> 0.759\n",
      "Iter #65: 0.758 <-> 0.759\n",
      "Iter #66: 0.757 <-> 0.759\n",
      "Withdraw feature #60, added accracy 0\n",
      "NEW ROUND\n",
      "Iter #0: 0.698 <-> 0.759\n",
      "Iter #1: 0.752 <-> 0.759\n",
      "Iter #2: 0.753 <-> 0.759\n",
      "Iter #3: 0.747 <-> 0.759\n",
      "Iter #4: 0.698 <-> 0.759\n",
      "Iter #5: 0.751 <-> 0.759\n",
      "Iter #6: 0.753 <-> 0.759\n",
      "Iter #7: 0.756 <-> 0.759\n",
      "Iter #8: 0.729 <-> 0.759\n",
      "Iter #9: 0.741 <-> 0.759\n",
      "Iter #10: 0.750 <-> 0.759\n",
      "Iter #11: 0.758 <-> 0.759\n",
      "Iter #12: 0.754 <-> 0.759\n",
      "Iter #13: 0.752 <-> 0.759\n",
      "Iter #14: 0.757 <-> 0.759\n",
      "Iter #15: 0.759 <-> 0.759\n",
      "Iter #16: 0.754 <-> 0.759\n",
      "Iter #17: 0.742 <-> 0.759\n",
      "Iter #18: 0.757 <-> 0.759\n",
      "Iter #19: 0.699 <-> 0.759\n",
      "Iter #20: 0.754 <-> 0.759\n",
      "Iter #21: 0.754 <-> 0.759\n",
      "Iter #22: 0.754 <-> 0.759\n",
      "Iter #23: 0.754 <-> 0.759\n",
      "Iter #24: 0.754 <-> 0.759\n",
      "Iter #25: 0.740 <-> 0.759\n",
      "Iter #26: 0.749 <-> 0.759\n",
      "Iter #27: 0.747 <-> 0.759\n",
      "Iter #28: 0.698 <-> 0.759\n",
      "Iter #29: 0.746 <-> 0.759\n",
      "Iter #30: 0.743 <-> 0.759\n",
      "Iter #31: 0.754 <-> 0.759\n",
      "Iter #32: 0.752 <-> 0.759\n",
      "Iter #33: 0.752 <-> 0.759\n",
      "Iter #34: 0.694 <-> 0.759\n",
      "Iter #35: 0.700 <-> 0.759\n",
      "Iter #36: 0.693 <-> 0.759\n",
      "Iter #37: 0.753 <-> 0.759\n",
      "Iter #38: 0.753 <-> 0.759\n",
      "Iter #39: 0.753 <-> 0.759\n",
      "Iter #40: 0.695 <-> 0.759\n",
      "Iter #41: 0.736 <-> 0.759\n",
      "Iter #42: 0.736 <-> 0.759\n",
      "Iter #43: 0.737 <-> 0.759\n",
      "Iter #44: 0.747 <-> 0.759\n",
      "Iter #45: 0.751 <-> 0.759\n",
      "Iter #46: 0.750 <-> 0.759\n",
      "Iter #47: 0.750 <-> 0.759\n",
      "Iter #48: 0.758 <-> 0.759\n",
      "Iter #49: 0.736 <-> 0.759\n",
      "Iter #50: 0.698 <-> 0.759\n",
      "Iter #51: 0.742 <-> 0.759\n",
      "Iter #52: 0.698 <-> 0.759\n",
      "Iter #53: 0.695 <-> 0.759\n",
      "Iter #54: 0.749 <-> 0.759\n",
      "Iter #55: 0.750 <-> 0.759\n",
      "Iter #56: 0.732 <-> 0.759\n",
      "Iter #57: 0.758 <-> 0.759\n",
      "Iter #58: 0.748 <-> 0.759\n",
      "Iter #59: 0.756 <-> 0.759\n",
      "Iter #60: 0.752 <-> 0.759\n",
      "Iter #61: 0.757 <-> 0.759\n",
      "Iter #62: 0.756 <-> 0.759\n",
      "Iter #63: 0.699 <-> 0.759\n",
      "Iter #64: 0.754 <-> 0.759\n",
      "Iter #65: 0.757 <-> 0.759\n"
     ]
    }
   ],
   "source": [
    "ind_best = np.argmax(auc_svm)\n",
    "[acc_final,feature_ind] = back_step_selection_loso(X_norm, y_reg, Rank[:ind_best+1],ID)"
   ]
  },
  {
   "cell_type": "code",
   "execution_count": 11,
   "metadata": {},
   "outputs": [],
   "source": [
    "np.save('data/feature_idx_sad.npy', feature_ind)    # .npy extension is added if not given\n",
    "feature_ind = np.load('data/feature_idx_sad.npy')"
   ]
  },
  {
   "cell_type": "markdown",
   "metadata": {},
   "source": [
    "# 5-fold CV (full feature space)"
   ]
  },
  {
   "cell_type": "code",
   "execution_count": 12,
   "metadata": {},
   "outputs": [],
   "source": [
    "group_members= data_loader.get_k_fold_group_member()\n",
    "X_new = pd.DataFrame(X_norm)\n",
    "X_k_folds, y_k_folds = data_loader.get_custom_k_folds(X_new, y, ID, group_members)"
   ]
  },
  {
   "cell_type": "markdown",
   "metadata": {},
   "source": [
    "## GridSearch"
   ]
  },
  {
   "cell_type": "code",
   "execution_count": 13,
   "metadata": {},
   "outputs": [
    {
     "name": "stderr",
     "output_type": "stream",
     "text": [
      "100%|████████████████████████████████████████████████████████████████████████████████████████████████████████████████████████████████████████████████████████████████████████████████████████| 5/5 [00:00<00:00,  6.82it/s]\n",
      " 20%|████████████████████████████████████▊                                                                                                                                                   | 1/5 [00:00<00:00,  7.71it/s]"
     ]
    },
    {
     "name": "stdout",
     "output_type": "stream",
     "text": [
      "UAR = 0.391\n"
     ]
    },
    {
     "name": "stderr",
     "output_type": "stream",
     "text": [
      "100%|████████████████████████████████████████████████████████████████████████████████████████████████████████████████████████████████████████████████████████████████████████████████████████| 5/5 [00:00<00:00,  8.07it/s]\n",
      " 20%|████████████████████████████████████▊                                                                                                                                                   | 1/5 [00:00<00:00,  8.49it/s]"
     ]
    },
    {
     "name": "stdout",
     "output_type": "stream",
     "text": [
      "UAR = 0.419\n"
     ]
    },
    {
     "name": "stderr",
     "output_type": "stream",
     "text": [
      "100%|████████████████████████████████████████████████████████████████████████████████████████████████████████████████████████████████████████████████████████████████████████████████████████| 5/5 [00:00<00:00,  8.44it/s]\n",
      " 20%|████████████████████████████████████▊                                                                                                                                                   | 1/5 [00:00<00:00,  9.20it/s]"
     ]
    },
    {
     "name": "stdout",
     "output_type": "stream",
     "text": [
      "UAR = 0.419\n"
     ]
    },
    {
     "name": "stderr",
     "output_type": "stream",
     "text": [
      "100%|████████████████████████████████████████████████████████████████████████████████████████████████████████████████████████████████████████████████████████████████████████████████████████| 5/5 [00:00<00:00,  9.40it/s]\n",
      " 20%|████████████████████████████████████▊                                                                                                                                                   | 1/5 [00:00<00:00,  9.73it/s]"
     ]
    },
    {
     "name": "stdout",
     "output_type": "stream",
     "text": [
      "UAR = 0.436\n"
     ]
    },
    {
     "name": "stderr",
     "output_type": "stream",
     "text": [
      "100%|████████████████████████████████████████████████████████████████████████████████████████████████████████████████████████████████████████████████████████████████████████████████████████| 5/5 [00:00<00:00,  9.25it/s]\n",
      " 20%|████████████████████████████████████▊                                                                                                                                                   | 1/5 [00:00<00:00,  8.90it/s]"
     ]
    },
    {
     "name": "stdout",
     "output_type": "stream",
     "text": [
      "UAR = 0.456\n"
     ]
    },
    {
     "name": "stderr",
     "output_type": "stream",
     "text": [
      "100%|████████████████████████████████████████████████████████████████████████████████████████████████████████████████████████████████████████████████████████████████████████████████████████| 5/5 [00:00<00:00, 10.03it/s]\n",
      " 20%|████████████████████████████████████▊                                                                                                                                                   | 1/5 [00:00<00:00,  9.90it/s]"
     ]
    },
    {
     "name": "stdout",
     "output_type": "stream",
     "text": [
      "UAR = 0.454\n"
     ]
    },
    {
     "name": "stderr",
     "output_type": "stream",
     "text": [
      "100%|████████████████████████████████████████████████████████████████████████████████████████████████████████████████████████████████████████████████████████████████████████████████████████| 5/5 [00:00<00:00,  9.54it/s]\n",
      " 20%|████████████████████████████████████▊                                                                                                                                                   | 1/5 [00:00<00:00,  9.68it/s]"
     ]
    },
    {
     "name": "stdout",
     "output_type": "stream",
     "text": [
      "UAR = 0.444\n"
     ]
    },
    {
     "name": "stderr",
     "output_type": "stream",
     "text": [
      "100%|████████████████████████████████████████████████████████████████████████████████████████████████████████████████████████████████████████████████████████████████████████████████████████| 5/5 [00:00<00:00,  9.95it/s]\n",
      " 20%|████████████████████████████████████▊                                                                                                                                                   | 1/5 [00:00<00:00,  9.30it/s]"
     ]
    },
    {
     "name": "stdout",
     "output_type": "stream",
     "text": [
      "UAR = 0.436\n"
     ]
    },
    {
     "name": "stderr",
     "output_type": "stream",
     "text": [
      "100%|████████████████████████████████████████████████████████████████████████████████████████████████████████████████████████████████████████████████████████████████████████████████████████| 5/5 [00:00<00:00,  9.44it/s]\n",
      " 20%|████████████████████████████████████▊                                                                                                                                                   | 1/5 [00:00<00:00,  9.42it/s]"
     ]
    },
    {
     "name": "stdout",
     "output_type": "stream",
     "text": [
      "UAR = 0.429\n"
     ]
    },
    {
     "name": "stderr",
     "output_type": "stream",
     "text": [
      "100%|████████████████████████████████████████████████████████████████████████████████████████████████████████████████████████████████████████████████████████████████████████████████████████| 5/5 [00:00<00:00,  9.69it/s]\n"
     ]
    },
    {
     "name": "stdout",
     "output_type": "stream",
     "text": [
      "UAR = 0.423\n",
      "UAR_best = 0.456, C_best = 0.004\n"
     ]
    },
    {
     "data": {
      "image/png": "[encoded data removed]",
      "text/plain": [
       "<Figure size 770x385 with 1 Axes>"
      ]
     },
     "metadata": {},
     "output_type": "display_data"
    }
   ],
   "source": [
    "C = np.logspace(-3.5, -1.0, 10, endpoint=True)\n",
    "UAR_list = []\n",
    "UAR_best = 0\n",
    "for val_C in C:\n",
    "    model = SVC(kernel = 'linear', C=val_C)\n",
    "    UAR,y_pr,y_tr,y_te = model_training.estimate_model(model, X_k_folds, y_k_folds)\n",
    "    if UAR_best<UAR:\n",
    "        UAR_best,y_pred,y_true,y_test = UAR,y_pr,y_tr,y_te\n",
    "        C_best = val_C\n",
    "    UAR_list.append(UAR)\n",
    "\n",
    "# fig,ax=plt.subplots(figsize=(7,3.5))\n",
    "# plt.rcParams.update({'font.size': 14})\n",
    "# plt.plot(C,UAR_list, marker='o', linestyle='dashed',)\n",
    "# plt.ylim([0.37, 0.45])\n",
    "# plt.xlabel('C')\n",
    "# plt.ylabel('UAR')\n",
    "\n",
    "fig,ax=plt.subplots(figsize=(7,3.5), dpi=110) # \n",
    "plt.rcParams.update({'font.size': 14})\n",
    "plt.plot(C,UAR_list, marker='o', linestyle='dashed',)\n",
    "# plt.semilogx(C,UAR_list, marker='o', linestyle='dashed',)\n",
    "plt.ylim([0.37, 0.48])\n",
    "# plt.xlabel('$\\log_{10}(C)$')\n",
    "plt.xlabel('$C$')\n",
    "plt.ylabel('UAR')\n",
    "plt.text(C_best-0.010, UAR_best+0.005, f'{UAR_best:.3f}')\n",
    "plt.title('SVM with linear kernel')\n",
    "print(f'UAR_best = {UAR_best:.3f}, C_best = {C_best:.3f}')"
   ]
  },
  {
   "cell_type": "code",
   "execution_count": 14,
   "metadata": {},
   "outputs": [
    {
     "data": {
      "image/png": "[encoded data removed]",
      "text/plain": [
       "<Figure size 704x528 with 2 Axes>"
      ]
     },
     "metadata": {},
     "output_type": "display_data"
    },
    {
     "name": "stdout",
     "output_type": "stream",
     "text": [
      "Saving confusion matrix with name:  Doc/figures/confusion_matrix_eng.jpg\n"
     ]
    }
   ],
   "source": [
    "# Confusion matrix\n",
    "plotting_utils.plot_confusion_matrix_eng(y_test, y_true, y_pred)"
   ]
  },
  {
   "cell_type": "markdown",
   "metadata": {},
   "source": [
    "# 5-fold CV (selected feature space)"
   ]
  },
  {
   "cell_type": "code",
   "execution_count": 15,
   "metadata": {},
   "outputs": [],
   "source": [
    "group_members= data_loader.get_k_fold_group_member()\n",
    "X_new = pd.DataFrame(X_norm[:,feature_ind])\n",
    "X_k_folds, y_k_folds = data_loader.get_custom_k_folds(X_new, y, ID, group_members)"
   ]
  },
  {
   "cell_type": "code",
   "execution_count": 16,
   "metadata": {},
   "outputs": [
    {
     "data": {
      "text/html": [
       "<div>\n",
       "<style scoped>\n",
       "    .dataframe tbody tr th:only-of-type {\n",
       "        vertical-align: middle;\n",
       "    }\n",
       "\n",
       "    .dataframe tbody tr th {\n",
       "        vertical-align: top;\n",
       "    }\n",
       "\n",
       "    .dataframe thead th {\n",
       "        text-align: right;\n",
       "    }\n",
       "</style>\n",
       "<table border=\"1\" class=\"dataframe\">\n",
       "  <thead>\n",
       "    <tr style=\"text-align: right;\">\n",
       "      <th></th>\n",
       "      <th>0</th>\n",
       "      <th>1</th>\n",
       "      <th>2</th>\n",
       "      <th>3</th>\n",
       "      <th>4</th>\n",
       "      <th>5</th>\n",
       "      <th>6</th>\n",
       "      <th>7</th>\n",
       "      <th>8</th>\n",
       "      <th>9</th>\n",
       "      <th>...</th>\n",
       "      <th>56</th>\n",
       "      <th>57</th>\n",
       "      <th>58</th>\n",
       "      <th>59</th>\n",
       "      <th>60</th>\n",
       "      <th>61</th>\n",
       "      <th>62</th>\n",
       "      <th>63</th>\n",
       "      <th>64</th>\n",
       "      <th>65</th>\n",
       "    </tr>\n",
       "  </thead>\n",
       "  <tbody>\n",
       "    <tr>\n",
       "      <th>0</th>\n",
       "      <td>-1.676324</td>\n",
       "      <td>-0.746101</td>\n",
       "      <td>0.091157</td>\n",
       "      <td>-0.398224</td>\n",
       "      <td>-0.084387</td>\n",
       "      <td>-0.340691</td>\n",
       "      <td>0.783819</td>\n",
       "      <td>0.507975</td>\n",
       "      <td>0.836294</td>\n",
       "      <td>1.039488</td>\n",
       "      <td>...</td>\n",
       "      <td>-0.134332</td>\n",
       "      <td>3.205445</td>\n",
       "      <td>1.910680</td>\n",
       "      <td>0.460905</td>\n",
       "      <td>-0.838209</td>\n",
       "      <td>-0.171581</td>\n",
       "      <td>0.320386</td>\n",
       "      <td>0.378692</td>\n",
       "      <td>0.027009</td>\n",
       "      <td>0.303059</td>\n",
       "    </tr>\n",
       "    <tr>\n",
       "      <th>1</th>\n",
       "      <td>-0.898518</td>\n",
       "      <td>-0.591594</td>\n",
       "      <td>-0.513553</td>\n",
       "      <td>-1.533244</td>\n",
       "      <td>-0.153646</td>\n",
       "      <td>-0.762145</td>\n",
       "      <td>0.297960</td>\n",
       "      <td>-0.578013</td>\n",
       "      <td>-0.651335</td>\n",
       "      <td>-0.930509</td>\n",
       "      <td>...</td>\n",
       "      <td>-0.355068</td>\n",
       "      <td>1.282987</td>\n",
       "      <td>-0.773068</td>\n",
       "      <td>0.010761</td>\n",
       "      <td>-0.404907</td>\n",
       "      <td>-0.948772</td>\n",
       "      <td>-0.921689</td>\n",
       "      <td>-0.966724</td>\n",
       "      <td>-1.266864</td>\n",
       "      <td>-0.718038</td>\n",
       "    </tr>\n",
       "    <tr>\n",
       "      <th>2</th>\n",
       "      <td>-0.396159</td>\n",
       "      <td>-0.966012</td>\n",
       "      <td>-0.435643</td>\n",
       "      <td>-0.926990</td>\n",
       "      <td>-0.911184</td>\n",
       "      <td>-0.826127</td>\n",
       "      <td>-0.634355</td>\n",
       "      <td>-0.276989</td>\n",
       "      <td>-0.358897</td>\n",
       "      <td>0.704895</td>\n",
       "      <td>...</td>\n",
       "      <td>0.376201</td>\n",
       "      <td>1.024253</td>\n",
       "      <td>-0.544117</td>\n",
       "      <td>0.448328</td>\n",
       "      <td>-0.139555</td>\n",
       "      <td>-0.362374</td>\n",
       "      <td>-0.435690</td>\n",
       "      <td>-0.800947</td>\n",
       "      <td>-0.658042</td>\n",
       "      <td>-0.533889</td>\n",
       "    </tr>\n",
       "    <tr>\n",
       "      <th>3</th>\n",
       "      <td>-2.342224</td>\n",
       "      <td>-1.805384</td>\n",
       "      <td>-0.365858</td>\n",
       "      <td>0.781570</td>\n",
       "      <td>-1.575944</td>\n",
       "      <td>-0.165081</td>\n",
       "      <td>0.094568</td>\n",
       "      <td>0.540148</td>\n",
       "      <td>-0.152562</td>\n",
       "      <td>-0.585777</td>\n",
       "      <td>...</td>\n",
       "      <td>-0.354393</td>\n",
       "      <td>0.677401</td>\n",
       "      <td>-0.158775</td>\n",
       "      <td>0.206376</td>\n",
       "      <td>0.440215</td>\n",
       "      <td>0.805032</td>\n",
       "      <td>1.055052</td>\n",
       "      <td>1.074379</td>\n",
       "      <td>1.484668</td>\n",
       "      <td>0.634002</td>\n",
       "    </tr>\n",
       "    <tr>\n",
       "      <th>4</th>\n",
       "      <td>-1.503905</td>\n",
       "      <td>-1.566068</td>\n",
       "      <td>1.209200</td>\n",
       "      <td>0.879542</td>\n",
       "      <td>-0.645613</td>\n",
       "      <td>0.046708</td>\n",
       "      <td>0.070402</td>\n",
       "      <td>1.195381</td>\n",
       "      <td>-0.185243</td>\n",
       "      <td>-0.915401</td>\n",
       "      <td>...</td>\n",
       "      <td>0.125480</td>\n",
       "      <td>-0.266633</td>\n",
       "      <td>-0.725830</td>\n",
       "      <td>2.800967</td>\n",
       "      <td>1.696746</td>\n",
       "      <td>1.528646</td>\n",
       "      <td>2.380480</td>\n",
       "      <td>1.049962</td>\n",
       "      <td>1.113329</td>\n",
       "      <td>0.691989</td>\n",
       "    </tr>\n",
       "    <tr>\n",
       "      <th>...</th>\n",
       "      <td>...</td>\n",
       "      <td>...</td>\n",
       "      <td>...</td>\n",
       "      <td>...</td>\n",
       "      <td>...</td>\n",
       "      <td>...</td>\n",
       "      <td>...</td>\n",
       "      <td>...</td>\n",
       "      <td>...</td>\n",
       "      <td>...</td>\n",
       "      <td>...</td>\n",
       "      <td>...</td>\n",
       "      <td>...</td>\n",
       "      <td>...</td>\n",
       "      <td>...</td>\n",
       "      <td>...</td>\n",
       "      <td>...</td>\n",
       "      <td>...</td>\n",
       "      <td>...</td>\n",
       "      <td>...</td>\n",
       "      <td>...</td>\n",
       "    </tr>\n",
       "    <tr>\n",
       "      <th>1435</th>\n",
       "      <td>-0.001314</td>\n",
       "      <td>0.143682</td>\n",
       "      <td>-0.328484</td>\n",
       "      <td>0.857834</td>\n",
       "      <td>1.494971</td>\n",
       "      <td>0.585410</td>\n",
       "      <td>0.699843</td>\n",
       "      <td>1.267308</td>\n",
       "      <td>-0.745707</td>\n",
       "      <td>-0.165505</td>\n",
       "      <td>...</td>\n",
       "      <td>-0.391358</td>\n",
       "      <td>0.908425</td>\n",
       "      <td>-0.895657</td>\n",
       "      <td>0.718057</td>\n",
       "      <td>-0.225792</td>\n",
       "      <td>-0.763993</td>\n",
       "      <td>1.708089</td>\n",
       "      <td>1.622761</td>\n",
       "      <td>0.950851</td>\n",
       "      <td>1.054001</td>\n",
       "    </tr>\n",
       "    <tr>\n",
       "      <th>1436</th>\n",
       "      <td>-0.814226</td>\n",
       "      <td>0.604930</td>\n",
       "      <td>0.302839</td>\n",
       "      <td>1.908344</td>\n",
       "      <td>-0.894729</td>\n",
       "      <td>0.095599</td>\n",
       "      <td>1.464856</td>\n",
       "      <td>1.304799</td>\n",
       "      <td>1.556613</td>\n",
       "      <td>-1.339520</td>\n",
       "      <td>...</td>\n",
       "      <td>-0.425734</td>\n",
       "      <td>0.940510</td>\n",
       "      <td>0.764708</td>\n",
       "      <td>2.745473</td>\n",
       "      <td>1.363530</td>\n",
       "      <td>2.042430</td>\n",
       "      <td>1.302288</td>\n",
       "      <td>1.612017</td>\n",
       "      <td>0.208898</td>\n",
       "      <td>0.522795</td>\n",
       "    </tr>\n",
       "    <tr>\n",
       "      <th>1437</th>\n",
       "      <td>-0.866613</td>\n",
       "      <td>-0.711070</td>\n",
       "      <td>0.545192</td>\n",
       "      <td>0.489913</td>\n",
       "      <td>1.108665</td>\n",
       "      <td>0.129536</td>\n",
       "      <td>1.172297</td>\n",
       "      <td>1.806541</td>\n",
       "      <td>-1.809360</td>\n",
       "      <td>1.201564</td>\n",
       "      <td>...</td>\n",
       "      <td>0.415159</td>\n",
       "      <td>1.378868</td>\n",
       "      <td>1.396386</td>\n",
       "      <td>2.614695</td>\n",
       "      <td>0.518025</td>\n",
       "      <td>0.975074</td>\n",
       "      <td>1.237795</td>\n",
       "      <td>1.289363</td>\n",
       "      <td>-1.135514</td>\n",
       "      <td>-0.574101</td>\n",
       "    </tr>\n",
       "    <tr>\n",
       "      <th>1438</th>\n",
       "      <td>-0.482964</td>\n",
       "      <td>-0.131286</td>\n",
       "      <td>-1.451104</td>\n",
       "      <td>-0.193012</td>\n",
       "      <td>1.432662</td>\n",
       "      <td>-0.580327</td>\n",
       "      <td>0.567737</td>\n",
       "      <td>0.129659</td>\n",
       "      <td>-1.743827</td>\n",
       "      <td>-0.659899</td>\n",
       "      <td>...</td>\n",
       "      <td>-0.730082</td>\n",
       "      <td>-2.289985</td>\n",
       "      <td>-0.668682</td>\n",
       "      <td>0.195309</td>\n",
       "      <td>-0.844747</td>\n",
       "      <td>-1.036383</td>\n",
       "      <td>-0.969465</td>\n",
       "      <td>1.473954</td>\n",
       "      <td>1.047499</td>\n",
       "      <td>0.431326</td>\n",
       "    </tr>\n",
       "    <tr>\n",
       "      <th>1439</th>\n",
       "      <td>-0.409086</td>\n",
       "      <td>0.220506</td>\n",
       "      <td>-1.050077</td>\n",
       "      <td>1.123021</td>\n",
       "      <td>-0.217223</td>\n",
       "      <td>-1.048609</td>\n",
       "      <td>-0.127016</td>\n",
       "      <td>0.930129</td>\n",
       "      <td>-0.306908</td>\n",
       "      <td>-0.321803</td>\n",
       "      <td>...</td>\n",
       "      <td>-1.104693</td>\n",
       "      <td>-0.047969</td>\n",
       "      <td>0.201684</td>\n",
       "      <td>-1.226389</td>\n",
       "      <td>0.470506</td>\n",
       "      <td>1.541048</td>\n",
       "      <td>1.802035</td>\n",
       "      <td>1.728675</td>\n",
       "      <td>1.521416</td>\n",
       "      <td>1.476823</td>\n",
       "    </tr>\n",
       "  </tbody>\n",
       "</table>\n",
       "<p>1440 rows × 66 columns</p>\n",
       "</div>"
      ],
      "text/plain": [
       "            0         1         2         3         4         5         6   \\\n",
       "0    -1.676324 -0.746101  0.091157 -0.398224 -0.084387 -0.340691  0.783819   \n",
       "1    -0.898518 -0.591594 -0.513553 -1.533244 -0.153646 -0.762145  0.297960   \n",
       "2    -0.396159 -0.966012 -0.435643 -0.926990 -0.911184 -0.826127 -0.634355   \n",
       "3    -2.342224 -1.805384 -0.365858  0.781570 -1.575944 -0.165081  0.094568   \n",
       "4    -1.503905 -1.566068  1.209200  0.879542 -0.645613  0.046708  0.070402   \n",
       "...        ...       ...       ...       ...       ...       ...       ...   \n",
       "1435 -0.001314  0.143682 -0.328484  0.857834  1.494971  0.585410  0.699843   \n",
       "1436 -0.814226  0.604930  0.302839  1.908344 -0.894729  0.095599  1.464856   \n",
       "1437 -0.866613 -0.711070  0.545192  0.489913  1.108665  0.129536  1.172297   \n",
       "1438 -0.482964 -0.131286 -1.451104 -0.193012  1.432662 -0.580327  0.567737   \n",
       "1439 -0.409086  0.220506 -1.050077  1.123021 -0.217223 -1.048609 -0.127016   \n",
       "\n",
       "            7         8         9   ...        56        57        58  \\\n",
       "0     0.507975  0.836294  1.039488  ... -0.134332  3.205445  1.910680   \n",
       "1    -0.578013 -0.651335 -0.930509  ... -0.355068  1.282987 -0.773068   \n",
       "2    -0.276989 -0.358897  0.704895  ...  0.376201  1.024253 -0.544117   \n",
       "3     0.540148 -0.152562 -0.585777  ... -0.354393  0.677401 -0.158775   \n",
       "4     1.195381 -0.185243 -0.915401  ...  0.125480 -0.266633 -0.725830   \n",
       "...        ...       ...       ...  ...       ...       ...       ...   \n",
       "1435  1.267308 -0.745707 -0.165505  ... -0.391358  0.908425 -0.895657   \n",
       "1436  1.304799  1.556613 -1.339520  ... -0.425734  0.940510  0.764708   \n",
       "1437  1.806541 -1.809360  1.201564  ...  0.415159  1.378868  1.396386   \n",
       "1438  0.129659 -1.743827 -0.659899  ... -0.730082 -2.289985 -0.668682   \n",
       "1439  0.930129 -0.306908 -0.321803  ... -1.104693 -0.047969  0.201684   \n",
       "\n",
       "            59        60        61        62        63        64        65  \n",
       "0     0.460905 -0.838209 -0.171581  0.320386  0.378692  0.027009  0.303059  \n",
       "1     0.010761 -0.404907 -0.948772 -0.921689 -0.966724 -1.266864 -0.718038  \n",
       "2     0.448328 -0.139555 -0.362374 -0.435690 -0.800947 -0.658042 -0.533889  \n",
       "3     0.206376  0.440215  0.805032  1.055052  1.074379  1.484668  0.634002  \n",
       "4     2.800967  1.696746  1.528646  2.380480  1.049962  1.113329  0.691989  \n",
       "...        ...       ...       ...       ...       ...       ...       ...  \n",
       "1435  0.718057 -0.225792 -0.763993  1.708089  1.622761  0.950851  1.054001  \n",
       "1436  2.745473  1.363530  2.042430  1.302288  1.612017  0.208898  0.522795  \n",
       "1437  2.614695  0.518025  0.975074  1.237795  1.289363 -1.135514 -0.574101  \n",
       "1438  0.195309 -0.844747 -1.036383 -0.969465  1.473954  1.047499  0.431326  \n",
       "1439 -1.226389  0.470506  1.541048  1.802035  1.728675  1.521416  1.476823  \n",
       "\n",
       "[1440 rows x 66 columns]"
      ]
     },
     "execution_count": 16,
     "metadata": {},
     "output_type": "execute_result"
    }
   ],
   "source": [
    "X_new"
   ]
  },
  {
   "cell_type": "markdown",
   "metadata": {},
   "source": [
    "## GridSearch"
   ]
  },
  {
   "cell_type": "code",
   "execution_count": 17,
   "metadata": {},
   "outputs": [
    {
     "name": "stderr",
     "output_type": "stream",
     "text": [
      "100%|████████████████████████████████████████████████████████████████████████████████████████████████████████████████████████████████████████████████████████████████████████████████████████| 5/5 [00:00<00:00, 15.76it/s]\n",
      " 40%|█████████████████████████████████████████████████████████████████████████▌                                                                                                              | 2/5 [00:00<00:00, 17.11it/s]"
     ]
    },
    {
     "name": "stdout",
     "output_type": "stream",
     "text": [
      "UAR = 0.337\n"
     ]
    },
    {
     "name": "stderr",
     "output_type": "stream",
     "text": [
      "100%|████████████████████████████████████████████████████████████████████████████████████████████████████████████████████████████████████████████████████████████████████████████████████████| 5/5 [00:00<00:00, 15.17it/s]\n",
      " 40%|█████████████████████████████████████████████████████████████████████████▌                                                                                                              | 2/5 [00:00<00:00, 15.68it/s]"
     ]
    },
    {
     "name": "stdout",
     "output_type": "stream",
     "text": [
      "UAR = 0.344\n"
     ]
    },
    {
     "name": "stderr",
     "output_type": "stream",
     "text": [
      "100%|████████████████████████████████████████████████████████████████████████████████████████████████████████████████████████████████████████████████████████████████████████████████████████| 5/5 [00:00<00:00, 14.37it/s]\n",
      " 40%|█████████████████████████████████████████████████████████████████████████▌                                                                                                              | 2/5 [00:00<00:00, 16.44it/s]"
     ]
    },
    {
     "name": "stdout",
     "output_type": "stream",
     "text": [
      "UAR = 0.355\n"
     ]
    },
    {
     "name": "stderr",
     "output_type": "stream",
     "text": [
      "100%|████████████████████████████████████████████████████████████████████████████████████████████████████████████████████████████████████████████████████████████████████████████████████████| 5/5 [00:00<00:00, 15.29it/s]\n",
      " 40%|█████████████████████████████████████████████████████████████████████████▌                                                                                                              | 2/5 [00:00<00:00, 16.25it/s]"
     ]
    },
    {
     "name": "stdout",
     "output_type": "stream",
     "text": [
      "UAR = 0.365\n"
     ]
    },
    {
     "name": "stderr",
     "output_type": "stream",
     "text": [
      "100%|████████████████████████████████████████████████████████████████████████████████████████████████████████████████████████████████████████████████████████████████████████████████████████| 5/5 [00:00<00:00, 16.92it/s]\n",
      " 40%|█████████████████████████████████████████████████████████████████████████▌                                                                                                              | 2/5 [00:00<00:00, 17.54it/s]"
     ]
    },
    {
     "name": "stdout",
     "output_type": "stream",
     "text": [
      "UAR = 0.376\n"
     ]
    },
    {
     "name": "stderr",
     "output_type": "stream",
     "text": [
      "100%|████████████████████████████████████████████████████████████████████████████████████████████████████████████████████████████████████████████████████████████████████████████████████████| 5/5 [00:00<00:00, 17.63it/s]\n",
      " 40%|█████████████████████████████████████████████████████████████████████████▌                                                                                                              | 2/5 [00:00<00:00, 17.49it/s]"
     ]
    },
    {
     "name": "stdout",
     "output_type": "stream",
     "text": [
      "UAR = 0.382\n"
     ]
    },
    {
     "name": "stderr",
     "output_type": "stream",
     "text": [
      "100%|████████████████████████████████████████████████████████████████████████████████████████████████████████████████████████████████████████████████████████████████████████████████████████| 5/5 [00:00<00:00, 16.65it/s]\n",
      " 40%|█████████████████████████████████████████████████████████████████████████▌                                                                                                              | 2/5 [00:00<00:00, 17.89it/s]"
     ]
    },
    {
     "name": "stdout",
     "output_type": "stream",
     "text": [
      "UAR = 0.392\n"
     ]
    },
    {
     "name": "stderr",
     "output_type": "stream",
     "text": [
      "100%|████████████████████████████████████████████████████████████████████████████████████████████████████████████████████████████████████████████████████████████████████████████████████████| 5/5 [00:00<00:00, 18.23it/s]\n",
      " 40%|█████████████████████████████████████████████████████████████████████████▌                                                                                                              | 2/5 [00:00<00:00, 17.92it/s]"
     ]
    },
    {
     "name": "stdout",
     "output_type": "stream",
     "text": [
      "UAR = 0.398\n"
     ]
    },
    {
     "name": "stderr",
     "output_type": "stream",
     "text": [
      "100%|████████████████████████████████████████████████████████████████████████████████████████████████████████████████████████████████████████████████████████████████████████████████████████| 5/5 [00:00<00:00, 17.51it/s]\n",
      " 40%|█████████████████████████████████████████████████████████████████████████▌                                                                                                              | 2/5 [00:00<00:00, 19.33it/s]"
     ]
    },
    {
     "name": "stdout",
     "output_type": "stream",
     "text": [
      "UAR = 0.400\n"
     ]
    },
    {
     "name": "stderr",
     "output_type": "stream",
     "text": [
      "100%|████████████████████████████████████████████████████████████████████████████████████████████████████████████████████████████████████████████████████████████████████████████████████████| 5/5 [00:00<00:00, 18.02it/s]\n",
      " 40%|█████████████████████████████████████████████████████████████████████████▌                                                                                                              | 2/5 [00:00<00:00, 19.14it/s]"
     ]
    },
    {
     "name": "stdout",
     "output_type": "stream",
     "text": [
      "UAR = 0.400\n"
     ]
    },
    {
     "name": "stderr",
     "output_type": "stream",
     "text": [
      "100%|████████████████████████████████████████████████████████████████████████████████████████████████████████████████████████████████████████████████████████████████████████████████████████| 5/5 [00:00<00:00, 19.26it/s]\n",
      " 40%|█████████████████████████████████████████████████████████████████████████▌                                                                                                              | 2/5 [00:00<00:00, 18.20it/s]"
     ]
    },
    {
     "name": "stdout",
     "output_type": "stream",
     "text": [
      "UAR = 0.411\n"
     ]
    },
    {
     "name": "stderr",
     "output_type": "stream",
     "text": [
      "100%|████████████████████████████████████████████████████████████████████████████████████████████████████████████████████████████████████████████████████████████████████████████████████████| 5/5 [00:00<00:00, 18.25it/s]\n",
      " 40%|█████████████████████████████████████████████████████████████████████████▌                                                                                                              | 2/5 [00:00<00:00, 19.37it/s]"
     ]
    },
    {
     "name": "stdout",
     "output_type": "stream",
     "text": [
      "UAR = 0.407\n"
     ]
    },
    {
     "name": "stderr",
     "output_type": "stream",
     "text": [
      "100%|████████████████████████████████████████████████████████████████████████████████████████████████████████████████████████████████████████████████████████████████████████████████████████| 5/5 [00:00<00:00, 19.52it/s]\n",
      " 40%|█████████████████████████████████████████████████████████████████████████▌                                                                                                              | 2/5 [00:00<00:00, 18.97it/s]"
     ]
    },
    {
     "name": "stdout",
     "output_type": "stream",
     "text": [
      "UAR = 0.414\n"
     ]
    },
    {
     "name": "stderr",
     "output_type": "stream",
     "text": [
      "100%|████████████████████████████████████████████████████████████████████████████████████████████████████████████████████████████████████████████████████████████████████████████████████████| 5/5 [00:00<00:00, 18.94it/s]\n",
      " 60%|██████████████████████████████████████████████████████████████████████████████████████████████████████████████▍                                                                         | 3/5 [00:00<00:00, 20.84it/s]"
     ]
    },
    {
     "name": "stdout",
     "output_type": "stream",
     "text": [
      "UAR = 0.422\n"
     ]
    },
    {
     "name": "stderr",
     "output_type": "stream",
     "text": [
      "100%|████████████████████████████████████████████████████████████████████████████████████████████████████████████████████████████████████████████████████████████████████████████████████████| 5/5 [00:00<00:00, 20.74it/s]\n",
      " 40%|█████████████████████████████████████████████████████████████████████████▌                                                                                                              | 2/5 [00:00<00:00, 19.00it/s]"
     ]
    },
    {
     "name": "stdout",
     "output_type": "stream",
     "text": [
      "UAR = 0.421\n"
     ]
    },
    {
     "name": "stderr",
     "output_type": "stream",
     "text": [
      "100%|████████████████████████████████████████████████████████████████████████████████████████████████████████████████████████████████████████████████████████████████████████████████████████| 5/5 [00:00<00:00, 20.28it/s]\n",
      " 40%|█████████████████████████████████████████████████████████████████████████▌                                                                                                              | 2/5 [00:00<00:00, 19.98it/s]"
     ]
    },
    {
     "name": "stdout",
     "output_type": "stream",
     "text": [
      "UAR = 0.418\n"
     ]
    },
    {
     "name": "stderr",
     "output_type": "stream",
     "text": [
      "100%|████████████████████████████████████████████████████████████████████████████████████████████████████████████████████████████████████████████████████████████████████████████████████████| 5/5 [00:00<00:00, 19.77it/s]\n",
      " 60%|██████████████████████████████████████████████████████████████████████████████████████████████████████████████▍                                                                         | 3/5 [00:00<00:00, 21.85it/s]"
     ]
    },
    {
     "name": "stdout",
     "output_type": "stream",
     "text": [
      "UAR = 0.417\n"
     ]
    },
    {
     "name": "stderr",
     "output_type": "stream",
     "text": [
      "100%|████████████████████████████████████████████████████████████████████████████████████████████████████████████████████████████████████████████████████████████████████████████████████████| 5/5 [00:00<00:00, 21.49it/s]\n",
      " 40%|█████████████████████████████████████████████████████████████████████████▌                                                                                                              | 2/5 [00:00<00:00, 18.55it/s]"
     ]
    },
    {
     "name": "stdout",
     "output_type": "stream",
     "text": [
      "UAR = 0.421\n"
     ]
    },
    {
     "name": "stderr",
     "output_type": "stream",
     "text": [
      "100%|████████████████████████████████████████████████████████████████████████████████████████████████████████████████████████████████████████████████████████████████████████████████████████| 5/5 [00:00<00:00, 20.30it/s]\n",
      " 60%|██████████████████████████████████████████████████████████████████████████████████████████████████████████████▍                                                                         | 3/5 [00:00<00:00, 20.29it/s]"
     ]
    },
    {
     "name": "stdout",
     "output_type": "stream",
     "text": [
      "UAR = 0.418\n"
     ]
    },
    {
     "name": "stderr",
     "output_type": "stream",
     "text": [
      "100%|████████████████████████████████████████████████████████████████████████████████████████████████████████████████████████████████████████████████████████████████████████████████████████| 5/5 [00:00<00:00, 19.95it/s]\n",
      " 40%|█████████████████████████████████████████████████████████████████████████▌                                                                                                              | 2/5 [00:00<00:00, 19.33it/s]"
     ]
    },
    {
     "name": "stdout",
     "output_type": "stream",
     "text": [
      "UAR = 0.421\n"
     ]
    },
    {
     "name": "stderr",
     "output_type": "stream",
     "text": [
      "100%|████████████████████████████████████████████████████████████████████████████████████████████████████████████████████████████████████████████████████████████████████████████████████████| 5/5 [00:00<00:00, 20.39it/s]\n",
      " 40%|█████████████████████████████████████████████████████████████████████████▌                                                                                                              | 2/5 [00:00<00:00, 19.05it/s]"
     ]
    },
    {
     "name": "stdout",
     "output_type": "stream",
     "text": [
      "UAR = 0.421\n"
     ]
    },
    {
     "name": "stderr",
     "output_type": "stream",
     "text": [
      "100%|████████████████████████████████████████████████████████████████████████████████████████████████████████████████████████████████████████████████████████████████████████████████████████| 5/5 [00:00<00:00, 18.61it/s]\n",
      " 40%|█████████████████████████████████████████████████████████████████████████▌                                                                                                              | 2/5 [00:00<00:00, 19.62it/s]"
     ]
    },
    {
     "name": "stdout",
     "output_type": "stream",
     "text": [
      "UAR = 0.421\n"
     ]
    },
    {
     "name": "stderr",
     "output_type": "stream",
     "text": [
      "100%|████████████████████████████████████████████████████████████████████████████████████████████████████████████████████████████████████████████████████████████████████████████████████████| 5/5 [00:00<00:00, 20.17it/s]\n",
      " 40%|█████████████████████████████████████████████████████████████████████████▌                                                                                                              | 2/5 [00:00<00:00, 17.10it/s]"
     ]
    },
    {
     "name": "stdout",
     "output_type": "stream",
     "text": [
      "UAR = 0.415\n"
     ]
    },
    {
     "name": "stderr",
     "output_type": "stream",
     "text": [
      "100%|████████████████████████████████████████████████████████████████████████████████████████████████████████████████████████████████████████████████████████████████████████████████████████| 5/5 [00:00<00:00, 19.15it/s]\n",
      " 60%|██████████████████████████████████████████████████████████████████████████████████████████████████████████████▍                                                                         | 3/5 [00:00<00:00, 20.92it/s]"
     ]
    },
    {
     "name": "stdout",
     "output_type": "stream",
     "text": [
      "UAR = 0.414\n"
     ]
    },
    {
     "name": "stderr",
     "output_type": "stream",
     "text": [
      "100%|████████████████████████████████████████████████████████████████████████████████████████████████████████████████████████████████████████████████████████████████████████████████████████| 5/5 [00:00<00:00, 20.95it/s]\n",
      " 40%|█████████████████████████████████████████████████████████████████████████▌                                                                                                              | 2/5 [00:00<00:00, 18.78it/s]"
     ]
    },
    {
     "name": "stdout",
     "output_type": "stream",
     "text": [
      "UAR = 0.402\n"
     ]
    },
    {
     "name": "stderr",
     "output_type": "stream",
     "text": [
      "100%|████████████████████████████████████████████████████████████████████████████████████████████████████████████████████████████████████████████████████████████████████████████████████████| 5/5 [00:00<00:00, 18.52it/s]\n",
      " 40%|█████████████████████████████████████████████████████████████████████████▌                                                                                                              | 2/5 [00:00<00:00, 19.74it/s]"
     ]
    },
    {
     "name": "stdout",
     "output_type": "stream",
     "text": [
      "UAR = 0.396\n"
     ]
    },
    {
     "name": "stderr",
     "output_type": "stream",
     "text": [
      "100%|████████████████████████████████████████████████████████████████████████████████████████████████████████████████████████████████████████████████████████████████████████████████████████| 5/5 [00:00<00:00, 20.01it/s]\n",
      " 40%|█████████████████████████████████████████████████████████████████████████▌                                                                                                              | 2/5 [00:00<00:00, 18.28it/s]"
     ]
    },
    {
     "name": "stdout",
     "output_type": "stream",
     "text": [
      "UAR = 0.396\n"
     ]
    },
    {
     "name": "stderr",
     "output_type": "stream",
     "text": [
      "100%|████████████████████████████████████████████████████████████████████████████████████████████████████████████████████████████████████████████████████████████████████████████████████████| 5/5 [00:00<00:00, 17.76it/s]\n",
      " 40%|█████████████████████████████████████████████████████████████████████████▌                                                                                                              | 2/5 [00:00<00:00, 17.81it/s]"
     ]
    },
    {
     "name": "stdout",
     "output_type": "stream",
     "text": [
      "UAR = 0.390\n"
     ]
    },
    {
     "name": "stderr",
     "output_type": "stream",
     "text": [
      "100%|████████████████████████████████████████████████████████████████████████████████████████████████████████████████████████████████████████████████████████████████████████████████████████| 5/5 [00:00<00:00, 18.64it/s]\n",
      " 40%|█████████████████████████████████████████████████████████████████████████▌                                                                                                              | 2/5 [00:00<00:00, 17.70it/s]"
     ]
    },
    {
     "name": "stdout",
     "output_type": "stream",
     "text": [
      "UAR = 0.385\n"
     ]
    },
    {
     "name": "stderr",
     "output_type": "stream",
     "text": [
      "100%|████████████████████████████████████████████████████████████████████████████████████████████████████████████████████████████████████████████████████████████████████████████████████████| 5/5 [00:00<00:00, 17.47it/s]\n",
      " 40%|█████████████████████████████████████████████████████████████████████████▌                                                                                                              | 2/5 [00:00<00:00, 16.28it/s]"
     ]
    },
    {
     "name": "stdout",
     "output_type": "stream",
     "text": [
      "UAR = 0.392\n"
     ]
    },
    {
     "name": "stderr",
     "output_type": "stream",
     "text": [
      "100%|████████████████████████████████████████████████████████████████████████████████████████████████████████████████████████████████████████████████████████████████████████████████████████| 5/5 [00:00<00:00, 16.64it/s]\n",
      " 40%|█████████████████████████████████████████████████████████████████████████▌                                                                                                              | 2/5 [00:00<00:00, 15.67it/s]"
     ]
    },
    {
     "name": "stdout",
     "output_type": "stream",
     "text": [
      "UAR = 0.389\n"
     ]
    },
    {
     "name": "stderr",
     "output_type": "stream",
     "text": [
      "100%|████████████████████████████████████████████████████████████████████████████████████████████████████████████████████████████████████████████████████████████████████████████████████████| 5/5 [00:00<00:00, 16.12it/s]\n",
      " 40%|█████████████████████████████████████████████████████████████████████████▌                                                                                                              | 2/5 [00:00<00:00, 14.05it/s]"
     ]
    },
    {
     "name": "stdout",
     "output_type": "stream",
     "text": [
      "UAR = 0.383\n"
     ]
    },
    {
     "name": "stderr",
     "output_type": "stream",
     "text": [
      "100%|████████████████████████████████████████████████████████████████████████████████████████████████████████████████████████████████████████████████████████████████████████████████████████| 5/5 [00:00<00:00, 14.28it/s]\n",
      " 40%|█████████████████████████████████████████████████████████████████████████▌                                                                                                              | 2/5 [00:00<00:00, 13.96it/s]"
     ]
    },
    {
     "name": "stdout",
     "output_type": "stream",
     "text": [
      "UAR = 0.382\n"
     ]
    },
    {
     "name": "stderr",
     "output_type": "stream",
     "text": [
      "100%|████████████████████████████████████████████████████████████████████████████████████████████████████████████████████████████████████████████████████████████████████████████████████████| 5/5 [00:00<00:00, 13.91it/s]\n",
      " 40%|█████████████████████████████████████████████████████████████████████████▌                                                                                                              | 2/5 [00:00<00:00, 11.73it/s]"
     ]
    },
    {
     "name": "stdout",
     "output_type": "stream",
     "text": [
      "UAR = 0.383\n"
     ]
    },
    {
     "name": "stderr",
     "output_type": "stream",
     "text": [
      "100%|████████████████████████████████████████████████████████████████████████████████████████████████████████████████████████████████████████████████████████████████████████████████████████| 5/5 [00:00<00:00, 11.71it/s]\n",
      " 20%|████████████████████████████████████▊                                                                                                                                                   | 1/5 [00:00<00:00,  9.91it/s]"
     ]
    },
    {
     "name": "stdout",
     "output_type": "stream",
     "text": [
      "UAR = 0.383\n"
     ]
    },
    {
     "name": "stderr",
     "output_type": "stream",
     "text": [
      "100%|████████████████████████████████████████████████████████████████████████████████████████████████████████████████████████████████████████████████████████████████████████████████████████| 5/5 [00:00<00:00, 10.45it/s]\n",
      " 20%|████████████████████████████████████▊                                                                                                                                                   | 1/5 [00:00<00:00,  8.40it/s]"
     ]
    },
    {
     "name": "stdout",
     "output_type": "stream",
     "text": [
      "UAR = 0.384\n"
     ]
    },
    {
     "name": "stderr",
     "output_type": "stream",
     "text": [
      "100%|████████████████████████████████████████████████████████████████████████████████████████████████████████████████████████████████████████████████████████████████████████████████████████| 5/5 [00:00<00:00,  8.63it/s]\n",
      " 20%|████████████████████████████████████▊                                                                                                                                                   | 1/5 [00:00<00:00,  8.16it/s]"
     ]
    },
    {
     "name": "stdout",
     "output_type": "stream",
     "text": [
      "UAR = 0.380\n"
     ]
    },
    {
     "name": "stderr",
     "output_type": "stream",
     "text": [
      "100%|████████████████████████████████████████████████████████████████████████████████████████████████████████████████████████████████████████████████████████████████████████████████████████| 5/5 [00:00<00:00,  8.46it/s]\n",
      " 20%|████████████████████████████████████▊                                                                                                                                                   | 1/5 [00:00<00:00,  7.19it/s]"
     ]
    },
    {
     "name": "stdout",
     "output_type": "stream",
     "text": [
      "UAR = 0.381\n"
     ]
    },
    {
     "name": "stderr",
     "output_type": "stream",
     "text": [
      "100%|████████████████████████████████████████████████████████████████████████████████████████████████████████████████████████████████████████████████████████████████████████████████████████| 5/5 [00:00<00:00,  7.72it/s]\n",
      " 20%|████████████████████████████████████▊                                                                                                                                                   | 1/5 [00:00<00:00,  6.34it/s]"
     ]
    },
    {
     "name": "stdout",
     "output_type": "stream",
     "text": [
      "UAR = 0.381\n"
     ]
    },
    {
     "name": "stderr",
     "output_type": "stream",
     "text": [
      "100%|████████████████████████████████████████████████████████████████████████████████████████████████████████████████████████████████████████████████████████████████████████████████████████| 5/5 [00:00<00:00,  6.72it/s]\n"
     ]
    },
    {
     "name": "stdout",
     "output_type": "stream",
     "text": [
      "UAR = 0.378\n",
      "UAR_best = 0.422, C_best = 0.005\n"
     ]
    },
    {
     "data": {
      "image/png": "[encoded data removed]",
      "text/plain": [
       "<Figure size 770x385 with 1 Axes>"
      ]
     },
     "metadata": {},
     "output_type": "display_data"
    }
   ],
   "source": [
    "C = np.logspace(-3.5, -0.0, 40, endpoint=True)\n",
    "UAR_list = []\n",
    "UAR_best = 0\n",
    "for val_C in C:\n",
    "    model = SVC(kernel = 'linear', C=val_C)\n",
    "    UAR,y_pr,y_tr,y_te = model_training.estimate_model(model, X_k_folds, y_k_folds)\n",
    "    if UAR_best<UAR:\n",
    "        UAR_best,y_pred,y_true,y_test = UAR,y_pr,y_tr,y_te\n",
    "        C_best = val_C\n",
    "    UAR_list.append(UAR)\n",
    "\n",
    "fig,ax=plt.subplots(figsize=(7,3.5), dpi=110) \n",
    "plt.rcParams.update({'font.size': 14})\n",
    "plt.plot(C,UAR_list, marker='o', linestyle='dashed',)\n",
    "# plt.semilogx(C,UAR_list, marker='o', linestyle='dashed',)\n",
    "plt.ylim([0.37, 0.48])\n",
    "# plt.xlabel('$\\log_{10}(C)$')\n",
    "plt.xlabel('$C$')\n",
    "plt.ylabel('UAR')\n",
    "plt.text(C_best-0.010, UAR_best+0.005, f'{UAR_best:.3f}')\n",
    "plt.title('SVM with linear kernel')\n",
    "print(f'UAR_best = {UAR_best:.3f}, C_best = {C_best:.3f}')"
   ]
  },
  {
   "cell_type": "markdown",
   "metadata": {},
   "source": [
    "## Confusion matrix"
   ]
  },
  {
   "cell_type": "code",
   "execution_count": 18,
   "metadata": {},
   "outputs": [
    {
     "data": {
      "image/png": "[encoded data removed]",
      "text/plain": [
       "<Figure size 704x528 with 2 Axes>"
      ]
     },
     "metadata": {},
     "output_type": "display_data"
    },
    {
     "name": "stdout",
     "output_type": "stream",
     "text": [
      "Saving confusion matrix with name:  Doc/figures/confusion_matrix_eng.jpg\n"
     ]
    }
   ],
   "source": [
    "plotting_utils.plot_confusion_matrix_eng(y_test, y_true, y_pred)"
   ]
  },
  {
   "cell_type": "code",
   "execution_count": null,
   "metadata": {},
   "outputs": [],
   "source": []
  }
 ],
 "metadata": {
  "kernelspec": {
   "display_name": "Python 3 (ipykernel)",
   "language": "python",
   "name": "python3"
  },
  "language_info": {
   "codemirror_mode": {
    "name": "ipython",
    "version": 3
   },
   "file_extension": ".py",
   "mimetype": "text/x-python",
   "name": "python",
   "nbconvert_exporter": "python",
   "pygments_lexer": "ipython3",
   "version": "3.8.10"
  },
  "vscode": {
   "interpreter": {
    "hash": "a42ccb73e7d9bfdf27e036f1d2b8b681e55fc0743cc5586bc2474d4a60f4b886"
   }
  }
 },
 "nbformat": 4,
 "nbformat_minor": 2
}
