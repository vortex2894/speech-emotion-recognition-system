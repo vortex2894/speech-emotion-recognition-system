{
 "cells": [
  {
   "cell_type": "code",
   "execution_count": 1,
   "metadata": {},
   "outputs": [],
   "source": [
    "#!pip install soundfile"
   ]
  },
  {
   "cell_type": "code",
   "execution_count": 2,
   "metadata": {},
   "outputs": [],
   "source": [
    "#!pip install librosa"
   ]
  },
  {
   "cell_type": "code",
   "execution_count": 3,
   "metadata": {},
   "outputs": [],
   "source": [
    "#!pip install kaggle"
   ]
  },
  {
   "cell_type": "code",
   "execution_count": 4,
   "metadata": {},
   "outputs": [],
   "source": [
    "#UPLOAD your kaggle.json file"
   ]
  },
  {
   "cell_type": "code",
   "execution_count": 5,
   "metadata": {},
   "outputs": [],
   "source": [
    "#!mkdir -p ~/.kaggle\n",
    "#!cp kaggle.json ~/.kaggle/\n",
    "#!chmod 600 ~/.kaggle/kaggle.json"
   ]
  },
  {
   "cell_type": "code",
   "execution_count": 6,
   "metadata": {},
   "outputs": [],
   "source": [
    "# download the data"
   ]
  },
  {
   "cell_type": "code",
   "execution_count": 7,
   "metadata": {},
   "outputs": [],
   "source": [
    "#!kaggle datasets download -d uwrfkaggler/ravdess-emotional-speech-audio"
   ]
  },
  {
   "cell_type": "code",
   "execution_count": 137,
   "metadata": {},
   "outputs": [],
   "source": [
    "#!kaggle datasets download -d ejlok1/toronto-emotional-speech-set-tess"
   ]
  },
  {
   "cell_type": "code",
   "execution_count": 139,
   "metadata": {},
   "outputs": [],
   "source": [
    "# from zipfile import ZipFile\n",
    "\n",
    "# zipped_dataset_path = './toronto-emotional-speech-set-tess.zip'\n",
    "# with ZipFile(zipped_dataset_path, 'r') as zip:\n",
    "#     zip.extractall(path='./data/toronto-emotional-speech-set-tess')\n",
    "#     print('Successfully extracted the dataset.')"
   ]
  },
  {
   "cell_type": "code",
   "execution_count": 190,
   "metadata": {
    "execution": {
     "iopub.execute_input": "2023-04-07T07:13:14.705318Z",
     "iopub.status.busy": "2023-04-07T07:13:14.704730Z",
     "iopub.status.idle": "2023-04-07T07:13:15.715562Z",
     "shell.execute_reply": "2023-04-07T07:13:15.714064Z",
     "shell.execute_reply.started": "2023-04-07T07:13:14.705233Z"
    }
   },
   "outputs": [],
   "source": [
    "import librosa\n",
    "from librosa import display\n",
    "import pandas as pd \n",
    "import numpy as np\n",
    "import os\n",
    "import glob\n",
    "import time\n",
    "import seaborn as sns\n",
    "import IPython.display as ipd\n",
    "from tqdm import tqdm\n",
    "import matplotlib.pyplot as plt\n",
    "from sklearn.preprocessing import StandardScaler, OneHotEncoder\n",
    "from sklearn.model_selection import train_test_split\n",
    "from sklearn import metrics \n",
    "from sklearn.metrics import confusion_matrix, accuracy_score, classification_report, cohen_kappa_score"
   ]
  },
  {
   "cell_type": "code",
   "execution_count": 191,
   "metadata": {},
   "outputs": [],
   "source": [
    "Ravdess='./data/ravdess-emotional-speech-audio/audio_speech_actors_01-24/'"
   ]
  },
  {
   "cell_type": "code",
   "execution_count": 192,
   "metadata": {},
   "outputs": [
    {
     "data": {
      "text/html": [
       "<div>\n",
       "<style scoped>\n",
       "    .dataframe tbody tr th:only-of-type {\n",
       "        vertical-align: middle;\n",
       "    }\n",
       "\n",
       "    .dataframe tbody tr th {\n",
       "        vertical-align: top;\n",
       "    }\n",
       "\n",
       "    .dataframe thead th {\n",
       "        text-align: right;\n",
       "    }\n",
       "</style>\n",
       "<table border=\"1\" class=\"dataframe\">\n",
       "  <thead>\n",
       "    <tr style=\"text-align: right;\">\n",
       "      <th></th>\n",
       "      <th>Emotions</th>\n",
       "      <th>Path</th>\n",
       "    </tr>\n",
       "  </thead>\n",
       "  <tbody>\n",
       "    <tr>\n",
       "      <th>1435</th>\n",
       "      <td>Surprised</td>\n",
       "      <td>./data/ravdess-emotional-speech-audio/audio_sp...</td>\n",
       "    </tr>\n",
       "    <tr>\n",
       "      <th>1436</th>\n",
       "      <td>Angry</td>\n",
       "      <td>./data/ravdess-emotional-speech-audio/audio_sp...</td>\n",
       "    </tr>\n",
       "    <tr>\n",
       "      <th>1437</th>\n",
       "      <td>Surprised</td>\n",
       "      <td>./data/ravdess-emotional-speech-audio/audio_sp...</td>\n",
       "    </tr>\n",
       "    <tr>\n",
       "      <th>1438</th>\n",
       "      <td>Disgust</td>\n",
       "      <td>./data/ravdess-emotional-speech-audio/audio_sp...</td>\n",
       "    </tr>\n",
       "    <tr>\n",
       "      <th>1439</th>\n",
       "      <td>Fearful</td>\n",
       "      <td>./data/ravdess-emotional-speech-audio/audio_sp...</td>\n",
       "    </tr>\n",
       "  </tbody>\n",
       "</table>\n",
       "</div>"
      ],
      "text/plain": [
       "       Emotions                                               Path\n",
       "1435  Surprised  ./data/ravdess-emotional-speech-audio/audio_sp...\n",
       "1436      Angry  ./data/ravdess-emotional-speech-audio/audio_sp...\n",
       "1437  Surprised  ./data/ravdess-emotional-speech-audio/audio_sp...\n",
       "1438    Disgust  ./data/ravdess-emotional-speech-audio/audio_sp...\n",
       "1439    Fearful  ./data/ravdess-emotional-speech-audio/audio_sp..."
      ]
     },
     "execution_count": 192,
     "metadata": {},
     "output_type": "execute_result"
    }
   ],
   "source": [
    "ravdess_directory_list=os.listdir(Ravdess)\n",
    "\n",
    "\n",
    "file_emotion=[]\n",
    "file_path=[]\n",
    "\n",
    "for dir in ravdess_directory_list:\n",
    "    actor=os.listdir(Ravdess + dir)\n",
    "    for file in actor:\n",
    "        part=file.split('.')[0]\n",
    "        part=part.split('-')\n",
    "        file_emotion.append(int(part[2]))\n",
    "        file_path.append(Ravdess + dir + '/' + file)\n",
    "        \n",
    "emotion_df=pd.DataFrame(file_emotion, columns=['Emotions'])\n",
    "\n",
    "path_df=pd.DataFrame(file_path, columns=['Path'])\n",
    "Ravdess_df=pd.concat([emotion_df,path_df],axis=1)\n",
    "\n",
    "Ravdess_df.Emotions.replace({1:'Neutral', 2:'Calm', 3:'Happy', 4:'Sad', 5:'Angry', 6:'Fearful', 7:'Disgust', 8:'Surprised'}, inplace=True)\n",
    "Ravdess_df.tail()"
   ]
  },
  {
   "cell_type": "code",
   "execution_count": 193,
   "metadata": {},
   "outputs": [
    {
     "data": {
      "application/vnd.plotly.v1+json": {
       "config": {
        "plotlyServerURL": "https://plot.ly"
       },
       "data": [
        {
         "alignmentgroup": "True",
         "bingroup": "x",
         "hovertemplate": "Emotions=%{x}<br>count=%{y}<extra></extra>",
         "legendgroup": "",
         "marker": {
          "color": "#636efa",
          "pattern": {
           "shape": ""
          }
         },
         "name": "",
         "offsetgroup": "",
         "orientation": "v",
         "showlegend": false,
         "type": "histogram",
         "x": [
          "Surprised",
          "Happy",
          "Calm",
          "Happy",
          "Surprised",
          "Happy",
          "Disgust",
          "Angry",
          "Sad",
          "Neutral",
          "Fearful",
          "Neutral",
          "Fearful",
          "Fearful",
          "Calm",
          "Disgust",
          "Sad",
          "Disgust",
          "Fearful",
          "Fearful",
          "Surprised",
          "Disgust",
          "Happy",
          "Surprised",
          "Neutral",
          "Surprised",
          "Angry",
          "Happy",
          "Calm",
          "Angry",
          "Calm",
          "Surprised",
          "Angry",
          "Surprised",
          "Happy",
          "Happy",
          "Sad",
          "Disgust",
          "Fearful",
          "Angry",
          "Sad",
          "Calm",
          "Fearful",
          "Disgust",
          "Fearful",
          "Sad",
          "Neutral",
          "Angry",
          "Calm",
          "Disgust",
          "Disgust",
          "Sad",
          "Angry",
          "Angry",
          "Happy",
          "Sad",
          "Sad",
          "Calm",
          "Surprised",
          "Calm",
          "Sad",
          "Sad",
          "Disgust",
          "Sad",
          "Neutral",
          "Disgust",
          "Surprised",
          "Surprised",
          "Fearful",
          "Angry",
          "Happy",
          "Fearful",
          "Sad",
          "Disgust",
          "Disgust",
          "Calm",
          "Fearful",
          "Angry",
          "Fearful",
          "Surprised",
          "Angry",
          "Neutral",
          "Angry",
          "Sad",
          "Happy",
          "Disgust",
          "Calm",
          "Calm",
          "Angry",
          "Angry",
          "Calm",
          "Neutral",
          "Happy",
          "Disgust",
          "Surprised",
          "Happy",
          "Calm",
          "Angry",
          "Happy",
          "Fearful",
          "Happy",
          "Fearful",
          "Angry",
          "Happy",
          "Sad",
          "Surprised",
          "Surprised",
          "Disgust",
          "Surprised",
          "Surprised",
          "Calm",
          "Neutral",
          "Sad",
          "Fearful",
          "Calm",
          "Happy",
          "Calm",
          "Fearful",
          "Sad",
          "Disgust",
          "Calm",
          "Angry",
          "Angry",
          "Sad",
          "Surprised",
          "Disgust",
          "Fearful",
          "Happy",
          "Happy",
          "Disgust",
          "Happy",
          "Fearful",
          "Disgust",
          "Angry",
          "Angry",
          "Happy",
          "Neutral",
          "Fearful",
          "Disgust",
          "Happy",
          "Sad",
          "Fearful",
          "Happy",
          "Sad",
          "Happy",
          "Calm",
          "Happy",
          "Fearful",
          "Surprised",
          "Fearful",
          "Calm",
          "Surprised",
          "Sad",
          "Fearful",
          "Neutral",
          "Angry",
          "Surprised",
          "Surprised",
          "Angry",
          "Calm",
          "Disgust",
          "Angry",
          "Disgust",
          "Surprised",
          "Disgust",
          "Calm",
          "Calm",
          "Surprised",
          "Angry",
          "Fearful",
          "Disgust",
          "Sad",
          "Sad",
          "Sad",
          "Calm",
          "Neutral",
          "Sad",
          "Surprised",
          "Calm",
          "Neutral",
          "Sad",
          "Sad",
          "Surprised",
          "Disgust",
          "Fearful",
          "Calm",
          "Surprised",
          "Surprised",
          "Happy",
          "Surprised",
          "Sad",
          "Disgust",
          "Calm",
          "Fearful",
          "Neutral",
          "Surprised",
          "Disgust",
          "Angry",
          "Calm",
          "Happy",
          "Fearful",
          "Happy",
          "Sad",
          "Calm",
          "Disgust",
          "Angry",
          "Fearful",
          "Calm",
          "Angry",
          "Calm",
          "Sad",
          "Sad",
          "Happy",
          "Fearful",
          "Happy",
          "Angry",
          "Disgust",
          "Calm",
          "Happy",
          "Angry",
          "Neutral",
          "Angry",
          "Fearful",
          "Neutral",
          "Sad",
          "Disgust",
          "Happy",
          "Surprised",
          "Calm",
          "Fearful",
          "Disgust",
          "Angry",
          "Sad",
          "Surprised",
          "Fearful",
          "Happy",
          "Disgust",
          "Neutral",
          "Surprised",
          "Angry",
          "Surprised",
          "Sad",
          "Surprised",
          "Disgust",
          "Fearful",
          "Disgust",
          "Angry",
          "Disgust",
          "Surprised",
          "Sad",
          "Fearful",
          "Fearful",
          "Fearful",
          "Calm",
          "Angry",
          "Happy",
          "Surprised",
          "Fearful",
          "Disgust",
          "Sad",
          "Happy",
          "Happy",
          "Angry",
          "Happy",
          "Calm",
          "Happy",
          "Neutral",
          "Surprised",
          "Disgust",
          "Fearful",
          "Happy",
          "Calm",
          "Calm",
          "Happy",
          "Angry",
          "Sad",
          "Sad",
          "Sad",
          "Fearful",
          "Calm",
          "Sad",
          "Disgust",
          "Neutral",
          "Fearful",
          "Angry",
          "Disgust",
          "Disgust",
          "Calm",
          "Happy",
          "Neutral",
          "Calm",
          "Surprised",
          "Angry",
          "Calm",
          "Angry",
          "Surprised",
          "Surprised",
          "Sad",
          "Angry",
          "Neutral",
          "Angry",
          "Sad",
          "Surprised",
          "Disgust",
          "Surprised",
          "Calm",
          "Disgust",
          "Surprised",
          "Disgust",
          "Disgust",
          "Fearful",
          "Angry",
          "Happy",
          "Fearful",
          "Disgust",
          "Happy",
          "Disgust",
          "Angry",
          "Neutral",
          "Disgust",
          "Fearful",
          "Calm",
          "Neutral",
          "Happy",
          "Angry",
          "Angry",
          "Happy",
          "Surprised",
          "Surprised",
          "Calm",
          "Fearful",
          "Sad",
          "Neutral",
          "Fearful",
          "Surprised",
          "Sad",
          "Calm",
          "Surprised",
          "Happy",
          "Calm",
          "Angry",
          "Calm",
          "Sad",
          "Fearful",
          "Happy",
          "Calm",
          "Calm",
          "Fearful",
          "Sad",
          "Disgust",
          "Angry",
          "Sad",
          "Neutral",
          "Happy",
          "Angry",
          "Happy",
          "Sad",
          "Surprised",
          "Fearful",
          "Sad",
          "Happy",
          "Calm",
          "Calm",
          "Calm",
          "Angry",
          "Angry",
          "Sad",
          "Disgust",
          "Surprised",
          "Fearful",
          "Calm",
          "Fearful",
          "Disgust",
          "Calm",
          "Fearful",
          "Happy",
          "Angry",
          "Disgust",
          "Angry",
          "Neutral",
          "Sad",
          "Surprised",
          "Sad",
          "Surprised",
          "Angry",
          "Sad",
          "Angry",
          "Calm",
          "Fearful",
          "Sad",
          "Fearful",
          "Neutral",
          "Surprised",
          "Angry",
          "Surprised",
          "Surprised",
          "Neutral",
          "Fearful",
          "Disgust",
          "Sad",
          "Happy",
          "Disgust",
          "Neutral",
          "Sad",
          "Surprised",
          "Happy",
          "Happy",
          "Fearful",
          "Disgust",
          "Fearful",
          "Calm",
          "Angry",
          "Disgust",
          "Happy",
          "Happy",
          "Happy",
          "Calm",
          "Surprised",
          "Sad",
          "Disgust",
          "Surprised",
          "Neutral",
          "Neutral",
          "Fearful",
          "Sad",
          "Calm",
          "Happy",
          "Angry",
          "Surprised",
          "Angry",
          "Angry",
          "Sad",
          "Calm",
          "Neutral",
          "Fearful",
          "Angry",
          "Neutral",
          "Happy",
          "Fearful",
          "Happy",
          "Sad",
          "Disgust",
          "Calm",
          "Fearful",
          "Sad",
          "Surprised",
          "Angry",
          "Disgust",
          "Disgust",
          "Sad",
          "Angry",
          "Disgust",
          "Fearful",
          "Fearful",
          "Happy",
          "Disgust",
          "Happy",
          "Fearful",
          "Calm",
          "Happy",
          "Happy",
          "Calm",
          "Sad",
          "Disgust",
          "Calm",
          "Disgust",
          "Sad",
          "Calm",
          "Surprised",
          "Disgust",
          "Surprised",
          "Surprised",
          "Angry",
          "Sad",
          "Fearful",
          "Surprised",
          "Angry",
          "Happy",
          "Surprised",
          "Calm",
          "Disgust",
          "Happy",
          "Sad",
          "Sad",
          "Calm",
          "Neutral",
          "Surprised",
          "Happy",
          "Disgust",
          "Sad",
          "Happy",
          "Surprised",
          "Happy",
          "Angry",
          "Angry",
          "Angry",
          "Sad",
          "Fearful",
          "Calm",
          "Calm",
          "Calm",
          "Surprised",
          "Disgust",
          "Disgust",
          "Fearful",
          "Happy",
          "Calm",
          "Calm",
          "Angry",
          "Neutral",
          "Disgust",
          "Angry",
          "Angry",
          "Fearful",
          "Neutral",
          "Surprised",
          "Disgust",
          "Disgust",
          "Angry",
          "Calm",
          "Fearful",
          "Neutral",
          "Sad",
          "Happy",
          "Sad",
          "Fearful",
          "Fearful",
          "Calm",
          "Sad",
          "Disgust",
          "Happy",
          "Angry",
          "Fearful",
          "Surprised",
          "Surprised",
          "Sad",
          "Surprised",
          "Happy",
          "Fearful",
          "Surprised",
          "Sad",
          "Angry",
          "Sad",
          "Calm",
          "Surprised",
          "Neutral",
          "Disgust",
          "Fearful",
          "Calm",
          "Surprised",
          "Neutral",
          "Happy",
          "Disgust",
          "Angry",
          "Calm",
          "Angry",
          "Disgust",
          "Fearful",
          "Calm",
          "Calm",
          "Happy",
          "Surprised",
          "Fearful",
          "Disgust",
          "Surprised",
          "Happy",
          "Happy",
          "Fearful",
          "Sad",
          "Happy",
          "Fearful",
          "Calm",
          "Surprised",
          "Calm",
          "Happy",
          "Fearful",
          "Surprised",
          "Angry",
          "Neutral",
          "Fearful",
          "Angry",
          "Disgust",
          "Happy",
          "Angry",
          "Neutral",
          "Surprised",
          "Disgust",
          "Happy",
          "Sad",
          "Fearful",
          "Disgust",
          "Sad",
          "Sad",
          "Calm",
          "Angry",
          "Disgust",
          "Sad",
          "Sad",
          "Angry",
          "Surprised",
          "Disgust",
          "Disgust",
          "Calm",
          "Fearful",
          "Angry",
          "Happy",
          "Fearful",
          "Disgust",
          "Calm",
          "Fearful",
          "Angry",
          "Sad",
          "Angry",
          "Surprised",
          "Disgust",
          "Fearful",
          "Surprised",
          "Happy",
          "Happy",
          "Fearful",
          "Sad",
          "Sad",
          "Calm",
          "Neutral",
          "Surprised",
          "Angry",
          "Happy",
          "Surprised",
          "Calm",
          "Angry",
          "Disgust",
          "Fearful",
          "Angry",
          "Fearful",
          "Neutral",
          "Happy",
          "Sad",
          "Happy",
          "Sad",
          "Calm",
          "Disgust",
          "Angry",
          "Surprised",
          "Surprised",
          "Happy",
          "Surprised",
          "Calm",
          "Sad",
          "Calm",
          "Calm",
          "Angry",
          "Surprised",
          "Happy",
          "Sad",
          "Neutral",
          "Disgust",
          "Fearful",
          "Neutral",
          "Disgust",
          "Sad",
          "Sad",
          "Neutral",
          "Sad",
          "Fearful",
          "Fearful",
          "Disgust",
          "Disgust",
          "Calm",
          "Happy",
          "Sad",
          "Sad",
          "Neutral",
          "Happy",
          "Calm",
          "Happy",
          "Surprised",
          "Angry",
          "Fearful",
          "Happy",
          "Surprised",
          "Sad",
          "Calm",
          "Angry",
          "Angry",
          "Surprised",
          "Sad",
          "Calm",
          "Calm",
          "Surprised",
          "Fearful",
          "Angry",
          "Angry",
          "Surprised",
          "Surprised",
          "Angry",
          "Surprised",
          "Fearful",
          "Sad",
          "Fearful",
          "Calm",
          "Sad",
          "Neutral",
          "Disgust",
          "Surprised",
          "Neutral",
          "Happy",
          "Calm",
          "Disgust",
          "Calm",
          "Angry",
          "Happy",
          "Fearful",
          "Angry",
          "Disgust",
          "Disgust",
          "Disgust",
          "Happy",
          "Disgust",
          "Fearful",
          "Happy",
          "Fearful",
          "Angry",
          "Surprised",
          "Angry",
          "Fearful",
          "Angry",
          "Neutral",
          "Happy",
          "Angry",
          "Fearful",
          "Angry",
          "Happy",
          "Calm",
          "Sad",
          "Surprised",
          "Surprised",
          "Surprised",
          "Sad",
          "Sad",
          "Fearful",
          "Disgust",
          "Happy",
          "Angry",
          "Sad",
          "Calm",
          "Fearful",
          "Fearful",
          "Surprised",
          "Disgust",
          "Disgust",
          "Calm",
          "Calm",
          "Sad",
          "Happy",
          "Surprised",
          "Happy",
          "Happy",
          "Angry",
          "Disgust",
          "Fearful",
          "Sad",
          "Disgust",
          "Sad",
          "Surprised",
          "Disgust",
          "Neutral",
          "Calm",
          "Surprised",
          "Disgust",
          "Sad",
          "Calm",
          "Happy",
          "Happy",
          "Calm",
          "Neutral",
          "Calm",
          "Fearful",
          "Angry",
          "Neutral",
          "Disgust",
          "Angry",
          "Surprised",
          "Calm",
          "Angry",
          "Angry",
          "Calm",
          "Happy",
          "Sad",
          "Surprised",
          "Neutral",
          "Happy",
          "Fearful",
          "Neutral",
          "Happy",
          "Angry",
          "Fearful",
          "Disgust",
          "Neutral",
          "Fearful",
          "Disgust",
          "Fearful",
          "Calm",
          "Disgust",
          "Calm",
          "Happy",
          "Sad",
          "Happy",
          "Disgust",
          "Fearful",
          "Disgust",
          "Angry",
          "Fearful",
          "Disgust",
          "Disgust",
          "Sad",
          "Disgust",
          "Sad",
          "Calm",
          "Neutral",
          "Calm",
          "Fearful",
          "Sad",
          "Surprised",
          "Happy",
          "Surprised",
          "Calm",
          "Happy",
          "Surprised",
          "Surprised",
          "Angry",
          "Sad",
          "Happy",
          "Fearful",
          "Surprised",
          "Calm",
          "Angry",
          "Angry",
          "Sad",
          "Surprised",
          "Sad",
          "Disgust",
          "Angry",
          "Happy",
          "Fearful",
          "Happy",
          "Fearful",
          "Sad",
          "Fearful",
          "Fearful",
          "Sad",
          "Disgust",
          "Angry",
          "Disgust",
          "Calm",
          "Angry",
          "Neutral",
          "Fearful",
          "Angry",
          "Happy",
          "Angry",
          "Angry",
          "Sad",
          "Neutral",
          "Sad",
          "Calm",
          "Surprised",
          "Disgust",
          "Surprised",
          "Surprised",
          "Calm",
          "Neutral",
          "Angry",
          "Angry",
          "Calm",
          "Calm",
          "Sad",
          "Calm",
          "Happy",
          "Surprised",
          "Calm",
          "Sad",
          "Fearful",
          "Surprised",
          "Sad",
          "Happy",
          "Sad",
          "Neutral",
          "Happy",
          "Fearful",
          "Disgust",
          "Surprised",
          "Happy",
          "Surprised",
          "Disgust",
          "Surprised",
          "Fearful",
          "Calm",
          "Disgust",
          "Happy",
          "Disgust",
          "Angry",
          "Calm",
          "Sad",
          "Fearful",
          "Disgust",
          "Fearful",
          "Angry",
          "Surprised",
          "Fearful",
          "Happy",
          "Surprised",
          "Happy",
          "Sad",
          "Calm",
          "Disgust",
          "Disgust",
          "Surprised",
          "Calm",
          "Calm",
          "Calm",
          "Neutral",
          "Disgust",
          "Happy",
          "Happy",
          "Fearful",
          "Disgust",
          "Angry",
          "Surprised",
          "Sad",
          "Calm",
          "Surprised",
          "Surprised",
          "Neutral",
          "Fearful",
          "Fearful",
          "Calm",
          "Surprised",
          "Happy",
          "Happy",
          "Sad",
          "Angry",
          "Angry",
          "Angry",
          "Disgust",
          "Disgust",
          "Sad",
          "Neutral",
          "Neutral",
          "Happy",
          "Fearful",
          "Angry",
          "Sad",
          "Fearful",
          "Surprised",
          "Happy",
          "Disgust",
          "Calm",
          "Angry",
          "Sad",
          "Sad",
          "Sad",
          "Happy",
          "Neutral",
          "Calm",
          "Angry",
          "Disgust",
          "Surprised",
          "Sad",
          "Angry",
          "Calm",
          "Fearful",
          "Happy",
          "Angry",
          "Fearful",
          "Sad",
          "Disgust",
          "Surprised",
          "Happy",
          "Sad",
          "Surprised",
          "Sad",
          "Happy",
          "Neutral",
          "Fearful",
          "Sad",
          "Fearful",
          "Surprised",
          "Fearful",
          "Angry",
          "Happy",
          "Calm",
          "Disgust",
          "Sad",
          "Fearful",
          "Fearful",
          "Disgust",
          "Calm",
          "Sad",
          "Disgust",
          "Calm",
          "Angry",
          "Disgust",
          "Surprised",
          "Calm",
          "Neutral",
          "Surprised",
          "Angry",
          "Calm",
          "Surprised",
          "Happy",
          "Calm",
          "Disgust",
          "Angry",
          "Neutral",
          "Surprised",
          "Angry",
          "Happy",
          "Happy",
          "Fearful",
          "Disgust",
          "Calm",
          "Angry",
          "Angry",
          "Happy",
          "Surprised",
          "Calm",
          "Fearful",
          "Neutral",
          "Happy",
          "Happy",
          "Neutral",
          "Happy",
          "Sad",
          "Sad",
          "Fearful",
          "Disgust",
          "Fearful",
          "Angry",
          "Surprised",
          "Fearful",
          "Surprised",
          "Happy",
          "Angry",
          "Surprised",
          "Sad",
          "Surprised",
          "Disgust",
          "Angry",
          "Sad",
          "Fearful",
          "Calm",
          "Calm",
          "Disgust",
          "Disgust",
          "Fearful",
          "Fearful",
          "Surprised",
          "Sad",
          "Angry",
          "Calm",
          "Calm",
          "Disgust",
          "Fearful",
          "Calm",
          "Calm",
          "Surprised",
          "Happy",
          "Sad",
          "Angry",
          "Disgust",
          "Neutral",
          "Happy",
          "Disgust",
          "Neutral",
          "Surprised",
          "Sad",
          "Happy",
          "Disgust",
          "Sad",
          "Angry",
          "Calm",
          "Sad",
          "Calm",
          "Happy",
          "Fearful",
          "Sad",
          "Happy",
          "Angry",
          "Neutral",
          "Angry",
          "Fearful",
          "Disgust",
          "Surprised",
          "Angry",
          "Calm",
          "Fearful",
          "Surprised",
          "Neutral",
          "Calm",
          "Surprised",
          "Sad",
          "Happy",
          "Fearful",
          "Sad",
          "Disgust",
          "Happy",
          "Happy",
          "Fearful",
          "Happy",
          "Angry",
          "Fearful",
          "Happy",
          "Angry",
          "Disgust",
          "Surprised",
          "Angry",
          "Disgust",
          "Angry",
          "Sad",
          "Sad",
          "Calm",
          "Calm",
          "Calm",
          "Surprised",
          "Sad",
          "Fearful",
          "Disgust",
          "Neutral",
          "Surprised",
          "Fearful",
          "Calm",
          "Neutral",
          "Disgust",
          "Happy",
          "Surprised",
          "Angry",
          "Surprised",
          "Disgust",
          "Disgust",
          "Sad",
          "Surprised",
          "Happy",
          "Disgust",
          "Neutral",
          "Calm",
          "Sad",
          "Angry",
          "Happy",
          "Happy",
          "Fearful",
          "Neutral",
          "Disgust",
          "Disgust",
          "Disgust",
          "Angry",
          "Sad",
          "Sad",
          "Calm",
          "Fearful",
          "Calm",
          "Surprised",
          "Sad",
          "Calm",
          "Happy",
          "Surprised",
          "Calm",
          "Neutral",
          "Happy",
          "Surprised",
          "Disgust",
          "Fearful",
          "Disgust",
          "Surprised",
          "Angry",
          "Happy",
          "Angry",
          "Calm",
          "Fearful",
          "Happy",
          "Angry",
          "Sad",
          "Fearful",
          "Happy",
          "Surprised",
          "Surprised",
          "Fearful",
          "Neutral",
          "Fearful",
          "Calm",
          "Angry",
          "Sad",
          "Sad",
          "Disgust",
          "Fearful",
          "Disgust",
          "Angry",
          "Calm",
          "Angry",
          "Surprised",
          "Sad",
          "Happy",
          "Sad",
          "Neutral",
          "Neutral",
          "Neutral",
          "Disgust",
          "Happy",
          "Sad",
          "Fearful",
          "Happy",
          "Sad",
          "Surprised",
          "Fearful",
          "Surprised",
          "Sad",
          "Sad",
          "Fearful",
          "Surprised",
          "Fearful",
          "Angry",
          "Neutral",
          "Disgust",
          "Calm",
          "Happy",
          "Disgust",
          "Fearful",
          "Calm",
          "Happy",
          "Angry",
          "Happy",
          "Angry",
          "Calm",
          "Angry",
          "Surprised",
          "Angry",
          "Surprised",
          "Surprised",
          "Calm",
          "Fearful",
          "Disgust",
          "Sad",
          "Disgust",
          "Calm",
          "Calm",
          "Fearful",
          "Sad",
          "Sad",
          "Angry",
          "Disgust",
          "Happy",
          "Angry",
          "Disgust",
          "Surprised",
          "Happy",
          "Angry",
          "Calm",
          "Calm",
          "Surprised",
          "Disgust",
          "Fearful",
          "Happy",
          "Disgust",
          "Disgust",
          "Disgust",
          "Fearful",
          "Happy",
          "Sad",
          "Disgust",
          "Neutral",
          "Happy",
          "Neutral",
          "Fearful",
          "Calm",
          "Surprised",
          "Disgust",
          "Surprised",
          "Fearful",
          "Angry",
          "Happy",
          "Angry",
          "Disgust",
          "Angry",
          "Surprised",
          "Angry",
          "Surprised",
          "Fearful",
          "Neutral",
          "Angry",
          "Surprised",
          "Sad",
          "Surprised",
          "Calm",
          "Disgust",
          "Calm",
          "Happy",
          "Surprised",
          "Calm",
          "Happy",
          "Fearful",
          "Neutral",
          "Calm",
          "Fearful",
          "Sad",
          "Angry",
          "Calm",
          "Angry",
          "Disgust",
          "Happy",
          "Calm",
          "Sad",
          "Sad",
          "Sad",
          "Surprised",
          "Calm",
          "Angry",
          "Sad",
          "Fearful",
          "Happy",
          "Fearful",
          "Sad",
          "Sad",
          "Calm",
          "Disgust",
          "Surprised",
          "Calm",
          "Fearful",
          "Angry",
          "Fearful",
          "Calm",
          "Angry",
          "Angry",
          "Happy",
          "Angry",
          "Disgust",
          "Disgust",
          "Fearful",
          "Fearful",
          "Calm",
          "Surprised",
          "Surprised",
          "Sad",
          "Happy",
          "Disgust",
          "Sad",
          "Sad",
          "Angry",
          "Sad",
          "Happy",
          "Fearful",
          "Sad",
          "Neutral",
          "Happy",
          "Happy",
          "Neutral",
          "Calm",
          "Disgust",
          "Happy",
          "Calm",
          "Angry",
          "Disgust",
          "Angry",
          "Surprised",
          "Angry",
          "Calm",
          "Fearful",
          "Happy",
          "Surprised",
          "Disgust",
          "Sad",
          "Neutral",
          "Fearful",
          "Fearful",
          "Neutral",
          "Surprised",
          "Sad",
          "Surprised",
          "Happy",
          "Surprised",
          "Calm",
          "Disgust",
          "Calm",
          "Calm",
          "Neutral",
          "Angry",
          "Surprised",
          "Surprised",
          "Happy",
          "Sad",
          "Disgust",
          "Angry",
          "Neutral",
          "Calm",
          "Calm",
          "Sad",
          "Happy",
          "Fearful",
          "Disgust",
          "Sad",
          "Disgust",
          "Happy",
          "Surprised",
          "Angry",
          "Disgust",
          "Fearful",
          "Surprised",
          "Sad",
          "Angry",
          "Neutral",
          "Happy",
          "Sad",
          "Angry",
          "Fearful",
          "Neutral",
          "Calm",
          "Sad",
          "Happy",
          "Happy",
          "Fearful",
          "Happy",
          "Disgust",
          "Disgust",
          "Fearful",
          "Angry",
          "Calm",
          "Disgust",
          "Calm",
          "Sad",
          "Angry",
          "Fearful",
          "Surprised",
          "Calm",
          "Fearful",
          "Sad",
          "Happy",
          "Surprised",
          "Surprised",
          "Angry",
          "Surprised",
          "Disgust",
          "Fearful"
         ],
         "xaxis": "x",
         "yaxis": "y"
        }
       ],
       "layout": {
        "barmode": "relative",
        "legend": {
         "tracegroupgap": 0
        },
        "showlegend": false,
        "template": {
         "data": {
          "bar": [
           {
            "error_x": {
             "color": "#2a3f5f"
            },
            "error_y": {
             "color": "#2a3f5f"
            },
            "marker": {
             "line": {
              "color": "#E5ECF6",
              "width": 0.5
             },
             "pattern": {
              "fillmode": "overlay",
              "size": 10,
              "solidity": 0.2
             }
            },
            "type": "bar"
           }
          ],
          "barpolar": [
           {
            "marker": {
             "line": {
              "color": "#E5ECF6",
              "width": 0.5
             },
             "pattern": {
              "fillmode": "overlay",
              "size": 10,
              "solidity": 0.2
             }
            },
            "type": "barpolar"
           }
          ],
          "carpet": [
           {
            "aaxis": {
             "endlinecolor": "#2a3f5f",
             "gridcolor": "white",
             "linecolor": "white",
             "minorgridcolor": "white",
             "startlinecolor": "#2a3f5f"
            },
            "baxis": {
             "endlinecolor": "#2a3f5f",
             "gridcolor": "white",
             "linecolor": "white",
             "minorgridcolor": "white",
             "startlinecolor": "#2a3f5f"
            },
            "type": "carpet"
           }
          ],
          "choropleth": [
           {
            "colorbar": {
             "outlinewidth": 0,
             "ticks": ""
            },
            "type": "choropleth"
           }
          ],
          "contour": [
           {
            "colorbar": {
             "outlinewidth": 0,
             "ticks": ""
            },
            "colorscale": [
             [
              0,
              "#0d0887"
             ],
             [
              0.1111111111111111,
              "#46039f"
             ],
             [
              0.2222222222222222,
              "#7201a8"
             ],
             [
              0.3333333333333333,
              "#9c179e"
             ],
             [
              0.4444444444444444,
              "#bd3786"
             ],
             [
              0.5555555555555556,
              "#d8576b"
             ],
             [
              0.6666666666666666,
              "#ed7953"
             ],
             [
              0.7777777777777778,
              "#fb9f3a"
             ],
             [
              0.8888888888888888,
              "#fdca26"
             ],
             [
              1,
              "#f0f921"
             ]
            ],
            "type": "contour"
           }
          ],
          "contourcarpet": [
           {
            "colorbar": {
             "outlinewidth": 0,
             "ticks": ""
            },
            "type": "contourcarpet"
           }
          ],
          "heatmap": [
           {
            "colorbar": {
             "outlinewidth": 0,
             "ticks": ""
            },
            "colorscale": [
             [
              0,
              "#0d0887"
             ],
             [
              0.1111111111111111,
              "#46039f"
             ],
             [
              0.2222222222222222,
              "#7201a8"
             ],
             [
              0.3333333333333333,
              "#9c179e"
             ],
             [
              0.4444444444444444,
              "#bd3786"
             ],
             [
              0.5555555555555556,
              "#d8576b"
             ],
             [
              0.6666666666666666,
              "#ed7953"
             ],
             [
              0.7777777777777778,
              "#fb9f3a"
             ],
             [
              0.8888888888888888,
              "#fdca26"
             ],
             [
              1,
              "#f0f921"
             ]
            ],
            "type": "heatmap"
           }
          ],
          "heatmapgl": [
           {
            "colorbar": {
             "outlinewidth": 0,
             "ticks": ""
            },
            "colorscale": [
             [
              0,
              "#0d0887"
             ],
             [
              0.1111111111111111,
              "#46039f"
             ],
             [
              0.2222222222222222,
              "#7201a8"
             ],
             [
              0.3333333333333333,
              "#9c179e"
             ],
             [
              0.4444444444444444,
              "#bd3786"
             ],
             [
              0.5555555555555556,
              "#d8576b"
             ],
             [
              0.6666666666666666,
              "#ed7953"
             ],
             [
              0.7777777777777778,
              "#fb9f3a"
             ],
             [
              0.8888888888888888,
              "#fdca26"
             ],
             [
              1,
              "#f0f921"
             ]
            ],
            "type": "heatmapgl"
           }
          ],
          "histogram": [
           {
            "marker": {
             "pattern": {
              "fillmode": "overlay",
              "size": 10,
              "solidity": 0.2
             }
            },
            "type": "histogram"
           }
          ],
          "histogram2d": [
           {
            "colorbar": {
             "outlinewidth": 0,
             "ticks": ""
            },
            "colorscale": [
             [
              0,
              "#0d0887"
             ],
             [
              0.1111111111111111,
              "#46039f"
             ],
             [
              0.2222222222222222,
              "#7201a8"
             ],
             [
              0.3333333333333333,
              "#9c179e"
             ],
             [
              0.4444444444444444,
              "#bd3786"
             ],
             [
              0.5555555555555556,
              "#d8576b"
             ],
             [
              0.6666666666666666,
              "#ed7953"
             ],
             [
              0.7777777777777778,
              "#fb9f3a"
             ],
             [
              0.8888888888888888,
              "#fdca26"
             ],
             [
              1,
              "#f0f921"
             ]
            ],
            "type": "histogram2d"
           }
          ],
          "histogram2dcontour": [
           {
            "colorbar": {
             "outlinewidth": 0,
             "ticks": ""
            },
            "colorscale": [
             [
              0,
              "#0d0887"
             ],
             [
              0.1111111111111111,
              "#46039f"
             ],
             [
              0.2222222222222222,
              "#7201a8"
             ],
             [
              0.3333333333333333,
              "#9c179e"
             ],
             [
              0.4444444444444444,
              "#bd3786"
             ],
             [
              0.5555555555555556,
              "#d8576b"
             ],
             [
              0.6666666666666666,
              "#ed7953"
             ],
             [
              0.7777777777777778,
              "#fb9f3a"
             ],
             [
              0.8888888888888888,
              "#fdca26"
             ],
             [
              1,
              "#f0f921"
             ]
            ],
            "type": "histogram2dcontour"
           }
          ],
          "mesh3d": [
           {
            "colorbar": {
             "outlinewidth": 0,
             "ticks": ""
            },
            "type": "mesh3d"
           }
          ],
          "parcoords": [
           {
            "line": {
             "colorbar": {
              "outlinewidth": 0,
              "ticks": ""
             }
            },
            "type": "parcoords"
           }
          ],
          "pie": [
           {
            "automargin": true,
            "type": "pie"
           }
          ],
          "scatter": [
           {
            "fillpattern": {
             "fillmode": "overlay",
             "size": 10,
             "solidity": 0.2
            },
            "type": "scatter"
           }
          ],
          "scatter3d": [
           {
            "line": {
             "colorbar": {
              "outlinewidth": 0,
              "ticks": ""
             }
            },
            "marker": {
             "colorbar": {
              "outlinewidth": 0,
              "ticks": ""
             }
            },
            "type": "scatter3d"
           }
          ],
          "scattercarpet": [
           {
            "marker": {
             "colorbar": {
              "outlinewidth": 0,
              "ticks": ""
             }
            },
            "type": "scattercarpet"
           }
          ],
          "scattergeo": [
           {
            "marker": {
             "colorbar": {
              "outlinewidth": 0,
              "ticks": ""
             }
            },
            "type": "scattergeo"
           }
          ],
          "scattergl": [
           {
            "marker": {
             "colorbar": {
              "outlinewidth": 0,
              "ticks": ""
             }
            },
            "type": "scattergl"
           }
          ],
          "scattermapbox": [
           {
            "marker": {
             "colorbar": {
              "outlinewidth": 0,
              "ticks": ""
             }
            },
            "type": "scattermapbox"
           }
          ],
          "scatterpolar": [
           {
            "marker": {
             "colorbar": {
              "outlinewidth": 0,
              "ticks": ""
             }
            },
            "type": "scatterpolar"
           }
          ],
          "scatterpolargl": [
           {
            "marker": {
             "colorbar": {
              "outlinewidth": 0,
              "ticks": ""
             }
            },
            "type": "scatterpolargl"
           }
          ],
          "scatterternary": [
           {
            "marker": {
             "colorbar": {
              "outlinewidth": 0,
              "ticks": ""
             }
            },
            "type": "scatterternary"
           }
          ],
          "surface": [
           {
            "colorbar": {
             "outlinewidth": 0,
             "ticks": ""
            },
            "colorscale": [
             [
              0,
              "#0d0887"
             ],
             [
              0.1111111111111111,
              "#46039f"
             ],
             [
              0.2222222222222222,
              "#7201a8"
             ],
             [
              0.3333333333333333,
              "#9c179e"
             ],
             [
              0.4444444444444444,
              "#bd3786"
             ],
             [
              0.5555555555555556,
              "#d8576b"
             ],
             [
              0.6666666666666666,
              "#ed7953"
             ],
             [
              0.7777777777777778,
              "#fb9f3a"
             ],
             [
              0.8888888888888888,
              "#fdca26"
             ],
             [
              1,
              "#f0f921"
             ]
            ],
            "type": "surface"
           }
          ],
          "table": [
           {
            "cells": {
             "fill": {
              "color": "#EBF0F8"
             },
             "line": {
              "color": "white"
             }
            },
            "header": {
             "fill": {
              "color": "#C8D4E3"
             },
             "line": {
              "color": "white"
             }
            },
            "type": "table"
           }
          ]
         },
         "layout": {
          "annotationdefaults": {
           "arrowcolor": "#2a3f5f",
           "arrowhead": 0,
           "arrowwidth": 1
          },
          "autotypenumbers": "strict",
          "coloraxis": {
           "colorbar": {
            "outlinewidth": 0,
            "ticks": ""
           }
          },
          "colorscale": {
           "diverging": [
            [
             0,
             "#8e0152"
            ],
            [
             0.1,
             "#c51b7d"
            ],
            [
             0.2,
             "#de77ae"
            ],
            [
             0.3,
             "#f1b6da"
            ],
            [
             0.4,
             "#fde0ef"
            ],
            [
             0.5,
             "#f7f7f7"
            ],
            [
             0.6,
             "#e6f5d0"
            ],
            [
             0.7,
             "#b8e186"
            ],
            [
             0.8,
             "#7fbc41"
            ],
            [
             0.9,
             "#4d9221"
            ],
            [
             1,
             "#276419"
            ]
           ],
           "sequential": [
            [
             0,
             "#0d0887"
            ],
            [
             0.1111111111111111,
             "#46039f"
            ],
            [
             0.2222222222222222,
             "#7201a8"
            ],
            [
             0.3333333333333333,
             "#9c179e"
            ],
            [
             0.4444444444444444,
             "#bd3786"
            ],
            [
             0.5555555555555556,
             "#d8576b"
            ],
            [
             0.6666666666666666,
             "#ed7953"
            ],
            [
             0.7777777777777778,
             "#fb9f3a"
            ],
            [
             0.8888888888888888,
             "#fdca26"
            ],
            [
             1,
             "#f0f921"
            ]
           ],
           "sequentialminus": [
            [
             0,
             "#0d0887"
            ],
            [
             0.1111111111111111,
             "#46039f"
            ],
            [
             0.2222222222222222,
             "#7201a8"
            ],
            [
             0.3333333333333333,
             "#9c179e"
            ],
            [
             0.4444444444444444,
             "#bd3786"
            ],
            [
             0.5555555555555556,
             "#d8576b"
            ],
            [
             0.6666666666666666,
             "#ed7953"
            ],
            [
             0.7777777777777778,
             "#fb9f3a"
            ],
            [
             0.8888888888888888,
             "#fdca26"
            ],
            [
             1,
             "#f0f921"
            ]
           ]
          },
          "colorway": [
           "#636efa",
           "#EF553B",
           "#00cc96",
           "#ab63fa",
           "#FFA15A",
           "#19d3f3",
           "#FF6692",
           "#B6E880",
           "#FF97FF",
           "#FECB52"
          ],
          "font": {
           "color": "#2a3f5f"
          },
          "geo": {
           "bgcolor": "white",
           "lakecolor": "white",
           "landcolor": "#E5ECF6",
           "showlakes": true,
           "showland": true,
           "subunitcolor": "white"
          },
          "hoverlabel": {
           "align": "left"
          },
          "hovermode": "closest",
          "mapbox": {
           "style": "light"
          },
          "paper_bgcolor": "white",
          "plot_bgcolor": "#E5ECF6",
          "polar": {
           "angularaxis": {
            "gridcolor": "white",
            "linecolor": "white",
            "ticks": ""
           },
           "bgcolor": "#E5ECF6",
           "radialaxis": {
            "gridcolor": "white",
            "linecolor": "white",
            "ticks": ""
           }
          },
          "scene": {
           "xaxis": {
            "backgroundcolor": "#E5ECF6",
            "gridcolor": "white",
            "gridwidth": 2,
            "linecolor": "white",
            "showbackground": true,
            "ticks": "",
            "zerolinecolor": "white"
           },
           "yaxis": {
            "backgroundcolor": "#E5ECF6",
            "gridcolor": "white",
            "gridwidth": 2,
            "linecolor": "white",
            "showbackground": true,
            "ticks": "",
            "zerolinecolor": "white"
           },
           "zaxis": {
            "backgroundcolor": "#E5ECF6",
            "gridcolor": "white",
            "gridwidth": 2,
            "linecolor": "white",
            "showbackground": true,
            "ticks": "",
            "zerolinecolor": "white"
           }
          },
          "shapedefaults": {
           "line": {
            "color": "#2a3f5f"
           }
          },
          "ternary": {
           "aaxis": {
            "gridcolor": "white",
            "linecolor": "white",
            "ticks": ""
           },
           "baxis": {
            "gridcolor": "white",
            "linecolor": "white",
            "ticks": ""
           },
           "bgcolor": "#E5ECF6",
           "caxis": {
            "gridcolor": "white",
            "linecolor": "white",
            "ticks": ""
           }
          },
          "title": {
           "x": 0.05
          },
          "xaxis": {
           "automargin": true,
           "gridcolor": "white",
           "linecolor": "white",
           "ticks": "",
           "title": {
            "standoff": 15
           },
           "zerolinecolor": "white",
           "zerolinewidth": 2
          },
          "yaxis": {
           "automargin": true,
           "gridcolor": "white",
           "linecolor": "white",
           "ticks": "",
           "title": {
            "standoff": 15
           },
           "zerolinecolor": "white",
           "zerolinewidth": 2
          }
         }
        },
        "title": {
         "text": "Total number of emotions"
        },
        "xaxis": {
         "anchor": "y",
         "domain": [
          0,
          1
         ],
         "title": {
          "text": "Emotions"
         }
        },
        "yaxis": {
         "anchor": "x",
         "domain": [
          0,
          1
         ],
         "title": {
          "text": "Count"
         }
        }
       }
      },
      "text/html": [
       "<div>                            <div id=\"65aed645-bf77-475e-914b-5b639e4cf47a\" class=\"plotly-graph-div\" style=\"height:525px; width:100%;\"></div>            <script type=\"text/javascript\">                require([\"plotly\"], function(Plotly) {                    window.PLOTLYENV=window.PLOTLYENV || {};                                    if (document.getElementById(\"65aed645-bf77-475e-914b-5b639e4cf47a\")) {                    Plotly.newPlot(                        \"65aed645-bf77-475e-914b-5b639e4cf47a\",                        [{\"alignmentgroup\":\"True\",\"bingroup\":\"x\",\"hovertemplate\":\"Emotions=%{x}<br>count=%{y}<extra></extra>\",\"legendgroup\":\"\",\"marker\":{\"color\":\"#636efa\",\"pattern\":{\"shape\":\"\"}},\"name\":\"\",\"offsetgroup\":\"\",\"orientation\":\"v\",\"showlegend\":false,\"x\":[\"Surprised\",\"Happy\",\"Calm\",\"Happy\",\"Surprised\",\"Happy\",\"Disgust\",\"Angry\",\"Sad\",\"Neutral\",\"Fearful\",\"Neutral\",\"Fearful\",\"Fearful\",\"Calm\",\"Disgust\",\"Sad\",\"Disgust\",\"Fearful\",\"Fearful\",\"Surprised\",\"Disgust\",\"Happy\",\"Surprised\",\"Neutral\",\"Surprised\",\"Angry\",\"Happy\",\"Calm\",\"Angry\",\"Calm\",\"Surprised\",\"Angry\",\"Surprised\",\"Happy\",\"Happy\",\"Sad\",\"Disgust\",\"Fearful\",\"Angry\",\"Sad\",\"Calm\",\"Fearful\",\"Disgust\",\"Fearful\",\"Sad\",\"Neutral\",\"Angry\",\"Calm\",\"Disgust\",\"Disgust\",\"Sad\",\"Angry\",\"Angry\",\"Happy\",\"Sad\",\"Sad\",\"Calm\",\"Surprised\",\"Calm\",\"Sad\",\"Sad\",\"Disgust\",\"Sad\",\"Neutral\",\"Disgust\",\"Surprised\",\"Surprised\",\"Fearful\",\"Angry\",\"Happy\",\"Fearful\",\"Sad\",\"Disgust\",\"Disgust\",\"Calm\",\"Fearful\",\"Angry\",\"Fearful\",\"Surprised\",\"Angry\",\"Neutral\",\"Angry\",\"Sad\",\"Happy\",\"Disgust\",\"Calm\",\"Calm\",\"Angry\",\"Angry\",\"Calm\",\"Neutral\",\"Happy\",\"Disgust\",\"Surprised\",\"Happy\",\"Calm\",\"Angry\",\"Happy\",\"Fearful\",\"Happy\",\"Fearful\",\"Angry\",\"Happy\",\"Sad\",\"Surprised\",\"Surprised\",\"Disgust\",\"Surprised\",\"Surprised\",\"Calm\",\"Neutral\",\"Sad\",\"Fearful\",\"Calm\",\"Happy\",\"Calm\",\"Fearful\",\"Sad\",\"Disgust\",\"Calm\",\"Angry\",\"Angry\",\"Sad\",\"Surprised\",\"Disgust\",\"Fearful\",\"Happy\",\"Happy\",\"Disgust\",\"Happy\",\"Fearful\",\"Disgust\",\"Angry\",\"Angry\",\"Happy\",\"Neutral\",\"Fearful\",\"Disgust\",\"Happy\",\"Sad\",\"Fearful\",\"Happy\",\"Sad\",\"Happy\",\"Calm\",\"Happy\",\"Fearful\",\"Surprised\",\"Fearful\",\"Calm\",\"Surprised\",\"Sad\",\"Fearful\",\"Neutral\",\"Angry\",\"Surprised\",\"Surprised\",\"Angry\",\"Calm\",\"Disgust\",\"Angry\",\"Disgust\",\"Surprised\",\"Disgust\",\"Calm\",\"Calm\",\"Surprised\",\"Angry\",\"Fearful\",\"Disgust\",\"Sad\",\"Sad\",\"Sad\",\"Calm\",\"Neutral\",\"Sad\",\"Surprised\",\"Calm\",\"Neutral\",\"Sad\",\"Sad\",\"Surprised\",\"Disgust\",\"Fearful\",\"Calm\",\"Surprised\",\"Surprised\",\"Happy\",\"Surprised\",\"Sad\",\"Disgust\",\"Calm\",\"Fearful\",\"Neutral\",\"Surprised\",\"Disgust\",\"Angry\",\"Calm\",\"Happy\",\"Fearful\",\"Happy\",\"Sad\",\"Calm\",\"Disgust\",\"Angry\",\"Fearful\",\"Calm\",\"Angry\",\"Calm\",\"Sad\",\"Sad\",\"Happy\",\"Fearful\",\"Happy\",\"Angry\",\"Disgust\",\"Calm\",\"Happy\",\"Angry\",\"Neutral\",\"Angry\",\"Fearful\",\"Neutral\",\"Sad\",\"Disgust\",\"Happy\",\"Surprised\",\"Calm\",\"Fearful\",\"Disgust\",\"Angry\",\"Sad\",\"Surprised\",\"Fearful\",\"Happy\",\"Disgust\",\"Neutral\",\"Surprised\",\"Angry\",\"Surprised\",\"Sad\",\"Surprised\",\"Disgust\",\"Fearful\",\"Disgust\",\"Angry\",\"Disgust\",\"Surprised\",\"Sad\",\"Fearful\",\"Fearful\",\"Fearful\",\"Calm\",\"Angry\",\"Happy\",\"Surprised\",\"Fearful\",\"Disgust\",\"Sad\",\"Happy\",\"Happy\",\"Angry\",\"Happy\",\"Calm\",\"Happy\",\"Neutral\",\"Surprised\",\"Disgust\",\"Fearful\",\"Happy\",\"Calm\",\"Calm\",\"Happy\",\"Angry\",\"Sad\",\"Sad\",\"Sad\",\"Fearful\",\"Calm\",\"Sad\",\"Disgust\",\"Neutral\",\"Fearful\",\"Angry\",\"Disgust\",\"Disgust\",\"Calm\",\"Happy\",\"Neutral\",\"Calm\",\"Surprised\",\"Angry\",\"Calm\",\"Angry\",\"Surprised\",\"Surprised\",\"Sad\",\"Angry\",\"Neutral\",\"Angry\",\"Sad\",\"Surprised\",\"Disgust\",\"Surprised\",\"Calm\",\"Disgust\",\"Surprised\",\"Disgust\",\"Disgust\",\"Fearful\",\"Angry\",\"Happy\",\"Fearful\",\"Disgust\",\"Happy\",\"Disgust\",\"Angry\",\"Neutral\",\"Disgust\",\"Fearful\",\"Calm\",\"Neutral\",\"Happy\",\"Angry\",\"Angry\",\"Happy\",\"Surprised\",\"Surprised\",\"Calm\",\"Fearful\",\"Sad\",\"Neutral\",\"Fearful\",\"Surprised\",\"Sad\",\"Calm\",\"Surprised\",\"Happy\",\"Calm\",\"Angry\",\"Calm\",\"Sad\",\"Fearful\",\"Happy\",\"Calm\",\"Calm\",\"Fearful\",\"Sad\",\"Disgust\",\"Angry\",\"Sad\",\"Neutral\",\"Happy\",\"Angry\",\"Happy\",\"Sad\",\"Surprised\",\"Fearful\",\"Sad\",\"Happy\",\"Calm\",\"Calm\",\"Calm\",\"Angry\",\"Angry\",\"Sad\",\"Disgust\",\"Surprised\",\"Fearful\",\"Calm\",\"Fearful\",\"Disgust\",\"Calm\",\"Fearful\",\"Happy\",\"Angry\",\"Disgust\",\"Angry\",\"Neutral\",\"Sad\",\"Surprised\",\"Sad\",\"Surprised\",\"Angry\",\"Sad\",\"Angry\",\"Calm\",\"Fearful\",\"Sad\",\"Fearful\",\"Neutral\",\"Surprised\",\"Angry\",\"Surprised\",\"Surprised\",\"Neutral\",\"Fearful\",\"Disgust\",\"Sad\",\"Happy\",\"Disgust\",\"Neutral\",\"Sad\",\"Surprised\",\"Happy\",\"Happy\",\"Fearful\",\"Disgust\",\"Fearful\",\"Calm\",\"Angry\",\"Disgust\",\"Happy\",\"Happy\",\"Happy\",\"Calm\",\"Surprised\",\"Sad\",\"Disgust\",\"Surprised\",\"Neutral\",\"Neutral\",\"Fearful\",\"Sad\",\"Calm\",\"Happy\",\"Angry\",\"Surprised\",\"Angry\",\"Angry\",\"Sad\",\"Calm\",\"Neutral\",\"Fearful\",\"Angry\",\"Neutral\",\"Happy\",\"Fearful\",\"Happy\",\"Sad\",\"Disgust\",\"Calm\",\"Fearful\",\"Sad\",\"Surprised\",\"Angry\",\"Disgust\",\"Disgust\",\"Sad\",\"Angry\",\"Disgust\",\"Fearful\",\"Fearful\",\"Happy\",\"Disgust\",\"Happy\",\"Fearful\",\"Calm\",\"Happy\",\"Happy\",\"Calm\",\"Sad\",\"Disgust\",\"Calm\",\"Disgust\",\"Sad\",\"Calm\",\"Surprised\",\"Disgust\",\"Surprised\",\"Surprised\",\"Angry\",\"Sad\",\"Fearful\",\"Surprised\",\"Angry\",\"Happy\",\"Surprised\",\"Calm\",\"Disgust\",\"Happy\",\"Sad\",\"Sad\",\"Calm\",\"Neutral\",\"Surprised\",\"Happy\",\"Disgust\",\"Sad\",\"Happy\",\"Surprised\",\"Happy\",\"Angry\",\"Angry\",\"Angry\",\"Sad\",\"Fearful\",\"Calm\",\"Calm\",\"Calm\",\"Surprised\",\"Disgust\",\"Disgust\",\"Fearful\",\"Happy\",\"Calm\",\"Calm\",\"Angry\",\"Neutral\",\"Disgust\",\"Angry\",\"Angry\",\"Fearful\",\"Neutral\",\"Surprised\",\"Disgust\",\"Disgust\",\"Angry\",\"Calm\",\"Fearful\",\"Neutral\",\"Sad\",\"Happy\",\"Sad\",\"Fearful\",\"Fearful\",\"Calm\",\"Sad\",\"Disgust\",\"Happy\",\"Angry\",\"Fearful\",\"Surprised\",\"Surprised\",\"Sad\",\"Surprised\",\"Happy\",\"Fearful\",\"Surprised\",\"Sad\",\"Angry\",\"Sad\",\"Calm\",\"Surprised\",\"Neutral\",\"Disgust\",\"Fearful\",\"Calm\",\"Surprised\",\"Neutral\",\"Happy\",\"Disgust\",\"Angry\",\"Calm\",\"Angry\",\"Disgust\",\"Fearful\",\"Calm\",\"Calm\",\"Happy\",\"Surprised\",\"Fearful\",\"Disgust\",\"Surprised\",\"Happy\",\"Happy\",\"Fearful\",\"Sad\",\"Happy\",\"Fearful\",\"Calm\",\"Surprised\",\"Calm\",\"Happy\",\"Fearful\",\"Surprised\",\"Angry\",\"Neutral\",\"Fearful\",\"Angry\",\"Disgust\",\"Happy\",\"Angry\",\"Neutral\",\"Surprised\",\"Disgust\",\"Happy\",\"Sad\",\"Fearful\",\"Disgust\",\"Sad\",\"Sad\",\"Calm\",\"Angry\",\"Disgust\",\"Sad\",\"Sad\",\"Angry\",\"Surprised\",\"Disgust\",\"Disgust\",\"Calm\",\"Fearful\",\"Angry\",\"Happy\",\"Fearful\",\"Disgust\",\"Calm\",\"Fearful\",\"Angry\",\"Sad\",\"Angry\",\"Surprised\",\"Disgust\",\"Fearful\",\"Surprised\",\"Happy\",\"Happy\",\"Fearful\",\"Sad\",\"Sad\",\"Calm\",\"Neutral\",\"Surprised\",\"Angry\",\"Happy\",\"Surprised\",\"Calm\",\"Angry\",\"Disgust\",\"Fearful\",\"Angry\",\"Fearful\",\"Neutral\",\"Happy\",\"Sad\",\"Happy\",\"Sad\",\"Calm\",\"Disgust\",\"Angry\",\"Surprised\",\"Surprised\",\"Happy\",\"Surprised\",\"Calm\",\"Sad\",\"Calm\",\"Calm\",\"Angry\",\"Surprised\",\"Happy\",\"Sad\",\"Neutral\",\"Disgust\",\"Fearful\",\"Neutral\",\"Disgust\",\"Sad\",\"Sad\",\"Neutral\",\"Sad\",\"Fearful\",\"Fearful\",\"Disgust\",\"Disgust\",\"Calm\",\"Happy\",\"Sad\",\"Sad\",\"Neutral\",\"Happy\",\"Calm\",\"Happy\",\"Surprised\",\"Angry\",\"Fearful\",\"Happy\",\"Surprised\",\"Sad\",\"Calm\",\"Angry\",\"Angry\",\"Surprised\",\"Sad\",\"Calm\",\"Calm\",\"Surprised\",\"Fearful\",\"Angry\",\"Angry\",\"Surprised\",\"Surprised\",\"Angry\",\"Surprised\",\"Fearful\",\"Sad\",\"Fearful\",\"Calm\",\"Sad\",\"Neutral\",\"Disgust\",\"Surprised\",\"Neutral\",\"Happy\",\"Calm\",\"Disgust\",\"Calm\",\"Angry\",\"Happy\",\"Fearful\",\"Angry\",\"Disgust\",\"Disgust\",\"Disgust\",\"Happy\",\"Disgust\",\"Fearful\",\"Happy\",\"Fearful\",\"Angry\",\"Surprised\",\"Angry\",\"Fearful\",\"Angry\",\"Neutral\",\"Happy\",\"Angry\",\"Fearful\",\"Angry\",\"Happy\",\"Calm\",\"Sad\",\"Surprised\",\"Surprised\",\"Surprised\",\"Sad\",\"Sad\",\"Fearful\",\"Disgust\",\"Happy\",\"Angry\",\"Sad\",\"Calm\",\"Fearful\",\"Fearful\",\"Surprised\",\"Disgust\",\"Disgust\",\"Calm\",\"Calm\",\"Sad\",\"Happy\",\"Surprised\",\"Happy\",\"Happy\",\"Angry\",\"Disgust\",\"Fearful\",\"Sad\",\"Disgust\",\"Sad\",\"Surprised\",\"Disgust\",\"Neutral\",\"Calm\",\"Surprised\",\"Disgust\",\"Sad\",\"Calm\",\"Happy\",\"Happy\",\"Calm\",\"Neutral\",\"Calm\",\"Fearful\",\"Angry\",\"Neutral\",\"Disgust\",\"Angry\",\"Surprised\",\"Calm\",\"Angry\",\"Angry\",\"Calm\",\"Happy\",\"Sad\",\"Surprised\",\"Neutral\",\"Happy\",\"Fearful\",\"Neutral\",\"Happy\",\"Angry\",\"Fearful\",\"Disgust\",\"Neutral\",\"Fearful\",\"Disgust\",\"Fearful\",\"Calm\",\"Disgust\",\"Calm\",\"Happy\",\"Sad\",\"Happy\",\"Disgust\",\"Fearful\",\"Disgust\",\"Angry\",\"Fearful\",\"Disgust\",\"Disgust\",\"Sad\",\"Disgust\",\"Sad\",\"Calm\",\"Neutral\",\"Calm\",\"Fearful\",\"Sad\",\"Surprised\",\"Happy\",\"Surprised\",\"Calm\",\"Happy\",\"Surprised\",\"Surprised\",\"Angry\",\"Sad\",\"Happy\",\"Fearful\",\"Surprised\",\"Calm\",\"Angry\",\"Angry\",\"Sad\",\"Surprised\",\"Sad\",\"Disgust\",\"Angry\",\"Happy\",\"Fearful\",\"Happy\",\"Fearful\",\"Sad\",\"Fearful\",\"Fearful\",\"Sad\",\"Disgust\",\"Angry\",\"Disgust\",\"Calm\",\"Angry\",\"Neutral\",\"Fearful\",\"Angry\",\"Happy\",\"Angry\",\"Angry\",\"Sad\",\"Neutral\",\"Sad\",\"Calm\",\"Surprised\",\"Disgust\",\"Surprised\",\"Surprised\",\"Calm\",\"Neutral\",\"Angry\",\"Angry\",\"Calm\",\"Calm\",\"Sad\",\"Calm\",\"Happy\",\"Surprised\",\"Calm\",\"Sad\",\"Fearful\",\"Surprised\",\"Sad\",\"Happy\",\"Sad\",\"Neutral\",\"Happy\",\"Fearful\",\"Disgust\",\"Surprised\",\"Happy\",\"Surprised\",\"Disgust\",\"Surprised\",\"Fearful\",\"Calm\",\"Disgust\",\"Happy\",\"Disgust\",\"Angry\",\"Calm\",\"Sad\",\"Fearful\",\"Disgust\",\"Fearful\",\"Angry\",\"Surprised\",\"Fearful\",\"Happy\",\"Surprised\",\"Happy\",\"Sad\",\"Calm\",\"Disgust\",\"Disgust\",\"Surprised\",\"Calm\",\"Calm\",\"Calm\",\"Neutral\",\"Disgust\",\"Happy\",\"Happy\",\"Fearful\",\"Disgust\",\"Angry\",\"Surprised\",\"Sad\",\"Calm\",\"Surprised\",\"Surprised\",\"Neutral\",\"Fearful\",\"Fearful\",\"Calm\",\"Surprised\",\"Happy\",\"Happy\",\"Sad\",\"Angry\",\"Angry\",\"Angry\",\"Disgust\",\"Disgust\",\"Sad\",\"Neutral\",\"Neutral\",\"Happy\",\"Fearful\",\"Angry\",\"Sad\",\"Fearful\",\"Surprised\",\"Happy\",\"Disgust\",\"Calm\",\"Angry\",\"Sad\",\"Sad\",\"Sad\",\"Happy\",\"Neutral\",\"Calm\",\"Angry\",\"Disgust\",\"Surprised\",\"Sad\",\"Angry\",\"Calm\",\"Fearful\",\"Happy\",\"Angry\",\"Fearful\",\"Sad\",\"Disgust\",\"Surprised\",\"Happy\",\"Sad\",\"Surprised\",\"Sad\",\"Happy\",\"Neutral\",\"Fearful\",\"Sad\",\"Fearful\",\"Surprised\",\"Fearful\",\"Angry\",\"Happy\",\"Calm\",\"Disgust\",\"Sad\",\"Fearful\",\"Fearful\",\"Disgust\",\"Calm\",\"Sad\",\"Disgust\",\"Calm\",\"Angry\",\"Disgust\",\"Surprised\",\"Calm\",\"Neutral\",\"Surprised\",\"Angry\",\"Calm\",\"Surprised\",\"Happy\",\"Calm\",\"Disgust\",\"Angry\",\"Neutral\",\"Surprised\",\"Angry\",\"Happy\",\"Happy\",\"Fearful\",\"Disgust\",\"Calm\",\"Angry\",\"Angry\",\"Happy\",\"Surprised\",\"Calm\",\"Fearful\",\"Neutral\",\"Happy\",\"Happy\",\"Neutral\",\"Happy\",\"Sad\",\"Sad\",\"Fearful\",\"Disgust\",\"Fearful\",\"Angry\",\"Surprised\",\"Fearful\",\"Surprised\",\"Happy\",\"Angry\",\"Surprised\",\"Sad\",\"Surprised\",\"Disgust\",\"Angry\",\"Sad\",\"Fearful\",\"Calm\",\"Calm\",\"Disgust\",\"Disgust\",\"Fearful\",\"Fearful\",\"Surprised\",\"Sad\",\"Angry\",\"Calm\",\"Calm\",\"Disgust\",\"Fearful\",\"Calm\",\"Calm\",\"Surprised\",\"Happy\",\"Sad\",\"Angry\",\"Disgust\",\"Neutral\",\"Happy\",\"Disgust\",\"Neutral\",\"Surprised\",\"Sad\",\"Happy\",\"Disgust\",\"Sad\",\"Angry\",\"Calm\",\"Sad\",\"Calm\",\"Happy\",\"Fearful\",\"Sad\",\"Happy\",\"Angry\",\"Neutral\",\"Angry\",\"Fearful\",\"Disgust\",\"Surprised\",\"Angry\",\"Calm\",\"Fearful\",\"Surprised\",\"Neutral\",\"Calm\",\"Surprised\",\"Sad\",\"Happy\",\"Fearful\",\"Sad\",\"Disgust\",\"Happy\",\"Happy\",\"Fearful\",\"Happy\",\"Angry\",\"Fearful\",\"Happy\",\"Angry\",\"Disgust\",\"Surprised\",\"Angry\",\"Disgust\",\"Angry\",\"Sad\",\"Sad\",\"Calm\",\"Calm\",\"Calm\",\"Surprised\",\"Sad\",\"Fearful\",\"Disgust\",\"Neutral\",\"Surprised\",\"Fearful\",\"Calm\",\"Neutral\",\"Disgust\",\"Happy\",\"Surprised\",\"Angry\",\"Surprised\",\"Disgust\",\"Disgust\",\"Sad\",\"Surprised\",\"Happy\",\"Disgust\",\"Neutral\",\"Calm\",\"Sad\",\"Angry\",\"Happy\",\"Happy\",\"Fearful\",\"Neutral\",\"Disgust\",\"Disgust\",\"Disgust\",\"Angry\",\"Sad\",\"Sad\",\"Calm\",\"Fearful\",\"Calm\",\"Surprised\",\"Sad\",\"Calm\",\"Happy\",\"Surprised\",\"Calm\",\"Neutral\",\"Happy\",\"Surprised\",\"Disgust\",\"Fearful\",\"Disgust\",\"Surprised\",\"Angry\",\"Happy\",\"Angry\",\"Calm\",\"Fearful\",\"Happy\",\"Angry\",\"Sad\",\"Fearful\",\"Happy\",\"Surprised\",\"Surprised\",\"Fearful\",\"Neutral\",\"Fearful\",\"Calm\",\"Angry\",\"Sad\",\"Sad\",\"Disgust\",\"Fearful\",\"Disgust\",\"Angry\",\"Calm\",\"Angry\",\"Surprised\",\"Sad\",\"Happy\",\"Sad\",\"Neutral\",\"Neutral\",\"Neutral\",\"Disgust\",\"Happy\",\"Sad\",\"Fearful\",\"Happy\",\"Sad\",\"Surprised\",\"Fearful\",\"Surprised\",\"Sad\",\"Sad\",\"Fearful\",\"Surprised\",\"Fearful\",\"Angry\",\"Neutral\",\"Disgust\",\"Calm\",\"Happy\",\"Disgust\",\"Fearful\",\"Calm\",\"Happy\",\"Angry\",\"Happy\",\"Angry\",\"Calm\",\"Angry\",\"Surprised\",\"Angry\",\"Surprised\",\"Surprised\",\"Calm\",\"Fearful\",\"Disgust\",\"Sad\",\"Disgust\",\"Calm\",\"Calm\",\"Fearful\",\"Sad\",\"Sad\",\"Angry\",\"Disgust\",\"Happy\",\"Angry\",\"Disgust\",\"Surprised\",\"Happy\",\"Angry\",\"Calm\",\"Calm\",\"Surprised\",\"Disgust\",\"Fearful\",\"Happy\",\"Disgust\",\"Disgust\",\"Disgust\",\"Fearful\",\"Happy\",\"Sad\",\"Disgust\",\"Neutral\",\"Happy\",\"Neutral\",\"Fearful\",\"Calm\",\"Surprised\",\"Disgust\",\"Surprised\",\"Fearful\",\"Angry\",\"Happy\",\"Angry\",\"Disgust\",\"Angry\",\"Surprised\",\"Angry\",\"Surprised\",\"Fearful\",\"Neutral\",\"Angry\",\"Surprised\",\"Sad\",\"Surprised\",\"Calm\",\"Disgust\",\"Calm\",\"Happy\",\"Surprised\",\"Calm\",\"Happy\",\"Fearful\",\"Neutral\",\"Calm\",\"Fearful\",\"Sad\",\"Angry\",\"Calm\",\"Angry\",\"Disgust\",\"Happy\",\"Calm\",\"Sad\",\"Sad\",\"Sad\",\"Surprised\",\"Calm\",\"Angry\",\"Sad\",\"Fearful\",\"Happy\",\"Fearful\",\"Sad\",\"Sad\",\"Calm\",\"Disgust\",\"Surprised\",\"Calm\",\"Fearful\",\"Angry\",\"Fearful\",\"Calm\",\"Angry\",\"Angry\",\"Happy\",\"Angry\",\"Disgust\",\"Disgust\",\"Fearful\",\"Fearful\",\"Calm\",\"Surprised\",\"Surprised\",\"Sad\",\"Happy\",\"Disgust\",\"Sad\",\"Sad\",\"Angry\",\"Sad\",\"Happy\",\"Fearful\",\"Sad\",\"Neutral\",\"Happy\",\"Happy\",\"Neutral\",\"Calm\",\"Disgust\",\"Happy\",\"Calm\",\"Angry\",\"Disgust\",\"Angry\",\"Surprised\",\"Angry\",\"Calm\",\"Fearful\",\"Happy\",\"Surprised\",\"Disgust\",\"Sad\",\"Neutral\",\"Fearful\",\"Fearful\",\"Neutral\",\"Surprised\",\"Sad\",\"Surprised\",\"Happy\",\"Surprised\",\"Calm\",\"Disgust\",\"Calm\",\"Calm\",\"Neutral\",\"Angry\",\"Surprised\",\"Surprised\",\"Happy\",\"Sad\",\"Disgust\",\"Angry\",\"Neutral\",\"Calm\",\"Calm\",\"Sad\",\"Happy\",\"Fearful\",\"Disgust\",\"Sad\",\"Disgust\",\"Happy\",\"Surprised\",\"Angry\",\"Disgust\",\"Fearful\",\"Surprised\",\"Sad\",\"Angry\",\"Neutral\",\"Happy\",\"Sad\",\"Angry\",\"Fearful\",\"Neutral\",\"Calm\",\"Sad\",\"Happy\",\"Happy\",\"Fearful\",\"Happy\",\"Disgust\",\"Disgust\",\"Fearful\",\"Angry\",\"Calm\",\"Disgust\",\"Calm\",\"Sad\",\"Angry\",\"Fearful\",\"Surprised\",\"Calm\",\"Fearful\",\"Sad\",\"Happy\",\"Surprised\",\"Surprised\",\"Angry\",\"Surprised\",\"Disgust\",\"Fearful\"],\"xaxis\":\"x\",\"yaxis\":\"y\",\"type\":\"histogram\"}],                        {\"template\":{\"data\":{\"histogram2dcontour\":[{\"type\":\"histogram2dcontour\",\"colorbar\":{\"outlinewidth\":0,\"ticks\":\"\"},\"colorscale\":[[0.0,\"#0d0887\"],[0.1111111111111111,\"#46039f\"],[0.2222222222222222,\"#7201a8\"],[0.3333333333333333,\"#9c179e\"],[0.4444444444444444,\"#bd3786\"],[0.5555555555555556,\"#d8576b\"],[0.6666666666666666,\"#ed7953\"],[0.7777777777777778,\"#fb9f3a\"],[0.8888888888888888,\"#fdca26\"],[1.0,\"#f0f921\"]]}],\"choropleth\":[{\"type\":\"choropleth\",\"colorbar\":{\"outlinewidth\":0,\"ticks\":\"\"}}],\"histogram2d\":[{\"type\":\"histogram2d\",\"colorbar\":{\"outlinewidth\":0,\"ticks\":\"\"},\"colorscale\":[[0.0,\"#0d0887\"],[0.1111111111111111,\"#46039f\"],[0.2222222222222222,\"#7201a8\"],[0.3333333333333333,\"#9c179e\"],[0.4444444444444444,\"#bd3786\"],[0.5555555555555556,\"#d8576b\"],[0.6666666666666666,\"#ed7953\"],[0.7777777777777778,\"#fb9f3a\"],[0.8888888888888888,\"#fdca26\"],[1.0,\"#f0f921\"]]}],\"heatmap\":[{\"type\":\"heatmap\",\"colorbar\":{\"outlinewidth\":0,\"ticks\":\"\"},\"colorscale\":[[0.0,\"#0d0887\"],[0.1111111111111111,\"#46039f\"],[0.2222222222222222,\"#7201a8\"],[0.3333333333333333,\"#9c179e\"],[0.4444444444444444,\"#bd3786\"],[0.5555555555555556,\"#d8576b\"],[0.6666666666666666,\"#ed7953\"],[0.7777777777777778,\"#fb9f3a\"],[0.8888888888888888,\"#fdca26\"],[1.0,\"#f0f921\"]]}],\"heatmapgl\":[{\"type\":\"heatmapgl\",\"colorbar\":{\"outlinewidth\":0,\"ticks\":\"\"},\"colorscale\":[[0.0,\"#0d0887\"],[0.1111111111111111,\"#46039f\"],[0.2222222222222222,\"#7201a8\"],[0.3333333333333333,\"#9c179e\"],[0.4444444444444444,\"#bd3786\"],[0.5555555555555556,\"#d8576b\"],[0.6666666666666666,\"#ed7953\"],[0.7777777777777778,\"#fb9f3a\"],[0.8888888888888888,\"#fdca26\"],[1.0,\"#f0f921\"]]}],\"contourcarpet\":[{\"type\":\"contourcarpet\",\"colorbar\":{\"outlinewidth\":0,\"ticks\":\"\"}}],\"contour\":[{\"type\":\"contour\",\"colorbar\":{\"outlinewidth\":0,\"ticks\":\"\"},\"colorscale\":[[0.0,\"#0d0887\"],[0.1111111111111111,\"#46039f\"],[0.2222222222222222,\"#7201a8\"],[0.3333333333333333,\"#9c179e\"],[0.4444444444444444,\"#bd3786\"],[0.5555555555555556,\"#d8576b\"],[0.6666666666666666,\"#ed7953\"],[0.7777777777777778,\"#fb9f3a\"],[0.8888888888888888,\"#fdca26\"],[1.0,\"#f0f921\"]]}],\"surface\":[{\"type\":\"surface\",\"colorbar\":{\"outlinewidth\":0,\"ticks\":\"\"},\"colorscale\":[[0.0,\"#0d0887\"],[0.1111111111111111,\"#46039f\"],[0.2222222222222222,\"#7201a8\"],[0.3333333333333333,\"#9c179e\"],[0.4444444444444444,\"#bd3786\"],[0.5555555555555556,\"#d8576b\"],[0.6666666666666666,\"#ed7953\"],[0.7777777777777778,\"#fb9f3a\"],[0.8888888888888888,\"#fdca26\"],[1.0,\"#f0f921\"]]}],\"mesh3d\":[{\"type\":\"mesh3d\",\"colorbar\":{\"outlinewidth\":0,\"ticks\":\"\"}}],\"scatter\":[{\"fillpattern\":{\"fillmode\":\"overlay\",\"size\":10,\"solidity\":0.2},\"type\":\"scatter\"}],\"parcoords\":[{\"type\":\"parcoords\",\"line\":{\"colorbar\":{\"outlinewidth\":0,\"ticks\":\"\"}}}],\"scatterpolargl\":[{\"type\":\"scatterpolargl\",\"marker\":{\"colorbar\":{\"outlinewidth\":0,\"ticks\":\"\"}}}],\"bar\":[{\"error_x\":{\"color\":\"#2a3f5f\"},\"error_y\":{\"color\":\"#2a3f5f\"},\"marker\":{\"line\":{\"color\":\"#E5ECF6\",\"width\":0.5},\"pattern\":{\"fillmode\":\"overlay\",\"size\":10,\"solidity\":0.2}},\"type\":\"bar\"}],\"scattergeo\":[{\"type\":\"scattergeo\",\"marker\":{\"colorbar\":{\"outlinewidth\":0,\"ticks\":\"\"}}}],\"scatterpolar\":[{\"type\":\"scatterpolar\",\"marker\":{\"colorbar\":{\"outlinewidth\":0,\"ticks\":\"\"}}}],\"histogram\":[{\"marker\":{\"pattern\":{\"fillmode\":\"overlay\",\"size\":10,\"solidity\":0.2}},\"type\":\"histogram\"}],\"scattergl\":[{\"type\":\"scattergl\",\"marker\":{\"colorbar\":{\"outlinewidth\":0,\"ticks\":\"\"}}}],\"scatter3d\":[{\"type\":\"scatter3d\",\"line\":{\"colorbar\":{\"outlinewidth\":0,\"ticks\":\"\"}},\"marker\":{\"colorbar\":{\"outlinewidth\":0,\"ticks\":\"\"}}}],\"scattermapbox\":[{\"type\":\"scattermapbox\",\"marker\":{\"colorbar\":{\"outlinewidth\":0,\"ticks\":\"\"}}}],\"scatterternary\":[{\"type\":\"scatterternary\",\"marker\":{\"colorbar\":{\"outlinewidth\":0,\"ticks\":\"\"}}}],\"scattercarpet\":[{\"type\":\"scattercarpet\",\"marker\":{\"colorbar\":{\"outlinewidth\":0,\"ticks\":\"\"}}}],\"carpet\":[{\"aaxis\":{\"endlinecolor\":\"#2a3f5f\",\"gridcolor\":\"white\",\"linecolor\":\"white\",\"minorgridcolor\":\"white\",\"startlinecolor\":\"#2a3f5f\"},\"baxis\":{\"endlinecolor\":\"#2a3f5f\",\"gridcolor\":\"white\",\"linecolor\":\"white\",\"minorgridcolor\":\"white\",\"startlinecolor\":\"#2a3f5f\"},\"type\":\"carpet\"}],\"table\":[{\"cells\":{\"fill\":{\"color\":\"#EBF0F8\"},\"line\":{\"color\":\"white\"}},\"header\":{\"fill\":{\"color\":\"#C8D4E3\"},\"line\":{\"color\":\"white\"}},\"type\":\"table\"}],\"barpolar\":[{\"marker\":{\"line\":{\"color\":\"#E5ECF6\",\"width\":0.5},\"pattern\":{\"fillmode\":\"overlay\",\"size\":10,\"solidity\":0.2}},\"type\":\"barpolar\"}],\"pie\":[{\"automargin\":true,\"type\":\"pie\"}]},\"layout\":{\"autotypenumbers\":\"strict\",\"colorway\":[\"#636efa\",\"#EF553B\",\"#00cc96\",\"#ab63fa\",\"#FFA15A\",\"#19d3f3\",\"#FF6692\",\"#B6E880\",\"#FF97FF\",\"#FECB52\"],\"font\":{\"color\":\"#2a3f5f\"},\"hovermode\":\"closest\",\"hoverlabel\":{\"align\":\"left\"},\"paper_bgcolor\":\"white\",\"plot_bgcolor\":\"#E5ECF6\",\"polar\":{\"bgcolor\":\"#E5ECF6\",\"angularaxis\":{\"gridcolor\":\"white\",\"linecolor\":\"white\",\"ticks\":\"\"},\"radialaxis\":{\"gridcolor\":\"white\",\"linecolor\":\"white\",\"ticks\":\"\"}},\"ternary\":{\"bgcolor\":\"#E5ECF6\",\"aaxis\":{\"gridcolor\":\"white\",\"linecolor\":\"white\",\"ticks\":\"\"},\"baxis\":{\"gridcolor\":\"white\",\"linecolor\":\"white\",\"ticks\":\"\"},\"caxis\":{\"gridcolor\":\"white\",\"linecolor\":\"white\",\"ticks\":\"\"}},\"coloraxis\":{\"colorbar\":{\"outlinewidth\":0,\"ticks\":\"\"}},\"colorscale\":{\"sequential\":[[0.0,\"#0d0887\"],[0.1111111111111111,\"#46039f\"],[0.2222222222222222,\"#7201a8\"],[0.3333333333333333,\"#9c179e\"],[0.4444444444444444,\"#bd3786\"],[0.5555555555555556,\"#d8576b\"],[0.6666666666666666,\"#ed7953\"],[0.7777777777777778,\"#fb9f3a\"],[0.8888888888888888,\"#fdca26\"],[1.0,\"#f0f921\"]],\"sequentialminus\":[[0.0,\"#0d0887\"],[0.1111111111111111,\"#46039f\"],[0.2222222222222222,\"#7201a8\"],[0.3333333333333333,\"#9c179e\"],[0.4444444444444444,\"#bd3786\"],[0.5555555555555556,\"#d8576b\"],[0.6666666666666666,\"#ed7953\"],[0.7777777777777778,\"#fb9f3a\"],[0.8888888888888888,\"#fdca26\"],[1.0,\"#f0f921\"]],\"diverging\":[[0,\"#8e0152\"],[0.1,\"#c51b7d\"],[0.2,\"#de77ae\"],[0.3,\"#f1b6da\"],[0.4,\"#fde0ef\"],[0.5,\"#f7f7f7\"],[0.6,\"#e6f5d0\"],[0.7,\"#b8e186\"],[0.8,\"#7fbc41\"],[0.9,\"#4d9221\"],[1,\"#276419\"]]},\"xaxis\":{\"gridcolor\":\"white\",\"linecolor\":\"white\",\"ticks\":\"\",\"title\":{\"standoff\":15},\"zerolinecolor\":\"white\",\"automargin\":true,\"zerolinewidth\":2},\"yaxis\":{\"gridcolor\":\"white\",\"linecolor\":\"white\",\"ticks\":\"\",\"title\":{\"standoff\":15},\"zerolinecolor\":\"white\",\"automargin\":true,\"zerolinewidth\":2},\"scene\":{\"xaxis\":{\"backgroundcolor\":\"#E5ECF6\",\"gridcolor\":\"white\",\"linecolor\":\"white\",\"showbackground\":true,\"ticks\":\"\",\"zerolinecolor\":\"white\",\"gridwidth\":2},\"yaxis\":{\"backgroundcolor\":\"#E5ECF6\",\"gridcolor\":\"white\",\"linecolor\":\"white\",\"showbackground\":true,\"ticks\":\"\",\"zerolinecolor\":\"white\",\"gridwidth\":2},\"zaxis\":{\"backgroundcolor\":\"#E5ECF6\",\"gridcolor\":\"white\",\"linecolor\":\"white\",\"showbackground\":true,\"ticks\":\"\",\"zerolinecolor\":\"white\",\"gridwidth\":2}},\"shapedefaults\":{\"line\":{\"color\":\"#2a3f5f\"}},\"annotationdefaults\":{\"arrowcolor\":\"#2a3f5f\",\"arrowhead\":0,\"arrowwidth\":1},\"geo\":{\"bgcolor\":\"white\",\"landcolor\":\"#E5ECF6\",\"subunitcolor\":\"white\",\"showland\":true,\"showlakes\":true,\"lakecolor\":\"white\"},\"title\":{\"x\":0.05},\"mapbox\":{\"style\":\"light\"}}},\"xaxis\":{\"anchor\":\"y\",\"domain\":[0.0,1.0],\"title\":{\"text\":\"Emotions\"}},\"yaxis\":{\"anchor\":\"x\",\"domain\":[0.0,1.0],\"title\":{\"text\":\"Count\"}},\"legend\":{\"tracegroupgap\":0},\"title\":{\"text\":\"Total number of emotions\"},\"barmode\":\"relative\",\"showlegend\":false},                        {\"responsive\": true}                    ).then(function(){\n",
       "                            \n",
       "var gd = document.getElementById('65aed645-bf77-475e-914b-5b639e4cf47a');\n",
       "var x = new MutationObserver(function (mutations, observer) {{\n",
       "        var display = window.getComputedStyle(gd).display;\n",
       "        if (!display || display === 'none') {{\n",
       "            console.log([gd, 'removed!']);\n",
       "            Plotly.purge(gd);\n",
       "            observer.disconnect();\n",
       "        }}\n",
       "}});\n",
       "\n",
       "// Listen for the removal of the full notebook cells\n",
       "var notebookContainer = gd.closest('#notebook-container');\n",
       "if (notebookContainer) {{\n",
       "    x.observe(notebookContainer, {childList: true});\n",
       "}}\n",
       "\n",
       "// Listen for the clearing of the current output cell\n",
       "var outputEl = gd.closest('.output');\n",
       "if (outputEl) {{\n",
       "    x.observe(outputEl, {childList: true});\n",
       "}}\n",
       "\n",
       "                        })                };                });            </script>        </div>"
      ]
     },
     "metadata": {},
     "output_type": "display_data"
    }
   ],
   "source": [
    "from plotly import express as px\n",
    "import plotly \n",
    "\n",
    "fig=px.histogram(Ravdess_df,x='Emotions',title='Total number of emotions')\n",
    "fig.update_layout(xaxis_title='Emotions',yaxis_title='Count',showlegend=False)\n",
    "#fig.update_traces(marker_color='steelblue')\n",
    "fig.show()"
   ]
  },
  {
   "cell_type": "code",
   "execution_count": 194,
   "metadata": {},
   "outputs": [],
   "source": [
    "# plotly.offline.plot(fig, filename='Emotions_count_histogram.html')"
   ]
  },
  {
   "cell_type": "code",
   "execution_count": 195,
   "metadata": {},
   "outputs": [
    {
     "name": "stdout",
     "output_type": "stream",
     "text": [
      "First 20 values of y:[-1.9525130e-05 -1.8272651e-05 -4.0204141e-05 -3.6351303e-05\n",
      " -4.4975613e-06 -3.5600053e-05 -3.1672666e-05 -1.0151742e-05\n",
      " -1.9432311e-05 -7.4768204e-06 -1.7534310e-05 -3.3891127e-05\n",
      " -2.8946703e-05 -3.0696800e-05 -3.8926995e-05 -1.7235690e-05\n",
      " -1.9442039e-05 -1.9996125e-05 -2.8340790e-05 -3.2234719e-05]\n",
      "Shape of y: (75781,)\n",
      "Sample rate: 22050\n",
      "The file duration is 3.436780045351474 seconds\n"
     ]
    },
    {
     "data": {
      "image/png": "[encoded data removed]",
      "text/plain": [
       "<Figure size 1500x500 with 4 Axes>"
      ]
     },
     "metadata": {},
     "output_type": "display_data"
    },
    {
     "ename": "AttributeError",
     "evalue": "module 'matplotlib' has no attribute 'pyplot'",
     "output_type": "error",
     "traceback": [
      "\u001b[0;31m---------------------------------------------------------------------------\u001b[0m",
      "\u001b[0;31mAttributeError\u001b[0m                            Traceback (most recent call last)",
      "Cell \u001b[0;32mIn[195], line 11\u001b[0m\n\u001b[1;32m      9\u001b[0m \u001b[38;5;28mprint\u001b[39m(\u001b[38;5;124mf\u001b[39m\u001b[38;5;124m'\u001b[39m\u001b[38;5;124mThe file duration is \u001b[39m\u001b[38;5;132;01m{\u001b[39;00mduration\u001b[38;5;132;01m}\u001b[39;00m\u001b[38;5;124m seconds\u001b[39m\u001b[38;5;124m'\u001b[39m)\n\u001b[1;32m     10\u001b[0m pd\u001b[38;5;241m.\u001b[39mSeries(y)\u001b[38;5;241m.\u001b[39mplot(figsize\u001b[38;5;241m=\u001b[39m(\u001b[38;5;241m15\u001b[39m,\u001b[38;5;241m5\u001b[39m),lw\u001b[38;5;241m=\u001b[39m\u001b[38;5;241m1\u001b[39m,title\u001b[38;5;241m=\u001b[39m\u001b[38;5;124m'\u001b[39m\u001b[38;5;124mPure neutral voice example\u001b[39m\u001b[38;5;124m'\u001b[39m)\n\u001b[0;32m---> 11\u001b[0m \u001b[43mplt\u001b[49m\u001b[38;5;241;43m.\u001b[39;49m\u001b[43mshow\u001b[49m\u001b[43m(\u001b[49m\u001b[43m)\u001b[49m\n\u001b[1;32m     12\u001b[0m pd\u001b[38;5;241m.\u001b[39mSeries(y[\u001b[38;5;241m40000\u001b[39m:\u001b[38;5;241m40100\u001b[39m])\u001b[38;5;241m.\u001b[39mplot(figsize\u001b[38;5;241m=\u001b[39m(\u001b[38;5;241m15\u001b[39m,\u001b[38;5;241m5\u001b[39m), lw\u001b[38;5;241m=\u001b[39m\u001b[38;5;241m1\u001b[39m, title\u001b[38;5;241m=\u001b[39m\u001b[38;5;124m'\u001b[39m\u001b[38;5;124mNeutral voice example(approximated)\u001b[39m\u001b[38;5;124m'\u001b[39m)\n\u001b[1;32m     13\u001b[0m plt\u001b[38;5;241m.\u001b[39mshow()\n",
      "File \u001b[0;32m/usr/local/lib/python3.8/dist-packages/matplotlib/pyplot.py:421\u001b[0m, in \u001b[0;36mshow\u001b[0;34m(*args, **kwargs)\u001b[0m\n\u001b[1;32m    377\u001b[0m \u001b[38;5;124;03m\"\"\"\u001b[39;00m\n\u001b[1;32m    378\u001b[0m \u001b[38;5;124;03mDisplay all open figures.\u001b[39;00m\n\u001b[1;32m    379\u001b[0m \n\u001b[0;32m   (...)\u001b[0m\n\u001b[1;32m    418\u001b[0m \u001b[38;5;124;03mexplicitly there.\u001b[39;00m\n\u001b[1;32m    419\u001b[0m \u001b[38;5;124;03m\"\"\"\u001b[39;00m\n\u001b[1;32m    420\u001b[0m _warn_if_gui_out_of_main_thread()\n\u001b[0;32m--> 421\u001b[0m \u001b[38;5;28;01mreturn\u001b[39;00m \u001b[43m_get_backend_mod\u001b[49m\u001b[43m(\u001b[49m\u001b[43m)\u001b[49m\u001b[38;5;241;43m.\u001b[39;49m\u001b[43mshow\u001b[49m\u001b[43m(\u001b[49m\u001b[38;5;241;43m*\u001b[39;49m\u001b[43margs\u001b[49m\u001b[43m,\u001b[49m\u001b[43m \u001b[49m\u001b[38;5;241;43m*\u001b[39;49m\u001b[38;5;241;43m*\u001b[39;49m\u001b[43mkwargs\u001b[49m\u001b[43m)\u001b[49m\n",
      "File \u001b[0;32m/usr/local/lib/python3.8/dist-packages/matplotlib_inline/backend_inline.py:99\u001b[0m, in \u001b[0;36mshow\u001b[0;34m(close, block)\u001b[0m\n\u001b[1;32m     96\u001b[0m \u001b[38;5;66;03m# only call close('all') if any to close\u001b[39;00m\n\u001b[1;32m     97\u001b[0m \u001b[38;5;66;03m# close triggers gc.collect, which can be slow\u001b[39;00m\n\u001b[1;32m     98\u001b[0m \u001b[38;5;28;01mif\u001b[39;00m close \u001b[38;5;129;01mand\u001b[39;00m Gcf\u001b[38;5;241m.\u001b[39mget_all_fig_managers():\n\u001b[0;32m---> 99\u001b[0m     \u001b[43mmatplotlib\u001b[49m\u001b[38;5;241;43m.\u001b[39;49m\u001b[43mpyplot\u001b[49m\u001b[38;5;241m.\u001b[39mclose(\u001b[38;5;124m'\u001b[39m\u001b[38;5;124mall\u001b[39m\u001b[38;5;124m'\u001b[39m)\n",
      "File \u001b[0;32m/usr/local/lib/python3.8/dist-packages/matplotlib/_api/__init__.py:224\u001b[0m, in \u001b[0;36mcaching_module_getattr.<locals>.__getattr__\u001b[0;34m(name)\u001b[0m\n\u001b[1;32m    222\u001b[0m \u001b[38;5;28;01mif\u001b[39;00m name \u001b[38;5;129;01min\u001b[39;00m props:\n\u001b[1;32m    223\u001b[0m     \u001b[38;5;28;01mreturn\u001b[39;00m props[name]\u001b[38;5;241m.\u001b[39m\u001b[38;5;21m__get__\u001b[39m(instance)\n\u001b[0;32m--> 224\u001b[0m \u001b[38;5;28;01mraise\u001b[39;00m \u001b[38;5;167;01mAttributeError\u001b[39;00m(\n\u001b[1;32m    225\u001b[0m     \u001b[38;5;124mf\u001b[39m\u001b[38;5;124m\"\u001b[39m\u001b[38;5;124mmodule \u001b[39m\u001b[38;5;132;01m{\u001b[39;00m\u001b[38;5;28mcls\u001b[39m\u001b[38;5;241m.\u001b[39m\u001b[38;5;18m__module__\u001b[39m\u001b[38;5;132;01m!r}\u001b[39;00m\u001b[38;5;124m has no attribute \u001b[39m\u001b[38;5;132;01m{\u001b[39;00mname\u001b[38;5;132;01m!r}\u001b[39;00m\u001b[38;5;124m\"\u001b[39m)\n",
      "\u001b[0;31mAttributeError\u001b[0m: module 'matplotlib' has no attribute 'pyplot'"
     ]
    }
   ],
   "source": [
    "emotion='Neutral'\n",
    "path=np.array(Ravdess_df.Path[Ravdess_df.Emotions==emotion])[1]\n",
    "\n",
    "y, sr= librosa.load(path)\n",
    "print(f'First 20 values of y:{y[:20]}') #Means almost first 20 ms\n",
    "print(f'Shape of y: {y.shape}')\n",
    "print(f'Sample rate: {sr}')\n",
    "duration=librosa.get_duration(y=y,sr=sr)\n",
    "print(f'The file duration is {duration} seconds')\n",
    "pd.Series(y).plot(figsize=(15,5),lw=1,title='Pure neutral voice example')\n",
    "plt.show()\n",
    "pd.Series(y[40000:40100]).plot(figsize=(15,5), lw=1, title='Neutral voice example(approximated)')\n",
    "plt.show()\n",
    "#Spectogram and a mathematical parts.\n",
    "d=librosa.stft(y) #Fourier transform here\n",
    "S_db=librosa.amplitude_to_db(np.abs(d), ref=np.max) #Changing ampitude to decibel.\n",
    "a,ax=plt.subplots(figsize=(15,5))\n",
    "img=librosa.display.specshow(S_db,\n",
    "                            x_axis='time',\n",
    "                            y_axis='log',#wave form after transformation.\n",
    "                            ax=ax)\n",
    "ax.set_title('Spectogram Example', fontsize=20)\n",
    "a.colorbar(img, ax=ax,format=f'%0.2f')\n",
    "plt.show()\n",
    "ipd.Audio(path)\n",
    "#Each difference in the graph at the end carries an attribute. Think of it like pixels in pictures"
   ]
  },
  {
   "cell_type": "code",
   "execution_count": 196,
   "metadata": {},
   "outputs": [
    {
     "name": "stdout",
     "output_type": "stream",
     "text": [
      "First 20 values of y:[-7.7757134e-10  9.0188290e-10 -9.8375785e-10  1.0579612e-09\n",
      " -1.1147550e-09  1.1421015e-09 -1.1425951e-09  1.0979393e-09\n",
      " -1.0066817e-09  8.5497431e-10 -6.3359384e-10  3.3232953e-10\n",
      "  6.3875627e-11 -5.5924265e-10  1.1679941e-09 -1.8953163e-09\n",
      "  2.7497260e-09 -3.7415884e-09  4.8667959e-09 -6.1291616e-09]\n",
      "Shape of y: (85345,)\n",
      "Sample rate: 22050\n",
      "The file duration is 3.8705215419501133 seconds\n"
     ]
    },
    {
     "data": {
      "image/png": "[encoded data removed]",
      "text/plain": [
       "<Figure size 1500x500 with 4 Axes>"
      ]
     },
     "metadata": {},
     "output_type": "display_data"
    },
    {
     "ename": "AttributeError",
     "evalue": "module 'matplotlib' has no attribute 'pyplot'",
     "output_type": "error",
     "traceback": [
      "\u001b[0;31m---------------------------------------------------------------------------\u001b[0m",
      "\u001b[0;31mAttributeError\u001b[0m                            Traceback (most recent call last)",
      "Cell \u001b[0;32mIn[196], line 11\u001b[0m\n\u001b[1;32m      9\u001b[0m \u001b[38;5;28mprint\u001b[39m(\u001b[38;5;124mf\u001b[39m\u001b[38;5;124m'\u001b[39m\u001b[38;5;124mThe file duration is \u001b[39m\u001b[38;5;132;01m{\u001b[39;00mduration\u001b[38;5;132;01m}\u001b[39;00m\u001b[38;5;124m seconds\u001b[39m\u001b[38;5;124m'\u001b[39m)\n\u001b[1;32m     10\u001b[0m pd\u001b[38;5;241m.\u001b[39mSeries(y)\u001b[38;5;241m.\u001b[39mplot(figsize\u001b[38;5;241m=\u001b[39m(\u001b[38;5;241m15\u001b[39m,\u001b[38;5;241m5\u001b[39m),lw\u001b[38;5;241m=\u001b[39m\u001b[38;5;241m1\u001b[39m,title\u001b[38;5;241m=\u001b[39m\u001b[38;5;124m'\u001b[39m\u001b[38;5;124mPure angry voice example\u001b[39m\u001b[38;5;124m'\u001b[39m)\n\u001b[0;32m---> 11\u001b[0m \u001b[43mplt\u001b[49m\u001b[38;5;241;43m.\u001b[39;49m\u001b[43mshow\u001b[49m\u001b[43m(\u001b[49m\u001b[43m)\u001b[49m\n\u001b[1;32m     12\u001b[0m pd\u001b[38;5;241m.\u001b[39mSeries(y[\u001b[38;5;241m40000\u001b[39m:\u001b[38;5;241m40100\u001b[39m])\u001b[38;5;241m.\u001b[39mplot(figsize\u001b[38;5;241m=\u001b[39m(\u001b[38;5;241m15\u001b[39m,\u001b[38;5;241m5\u001b[39m), lw\u001b[38;5;241m=\u001b[39m\u001b[38;5;241m1\u001b[39m, title\u001b[38;5;241m=\u001b[39m\u001b[38;5;124m'\u001b[39m\u001b[38;5;124mAngry voice example(approximated)\u001b[39m\u001b[38;5;124m'\u001b[39m)\n\u001b[1;32m     13\u001b[0m plt\u001b[38;5;241m.\u001b[39mshow()\n",
      "File \u001b[0;32m/usr/local/lib/python3.8/dist-packages/matplotlib/pyplot.py:421\u001b[0m, in \u001b[0;36mshow\u001b[0;34m(*args, **kwargs)\u001b[0m\n\u001b[1;32m    377\u001b[0m \u001b[38;5;124;03m\"\"\"\u001b[39;00m\n\u001b[1;32m    378\u001b[0m \u001b[38;5;124;03mDisplay all open figures.\u001b[39;00m\n\u001b[1;32m    379\u001b[0m \n\u001b[0;32m   (...)\u001b[0m\n\u001b[1;32m    418\u001b[0m \u001b[38;5;124;03mexplicitly there.\u001b[39;00m\n\u001b[1;32m    419\u001b[0m \u001b[38;5;124;03m\"\"\"\u001b[39;00m\n\u001b[1;32m    420\u001b[0m _warn_if_gui_out_of_main_thread()\n\u001b[0;32m--> 421\u001b[0m \u001b[38;5;28;01mreturn\u001b[39;00m \u001b[43m_get_backend_mod\u001b[49m\u001b[43m(\u001b[49m\u001b[43m)\u001b[49m\u001b[38;5;241;43m.\u001b[39;49m\u001b[43mshow\u001b[49m\u001b[43m(\u001b[49m\u001b[38;5;241;43m*\u001b[39;49m\u001b[43margs\u001b[49m\u001b[43m,\u001b[49m\u001b[43m \u001b[49m\u001b[38;5;241;43m*\u001b[39;49m\u001b[38;5;241;43m*\u001b[39;49m\u001b[43mkwargs\u001b[49m\u001b[43m)\u001b[49m\n",
      "File \u001b[0;32m/usr/local/lib/python3.8/dist-packages/matplotlib_inline/backend_inline.py:99\u001b[0m, in \u001b[0;36mshow\u001b[0;34m(close, block)\u001b[0m\n\u001b[1;32m     96\u001b[0m \u001b[38;5;66;03m# only call close('all') if any to close\u001b[39;00m\n\u001b[1;32m     97\u001b[0m \u001b[38;5;66;03m# close triggers gc.collect, which can be slow\u001b[39;00m\n\u001b[1;32m     98\u001b[0m \u001b[38;5;28;01mif\u001b[39;00m close \u001b[38;5;129;01mand\u001b[39;00m Gcf\u001b[38;5;241m.\u001b[39mget_all_fig_managers():\n\u001b[0;32m---> 99\u001b[0m     \u001b[43mmatplotlib\u001b[49m\u001b[38;5;241;43m.\u001b[39;49m\u001b[43mpyplot\u001b[49m\u001b[38;5;241m.\u001b[39mclose(\u001b[38;5;124m'\u001b[39m\u001b[38;5;124mall\u001b[39m\u001b[38;5;124m'\u001b[39m)\n",
      "File \u001b[0;32m/usr/local/lib/python3.8/dist-packages/matplotlib/_api/__init__.py:224\u001b[0m, in \u001b[0;36mcaching_module_getattr.<locals>.__getattr__\u001b[0;34m(name)\u001b[0m\n\u001b[1;32m    222\u001b[0m \u001b[38;5;28;01mif\u001b[39;00m name \u001b[38;5;129;01min\u001b[39;00m props:\n\u001b[1;32m    223\u001b[0m     \u001b[38;5;28;01mreturn\u001b[39;00m props[name]\u001b[38;5;241m.\u001b[39m\u001b[38;5;21m__get__\u001b[39m(instance)\n\u001b[0;32m--> 224\u001b[0m \u001b[38;5;28;01mraise\u001b[39;00m \u001b[38;5;167;01mAttributeError\u001b[39;00m(\n\u001b[1;32m    225\u001b[0m     \u001b[38;5;124mf\u001b[39m\u001b[38;5;124m\"\u001b[39m\u001b[38;5;124mmodule \u001b[39m\u001b[38;5;132;01m{\u001b[39;00m\u001b[38;5;28mcls\u001b[39m\u001b[38;5;241m.\u001b[39m\u001b[38;5;18m__module__\u001b[39m\u001b[38;5;132;01m!r}\u001b[39;00m\u001b[38;5;124m has no attribute \u001b[39m\u001b[38;5;132;01m{\u001b[39;00mname\u001b[38;5;132;01m!r}\u001b[39;00m\u001b[38;5;124m\"\u001b[39m)\n",
      "\u001b[0;31mAttributeError\u001b[0m: module 'matplotlib' has no attribute 'pyplot'"
     ]
    }
   ],
   "source": [
    "emotion='Angry'\n",
    "path=np.array(Ravdess_df.Path[Ravdess_df.Emotions==emotion])[1]\n",
    "\n",
    "y, sr= librosa.load(path)\n",
    "print(f'First 20 values of y:{y[:20]}') #Means almost first 20 ms\n",
    "print(f'Shape of y: {y.shape}')\n",
    "print(f'Sample rate: {sr}')\n",
    "duration=librosa.get_duration(y=y,sr=sr)\n",
    "print(f'The file duration is {duration} seconds')\n",
    "pd.Series(y).plot(figsize=(15,5),lw=1,title='Pure angry voice example')\n",
    "plt.show()\n",
    "pd.Series(y[40000:40100]).plot(figsize=(15,5), lw=1, title='Angry voice example(approximated)')\n",
    "plt.show()\n",
    "#Spectogram and a mathematical parts.\n",
    "d=librosa.stft(y) #Fourier transform here\n",
    "S_db=librosa.amplitude_to_db(np.abs(d), ref=np.max) #Changing ampitude to decibel.\n",
    "a,ax=plt.subplots(figsize=(15,5))\n",
    "img=librosa.display.specshow(S_db,\n",
    "                            x_axis='time',\n",
    "                            y_axis='log',#wave form after transformation.\n",
    "                            ax=ax)\n",
    "ax.set_title('Spectogram Example', fontsize=20)\n",
    "a.colorbar(img, ax=ax,format=f'%0.2f')\n",
    "plt.show()\n",
    "ipd.Audio(path)\n",
    "#Each difference in the graph at the end carries an attribute. Think of it like pixels in pictures"
   ]
  },
  {
   "cell_type": "code",
   "execution_count": 185,
   "metadata": {},
   "outputs": [],
   "source": [
    "emotions={\n",
    "  '01':'neutral',\n",
    "  '02':'calm',\n",
    "  '03':'happy',\n",
    "  '04':'sad',\n",
    "  '05':'angry',\n",
    "  '06':'fear',\n",
    "  '07':'disgust',\n",
    "  '08':'surprised'\n",
    "}\n",
    "\n",
    "#defined tess emotions to test on TESS dataset only\n",
    "tess_emotions=['angry','disgust','fear','ps','happy','sad']\n",
    "\n",
    "##defined RAVDESS emotions to test on RAVDESS dataset only\n",
    "ravdess_emotions=['neutral','calm','angry', 'happy','disgust','sad','fear','surprised']\n",
    "\n",
    "observed_emotions = ['sad','angry','happy','disgust','surprised','neutral','calm','fear']"
   ]
  },
  {
   "cell_type": "markdown",
   "metadata": {},
   "source": [
    "## Feature extraction </p>\n",
    "Using librosa package we can extract the MFCC features. This function loads the file give the file path and after resampling and computing MFCC features, returns the features. We have selected the no. of MFCCs as 40."
   ]
  },
  {
   "cell_type": "code",
   "execution_count": 186,
   "metadata": {},
   "outputs": [],
   "source": [
    "def extract_feature(file_name, mfcc):\n",
    "    X, sample_rate = librosa.load(file_name)\n",
    "    if mfcc:\n",
    "        mfccs=np.mean(librosa.feature.mfcc(y=X, sr=sample_rate, n_mfcc=40).T, axis=0)\n",
    "        result=np.hstack((mfccs))\n",
    "        return result\n",
    "    else:\n",
    "        return None"
   ]
  },
  {
   "cell_type": "code",
   "execution_count": 142,
   "metadata": {},
   "outputs": [],
   "source": [
    "def dataset_options():\n",
    "    # choose datasets\n",
    "    ravdess = True\n",
    "    tess = True\n",
    "    ravdess_speech = False\n",
    "    ravdess_song = False\n",
    "    data = {'ravdess':ravdess, 'ravdess_speech':ravdess_speech, 'ravdess_song':ravdess_song, 'tess':tess}\n",
    "    print(data)\n",
    "    return data"
   ]
  },
  {
   "cell_type": "code",
   "execution_count": 143,
   "metadata": {},
   "outputs": [],
   "source": [
    "def load_data(test_size=0.2): \n",
    "    x,y=[],[]\n",
    "    \n",
    "    # feature to extract\n",
    "    mfcc = True\n",
    "    \n",
    "    data = dataset_options()\n",
    "    paths = []\n",
    "    if data['ravdess']:\n",
    "        paths.append(\"./data/ravdess-emotional-*/audio_*_actors_01-24/*/Actor_*/*.wav\")\n",
    "    elif data['ravdess_speech']:\n",
    "        paths.append(\"./data/ravdess-emotional-speech-audio/audio_speech_actors_01-24/Actor_*/*.wav\")\n",
    "    elif data['ravdess_song']:\n",
    "        paths.append(\"./data/ravdess-emotional-song-audio/audio_song_actors_01-24/Actor_*/*.wav\")\n",
    "        \n",
    "    for path in paths:\n",
    "        for file in glob.glob(path):\n",
    "            file_name=os.path.basename(file)\n",
    "            emotion=emotions[file_name.split(\"-\")[2]] #to get emotion according to filename. dictionary emotions is defined above.\n",
    "            if emotion not in observed_emotions: #options observed_emotions - RAVDESS and TESS, ravdess_emotions for RAVDESS only\n",
    "                continue\n",
    "            feature=extract_feature(file, mfcc)\n",
    "            x.append(feature)\n",
    "            y.append(emotion)\n",
    "    if data['tess']:\n",
    "        for file in glob.glob(\"./data/toronto-emotional-speech-set-tess/tess toronto emotional speech set data/TESS Toronto emotional speech set data/*AF_*/*.wav\"):\n",
    "            file_name=os.path.basename(file)\n",
    "            emotion=file_name.split(\"_\")[2][:-4] #split and remove .wav\n",
    "            if emotion == 'ps':\n",
    "                emotion = 'surprised'\n",
    "            if emotion not in observed_emotions: #options observed_emotions - RAVDESS and TESS, ravdess_emotions for RAVDESS only\n",
    "                continue\n",
    "            feature=extract_feature(file, mfcc)\n",
    "            x.append(feature)\n",
    "            y.append(emotion)\n",
    "    return {\"X\":x,\"y\":y}"
   ]
  },
  {
   "cell_type": "code",
   "execution_count": 144,
   "metadata": {},
   "outputs": [
    {
     "name": "stdout",
     "output_type": "stream",
     "text": [
      "{'ravdess': True, 'ravdess_speech': False, 'ravdess_song': False, 'tess': True}\n",
      "--- Data loaded. Loading time: 27.735985279083252 seconds ---\n"
     ]
    }
   ],
   "source": [
    "start_time = time.time()\n",
    "\n",
    "Trial_dict = load_data(test_size = 0.3)\n",
    "\n",
    "print(\"--- Data loaded. Loading time: %s seconds ---\" % (time.time() - start_time))"
   ]
  },
  {
   "cell_type": "code",
   "execution_count": 145,
   "metadata": {},
   "outputs": [],
   "source": [
    "X = pd.DataFrame(Trial_dict[\"X\"])\n",
    "y = pd.DataFrame(Trial_dict[\"y\"])"
   ]
  },
  {
   "cell_type": "code",
   "execution_count": 146,
   "metadata": {},
   "outputs": [
    {
     "data": {
      "text/plain": [
       "((2800, 40), (2800, 1))"
      ]
     },
     "execution_count": 146,
     "metadata": {},
     "output_type": "execute_result"
    }
   ],
   "source": [
    "X.shape, y.shape\n"
   ]
  },
  {
   "cell_type": "code",
   "execution_count": 147,
   "metadata": {},
   "outputs": [],
   "source": [
    "#renaming the label column to emotion\n",
    "y=y.rename(columns= {0: 'emotion'})"
   ]
  },
  {
   "cell_type": "code",
   "execution_count": 148,
   "metadata": {},
   "outputs": [],
   "source": [
    "#concatinating the attributes and label into a single dataframe\n",
    "data = pd.concat([X, y], axis =1)"
   ]
  },
  {
   "cell_type": "code",
   "execution_count": 149,
   "metadata": {},
   "outputs": [
    {
     "data": {
      "text/html": [
       "<div>\n",
       "<style scoped>\n",
       "    .dataframe tbody tr th:only-of-type {\n",
       "        vertical-align: middle;\n",
       "    }\n",
       "\n",
       "    .dataframe tbody tr th {\n",
       "        vertical-align: top;\n",
       "    }\n",
       "\n",
       "    .dataframe thead th {\n",
       "        text-align: right;\n",
       "    }\n",
       "</style>\n",
       "<table border=\"1\" class=\"dataframe\">\n",
       "  <thead>\n",
       "    <tr style=\"text-align: right;\">\n",
       "      <th></th>\n",
       "      <th>0</th>\n",
       "      <th>1</th>\n",
       "      <th>2</th>\n",
       "      <th>3</th>\n",
       "      <th>4</th>\n",
       "      <th>5</th>\n",
       "      <th>6</th>\n",
       "      <th>7</th>\n",
       "      <th>8</th>\n",
       "      <th>9</th>\n",
       "      <th>...</th>\n",
       "      <th>31</th>\n",
       "      <th>32</th>\n",
       "      <th>33</th>\n",
       "      <th>34</th>\n",
       "      <th>35</th>\n",
       "      <th>36</th>\n",
       "      <th>37</th>\n",
       "      <th>38</th>\n",
       "      <th>39</th>\n",
       "      <th>emotion</th>\n",
       "    </tr>\n",
       "  </thead>\n",
       "  <tbody>\n",
       "    <tr>\n",
       "      <th>0</th>\n",
       "      <td>-395.923187</td>\n",
       "      <td>55.026707</td>\n",
       "      <td>32.469589</td>\n",
       "      <td>41.025909</td>\n",
       "      <td>-2.187212</td>\n",
       "      <td>1.898294</td>\n",
       "      <td>0.095082</td>\n",
       "      <td>-12.554935</td>\n",
       "      <td>-2.133380</td>\n",
       "      <td>-6.832082</td>\n",
       "      <td>...</td>\n",
       "      <td>11.589653</td>\n",
       "      <td>6.619959</td>\n",
       "      <td>7.076109</td>\n",
       "      <td>3.669908</td>\n",
       "      <td>5.081709</td>\n",
       "      <td>4.937590</td>\n",
       "      <td>7.743402</td>\n",
       "      <td>8.257545</td>\n",
       "      <td>7.707994</td>\n",
       "      <td>sad</td>\n",
       "    </tr>\n",
       "    <tr>\n",
       "      <th>1</th>\n",
       "      <td>-390.153290</td>\n",
       "      <td>73.906082</td>\n",
       "      <td>31.432314</td>\n",
       "      <td>21.121704</td>\n",
       "      <td>-8.272453</td>\n",
       "      <td>8.970997</td>\n",
       "      <td>-0.678684</td>\n",
       "      <td>-10.258140</td>\n",
       "      <td>-0.238444</td>\n",
       "      <td>-11.077339</td>\n",
       "      <td>...</td>\n",
       "      <td>10.413521</td>\n",
       "      <td>6.404994</td>\n",
       "      <td>7.137626</td>\n",
       "      <td>3.829421</td>\n",
       "      <td>1.692455</td>\n",
       "      <td>3.660476</td>\n",
       "      <td>7.661307</td>\n",
       "      <td>10.224342</td>\n",
       "      <td>10.732819</td>\n",
       "      <td>sad</td>\n",
       "    </tr>\n",
       "    <tr>\n",
       "      <th>2</th>\n",
       "      <td>-407.488190</td>\n",
       "      <td>65.328049</td>\n",
       "      <td>32.287479</td>\n",
       "      <td>23.726473</td>\n",
       "      <td>0.261888</td>\n",
       "      <td>12.293596</td>\n",
       "      <td>-5.078369</td>\n",
       "      <td>-14.261120</td>\n",
       "      <td>0.174471</td>\n",
       "      <td>-9.408598</td>\n",
       "      <td>...</td>\n",
       "      <td>8.216681</td>\n",
       "      <td>7.958733</td>\n",
       "      <td>9.298522</td>\n",
       "      <td>7.379335</td>\n",
       "      <td>3.655792</td>\n",
       "      <td>0.589773</td>\n",
       "      <td>1.898443</td>\n",
       "      <td>5.391299</td>\n",
       "      <td>9.915278</td>\n",
       "      <td>sad</td>\n",
       "    </tr>\n",
       "    <tr>\n",
       "      <th>3</th>\n",
       "      <td>-387.322632</td>\n",
       "      <td>54.436314</td>\n",
       "      <td>25.604679</td>\n",
       "      <td>36.773071</td>\n",
       "      <td>-0.173660</td>\n",
       "      <td>4.611219</td>\n",
       "      <td>-4.627420</td>\n",
       "      <td>-14.561165</td>\n",
       "      <td>-1.714036</td>\n",
       "      <td>-6.219888</td>\n",
       "      <td>...</td>\n",
       "      <td>7.954092</td>\n",
       "      <td>7.076312</td>\n",
       "      <td>12.121994</td>\n",
       "      <td>5.972587</td>\n",
       "      <td>5.558410</td>\n",
       "      <td>1.096476</td>\n",
       "      <td>3.030850</td>\n",
       "      <td>1.694794</td>\n",
       "      <td>5.062217</td>\n",
       "      <td>sad</td>\n",
       "    </tr>\n",
       "    <tr>\n",
       "      <th>4</th>\n",
       "      <td>-357.914062</td>\n",
       "      <td>61.452812</td>\n",
       "      <td>36.500893</td>\n",
       "      <td>28.281685</td>\n",
       "      <td>-5.489271</td>\n",
       "      <td>9.889565</td>\n",
       "      <td>0.604093</td>\n",
       "      <td>-5.090937</td>\n",
       "      <td>-0.140142</td>\n",
       "      <td>-2.965128</td>\n",
       "      <td>...</td>\n",
       "      <td>11.888451</td>\n",
       "      <td>4.998685</td>\n",
       "      <td>1.134949</td>\n",
       "      <td>-3.628130</td>\n",
       "      <td>1.082961</td>\n",
       "      <td>-0.769865</td>\n",
       "      <td>4.860218</td>\n",
       "      <td>4.971401</td>\n",
       "      <td>6.000301</td>\n",
       "      <td>sad</td>\n",
       "    </tr>\n",
       "  </tbody>\n",
       "</table>\n",
       "<p>5 rows × 41 columns</p>\n",
       "</div>"
      ],
      "text/plain": [
       "            0          1          2          3         4          5         6  \\\n",
       "0 -395.923187  55.026707  32.469589  41.025909 -2.187212   1.898294  0.095082   \n",
       "1 -390.153290  73.906082  31.432314  21.121704 -8.272453   8.970997 -0.678684   \n",
       "2 -407.488190  65.328049  32.287479  23.726473  0.261888  12.293596 -5.078369   \n",
       "3 -387.322632  54.436314  25.604679  36.773071 -0.173660   4.611219 -4.627420   \n",
       "4 -357.914062  61.452812  36.500893  28.281685 -5.489271   9.889565  0.604093   \n",
       "\n",
       "           7         8          9  ...         31        32         33  \\\n",
       "0 -12.554935 -2.133380  -6.832082  ...  11.589653  6.619959   7.076109   \n",
       "1 -10.258140 -0.238444 -11.077339  ...  10.413521  6.404994   7.137626   \n",
       "2 -14.261120  0.174471  -9.408598  ...   8.216681  7.958733   9.298522   \n",
       "3 -14.561165 -1.714036  -6.219888  ...   7.954092  7.076312  12.121994   \n",
       "4  -5.090937 -0.140142  -2.965128  ...  11.888451  4.998685   1.134949   \n",
       "\n",
       "         34        35        36        37         38         39  emotion  \n",
       "0  3.669908  5.081709  4.937590  7.743402   8.257545   7.707994      sad  \n",
       "1  3.829421  1.692455  3.660476  7.661307  10.224342  10.732819      sad  \n",
       "2  7.379335  3.655792  0.589773  1.898443   5.391299   9.915278      sad  \n",
       "3  5.972587  5.558410  1.096476  3.030850   1.694794   5.062217      sad  \n",
       "4 -3.628130  1.082961 -0.769865  4.860218   4.971401   6.000301      sad  \n",
       "\n",
       "[5 rows x 41 columns]"
      ]
     },
     "execution_count": 149,
     "metadata": {},
     "output_type": "execute_result"
    }
   ],
   "source": [
    "data.head()\n"
   ]
  },
  {
   "cell_type": "markdown",
   "metadata": {},
   "source": [
    "## Shuffling data # reindexing to shuffle the data at random\n",
    "data = data.reindex(np.random.permutation(data.index))"
   ]
  },
  {
   "cell_type": "code",
   "execution_count": 152,
   "metadata": {},
   "outputs": [],
   "source": [
    "#reindexing to shuffle the data at random\n",
    "data = data.reindex(np.random.permutation(data.index))"
   ]
  },
  {
   "cell_type": "code",
   "execution_count": 153,
   "metadata": {},
   "outputs": [],
   "source": [
    "# Storing shuffled ravdess and tess data to avoid loading again\n",
    "data.to_csv('./data/ravtess_speech_toronto_combined_dataset.csv')"
   ]
  },
  {
   "cell_type": "code",
   "execution_count": 154,
   "metadata": {},
   "outputs": [
    {
     "name": "stdout",
     "output_type": "stream",
     "text": [
      "data loaded in 0.017210721969604492ms\n",
      "   Unnamed: 0          0          1          2          3          4  \\\n",
      "0          38 -393.49442  67.131900  17.878880  27.266964   3.593044   \n",
      "1        2003 -457.82000  88.138435  19.953570  -2.262516   8.857628   \n",
      "2        1454 -511.16160  49.952698  22.006521   7.366172  10.014528   \n",
      "3         214 -377.78660  42.761684   0.657564  37.506187   3.670928   \n",
      "4         366 -420.49918  90.971430  10.826940   9.523824  -6.295098   \n",
      "\n",
      "           5         6          7          8  ...         31        32  \\\n",
      "0   4.848331 -2.458469 -13.082308   4.566105  ...  10.295454  7.844805   \n",
      "1  10.219079 -7.884429   3.811642 -15.124985  ...   3.418458  2.743249   \n",
      "2  18.354456 -5.512166 -16.306757 -15.804434  ...  -2.109403 -4.898570   \n",
      "3 -12.128281 -8.561009 -16.336258  -6.645587  ...  -4.165373 -0.952894   \n",
      "4   7.029306 -2.196814 -21.295773   4.173575  ...  -2.983409 -3.599995   \n",
      "\n",
      "          33         34         35         36         37         38  \\\n",
      "0  12.634688   7.192439   4.329082   3.933036   4.103222   6.708464   \n",
      "1   4.599412   4.508204   7.246151   8.294083  11.554999  11.593089   \n",
      "2  -2.184972   1.090074   9.095954  15.419742  24.011585  23.616526   \n",
      "3  13.487305  23.567532  34.793533  33.227634  21.392962   6.818074   \n",
      "4  10.699238  19.521534  32.771854  28.318123  21.883118   5.247165   \n",
      "\n",
      "          39  emotion  \n",
      "0   7.305436      sad  \n",
      "1  13.419223  disgust  \n",
      "2  22.098501  neutral  \n",
      "3  -0.841806  neutral  \n",
      "4  -1.335849  neutral  \n",
      "\n",
      "[5 rows x 42 columns]\n"
     ]
    }
   ],
   "source": [
    "starting_time = time.time()\n",
    "data = pd.read_csv(\"./data/ravtess_speech_dataset.csv\")\n",
    "print(\"data loaded in \" + str(time.time()-starting_time) + \"ms\")\n",
    "\n",
    "print(data.head())"
   ]
  },
  {
   "cell_type": "code",
   "execution_count": 155,
   "metadata": {},
   "outputs": [
    {
     "data": {
      "text/plain": [
       "(2800, 42)"
      ]
     },
     "execution_count": 155,
     "metadata": {},
     "output_type": "execute_result"
    }
   ],
   "source": [
    "data.shape"
   ]
  },
  {
   "cell_type": "code",
   "execution_count": 156,
   "metadata": {},
   "outputs": [
    {
     "data": {
      "text/plain": [
       "Index(['Unnamed: 0', '0', '1', '2', '3', '4', '5', '6', '7', '8', '9', '10',\n",
       "       '11', '12', '13', '14', '15', '16', '17', '18', '19', '20', '21', '22',\n",
       "       '23', '24', '25', '26', '27', '28', '29', '30', '31', '32', '33', '34',\n",
       "       '35', '36', '37', '38', '39', 'emotion'],\n",
       "      dtype='object')"
      ]
     },
     "execution_count": 156,
     "metadata": {},
     "output_type": "execute_result"
    }
   ],
   "source": [
    "data.columns"
   ]
  },
  {
   "cell_type": "code",
   "execution_count": 157,
   "metadata": {},
   "outputs": [],
   "source": [
    "#dropping the column Unnamed: 0 to removed shuffled index\n",
    "data = data.drop('Unnamed: 0',axis=1)"
   ]
  },
  {
   "cell_type": "code",
   "execution_count": 158,
   "metadata": {},
   "outputs": [
    {
     "data": {
      "text/plain": [
       "Index(['0', '1', '2', '3', '4', '5', '6', '7', '8', '9', '10', '11', '12',\n",
       "       '13', '14', '15', '16', '17', '18', '19', '20', '21', '22', '23', '24',\n",
       "       '25', '26', '27', '28', '29', '30', '31', '32', '33', '34', '35', '36',\n",
       "       '37', '38', '39', 'emotion'],\n",
       "      dtype='object')"
      ]
     },
     "execution_count": 158,
     "metadata": {},
     "output_type": "execute_result"
    }
   ],
   "source": [
    "data.columns"
   ]
  },
  {
   "cell_type": "code",
   "execution_count": 159,
   "metadata": {},
   "outputs": [],
   "source": [
    "#separating features and target outputs\n",
    "X = data.drop('emotion', axis = 1).values\n",
    "y = data['emotion'].values"
   ]
  },
  {
   "cell_type": "code",
   "execution_count": 160,
   "metadata": {},
   "outputs": [
    {
     "name": "stdout",
     "output_type": "stream",
     "text": [
      "['sad' 'disgust' 'neutral' ... 'surprised' 'neutral' 'disgust']\n"
     ]
    }
   ],
   "source": [
    "print(y)"
   ]
  },
  {
   "cell_type": "code",
   "execution_count": 161,
   "metadata": {},
   "outputs": [],
   "source": [
    "import pandas as pd\n",
    "import numpy as np\n",
    "import matplotlib.pyplot as plt\n",
    "%matplotlib inline"
   ]
  },
  {
   "cell_type": "code",
   "execution_count": 162,
   "metadata": {},
   "outputs": [
    {
     "data": {
      "text/plain": [
       "((2800, 40), (2800,))"
      ]
     },
     "execution_count": 162,
     "metadata": {},
     "output_type": "execute_result"
    }
   ],
   "source": [
    "X.shape, y.shape"
   ]
  },
  {
   "cell_type": "code",
   "execution_count": 163,
   "metadata": {},
   "outputs": [
    {
     "data": {
      "text/plain": [
       "array(['angry', 'disgust', 'fear', 'happy', 'neutral', 'sad', 'surprised'],\n",
       "      dtype=object)"
      ]
     },
     "execution_count": 163,
     "metadata": {},
     "output_type": "execute_result"
    }
   ],
   "source": [
    "np.unique(y)"
   ]
  },
  {
   "cell_type": "code",
   "execution_count": null,
   "metadata": {},
   "outputs": [],
   "source": []
  },
  {
   "cell_type": "markdown",
   "metadata": {},
   "source": [
    "X variable contains attributes while y variable contains corresponding labels.\n",
    "\n",
    "Once the data is divided into attributes and labels, the final preprocessing step is to divide data into training and test sets. The model_selection library of the Scikit-Learn library contains the train_test_split method that allows us to divide data into training and test sets."
   ]
  },
  {
   "cell_type": "code",
   "execution_count": 164,
   "metadata": {},
   "outputs": [],
   "source": [
    "from sklearn.model_selection import train_test_split\n",
    "\n",
    "X_train, X_test, y_train, y_test = train_test_split(X, y, test_size = 0.30)"
   ]
  },
  {
   "cell_type": "code",
   "execution_count": null,
   "metadata": {},
   "outputs": [],
   "source": []
  },
  {
   "cell_type": "markdown",
   "metadata": {},
   "source": [
    "It is the time to train our SVM on the training data. Scikit-Learn contains the svm library, which contains built-in classes for different SVM algorithms. Since we are going to perform a classification task, we will use the support vector classifier class, which is written as SVC in the Scikit-Learn's svm library. We have set the kernel to linear."
   ]
  },
  {
   "cell_type": "code",
   "execution_count": 165,
   "metadata": {},
   "outputs": [],
   "source": [
    "from sklearn.svm import SVC\n",
    "\n",
    "svclassifier = SVC(kernel = 'linear')"
   ]
  },
  {
   "cell_type": "code",
   "execution_count": 166,
   "metadata": {},
   "outputs": [
    {
     "name": "stdout",
     "output_type": "stream",
     "text": [
      "Trained model in 0.043457984924316406 ms \n"
     ]
    }
   ],
   "source": [
    "import time\n",
    "\n",
    "starting_time = time.time()\n",
    "svclassifier.fit(X_train, y_train)\n",
    "print(\"Trained model in %s ms \" % str(time.time() - starting_time))"
   ]
  },
  {
   "cell_type": "code",
   "execution_count": 167,
   "metadata": {},
   "outputs": [],
   "source": [
    "y_pred = svclassifier.predict(X_test)"
   ]
  },
  {
   "cell_type": "markdown",
   "metadata": {},
   "source": [
    "Confusion matrix, precision, recall, and F1 measures are the most commonly used metrics for classification tasks. Scikit-Learn's metrics library contains the classification_report and confusion_matrix methods, which can be readily used to find out the values for these important metrics. We have used the following code for finding these metrics:"
   ]
  },
  {
   "cell_type": "code",
   "execution_count": 171,
   "metadata": {},
   "outputs": [
    {
     "name": "stdout",
     "output_type": "stream",
     "text": [
      "              precision    recall  f1-score   support\n",
      "\n",
      "       angry       0.98      0.99      0.99       125\n",
      "     disgust       0.99      0.99      0.99       137\n",
      "        fear       1.00      1.00      1.00       118\n",
      "       happy       0.96      0.97      0.97       118\n",
      "     neutral       1.00      1.00      1.00       130\n",
      "         sad       1.00      1.00      1.00       113\n",
      "   surprised       0.98      0.95      0.96        99\n",
      "\n",
      "    accuracy                           0.99       840\n",
      "   macro avg       0.99      0.99      0.99       840\n",
      "weighted avg       0.99      0.99      0.99       840\n",
      "\n",
      "----accuracy score 98.80952380952381 ----\n"
     ]
    }
   ],
   "source": [
    "from sklearn.metrics import classification_report, confusion_matrix,accuracy_score\n",
    "import seaborn as sn\n",
    "\n",
    "print(classification_report(y_test,y_pred))\n",
    "\n",
    "acc = float(accuracy_score(y_test,y_pred))*100\n",
    "print(\"----accuracy score %s ----\" % acc)\n",
    "\n",
    "cm = confusion_matrix(y_test,y_pred)"
   ]
  },
  {
   "cell_type": "code",
   "execution_count": 172,
   "metadata": {},
   "outputs": [
    {
     "data": {
      "image/png": "[encoded data removed]",
      "text/plain": [
       "<Figure size 640x480 with 4 Axes>"
      ]
     },
     "metadata": {},
     "output_type": "display_data"
    },
    {
     "ename": "AttributeError",
     "evalue": "module 'matplotlib' has no attribute 'pyplot'",
     "output_type": "error",
     "traceback": [
      "\u001b[0;31m---------------------------------------------------------------------------\u001b[0m",
      "\u001b[0;31mAttributeError\u001b[0m                            Traceback (most recent call last)",
      "Cell \u001b[0;32mIn[172], line 3\u001b[0m\n\u001b[1;32m      1\u001b[0m df_cm \u001b[38;5;241m=\u001b[39m pd\u001b[38;5;241m.\u001b[39mDataFrame(cm)\n\u001b[1;32m      2\u001b[0m sn\u001b[38;5;241m.\u001b[39mheatmap(df_cm, annot\u001b[38;5;241m=\u001b[39m\u001b[38;5;28;01mTrue\u001b[39;00m, fmt\u001b[38;5;241m=\u001b[39m\u001b[38;5;124m'\u001b[39m\u001b[38;5;124m'\u001b[39m)\n\u001b[0;32m----> 3\u001b[0m \u001b[43mplt\u001b[49m\u001b[38;5;241;43m.\u001b[39;49m\u001b[43mshow\u001b[49m\u001b[43m(\u001b[49m\u001b[43m)\u001b[49m\n",
      "File \u001b[0;32m/usr/local/lib/python3.8/dist-packages/matplotlib/pyplot.py:421\u001b[0m, in \u001b[0;36mshow\u001b[0;34m(*args, **kwargs)\u001b[0m\n\u001b[1;32m    377\u001b[0m \u001b[38;5;124;03m\"\"\"\u001b[39;00m\n\u001b[1;32m    378\u001b[0m \u001b[38;5;124;03mDisplay all open figures.\u001b[39;00m\n\u001b[1;32m    379\u001b[0m \n\u001b[0;32m   (...)\u001b[0m\n\u001b[1;32m    418\u001b[0m \u001b[38;5;124;03mexplicitly there.\u001b[39;00m\n\u001b[1;32m    419\u001b[0m \u001b[38;5;124;03m\"\"\"\u001b[39;00m\n\u001b[1;32m    420\u001b[0m _warn_if_gui_out_of_main_thread()\n\u001b[0;32m--> 421\u001b[0m \u001b[38;5;28;01mreturn\u001b[39;00m \u001b[43m_get_backend_mod\u001b[49m\u001b[43m(\u001b[49m\u001b[43m)\u001b[49m\u001b[38;5;241;43m.\u001b[39;49m\u001b[43mshow\u001b[49m\u001b[43m(\u001b[49m\u001b[38;5;241;43m*\u001b[39;49m\u001b[43margs\u001b[49m\u001b[43m,\u001b[49m\u001b[43m \u001b[49m\u001b[38;5;241;43m*\u001b[39;49m\u001b[38;5;241;43m*\u001b[39;49m\u001b[43mkwargs\u001b[49m\u001b[43m)\u001b[49m\n",
      "File \u001b[0;32m/usr/local/lib/python3.8/dist-packages/matplotlib_inline/backend_inline.py:99\u001b[0m, in \u001b[0;36mshow\u001b[0;34m(close, block)\u001b[0m\n\u001b[1;32m     96\u001b[0m \u001b[38;5;66;03m# only call close('all') if any to close\u001b[39;00m\n\u001b[1;32m     97\u001b[0m \u001b[38;5;66;03m# close triggers gc.collect, which can be slow\u001b[39;00m\n\u001b[1;32m     98\u001b[0m \u001b[38;5;28;01mif\u001b[39;00m close \u001b[38;5;129;01mand\u001b[39;00m Gcf\u001b[38;5;241m.\u001b[39mget_all_fig_managers():\n\u001b[0;32m---> 99\u001b[0m     \u001b[43mmatplotlib\u001b[49m\u001b[38;5;241;43m.\u001b[39;49m\u001b[43mpyplot\u001b[49m\u001b[38;5;241m.\u001b[39mclose(\u001b[38;5;124m'\u001b[39m\u001b[38;5;124mall\u001b[39m\u001b[38;5;124m'\u001b[39m)\n",
      "File \u001b[0;32m/usr/local/lib/python3.8/dist-packages/matplotlib/_api/__init__.py:224\u001b[0m, in \u001b[0;36mcaching_module_getattr.<locals>.__getattr__\u001b[0;34m(name)\u001b[0m\n\u001b[1;32m    222\u001b[0m \u001b[38;5;28;01mif\u001b[39;00m name \u001b[38;5;129;01min\u001b[39;00m props:\n\u001b[1;32m    223\u001b[0m     \u001b[38;5;28;01mreturn\u001b[39;00m props[name]\u001b[38;5;241m.\u001b[39m\u001b[38;5;21m__get__\u001b[39m(instance)\n\u001b[0;32m--> 224\u001b[0m \u001b[38;5;28;01mraise\u001b[39;00m \u001b[38;5;167;01mAttributeError\u001b[39;00m(\n\u001b[1;32m    225\u001b[0m     \u001b[38;5;124mf\u001b[39m\u001b[38;5;124m\"\u001b[39m\u001b[38;5;124mmodule \u001b[39m\u001b[38;5;132;01m{\u001b[39;00m\u001b[38;5;28mcls\u001b[39m\u001b[38;5;241m.\u001b[39m\u001b[38;5;18m__module__\u001b[39m\u001b[38;5;132;01m!r}\u001b[39;00m\u001b[38;5;124m has no attribute \u001b[39m\u001b[38;5;132;01m{\u001b[39;00mname\u001b[38;5;132;01m!r}\u001b[39;00m\u001b[38;5;124m\"\u001b[39m)\n",
      "\u001b[0;31mAttributeError\u001b[0m: module 'matplotlib' has no attribute 'pyplot'"
     ]
    }
   ],
   "source": [
    "df_cm = pd.DataFrame(cm)\n",
    "sn.heatmap(df_cm, annot=True, fmt='')\n",
    "plt.show()"
   ]
  },
  {
   "cell_type": "markdown",
   "metadata": {},
   "source": [
    "## Random Forest"
   ]
  },
  {
   "cell_type": "code",
   "execution_count": 175,
   "metadata": {},
   "outputs": [
    {
     "name": "stdout",
     "output_type": "stream",
     "text": [
      "0.9964285714285714\n",
      "              precision    recall  f1-score   support\n",
      "\n",
      "       angry       1.00      0.99      1.00       125\n",
      "     disgust       1.00      0.99      0.99       137\n",
      "        fear       1.00      1.00      1.00       118\n",
      "       happy       0.99      1.00      1.00       118\n",
      "     neutral       1.00      1.00      1.00       130\n",
      "         sad       0.99      1.00      1.00       113\n",
      "   surprised       0.99      1.00      0.99        99\n",
      "\n",
      "    accuracy                           1.00       840\n",
      "   macro avg       1.00      1.00      1.00       840\n",
      "weighted avg       1.00      1.00      1.00       840\n",
      "\n",
      "[[124   0   0   1   0   0   0]\n",
      " [  0 135   0   0   0   1   1]\n",
      " [  0   0 118   0   0   0   0]\n",
      " [  0   0   0 118   0   0   0]\n",
      " [  0   0   0   0 130   0   0]\n",
      " [  0   0   0   0   0 113   0]\n",
      " [  0   0   0   0   0   0  99]]\n"
     ]
    }
   ],
   "source": [
    "from sklearn.ensemble import RandomForestClassifier\n",
    "  \n",
    " # create regressor object \n",
    "classifier = RandomForestClassifier(n_estimators = 100, random_state = 0) \n",
    "  \n",
    "# fit the regressor with x and y data \n",
    "classifier.fit(X_train, y_train)   \n",
    "\n",
    "c_p = classifier.predict(X_test) \n",
    "\n",
    "\n",
    "print(accuracy_score(y_true=y_test,y_pred=c_p))\n",
    "print(classification_report(y_test,c_p)) \n",
    "# creating a confusion matrix \n",
    "print(confusion_matrix(y_test,c_p) )"
   ]
  },
  {
   "cell_type": "code",
   "execution_count": null,
   "metadata": {},
   "outputs": [],
   "source": []
  }
 ],
 "metadata": {
  "kernelspec": {
   "display_name": "Python 3 (ipykernel)",
   "language": "python",
   "name": "python3"
  },
  "language_info": {
   "codemirror_mode": {
    "name": "ipython",
    "version": 3
   },
   "file_extension": ".py",
   "mimetype": "text/x-python",
   "name": "python",
   "nbconvert_exporter": "python",
   "pygments_lexer": "ipython3",
   "version": "3.8.10"
  }
 },
 "nbformat": 4,
 "nbformat_minor": 4
}
