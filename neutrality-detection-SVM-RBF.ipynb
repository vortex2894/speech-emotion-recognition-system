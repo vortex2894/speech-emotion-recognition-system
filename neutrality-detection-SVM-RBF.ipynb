{
 "cells": [
  {
   "cell_type": "markdown",
   "metadata": {},
   "source": [
    "# Libraries"
   ]
  },
  {
   "cell_type": "code",
   "execution_count": 1,
   "metadata": {},
   "outputs": [
    {
     "name": "stderr",
     "output_type": "stream",
     "text": [
      "/home/vrtx26/.local/lib/python3.8/site-packages/pydub/utils.py:170: RuntimeWarning: Couldn't find ffmpeg or avconv - defaulting to ffmpeg, but may not work\n",
      "  warn(\"Couldn't find ffmpeg or avconv - defaulting to ffmpeg, but may not work\", RuntimeWarning)\n"
     ]
    }
   ],
   "source": [
    "from matplotlib import pyplot as plt\n",
    "%matplotlib inline\n",
    "# %matplotlib widget    # interactive 3d plots\n",
    "from sklearn.svm import SVC\n",
    "import time\n",
    "import pandas as pd\n",
    "import numpy as np\n",
    "from tqdm import tqdm\n",
    "import data_loader\n",
    "import model_evaluation\n",
    "import plotting_utils\n",
    "import model_training\n",
    "from sklearn import linear_model\n",
    "from sklearn import metrics\n",
    "import copy\n",
    "from mv_utils import lasso_rank, SVM_eval\n",
    "# from tqdm import tqdm"
   ]
  },
  {
   "cell_type": "markdown",
   "metadata": {},
   "source": [
    "# Feature (MFCC) extraction (Dataset generation)"
   ]
  },
  {
   "cell_type": "code",
   "execution_count": 3,
   "metadata": {},
   "outputs": [
    {
     "name": "stdout",
     "output_type": "stream",
     "text": [
      "{'ravdess': True, 'ravdess_speech': False, 'ravdess_song': False, 'tess': False}\n",
      "INFO: n_fft=16384, n_mfcc=34\n",
      "{'ravdess': True, 'ravdess_speech': False, 'ravdess_song': False, 'tess': False}\n"
     ]
    },
    {
     "name": "stderr",
     "output_type": "stream",
     "text": [
      "0it [00:00, ?it/s]"
     ]
    },
    {
     "name": "stdout",
     "output_type": "stream",
     "text": [
      "--- Data loaded. Loading time: 0.003998756408691406 seconds ---\n",
      "X.shape =  (0, 0)\n",
      "y.shape =  (0, 0)\n",
      "ID.shape =  (0, 0)\n",
      "data loaded in 0.010998964309692383ms\n",
      "Empty DataFrame\n",
      "Columns: []\n",
      "Index: []\n",
      "X.shape =  (0, 0)\n",
      "X.columns =  Index([], dtype='object')\n"
     ]
    },
    {
     "name": "stderr",
     "output_type": "stream",
     "text": [
      "\n"
     ]
    }
   ],
   "source": [
    "# run this function if you need to generate a csv data set from scratch\n",
    "X, y, ID = data_loader.load_dataset(should_generate_dataset=True, \n",
    "                                    use_vad=False, \n",
    "                                    use_delta_mfcc=False,\n",
    "                                    use_delta_delta_mfcc=True)"
   ]
  },
  {
   "cell_type": "markdown",
   "metadata": {},
   "source": [
    "# Loading Dataset"
   ]
  },
  {
   "cell_type": "code",
   "execution_count": 2,
   "metadata": {},
   "outputs": [
    {
     "name": "stdout",
     "output_type": "stream",
     "text": [
      "data loaded in 0.1179206371307373ms\n",
      "          0         1         2         3         4         5         6  \\\n",
      "0  0.327805 -0.464719 -0.540320 -0.983787 -1.276392 -0.517576 -0.059207   \n",
      "1 -0.483202 -0.287426  0.073267 -0.259939 -1.043461  0.220426 -0.243781   \n",
      "2 -0.982079  1.092156 -0.237941 -0.002997 -0.934974  0.313563  0.708375   \n",
      "3  0.968642 -1.604765 -0.123183 -0.789169 -1.783557 -0.222486 -0.352760   \n",
      "4  0.548607 -1.485735 -0.842989 -0.959707 -1.563772 -0.373401 -0.273213   \n",
      "\n",
      "          7         8         9  ...       296       297       298       299  \\\n",
      "0 -1.325718 -0.865250 -1.400271  ... -0.000500  0.245232  0.467592  0.179897   \n",
      "1 -0.745799 -0.558315 -0.667095  ...  0.081401 -0.156604  0.054227  1.335473   \n",
      "2  0.392641 -0.112142 -0.675854  ...  1.159202 -0.281807  0.370446  0.969862   \n",
      "3 -1.354752 -0.871037 -0.944073  ... -0.582348  1.606737 -1.213523  0.283672   \n",
      "4 -1.374351 -0.530736 -0.333489  ... -0.312877 -1.016252 -0.713702  0.537837   \n",
      "\n",
      "        300       301       302       303       304       305  \n",
      "0 -0.071906 -0.257116  0.544333 -0.231348  0.071897 -0.767122  \n",
      "1 -0.344696  0.016769  0.729152  0.075905 -0.108514 -0.293366  \n",
      "2 -0.315806  0.671840  0.658161  0.343669  1.597481  0.445682  \n",
      "3 -0.615416 -0.066494 -0.169077 -0.277765 -0.735832 -0.675801  \n",
      "4  1.182357  1.962940 -0.635250  0.001021 -0.530822 -0.600576  \n",
      "\n",
      "[5 rows x 306 columns]\n",
      "X.shape =  (1440, 306)\n",
      "X.columns =  Index(['0', '1', '2', '3', '4', '5', '6', '7', '8', '9',\n",
      "       ...\n",
      "       '296', '297', '298', '299', '300', '301', '302', '303', '304', '305'],\n",
      "      dtype='object', length=306)\n"
     ]
    }
   ],
   "source": [
    "X, y, ID = data_loader.load_dataset(X_path='data/2023-11-08/feature_mfcc_34_delta_delta_nfft_4096.csv', \n",
    "                                    y_path='data/2023-11-08/y_labels_feature_34_mfcc_delta_delta_nfft_4096.csv',\n",
    "                                    ID_path='data/2023-11-08/IDs_feature_mfcc_34_delta_delta_nfft_4096.csv') "
   ]
  },
  {
   "cell_type": "markdown",
   "metadata": {},
   "source": [
    "## Relabeling and normilizing"
   ]
  },
  {
   "cell_type": "code",
   "execution_count": 3,
   "metadata": {},
   "outputs": [],
   "source": [
    "y_true = np.zeros((len(y)))\n",
    "y_true[np.squeeze(y.values=='neutral')] = 1\n",
    "y_true[y_true==0] = -1\n",
    "\n",
    "X_data = X.values\n",
    "X_norm = (X_data - X_data.mean(axis=0)) / X_data.std(axis=0)\n",
    "y_reg = copy.copy(y_true)"
   ]
  },
  {
   "cell_type": "markdown",
   "metadata": {},
   "source": [
    "# LASSO ranking"
   ]
  },
  {
   "cell_type": "code",
   "execution_count": 4,
   "metadata": {},
   "outputs": [
    {
     "name": "stderr",
     "output_type": "stream",
     "text": [
      "/usr/local/lib/python3.8/dist-packages/sklearn/linear_model/_coordinate_descent.py:631: ConvergenceWarning: Objective did not converge. You might want to increase the number of iterations, check the scale of the features or consider increasing regularisation. Duality gap: 1.197e+02, tolerance: 3.584e-02\n",
      "  model = cd_fast.enet_coordinate_descent(\n",
      "/usr/local/lib/python3.8/dist-packages/sklearn/linear_model/_coordinate_descent.py:631: ConvergenceWarning: Objective did not converge. You might want to increase the number of iterations, check the scale of the features or consider increasing regularisation. Duality gap: 1.195e+02, tolerance: 3.584e-02\n",
      "  model = cd_fast.enet_coordinate_descent(\n",
      "/usr/local/lib/python3.8/dist-packages/sklearn/linear_model/_coordinate_descent.py:631: ConvergenceWarning: Objective did not converge. You might want to increase the number of iterations, check the scale of the features or consider increasing regularisation. Duality gap: 1.154e+02, tolerance: 3.584e-02\n",
      "  model = cd_fast.enet_coordinate_descent(\n",
      "/usr/local/lib/python3.8/dist-packages/sklearn/linear_model/_coordinate_descent.py:631: ConvergenceWarning: Objective did not converge. You might want to increase the number of iterations, check the scale of the features or consider increasing regularisation. Duality gap: 6.987e+01, tolerance: 3.584e-02\n",
      "  model = cd_fast.enet_coordinate_descent(\n",
      "/usr/local/lib/python3.8/dist-packages/sklearn/linear_model/_coordinate_descent.py:631: ConvergenceWarning: Objective did not converge. You might want to increase the number of iterations, check the scale of the features or consider increasing regularisation. Duality gap: 5.593e+01, tolerance: 3.584e-02\n",
      "  model = cd_fast.enet_coordinate_descent(\n",
      "/usr/local/lib/python3.8/dist-packages/sklearn/linear_model/_coordinate_descent.py:631: ConvergenceWarning: Objective did not converge. You might want to increase the number of iterations, check the scale of the features or consider increasing regularisation. Duality gap: 4.775e+01, tolerance: 3.584e-02\n",
      "  model = cd_fast.enet_coordinate_descent(\n"
     ]
    },
    {
     "data": {
      "text/plain": [
       "Text(0, 0.5, 'Coeffs')"
      ]
     },
     "execution_count": 4,
     "metadata": {},
     "output_type": "execute_result"
    },
    {
     "data": {
      "image/png": "[encoded data removed]",
      "text/plain": [
       "<Figure size 704x528 with 1 Axes>"
      ]
     },
     "metadata": {},
     "output_type": "display_data"
    }
   ],
   "source": [
    "\n",
    "Lasso_model = linear_model.Lasso()\n",
    "Npt = 10\n",
    "coeffs = np.zeros((X_norm.shape[1],Npt))\n",
    "lambda_ = np.logspace(-12.0, 0.5, Npt)\n",
    "i = 0\n",
    "for lamb in lambda_:\n",
    "    Lasso_model = linear_model.Lasso(alpha=lamb, max_iter=20000)\n",
    "    Lasso_model.fit(X_norm,y_reg)\n",
    "    coeffs[:,i] = Lasso_model.coef_\n",
    "    i = i + 1\n",
    "\n",
    "plt.figure(dpi=110)\n",
    "plt.plot(coeffs.T)\n",
    "plt.xlabel('$\\lambda$ number')\n",
    "plt.ylabel('Coeffs')"
   ]
  },
  {
   "cell_type": "code",
   "execution_count": 5,
   "metadata": {},
   "outputs": [],
   "source": [
    "Rank_lasso = []\n",
    "for i in range(coeffs.shape[1]-1,-1,-1):\n",
    "    withdraw_features = np.nonzero(coeffs[:,i])[0];\n",
    "    something_new = np.setdiff1d(withdraw_features, Rank_lasso)\n",
    "    if len(something_new):\n",
    "        for ii in range(len(something_new)):\n",
    "            Rank_lasso.append(something_new[ii])"
   ]
  },
  {
   "cell_type": "code",
   "execution_count": 6,
   "metadata": {},
   "outputs": [],
   "source": [
    "np.save('data/Lasso_Ranking_neutral_result.npy', Rank_lasso)    # .npy extension is added if not given\n",
    "Rank_lasso = np.load('data/Lasso_Ranking_neutral_result.npy')"
   ]
  },
  {
   "cell_type": "markdown",
   "metadata": {},
   "source": [
    "# LOSO accuracy estimation"
   ]
  },
  {
   "cell_type": "code",
   "execution_count": 7,
   "metadata": {},
   "outputs": [
    {
     "name": "stdout",
     "output_type": "stream",
     "text": [
      "Iter =  1  AUC = 0.7608\n",
      "Iter =  3  AUC = 0.7664\n",
      "Iter =  4  AUC = 0.7801\n",
      "Iter =  15  AUC = 0.7935\n",
      "Iter =  27  AUC = 0.7972\n",
      "Iter =  28  AUC = 0.7987\n",
      "Iter =  29  AUC = 0.8002\n",
      "Iter =  37  AUC = 0.8151\n",
      "Iter =  49  AUC = 0.8173\n",
      "Iter =  67  AUC = 0.8348\n",
      "Iter =  68  AUC = 0.8400\n",
      "auc_best = 0.84002976\n"
     ]
    },
    {
     "data": {
      "image/png": "[encoded data removed]",
      "text/plain": [
       "<Figure size 700x400 with 1 Axes>"
      ]
     },
     "metadata": {},
     "output_type": "display_data"
    }
   ],
   "source": [
    "# Rank = lasso_rank(X,y)\n",
    "# Rank = np.array(Rank)\n",
    "\n",
    "# subj_IDs = np.squeeze(ID.values)\n",
    "\n",
    "Rank = Rank_lasso\n",
    "auc_svm = []\n",
    "auc_best = 0\n",
    "ind_best = 0\n",
    "for k in range(1,len(Rank)+1):\n",
    "    feature_inds = Rank[:k]\n",
    "    auc = SVM_eval(X_norm,y_reg, feature_inds, ID)    \n",
    "    auc_svm.append(auc)\n",
    "    if (auc>auc_best):\n",
    "        auc_best = auc\n",
    "        ind_best = k-1\n",
    "        print('Iter = ', k, f' AUC = {auc:.4f}' )\n",
    "    \n",
    "fig,ax=plt.subplots(figsize=(7,4),dpi=100)\n",
    "plt.rcParams.update({'font.size': 14})\n",
    "plt.plot(auc_svm,marker='o', linestyle='dashed')\n",
    "plt.text(ind_best, auc_best+0.01, f'{auc_best:.3f}')\n",
    "plt.xlabel('Number of features')\n",
    "plt.ylabel('Accuracy')\n",
    "plt.title('LDA classifier')\n",
    "plt.ylim([0.45, 1.00])\n",
    "\n",
    "print(f'auc_best = {auc_best:.8f}')\n",
    "\n",
    "# image_name = 'figures\\\\ACC_LDA_vowel_a.jpg'\n",
    "# fig.savefig(image_name, bbox_inches='tight', pad_inches = 0.2)"
   ]
  },
  {
   "cell_type": "code",
   "execution_count": 8,
   "metadata": {},
   "outputs": [
    {
     "name": "stdout",
     "output_type": "stream",
     "text": [
      "best auc (LDA) =  0.8400297619047619 Number of features =  67\n"
     ]
    }
   ],
   "source": [
    "print('best auc (LDA) = ', np.max(auc_svm), 'Number of features = ', np.argmax(auc_svm))"
   ]
  },
  {
   "cell_type": "markdown",
   "metadata": {},
   "source": [
    "# Backward step selection"
   ]
  },
  {
   "cell_type": "code",
   "execution_count": 9,
   "metadata": {},
   "outputs": [],
   "source": [
    "def back_step_selection_loso(X,y,feature_ind, ID):\n",
    "# BACK_STEP_SELECTION Automatic procedure of feature selection\n",
    "\n",
    "#basic version\n",
    "   acc_mu_curr = SVM_eval(X,y,feature_ind, ID)\n",
    "   some_feature_droped = True\n",
    "   while (some_feature_droped):\n",
    "      print('NEW ROUND')\n",
    "      acc_up = -np.ones_like(feature_ind)\n",
    "      for i in range(len(feature_ind)):\n",
    "         cur_inds = np.setdiff1d(feature_ind,feature_ind[i])\n",
    "         acc_mu = SVM_eval(X,y,cur_inds, ID)\n",
    "         \n",
    "         print(f'Iter #{i}: {acc_mu:.3f} <-> {acc_mu_curr:.3f}')\n",
    "         \n",
    "         if (acc_mu>=acc_mu_curr):\n",
    "            acc_up[i] = acc_mu-acc_mu_curr\n",
    "      m_val = np.max(acc_up)\n",
    "      m_ind = np.argmax(acc_up)\n",
    "      \n",
    "      if (m_val>=0):\n",
    "         print(f'Withdraw feature #{m_ind}, added accracy {m_val}')\n",
    "         feature_ind = np.setdiff1d(feature_ind,feature_ind[m_ind]);\n",
    "         some_feature_droped = True       \n",
    "         # new basic version\n",
    "         acc_mu_curr = SVM_eval(X,y,feature_ind, ID)\n",
    "      else:\n",
    "         acc_final = acc_mu_curr\n",
    "         some_feature_droped = False\n",
    "\n",
    "   return acc_final, feature_ind"
   ]
  },
  {
   "cell_type": "code",
   "execution_count": 10,
   "metadata": {},
   "outputs": [
    {
     "name": "stdout",
     "output_type": "stream",
     "text": [
      "NEW ROUND\n",
      "Iter #0: 0.794 <-> 0.840\n",
      "Iter #1: 0.839 <-> 0.840\n",
      "Iter #2: 0.840 <-> 0.840\n",
      "Iter #3: 0.821 <-> 0.840\n",
      "Iter #4: 0.839 <-> 0.840\n",
      "Iter #5: 0.840 <-> 0.840\n",
      "Iter #6: 0.845 <-> 0.840\n",
      "Iter #7: 0.843 <-> 0.840\n",
      "Iter #8: 0.793 <-> 0.840\n",
      "Iter #9: 0.837 <-> 0.840\n",
      "Iter #10: 0.802 <-> 0.840\n",
      "Iter #11: 0.834 <-> 0.840\n",
      "Iter #12: 0.840 <-> 0.840\n",
      "Iter #13: 0.832 <-> 0.840\n",
      "Iter #14: 0.846 <-> 0.840\n",
      "Iter #15: 0.804 <-> 0.840\n",
      "Iter #16: 0.838 <-> 0.840\n",
      "Iter #17: 0.794 <-> 0.840\n",
      "Iter #18: 0.805 <-> 0.840\n",
      "Iter #19: 0.839 <-> 0.840\n",
      "Iter #20: 0.796 <-> 0.840\n",
      "Iter #21: 0.844 <-> 0.840\n",
      "Iter #22: 0.840 <-> 0.840\n",
      "Iter #23: 0.838 <-> 0.840\n",
      "Iter #24: 0.816 <-> 0.840\n",
      "Iter #25: 0.816 <-> 0.840\n",
      "Iter #26: 0.808 <-> 0.840\n",
      "Iter #27: 0.844 <-> 0.840\n",
      "Iter #28: 0.838 <-> 0.840\n",
      "Iter #29: 0.839 <-> 0.840\n",
      "Iter #30: 0.844 <-> 0.840\n",
      "Iter #31: 0.812 <-> 0.840\n",
      "Iter #32: 0.845 <-> 0.840\n",
      "Iter #33: 0.799 <-> 0.840\n",
      "Iter #34: 0.823 <-> 0.840\n",
      "Iter #35: 0.839 <-> 0.840\n",
      "Iter #36: 0.829 <-> 0.840\n",
      "Iter #37: 0.797 <-> 0.840\n",
      "Iter #38: 0.844 <-> 0.840\n",
      "Iter #39: 0.800 <-> 0.840\n",
      "Iter #40: 0.833 <-> 0.840\n",
      "Iter #41: 0.838 <-> 0.840\n",
      "Iter #42: 0.811 <-> 0.840\n",
      "Iter #43: 0.837 <-> 0.840\n",
      "Iter #44: 0.789 <-> 0.840\n",
      "Iter #45: 0.844 <-> 0.840\n",
      "Iter #46: 0.842 <-> 0.840\n",
      "Iter #47: 0.831 <-> 0.840\n",
      "Iter #48: 0.802 <-> 0.840\n",
      "Iter #49: 0.811 <-> 0.840\n",
      "Iter #50: 0.827 <-> 0.840\n",
      "Iter #51: 0.814 <-> 0.840\n",
      "Iter #52: 0.836 <-> 0.840\n",
      "Iter #53: 0.837 <-> 0.840\n",
      "Iter #54: 0.829 <-> 0.840\n",
      "Iter #55: 0.830 <-> 0.840\n",
      "Iter #56: 0.831 <-> 0.840\n",
      "Iter #57: 0.820 <-> 0.840\n",
      "Iter #58: 0.788 <-> 0.840\n",
      "Iter #59: 0.793 <-> 0.840\n",
      "Iter #60: 0.809 <-> 0.840\n",
      "Iter #61: 0.842 <-> 0.840\n",
      "Iter #62: 0.842 <-> 0.840\n",
      "Iter #63: 0.787 <-> 0.840\n",
      "Iter #64: 0.839 <-> 0.840\n",
      "Iter #65: 0.836 <-> 0.840\n",
      "Iter #66: 0.801 <-> 0.840\n",
      "Iter #67: 0.835 <-> 0.840\n",
      "Withdraw feature #5, added accracy 0\n",
      "NEW ROUND\n",
      "Iter #0: 0.801 <-> 0.840\n",
      "Iter #1: 0.845 <-> 0.840\n",
      "Iter #2: 0.840 <-> 0.840\n",
      "Iter #3: 0.820 <-> 0.840\n",
      "Iter #4: 0.840 <-> 0.840\n",
      "Iter #5: 0.844 <-> 0.840\n",
      "Iter #6: 0.805 <-> 0.840\n",
      "Iter #7: 0.821 <-> 0.840\n",
      "Iter #8: 0.837 <-> 0.840\n",
      "Iter #9: 0.802 <-> 0.840\n",
      "Iter #10: 0.833 <-> 0.840\n",
      "Iter #11: 0.835 <-> 0.840\n",
      "Iter #12: 0.833 <-> 0.840\n",
      "Iter #13: 0.846 <-> 0.840\n",
      "Iter #14: 0.810 <-> 0.840\n",
      "Iter #15: 0.827 <-> 0.840\n",
      "Iter #16: 0.830 <-> 0.840\n",
      "Iter #17: 0.810 <-> 0.840\n",
      "Iter #18: 0.839 <-> 0.840\n",
      "Iter #19: 0.797 <-> 0.840\n",
      "Iter #20: 0.844 <-> 0.840\n",
      "Iter #21: 0.839 <-> 0.840\n",
      "Iter #22: 0.844 <-> 0.840\n",
      "Iter #23: 0.805 <-> 0.840\n",
      "Iter #24: 0.812 <-> 0.840\n",
      "Iter #25: 0.810 <-> 0.840\n",
      "Iter #26: 0.844 <-> 0.840\n",
      "Iter #27: 0.837 <-> 0.840\n",
      "Iter #28: 0.835 <-> 0.840\n",
      "Iter #29: 0.810 <-> 0.840\n",
      "Iter #30: 0.803 <-> 0.840\n",
      "Iter #31: 0.846 <-> 0.840\n",
      "Iter #32: 0.847 <-> 0.840\n",
      "Iter #33: 0.825 <-> 0.840\n",
      "Iter #34: 0.838 <-> 0.840\n",
      "Iter #35: 0.829 <-> 0.840\n",
      "Iter #36: 0.849 <-> 0.840\n",
      "Iter #37: 0.845 <-> 0.840\n",
      "Iter #38: 0.799 <-> 0.840\n",
      "Iter #39: 0.834 <-> 0.840\n",
      "Iter #40: 0.833 <-> 0.840\n",
      "Iter #41: 0.833 <-> 0.840\n",
      "Iter #42: 0.838 <-> 0.840\n",
      "Iter #43: 0.805 <-> 0.840\n",
      "Iter #44: 0.845 <-> 0.840\n",
      "Iter #45: 0.842 <-> 0.840\n",
      "Iter #46: 0.832 <-> 0.840\n",
      "Iter #47: 0.839 <-> 0.840\n",
      "Iter #48: 0.810 <-> 0.840\n",
      "Iter #49: 0.827 <-> 0.840\n",
      "Iter #50: 0.820 <-> 0.840\n",
      "Iter #51: 0.836 <-> 0.840\n",
      "Iter #52: 0.838 <-> 0.840\n",
      "Iter #53: 0.823 <-> 0.840\n",
      "Iter #54: 0.830 <-> 0.840\n",
      "Iter #55: 0.832 <-> 0.840\n",
      "Iter #56: 0.826 <-> 0.840\n",
      "Iter #57: 0.844 <-> 0.840\n",
      "Iter #58: 0.818 <-> 0.840\n",
      "Iter #59: 0.843 <-> 0.840\n",
      "Iter #60: 0.844 <-> 0.840\n",
      "Iter #61: 0.843 <-> 0.840\n",
      "Iter #62: 0.801 <-> 0.840\n",
      "Iter #63: 0.834 <-> 0.840\n",
      "Iter #64: 0.833 <-> 0.840\n",
      "Iter #65: 0.795 <-> 0.840\n",
      "Iter #66: 0.805 <-> 0.840\n",
      "Withdraw feature #1, added accracy 0\n",
      "NEW ROUND\n",
      "Iter #0: 0.791 <-> 0.845\n",
      "Iter #1: 0.839 <-> 0.845\n",
      "Iter #2: 0.805 <-> 0.845\n",
      "Iter #3: 0.795 <-> 0.845\n",
      "Iter #4: 0.810 <-> 0.845\n",
      "Iter #5: 0.800 <-> 0.845\n",
      "Iter #6: 0.822 <-> 0.845\n",
      "Iter #7: 0.836 <-> 0.845\n",
      "Iter #8: 0.802 <-> 0.845\n",
      "Iter #9: 0.827 <-> 0.845\n",
      "Iter #10: 0.846 <-> 0.845\n",
      "Iter #11: 0.833 <-> 0.845\n",
      "Iter #12: 0.845 <-> 0.845\n",
      "Iter #13: 0.837 <-> 0.845\n",
      "Iter #14: 0.832 <-> 0.845\n",
      "Iter #15: 0.804 <-> 0.845\n",
      "Iter #16: 0.811 <-> 0.845\n",
      "Iter #17: 0.839 <-> 0.845\n",
      "Iter #18: 0.811 <-> 0.845\n",
      "Iter #19: 0.837 <-> 0.845\n",
      "Iter #20: 0.839 <-> 0.845\n",
      "Iter #21: 0.802 <-> 0.845\n",
      "Iter #22: 0.806 <-> 0.845\n",
      "Iter #23: 0.812 <-> 0.845\n",
      "Iter #24: 0.804 <-> 0.845\n",
      "Iter #25: 0.845 <-> 0.845\n",
      "Iter #26: 0.838 <-> 0.845\n",
      "Iter #27: 0.840 <-> 0.845\n",
      "Iter #28: 0.833 <-> 0.845\n",
      "Iter #29: 0.818 <-> 0.845\n",
      "Iter #30: 0.840 <-> 0.845\n",
      "Iter #31: 0.847 <-> 0.845\n",
      "Iter #32: 0.830 <-> 0.845\n",
      "Iter #33: 0.838 <-> 0.845\n",
      "Iter #34: 0.794 <-> 0.845\n",
      "Iter #35: 0.838 <-> 0.845\n",
      "Iter #36: 0.846 <-> 0.845\n",
      "Iter #37: 0.799 <-> 0.845\n",
      "Iter #38: 0.830 <-> 0.845\n",
      "Iter #39: 0.839 <-> 0.845\n",
      "Iter #40: 0.829 <-> 0.845\n",
      "Iter #41: 0.844 <-> 0.845\n",
      "Iter #42: 0.803 <-> 0.845\n",
      "Iter #43: 0.845 <-> 0.845\n",
      "Iter #44: 0.848 <-> 0.845\n",
      "Iter #45: 0.831 <-> 0.845\n",
      "Iter #46: 0.844 <-> 0.845\n",
      "Iter #47: 0.815 <-> 0.845\n",
      "Iter #48: 0.831 <-> 0.845\n",
      "Iter #49: 0.816 <-> 0.845\n",
      "Iter #50: 0.837 <-> 0.845\n",
      "Iter #51: 0.833 <-> 0.845\n",
      "Iter #52: 0.828 <-> 0.845\n",
      "Iter #53: 0.801 <-> 0.845\n",
      "Iter #54: 0.831 <-> 0.845\n",
      "Iter #55: 0.826 <-> 0.845\n",
      "Iter #56: 0.844 <-> 0.845\n",
      "Iter #57: 0.798 <-> 0.845\n",
      "Iter #58: 0.832 <-> 0.845\n",
      "Iter #59: 0.812 <-> 0.845\n",
      "Iter #60: 0.838 <-> 0.845\n",
      "Iter #61: 0.800 <-> 0.845\n",
      "Iter #62: 0.835 <-> 0.845\n",
      "Iter #63: 0.833 <-> 0.845\n",
      "Iter #64: 0.816 <-> 0.845\n",
      "Iter #65: 0.804 <-> 0.845\n",
      "Withdraw feature #10, added accracy 0\n",
      "NEW ROUND\n",
      "Iter #0: 0.790 <-> 0.846\n",
      "Iter #1: 0.844 <-> 0.846\n",
      "Iter #2: 0.817 <-> 0.846\n",
      "Iter #3: 0.802 <-> 0.846\n",
      "Iter #4: 0.812 <-> 0.846\n",
      "Iter #5: 0.805 <-> 0.846\n",
      "Iter #6: 0.828 <-> 0.846\n",
      "Iter #7: 0.844 <-> 0.846\n",
      "Iter #8: 0.802 <-> 0.846\n",
      "Iter #9: 0.833 <-> 0.846\n",
      "Iter #10: 0.834 <-> 0.846\n",
      "Iter #11: 0.846 <-> 0.846\n",
      "Iter #12: 0.809 <-> 0.846\n",
      "Iter #13: 0.839 <-> 0.846\n",
      "Iter #14: 0.809 <-> 0.846\n",
      "Iter #15: 0.809 <-> 0.846\n",
      "Iter #16: 0.840 <-> 0.846\n",
      "Iter #17: 0.797 <-> 0.846\n",
      "Iter #18: 0.833 <-> 0.846\n",
      "Iter #19: 0.842 <-> 0.846\n",
      "Iter #20: 0.796 <-> 0.846\n",
      "Iter #21: 0.818 <-> 0.846\n",
      "Iter #22: 0.798 <-> 0.846\n",
      "Iter #23: 0.808 <-> 0.846\n",
      "Iter #24: 0.802 <-> 0.846\n",
      "Iter #25: 0.791 <-> 0.846\n",
      "Iter #26: 0.840 <-> 0.846\n",
      "Iter #27: 0.839 <-> 0.846\n",
      "Iter #28: 0.805 <-> 0.846\n",
      "Iter #29: 0.845 <-> 0.846\n",
      "Iter #30: 0.804 <-> 0.846\n",
      "Iter #31: 0.830 <-> 0.846\n",
      "Iter #32: 0.845 <-> 0.846\n",
      "Iter #33: 0.791 <-> 0.846\n",
      "Iter #34: 0.844 <-> 0.846\n",
      "Iter #35: 0.846 <-> 0.846\n",
      "Iter #36: 0.795 <-> 0.846\n",
      "Iter #37: 0.829 <-> 0.846\n",
      "Iter #38: 0.792 <-> 0.846\n",
      "Iter #39: 0.833 <-> 0.846\n",
      "Iter #40: 0.833 <-> 0.846\n",
      "Iter #41: 0.808 <-> 0.846\n",
      "Iter #42: 0.847 <-> 0.846\n",
      "Iter #43: 0.809 <-> 0.846\n",
      "Iter #44: 0.836 <-> 0.846\n",
      "Iter #45: 0.835 <-> 0.846\n",
      "Iter #46: 0.816 <-> 0.846\n",
      "Iter #47: 0.837 <-> 0.846\n",
      "Iter #48: 0.832 <-> 0.846\n",
      "Iter #49: 0.841 <-> 0.846\n",
      "Iter #50: 0.845 <-> 0.846\n",
      "Iter #51: 0.824 <-> 0.846\n",
      "Iter #52: 0.805 <-> 0.846\n",
      "Iter #53: 0.839 <-> 0.846\n",
      "Iter #54: 0.828 <-> 0.846\n",
      "Iter #55: 0.845 <-> 0.846\n",
      "Iter #56: 0.803 <-> 0.846\n",
      "Iter #57: 0.837 <-> 0.846\n",
      "Iter #58: 0.817 <-> 0.846\n",
      "Iter #59: 0.839 <-> 0.846\n",
      "Iter #60: 0.798 <-> 0.846\n",
      "Iter #61: 0.837 <-> 0.846\n",
      "Iter #62: 0.830 <-> 0.846\n",
      "Iter #63: 0.815 <-> 0.846\n",
      "Iter #64: 0.806 <-> 0.846\n",
      "Withdraw feature #11, added accracy 0\n",
      "NEW ROUND\n",
      "Iter #0: 0.794 <-> 0.846\n",
      "Iter #1: 0.846 <-> 0.846\n",
      "Iter #2: 0.830 <-> 0.846\n",
      "Iter #3: 0.852 <-> 0.846\n",
      "Iter #4: 0.852 <-> 0.846\n",
      "Iter #5: 0.799 <-> 0.846\n",
      "Iter #6: 0.835 <-> 0.846\n",
      "Iter #7: 0.851 <-> 0.846\n",
      "Iter #8: 0.808 <-> 0.846\n",
      "Iter #9: 0.841 <-> 0.846\n",
      "Iter #10: 0.841 <-> 0.846\n",
      "Iter #11: 0.809 <-> 0.846\n",
      "Iter #12: 0.845 <-> 0.846\n",
      "Iter #13: 0.807 <-> 0.846\n",
      "Iter #14: 0.823 <-> 0.846\n",
      "Iter #15: 0.841 <-> 0.846\n",
      "Iter #16: 0.796 <-> 0.846\n",
      "Iter #17: 0.840 <-> 0.846\n",
      "Iter #18: 0.842 <-> 0.846\n",
      "Iter #19: 0.851 <-> 0.846\n",
      "Iter #20: 0.817 <-> 0.846\n",
      "Iter #21: 0.823 <-> 0.846\n",
      "Iter #22: 0.804 <-> 0.846\n",
      "Iter #23: 0.851 <-> 0.846\n",
      "Iter #24: 0.844 <-> 0.846\n",
      "Iter #25: 0.845 <-> 0.846\n",
      "Iter #26: 0.852 <-> 0.846\n",
      "Iter #27: 0.832 <-> 0.846\n",
      "Iter #28: 0.847 <-> 0.846\n",
      "Iter #29: 0.859 <-> 0.846\n",
      "Iter #30: 0.837 <-> 0.846\n",
      "Iter #31: 0.845 <-> 0.846\n",
      "Iter #32: 0.836 <-> 0.846\n",
      "Iter #33: 0.848 <-> 0.846\n",
      "Iter #34: 0.846 <-> 0.846\n",
      "Iter #35: 0.796 <-> 0.846\n",
      "Iter #36: 0.831 <-> 0.846\n",
      "Iter #37: 0.850 <-> 0.846\n",
      "Iter #38: 0.846 <-> 0.846\n",
      "Iter #39: 0.850 <-> 0.846\n",
      "Iter #40: 0.789 <-> 0.846\n",
      "Iter #41: 0.846 <-> 0.846\n",
      "Iter #42: 0.848 <-> 0.846\n",
      "Iter #43: 0.838 <-> 0.846\n"
     ]
    },
    {
     "name": "stdout",
     "output_type": "stream",
     "text": [
      "Iter #44: 0.845 <-> 0.846\n",
      "Iter #45: 0.805 <-> 0.846\n",
      "Iter #46: 0.840 <-> 0.846\n",
      "Iter #47: 0.814 <-> 0.846\n",
      "Iter #48: 0.838 <-> 0.846\n",
      "Iter #49: 0.838 <-> 0.846\n",
      "Iter #50: 0.841 <-> 0.846\n",
      "Iter #51: 0.841 <-> 0.846\n",
      "Iter #52: 0.844 <-> 0.846\n",
      "Iter #53: 0.834 <-> 0.846\n",
      "Iter #54: 0.846 <-> 0.846\n",
      "Iter #55: 0.822 <-> 0.846\n",
      "Iter #56: 0.848 <-> 0.846\n",
      "Iter #57: 0.852 <-> 0.846\n",
      "Iter #58: 0.852 <-> 0.846\n",
      "Iter #59: 0.820 <-> 0.846\n",
      "Iter #60: 0.839 <-> 0.846\n",
      "Iter #61: 0.831 <-> 0.846\n",
      "Iter #62: 0.815 <-> 0.846\n",
      "Iter #63: 0.844 <-> 0.846\n",
      "Withdraw feature #1, added accracy 0\n",
      "NEW ROUND\n",
      "Iter #0: 0.816 <-> 0.846\n",
      "Iter #1: 0.830 <-> 0.846\n",
      "Iter #2: 0.851 <-> 0.846\n",
      "Iter #3: 0.852 <-> 0.846\n",
      "Iter #4: 0.795 <-> 0.846\n",
      "Iter #5: 0.829 <-> 0.846\n",
      "Iter #6: 0.852 <-> 0.846\n",
      "Iter #7: 0.808 <-> 0.846\n",
      "Iter #8: 0.841 <-> 0.846\n",
      "Iter #9: 0.840 <-> 0.846\n",
      "Iter #10: 0.803 <-> 0.846\n",
      "Iter #11: 0.846 <-> 0.846\n",
      "Iter #12: 0.847 <-> 0.846\n",
      "Iter #13: 0.819 <-> 0.846\n",
      "Iter #14: 0.840 <-> 0.846\n",
      "Iter #15: 0.802 <-> 0.846\n",
      "Iter #16: 0.839 <-> 0.846\n",
      "Iter #17: 0.805 <-> 0.846\n",
      "Iter #18: 0.851 <-> 0.846\n",
      "Iter #19: 0.817 <-> 0.846\n",
      "Iter #20: 0.823 <-> 0.846\n",
      "Iter #21: 0.804 <-> 0.846\n",
      "Iter #22: 0.849 <-> 0.846\n",
      "Iter #23: 0.807 <-> 0.846\n",
      "Iter #24: 0.845 <-> 0.846\n",
      "Iter #25: 0.847 <-> 0.846\n",
      "Iter #26: 0.810 <-> 0.846\n",
      "Iter #27: 0.846 <-> 0.846\n",
      "Iter #28: 0.804 <-> 0.846\n",
      "Iter #29: 0.836 <-> 0.846\n",
      "Iter #30: 0.845 <-> 0.846\n",
      "Iter #31: 0.836 <-> 0.846\n",
      "Iter #32: 0.849 <-> 0.846\n",
      "Iter #33: 0.847 <-> 0.846\n",
      "Iter #34: 0.796 <-> 0.846\n",
      "Iter #35: 0.830 <-> 0.846\n",
      "Iter #36: 0.850 <-> 0.846\n",
      "Iter #37: 0.846 <-> 0.846\n",
      "Iter #38: 0.850 <-> 0.846\n",
      "Iter #39: 0.793 <-> 0.846\n",
      "Iter #40: 0.844 <-> 0.846\n",
      "Iter #41: 0.806 <-> 0.846\n",
      "Iter #42: 0.838 <-> 0.846\n",
      "Iter #43: 0.807 <-> 0.846\n",
      "Iter #44: 0.816 <-> 0.846\n",
      "Iter #45: 0.840 <-> 0.846\n",
      "Iter #46: 0.821 <-> 0.846\n",
      "Iter #47: 0.810 <-> 0.846\n",
      "Iter #48: 0.839 <-> 0.846\n",
      "Iter #49: 0.803 <-> 0.846\n",
      "Iter #50: 0.805 <-> 0.846\n",
      "Iter #51: 0.810 <-> 0.846\n",
      "Iter #52: 0.834 <-> 0.846\n",
      "Iter #53: 0.845 <-> 0.846\n",
      "Iter #54: 0.798 <-> 0.846\n",
      "Iter #55: 0.844 <-> 0.846\n",
      "Iter #56: 0.850 <-> 0.846\n",
      "Iter #57: 0.851 <-> 0.846\n",
      "Iter #58: 0.797 <-> 0.846\n",
      "Iter #59: 0.839 <-> 0.846\n",
      "Iter #60: 0.832 <-> 0.846\n",
      "Iter #61: 0.816 <-> 0.846\n",
      "Iter #62: 0.843 <-> 0.846\n",
      "Withdraw feature #2, added accracy 0\n",
      "NEW ROUND\n",
      "Iter #0: 0.816 <-> 0.851\n",
      "Iter #1: 0.832 <-> 0.851\n",
      "Iter #2: 0.820 <-> 0.851\n",
      "Iter #3: 0.801 <-> 0.851\n",
      "Iter #4: 0.836 <-> 0.851\n",
      "Iter #5: 0.851 <-> 0.851\n",
      "Iter #6: 0.808 <-> 0.851\n",
      "Iter #7: 0.840 <-> 0.851\n",
      "Iter #8: 0.850 <-> 0.851\n",
      "Iter #9: 0.815 <-> 0.851\n",
      "Iter #10: 0.844 <-> 0.851\n",
      "Iter #11: 0.853 <-> 0.851\n",
      "Iter #12: 0.824 <-> 0.851\n",
      "Iter #13: 0.850 <-> 0.851\n",
      "Iter #14: 0.812 <-> 0.851\n",
      "Iter #15: 0.807 <-> 0.851\n",
      "Iter #16: 0.852 <-> 0.851\n",
      "Iter #17: 0.849 <-> 0.851\n",
      "Iter #18: 0.827 <-> 0.851\n",
      "Iter #19: 0.810 <-> 0.851\n",
      "Iter #20: 0.854 <-> 0.851\n",
      "Iter #21: 0.850 <-> 0.851\n",
      "Iter #22: 0.844 <-> 0.851\n",
      "Iter #23: 0.850 <-> 0.851\n",
      "Iter #24: 0.851 <-> 0.851\n",
      "Iter #25: 0.809 <-> 0.851\n",
      "Iter #26: 0.850 <-> 0.851\n",
      "Iter #27: 0.801 <-> 0.851\n",
      "Iter #28: 0.835 <-> 0.851\n",
      "Iter #29: 0.813 <-> 0.851\n",
      "Iter #30: 0.796 <-> 0.851\n",
      "Iter #31: 0.854 <-> 0.851\n",
      "Iter #32: 0.846 <-> 0.851\n",
      "Iter #33: 0.792 <-> 0.851\n",
      "Iter #34: 0.835 <-> 0.851\n",
      "Iter #35: 0.801 <-> 0.851\n",
      "Iter #36: 0.844 <-> 0.851\n",
      "Iter #37: 0.849 <-> 0.851\n",
      "Iter #38: 0.798 <-> 0.851\n",
      "Iter #39: 0.849 <-> 0.851\n",
      "Iter #40: 0.863 <-> 0.851\n",
      "Iter #41: 0.843 <-> 0.851\n",
      "Iter #42: 0.855 <-> 0.851\n",
      "Iter #43: 0.815 <-> 0.851\n",
      "Iter #44: 0.852 <-> 0.851\n",
      "Iter #45: 0.820 <-> 0.851\n",
      "Iter #46: 0.843 <-> 0.851\n",
      "Iter #47: 0.843 <-> 0.851\n",
      "Iter #48: 0.846 <-> 0.851\n",
      "Iter #49: 0.809 <-> 0.851\n",
      "Iter #50: 0.814 <-> 0.851\n",
      "Iter #51: 0.834 <-> 0.851\n",
      "Iter #52: 0.811 <-> 0.851\n",
      "Iter #53: 0.822 <-> 0.851\n",
      "Iter #54: 0.855 <-> 0.851\n",
      "Iter #55: 0.814 <-> 0.851\n",
      "Iter #56: 0.818 <-> 0.851\n",
      "Iter #57: 0.827 <-> 0.851\n",
      "Iter #58: 0.843 <-> 0.851\n",
      "Iter #59: 0.833 <-> 0.851\n",
      "Iter #60: 0.822 <-> 0.851\n",
      "Iter #61: 0.816 <-> 0.851\n",
      "Withdraw feature #11, added accracy 0\n",
      "NEW ROUND\n",
      "Iter #0: 0.810 <-> 0.853\n",
      "Iter #1: 0.794 <-> 0.853\n",
      "Iter #2: 0.853 <-> 0.853\n",
      "Iter #3: 0.802 <-> 0.853\n",
      "Iter #4: 0.811 <-> 0.853\n",
      "Iter #5: 0.848 <-> 0.853\n",
      "Iter #6: 0.813 <-> 0.853\n",
      "Iter #7: 0.849 <-> 0.853\n",
      "Iter #8: 0.856 <-> 0.853\n",
      "Iter #9: 0.810 <-> 0.853\n",
      "Iter #10: 0.803 <-> 0.853\n",
      "Iter #11: 0.818 <-> 0.853\n",
      "Iter #12: 0.854 <-> 0.853\n",
      "Iter #13: 0.810 <-> 0.853\n",
      "Iter #14: 0.814 <-> 0.853\n",
      "Iter #15: 0.853 <-> 0.853\n",
      "Iter #16: 0.801 <-> 0.853\n",
      "Iter #17: 0.810 <-> 0.853\n",
      "Iter #18: 0.849 <-> 0.853\n",
      "Iter #19: 0.806 <-> 0.853\n",
      "Iter #20: 0.805 <-> 0.853\n",
      "Iter #21: 0.851 <-> 0.853\n",
      "Iter #22: 0.808 <-> 0.853\n",
      "Iter #23: 0.856 <-> 0.853\n",
      "Iter #24: 0.801 <-> 0.853\n",
      "Iter #25: 0.810 <-> 0.853\n",
      "Iter #26: 0.849 <-> 0.853\n",
      "Iter #27: 0.805 <-> 0.853\n",
      "Iter #28: 0.804 <-> 0.853\n",
      "Iter #29: 0.858 <-> 0.853\n",
      "Iter #30: 0.838 <-> 0.853\n",
      "Iter #31: 0.799 <-> 0.853\n",
      "Iter #32: 0.787 <-> 0.853\n",
      "Iter #33: 0.860 <-> 0.853\n",
      "Iter #34: 0.804 <-> 0.853\n",
      "Iter #35: 0.854 <-> 0.853\n",
      "Iter #36: 0.805 <-> 0.853\n",
      "Iter #37: 0.801 <-> 0.853\n",
      "Iter #38: 0.854 <-> 0.853\n",
      "Iter #39: 0.809 <-> 0.853\n",
      "Iter #40: 0.847 <-> 0.853\n",
      "Iter #41: 0.871 <-> 0.853\n",
      "Iter #42: 0.811 <-> 0.853\n",
      "Iter #43: 0.843 <-> 0.853\n",
      "Iter #44: 0.856 <-> 0.853\n",
      "Iter #45: 0.807 <-> 0.853\n",
      "Iter #46: 0.806 <-> 0.853\n",
      "Iter #47: 0.807 <-> 0.853\n",
      "Iter #48: 0.805 <-> 0.853\n",
      "Iter #49: 0.804 <-> 0.853\n",
      "Iter #50: 0.811 <-> 0.853\n",
      "Iter #51: 0.803 <-> 0.853\n",
      "Iter #52: 0.840 <-> 0.853\n",
      "Iter #53: 0.823 <-> 0.853\n",
      "Iter #54: 0.806 <-> 0.853\n",
      "Iter #55: 0.815 <-> 0.853\n",
      "Iter #56: 0.790 <-> 0.853\n",
      "Iter #57: 0.815 <-> 0.853\n",
      "Iter #58: 0.794 <-> 0.853\n",
      "Iter #59: 0.843 <-> 0.853\n",
      "Iter #60: 0.822 <-> 0.853\n",
      "Withdraw feature #8, added accracy 0\n",
      "NEW ROUND\n",
      "Iter #0: 0.814 <-> 0.856\n",
      "Iter #1: 0.781 <-> 0.856\n",
      "Iter #2: 0.857 <-> 0.856\n",
      "Iter #3: 0.859 <-> 0.856\n",
      "Iter #4: 0.833 <-> 0.856\n",
      "Iter #5: 0.854 <-> 0.856\n",
      "Iter #6: 0.818 <-> 0.856\n",
      "Iter #7: 0.844 <-> 0.856\n",
      "Iter #8: 0.808 <-> 0.856\n",
      "Iter #9: 0.856 <-> 0.856\n",
      "Iter #10: 0.809 <-> 0.856\n",
      "Iter #11: 0.855 <-> 0.856\n",
      "Iter #12: 0.819 <-> 0.856\n",
      "Iter #13: 0.850 <-> 0.856\n",
      "Iter #14: 0.853 <-> 0.856\n",
      "Iter #15: 0.851 <-> 0.856\n",
      "Iter #16: 0.834 <-> 0.856\n",
      "Iter #17: 0.789 <-> 0.856\n",
      "Iter #18: 0.810 <-> 0.856\n",
      "Iter #19: 0.853 <-> 0.856\n",
      "Iter #20: 0.852 <-> 0.856\n",
      "Iter #21: 0.850 <-> 0.856\n",
      "Iter #22: 0.823 <-> 0.856\n",
      "Iter #23: 0.853 <-> 0.856\n",
      "Iter #24: 0.852 <-> 0.856\n",
      "Iter #25: 0.850 <-> 0.856\n",
      "Iter #26: 0.839 <-> 0.856\n",
      "Iter #27: 0.794 <-> 0.856\n",
      "Iter #28: 0.852 <-> 0.856\n",
      "Iter #29: 0.799 <-> 0.856\n",
      "Iter #30: 0.856 <-> 0.856\n",
      "Iter #31: 0.778 <-> 0.856\n",
      "Iter #32: 0.850 <-> 0.856\n",
      "Iter #33: 0.828 <-> 0.856\n",
      "Iter #34: 0.858 <-> 0.856\n",
      "Iter #35: 0.857 <-> 0.856\n",
      "Iter #36: 0.797 <-> 0.856\n",
      "Iter #37: 0.857 <-> 0.856\n",
      "Iter #38: 0.859 <-> 0.856\n",
      "Iter #39: 0.840 <-> 0.856\n",
      "Iter #40: 0.802 <-> 0.856\n",
      "Iter #41: 0.801 <-> 0.856\n",
      "Iter #42: 0.830 <-> 0.856\n",
      "Iter #43: 0.858 <-> 0.856\n",
      "Iter #44: 0.844 <-> 0.856\n",
      "Iter #45: 0.852 <-> 0.856\n",
      "Iter #46: 0.846 <-> 0.856\n",
      "Iter #47: 0.858 <-> 0.856\n",
      "Iter #48: 0.839 <-> 0.856\n",
      "Iter #49: 0.840 <-> 0.856\n",
      "Iter #50: 0.790 <-> 0.856\n",
      "Iter #51: 0.832 <-> 0.856\n",
      "Iter #52: 0.859 <-> 0.856\n",
      "Iter #53: 0.809 <-> 0.856\n",
      "Iter #54: 0.854 <-> 0.856\n",
      "Iter #55: 0.783 <-> 0.856\n",
      "Iter #56: 0.850 <-> 0.856\n",
      "Iter #57: 0.845 <-> 0.856\n",
      "Iter #58: 0.828 <-> 0.856\n",
      "Iter #59: 0.827 <-> 0.856\n",
      "Withdraw feature #2, added accracy 0\n",
      "NEW ROUND\n",
      "Iter #0: 0.809 <-> 0.857\n",
      "Iter #1: 0.806 <-> 0.857\n",
      "Iter #2: 0.853 <-> 0.857\n",
      "Iter #3: 0.835 <-> 0.857\n",
      "Iter #4: 0.855 <-> 0.857\n",
      "Iter #5: 0.818 <-> 0.857\n",
      "Iter #6: 0.844 <-> 0.857\n",
      "Iter #7: 0.818 <-> 0.857\n",
      "Iter #8: 0.857 <-> 0.857\n",
      "Iter #9: 0.833 <-> 0.857\n",
      "Iter #10: 0.852 <-> 0.857\n",
      "Iter #11: 0.818 <-> 0.857\n",
      "Iter #12: 0.850 <-> 0.857\n",
      "Iter #13: 0.853 <-> 0.857\n",
      "Iter #14: 0.851 <-> 0.857\n",
      "Iter #15: 0.834 <-> 0.857\n",
      "Iter #16: 0.837 <-> 0.857\n",
      "Iter #17: 0.862 <-> 0.857\n",
      "Iter #18: 0.851 <-> 0.857\n",
      "Iter #19: 0.852 <-> 0.857\n",
      "Iter #20: 0.848 <-> 0.857\n",
      "Iter #21: 0.850 <-> 0.857\n",
      "Iter #22: 0.853 <-> 0.857\n",
      "Iter #23: 0.849 <-> 0.857\n",
      "Iter #24: 0.850 <-> 0.857\n",
      "Iter #25: 0.839 <-> 0.857\n",
      "Iter #26: 0.852 <-> 0.857\n",
      "Iter #27: 0.852 <-> 0.857\n",
      "Iter #28: 0.847 <-> 0.857\n",
      "Iter #29: 0.858 <-> 0.857\n",
      "Iter #30: 0.788 <-> 0.857\n",
      "Iter #31: 0.851 <-> 0.857\n",
      "Iter #32: 0.853 <-> 0.857\n",
      "Iter #33: 0.859 <-> 0.857\n",
      "Iter #34: 0.859 <-> 0.857\n",
      "Iter #35: 0.812 <-> 0.857\n",
      "Iter #36: 0.858 <-> 0.857\n",
      "Iter #37: 0.861 <-> 0.857\n",
      "Iter #38: 0.841 <-> 0.857\n",
      "Iter #39: 0.864 <-> 0.857\n",
      "Iter #40: 0.821 <-> 0.857\n",
      "Iter #41: 0.836 <-> 0.857\n"
     ]
    },
    {
     "name": "stdout",
     "output_type": "stream",
     "text": [
      "Iter #42: 0.856 <-> 0.857\n",
      "Iter #43: 0.845 <-> 0.857\n",
      "Iter #44: 0.851 <-> 0.857\n",
      "Iter #45: 0.853 <-> 0.857\n",
      "Iter #46: 0.853 <-> 0.857\n",
      "Iter #47: 0.841 <-> 0.857\n",
      "Iter #48: 0.819 <-> 0.857\n",
      "Iter #49: 0.828 <-> 0.857\n",
      "Iter #50: 0.834 <-> 0.857\n",
      "Iter #51: 0.859 <-> 0.857\n",
      "Iter #52: 0.830 <-> 0.857\n",
      "Iter #53: 0.821 <-> 0.857\n",
      "Iter #54: 0.827 <-> 0.857\n",
      "Iter #55: 0.855 <-> 0.857\n",
      "Iter #56: 0.844 <-> 0.857\n",
      "Iter #57: 0.802 <-> 0.857\n",
      "Iter #58: 0.858 <-> 0.857\n",
      "Withdraw feature #8, added accracy 0\n",
      "NEW ROUND\n",
      "Iter #0: 0.808 <-> 0.857\n",
      "Iter #1: 0.818 <-> 0.857\n",
      "Iter #2: 0.866 <-> 0.857\n",
      "Iter #3: 0.838 <-> 0.857\n",
      "Iter #4: 0.839 <-> 0.857\n",
      "Iter #5: 0.818 <-> 0.857\n",
      "Iter #6: 0.842 <-> 0.857\n",
      "Iter #7: 0.817 <-> 0.857\n",
      "Iter #8: 0.834 <-> 0.857\n",
      "Iter #9: 0.851 <-> 0.857\n",
      "Iter #10: 0.815 <-> 0.857\n",
      "Iter #11: 0.832 <-> 0.857\n",
      "Iter #12: 0.858 <-> 0.857\n",
      "Iter #13: 0.850 <-> 0.857\n",
      "Iter #14: 0.825 <-> 0.857\n",
      "Iter #15: 0.844 <-> 0.857\n",
      "Iter #16: 0.851 <-> 0.857\n",
      "Iter #17: 0.856 <-> 0.857\n",
      "Iter #18: 0.857 <-> 0.857\n",
      "Iter #19: 0.854 <-> 0.857\n",
      "Iter #20: 0.861 <-> 0.857\n",
      "Iter #21: 0.853 <-> 0.857\n",
      "Iter #22: 0.857 <-> 0.857\n",
      "Iter #23: 0.854 <-> 0.857\n",
      "Iter #24: 0.840 <-> 0.857\n",
      "Iter #25: 0.830 <-> 0.857\n",
      "Iter #26: 0.856 <-> 0.857\n",
      "Iter #27: 0.841 <-> 0.857\n",
      "Iter #28: 0.859 <-> 0.857\n",
      "Iter #29: 0.799 <-> 0.857\n",
      "Iter #30: 0.853 <-> 0.857\n",
      "Iter #31: 0.857 <-> 0.857\n",
      "Iter #32: 0.856 <-> 0.857\n",
      "Iter #33: 0.855 <-> 0.857\n",
      "Iter #34: 0.816 <-> 0.857\n",
      "Iter #35: 0.858 <-> 0.857\n",
      "Iter #36: 0.859 <-> 0.857\n",
      "Iter #37: 0.848 <-> 0.857\n",
      "Iter #38: 0.861 <-> 0.857\n",
      "Iter #39: 0.818 <-> 0.857\n",
      "Iter #40: 0.825 <-> 0.857\n",
      "Iter #41: 0.851 <-> 0.857\n",
      "Iter #42: 0.846 <-> 0.857\n",
      "Iter #43: 0.857 <-> 0.857\n",
      "Iter #44: 0.852 <-> 0.857\n",
      "Iter #45: 0.854 <-> 0.857\n",
      "Iter #46: 0.843 <-> 0.857\n",
      "Iter #47: 0.834 <-> 0.857\n",
      "Iter #48: 0.828 <-> 0.857\n",
      "Iter #49: 0.838 <-> 0.857\n",
      "Iter #50: 0.847 <-> 0.857\n",
      "Iter #51: 0.862 <-> 0.857\n",
      "Iter #52: 0.852 <-> 0.857\n",
      "Iter #53: 0.820 <-> 0.857\n",
      "Iter #54: 0.855 <-> 0.857\n",
      "Iter #55: 0.849 <-> 0.857\n",
      "Iter #56: 0.842 <-> 0.857\n",
      "Iter #57: 0.863 <-> 0.857\n",
      "Withdraw feature #2, added accracy 0\n",
      "NEW ROUND\n",
      "Iter #0: 0.797 <-> 0.866\n",
      "Iter #1: 0.853 <-> 0.866\n",
      "Iter #2: 0.845 <-> 0.866\n",
      "Iter #3: 0.839 <-> 0.866\n",
      "Iter #4: 0.808 <-> 0.866\n",
      "Iter #5: 0.850 <-> 0.866\n",
      "Iter #6: 0.814 <-> 0.866\n",
      "Iter #7: 0.817 <-> 0.866\n",
      "Iter #8: 0.850 <-> 0.866\n",
      "Iter #9: 0.840 <-> 0.866\n",
      "Iter #10: 0.852 <-> 0.866\n",
      "Iter #11: 0.861 <-> 0.866\n",
      "Iter #12: 0.844 <-> 0.866\n",
      "Iter #13: 0.821 <-> 0.866\n",
      "Iter #14: 0.854 <-> 0.866\n",
      "Iter #15: 0.856 <-> 0.866\n",
      "Iter #16: 0.868 <-> 0.866\n",
      "Iter #17: 0.861 <-> 0.866\n",
      "Iter #18: 0.863 <-> 0.866\n",
      "Iter #19: 0.842 <-> 0.866\n",
      "Iter #20: 0.834 <-> 0.866\n",
      "Iter #21: 0.861 <-> 0.866\n",
      "Iter #22: 0.859 <-> 0.866\n",
      "Iter #23: 0.838 <-> 0.866\n",
      "Iter #24: 0.868 <-> 0.866\n",
      "Iter #25: 0.852 <-> 0.866\n",
      "Iter #26: 0.844 <-> 0.866\n",
      "Iter #27: 0.862 <-> 0.866\n",
      "Iter #28: 0.808 <-> 0.866\n",
      "Iter #29: 0.851 <-> 0.866\n",
      "Iter #30: 0.861 <-> 0.866\n",
      "Iter #31: 0.860 <-> 0.866\n",
      "Iter #32: 0.868 <-> 0.866\n",
      "Iter #33: 0.810 <-> 0.866\n",
      "Iter #34: 0.865 <-> 0.866\n",
      "Iter #35: 0.857 <-> 0.866\n",
      "Iter #36: 0.857 <-> 0.866\n",
      "Iter #37: 0.852 <-> 0.866\n",
      "Iter #38: 0.859 <-> 0.866\n",
      "Iter #39: 0.822 <-> 0.866\n",
      "Iter #40: 0.860 <-> 0.866\n",
      "Iter #41: 0.845 <-> 0.866\n",
      "Iter #42: 0.868 <-> 0.866\n",
      "Iter #43: 0.848 <-> 0.866\n",
      "Iter #44: 0.802 <-> 0.866\n",
      "Iter #45: 0.807 <-> 0.866\n",
      "Iter #46: 0.833 <-> 0.866\n",
      "Iter #47: 0.864 <-> 0.866\n",
      "Iter #48: 0.826 <-> 0.866\n",
      "Iter #49: 0.853 <-> 0.866\n",
      "Iter #50: 0.861 <-> 0.866\n",
      "Iter #51: 0.853 <-> 0.866\n",
      "Iter #52: 0.823 <-> 0.866\n",
      "Iter #53: 0.846 <-> 0.866\n",
      "Iter #54: 0.850 <-> 0.866\n",
      "Iter #55: 0.847 <-> 0.866\n",
      "Iter #56: 0.857 <-> 0.866\n",
      "Withdraw feature #16, added accracy 0\n",
      "NEW ROUND\n",
      "Iter #0: 0.820 <-> 0.868\n",
      "Iter #1: 0.863 <-> 0.868\n",
      "Iter #2: 0.850 <-> 0.868\n",
      "Iter #3: 0.839 <-> 0.868\n",
      "Iter #4: 0.793 <-> 0.868\n",
      "Iter #5: 0.820 <-> 0.868\n",
      "Iter #6: 0.814 <-> 0.868\n",
      "Iter #7: 0.844 <-> 0.868\n",
      "Iter #8: 0.859 <-> 0.868\n",
      "Iter #9: 0.846 <-> 0.868\n",
      "Iter #10: 0.851 <-> 0.868\n",
      "Iter #11: 0.874 <-> 0.868\n",
      "Iter #12: 0.863 <-> 0.868\n",
      "Iter #13: 0.820 <-> 0.868\n",
      "Iter #14: 0.854 <-> 0.868\n",
      "Iter #15: 0.862 <-> 0.868\n",
      "Iter #16: 0.875 <-> 0.868\n",
      "Iter #17: 0.870 <-> 0.868\n",
      "Iter #18: 0.849 <-> 0.868\n",
      "Iter #19: 0.834 <-> 0.868\n",
      "Iter #20: 0.850 <-> 0.868\n",
      "Iter #21: 0.854 <-> 0.868\n",
      "Iter #22: 0.858 <-> 0.868\n",
      "Iter #23: 0.863 <-> 0.868\n",
      "Iter #24: 0.851 <-> 0.868\n",
      "Iter #25: 0.851 <-> 0.868\n",
      "Iter #26: 0.864 <-> 0.868\n",
      "Iter #27: 0.839 <-> 0.868\n",
      "Iter #28: 0.844 <-> 0.868\n",
      "Iter #29: 0.866 <-> 0.868\n",
      "Iter #30: 0.862 <-> 0.868\n",
      "Iter #31: 0.868 <-> 0.868\n",
      "Iter #32: 0.812 <-> 0.868\n",
      "Iter #33: 0.868 <-> 0.868\n",
      "Iter #34: 0.843 <-> 0.868\n",
      "Iter #35: 0.855 <-> 0.868\n",
      "Iter #36: 0.857 <-> 0.868\n",
      "Iter #37: 0.853 <-> 0.868\n",
      "Iter #38: 0.839 <-> 0.868\n",
      "Iter #39: 0.865 <-> 0.868\n",
      "Iter #40: 0.854 <-> 0.868\n",
      "Iter #41: 0.863 <-> 0.868\n",
      "Iter #42: 0.854 <-> 0.868\n",
      "Iter #43: 0.857 <-> 0.868\n",
      "Iter #44: 0.863 <-> 0.868\n",
      "Iter #45: 0.823 <-> 0.868\n",
      "Iter #46: 0.871 <-> 0.868\n",
      "Iter #47: 0.827 <-> 0.868\n",
      "Iter #48: 0.852 <-> 0.868\n",
      "Iter #49: 0.872 <-> 0.868\n",
      "Iter #50: 0.865 <-> 0.868\n",
      "Iter #51: 0.826 <-> 0.868\n",
      "Iter #52: 0.850 <-> 0.868\n",
      "Iter #53: 0.850 <-> 0.868\n",
      "Iter #54: 0.849 <-> 0.868\n",
      "Iter #55: 0.857 <-> 0.868\n",
      "Withdraw feature #11, added accracy 0\n",
      "NEW ROUND\n",
      "Iter #0: 0.814 <-> 0.874\n",
      "Iter #1: 0.850 <-> 0.874\n",
      "Iter #2: 0.853 <-> 0.874\n",
      "Iter #3: 0.846 <-> 0.874\n",
      "Iter #4: 0.805 <-> 0.874\n",
      "Iter #5: 0.825 <-> 0.874\n",
      "Iter #6: 0.808 <-> 0.874\n",
      "Iter #7: 0.844 <-> 0.874\n",
      "Iter #8: 0.865 <-> 0.874\n",
      "Iter #9: 0.840 <-> 0.874\n",
      "Iter #10: 0.850 <-> 0.874\n",
      "Iter #11: 0.863 <-> 0.874\n",
      "Iter #12: 0.826 <-> 0.874\n",
      "Iter #13: 0.853 <-> 0.874\n",
      "Iter #14: 0.862 <-> 0.874\n",
      "Iter #15: 0.875 <-> 0.874\n",
      "Iter #16: 0.874 <-> 0.874\n",
      "Iter #17: 0.855 <-> 0.874\n",
      "Iter #18: 0.851 <-> 0.874\n",
      "Iter #19: 0.851 <-> 0.874\n",
      "Iter #20: 0.856 <-> 0.874\n",
      "Iter #21: 0.857 <-> 0.874\n",
      "Iter #22: 0.860 <-> 0.874\n",
      "Iter #23: 0.852 <-> 0.874\n",
      "Iter #24: 0.849 <-> 0.874\n",
      "Iter #25: 0.866 <-> 0.874\n",
      "Iter #26: 0.805 <-> 0.874\n",
      "Iter #27: 0.849 <-> 0.874\n",
      "Iter #28: 0.868 <-> 0.874\n",
      "Iter #29: 0.869 <-> 0.874\n",
      "Iter #30: 0.868 <-> 0.874\n",
      "Iter #31: 0.813 <-> 0.874\n",
      "Iter #32: 0.874 <-> 0.874\n",
      "Iter #33: 0.855 <-> 0.874\n",
      "Iter #34: 0.854 <-> 0.874\n",
      "Iter #35: 0.863 <-> 0.874\n",
      "Iter #36: 0.858 <-> 0.874\n",
      "Iter #37: 0.833 <-> 0.874\n",
      "Iter #38: 0.866 <-> 0.874\n",
      "Iter #39: 0.857 <-> 0.874\n",
      "Iter #40: 0.847 <-> 0.874\n",
      "Iter #41: 0.849 <-> 0.874\n",
      "Iter #42: 0.862 <-> 0.874\n",
      "Iter #43: 0.855 <-> 0.874\n",
      "Iter #44: 0.828 <-> 0.874\n",
      "Iter #45: 0.874 <-> 0.874\n",
      "Iter #46: 0.824 <-> 0.874\n",
      "Iter #47: 0.854 <-> 0.874\n",
      "Iter #48: 0.874 <-> 0.874\n",
      "Iter #49: 0.863 <-> 0.874\n",
      "Iter #50: 0.826 <-> 0.874\n",
      "Iter #51: 0.857 <-> 0.874\n",
      "Iter #52: 0.852 <-> 0.874\n",
      "Iter #53: 0.854 <-> 0.874\n",
      "Iter #54: 0.859 <-> 0.874\n",
      "Withdraw feature #15, added accracy 0\n",
      "NEW ROUND\n",
      "Iter #0: 0.830 <-> 0.875\n",
      "Iter #1: 0.875 <-> 0.875\n",
      "Iter #2: 0.862 <-> 0.875\n",
      "Iter #3: 0.859 <-> 0.875\n",
      "Iter #4: 0.803 <-> 0.875\n",
      "Iter #5: 0.849 <-> 0.875\n",
      "Iter #6: 0.807 <-> 0.875\n",
      "Iter #7: 0.843 <-> 0.875\n",
      "Iter #8: 0.868 <-> 0.875\n",
      "Iter #9: 0.840 <-> 0.875\n",
      "Iter #10: 0.849 <-> 0.875\n",
      "Iter #11: 0.875 <-> 0.875\n",
      "Iter #12: 0.821 <-> 0.875\n",
      "Iter #13: 0.853 <-> 0.875\n",
      "Iter #14: 0.865 <-> 0.875\n",
      "Iter #15: 0.876 <-> 0.875\n",
      "Iter #16: 0.846 <-> 0.875\n",
      "Iter #17: 0.851 <-> 0.875\n",
      "Iter #18: 0.856 <-> 0.875\n",
      "Iter #19: 0.862 <-> 0.875\n",
      "Iter #20: 0.848 <-> 0.875\n",
      "Iter #21: 0.874 <-> 0.875\n",
      "Iter #22: 0.852 <-> 0.875\n",
      "Iter #23: 0.852 <-> 0.875\n",
      "Iter #24: 0.862 <-> 0.875\n",
      "Iter #25: 0.800 <-> 0.875\n",
      "Iter #26: 0.843 <-> 0.875\n",
      "Iter #27: 0.879 <-> 0.875\n",
      "Iter #28: 0.876 <-> 0.875\n",
      "Iter #29: 0.881 <-> 0.875\n",
      "Iter #30: 0.825 <-> 0.875\n",
      "Iter #31: 0.876 <-> 0.875\n",
      "Iter #32: 0.877 <-> 0.875\n",
      "Iter #33: 0.865 <-> 0.875\n",
      "Iter #34: 0.846 <-> 0.875\n",
      "Iter #35: 0.801 <-> 0.875\n",
      "Iter #36: 0.833 <-> 0.875\n",
      "Iter #37: 0.866 <-> 0.875\n",
      "Iter #38: 0.858 <-> 0.875\n",
      "Iter #39: 0.869 <-> 0.875\n",
      "Iter #40: 0.855 <-> 0.875\n",
      "Iter #41: 0.800 <-> 0.875\n",
      "Iter #42: 0.872 <-> 0.875\n",
      "Iter #43: 0.840 <-> 0.875\n",
      "Iter #44: 0.875 <-> 0.875\n",
      "Iter #45: 0.836 <-> 0.875\n",
      "Iter #46: 0.860 <-> 0.875\n",
      "Iter #47: 0.858 <-> 0.875\n",
      "Iter #48: 0.870 <-> 0.875\n",
      "Iter #49: 0.840 <-> 0.875\n",
      "Iter #50: 0.862 <-> 0.875\n",
      "Iter #51: 0.864 <-> 0.875\n",
      "Iter #52: 0.841 <-> 0.875\n",
      "Iter #53: 0.866 <-> 0.875\n",
      "Withdraw feature #1, added accracy 0\n",
      "NEW ROUND\n",
      "Iter #0: 0.808 <-> 0.875\n",
      "Iter #1: 0.850 <-> 0.875\n",
      "Iter #2: 0.844 <-> 0.875\n",
      "Iter #3: 0.789 <-> 0.875\n",
      "Iter #4: 0.866 <-> 0.875\n",
      "Iter #5: 0.849 <-> 0.875\n",
      "Iter #6: 0.856 <-> 0.875\n",
      "Iter #7: 0.834 <-> 0.875\n",
      "Iter #8: 0.848 <-> 0.875\n",
      "Iter #9: 0.865 <-> 0.875\n"
     ]
    },
    {
     "name": "stdout",
     "output_type": "stream",
     "text": [
      "Iter #10: 0.826 <-> 0.875\n",
      "Iter #11: 0.820 <-> 0.875\n",
      "Iter #12: 0.844 <-> 0.875\n",
      "Iter #13: 0.867 <-> 0.875\n",
      "Iter #14: 0.870 <-> 0.875\n",
      "Iter #15: 0.847 <-> 0.875\n",
      "Iter #16: 0.823 <-> 0.875\n",
      "Iter #17: 0.881 <-> 0.875\n",
      "Iter #18: 0.858 <-> 0.875\n",
      "Iter #19: 0.824 <-> 0.875\n",
      "Iter #20: 0.834 <-> 0.875\n",
      "Iter #21: 0.817 <-> 0.875\n",
      "Iter #22: 0.826 <-> 0.875\n",
      "Iter #23: 0.844 <-> 0.875\n",
      "Iter #24: 0.813 <-> 0.875\n",
      "Iter #25: 0.857 <-> 0.875\n",
      "Iter #26: 0.876 <-> 0.875\n",
      "Iter #27: 0.850 <-> 0.875\n",
      "Iter #28: 0.835 <-> 0.875\n",
      "Iter #29: 0.805 <-> 0.875\n",
      "Iter #30: 0.874 <-> 0.875\n",
      "Iter #31: 0.843 <-> 0.875\n",
      "Iter #32: 0.858 <-> 0.875\n",
      "Iter #33: 0.868 <-> 0.875\n",
      "Iter #34: 0.863 <-> 0.875\n",
      "Iter #35: 0.832 <-> 0.875\n",
      "Iter #36: 0.869 <-> 0.875\n",
      "Iter #37: 0.851 <-> 0.875\n",
      "Iter #38: 0.834 <-> 0.875\n",
      "Iter #39: 0.824 <-> 0.875\n",
      "Iter #40: 0.835 <-> 0.875\n",
      "Iter #41: 0.838 <-> 0.875\n",
      "Iter #42: 0.840 <-> 0.875\n",
      "Iter #43: 0.844 <-> 0.875\n",
      "Iter #44: 0.790 <-> 0.875\n",
      "Iter #45: 0.802 <-> 0.875\n",
      "Iter #46: 0.875 <-> 0.875\n",
      "Iter #47: 0.844 <-> 0.875\n",
      "Iter #48: 0.811 <-> 0.875\n",
      "Iter #49: 0.862 <-> 0.875\n",
      "Iter #50: 0.844 <-> 0.875\n",
      "Iter #51: 0.832 <-> 0.875\n",
      "Iter #52: 0.844 <-> 0.875\n",
      "Withdraw feature #17, added accracy 0\n",
      "NEW ROUND\n",
      "Iter #0: 0.812 <-> 0.881\n",
      "Iter #1: 0.850 <-> 0.881\n",
      "Iter #2: 0.854 <-> 0.881\n",
      "Iter #3: 0.797 <-> 0.881\n",
      "Iter #4: 0.856 <-> 0.881\n",
      "Iter #5: 0.850 <-> 0.881\n",
      "Iter #6: 0.863 <-> 0.881\n",
      "Iter #7: 0.873 <-> 0.881\n",
      "Iter #8: 0.853 <-> 0.881\n",
      "Iter #9: 0.868 <-> 0.881\n",
      "Iter #10: 0.837 <-> 0.881\n",
      "Iter #11: 0.831 <-> 0.881\n",
      "Iter #12: 0.863 <-> 0.881\n",
      "Iter #13: 0.867 <-> 0.881\n",
      "Iter #14: 0.870 <-> 0.881\n",
      "Iter #15: 0.867 <-> 0.881\n",
      "Iter #16: 0.829 <-> 0.881\n",
      "Iter #17: 0.858 <-> 0.881\n",
      "Iter #18: 0.824 <-> 0.881\n",
      "Iter #19: 0.864 <-> 0.881\n",
      "Iter #20: 0.844 <-> 0.881\n",
      "Iter #21: 0.828 <-> 0.881\n",
      "Iter #22: 0.880 <-> 0.881\n",
      "Iter #23: 0.819 <-> 0.881\n",
      "Iter #24: 0.858 <-> 0.881\n",
      "Iter #25: 0.876 <-> 0.881\n",
      "Iter #26: 0.864 <-> 0.881\n",
      "Iter #27: 0.880 <-> 0.881\n",
      "Iter #28: 0.798 <-> 0.881\n",
      "Iter #29: 0.875 <-> 0.881\n",
      "Iter #30: 0.843 <-> 0.881\n",
      "Iter #31: 0.860 <-> 0.881\n",
      "Iter #32: 0.868 <-> 0.881\n",
      "Iter #33: 0.839 <-> 0.881\n",
      "Iter #34: 0.822 <-> 0.881\n",
      "Iter #35: 0.810 <-> 0.881\n",
      "Iter #36: 0.863 <-> 0.881\n",
      "Iter #37: 0.874 <-> 0.881\n",
      "Iter #38: 0.826 <-> 0.881\n",
      "Iter #39: 0.882 <-> 0.881\n",
      "Iter #40: 0.859 <-> 0.881\n",
      "Iter #41: 0.828 <-> 0.881\n",
      "Iter #42: 0.846 <-> 0.881\n",
      "Iter #43: 0.800 <-> 0.881\n",
      "Iter #44: 0.813 <-> 0.881\n",
      "Iter #45: 0.875 <-> 0.881\n",
      "Iter #46: 0.862 <-> 0.881\n",
      "Iter #47: 0.818 <-> 0.881\n",
      "Iter #48: 0.868 <-> 0.881\n",
      "Iter #49: 0.821 <-> 0.881\n",
      "Iter #50: 0.836 <-> 0.881\n",
      "Iter #51: 0.868 <-> 0.881\n",
      "Withdraw feature #39, added accracy 0\n",
      "NEW ROUND\n",
      "Iter #0: 0.810 <-> 0.882\n",
      "Iter #1: 0.852 <-> 0.882\n",
      "Iter #2: 0.846 <-> 0.882\n",
      "Iter #3: 0.796 <-> 0.882\n",
      "Iter #4: 0.878 <-> 0.882\n",
      "Iter #5: 0.833 <-> 0.882\n",
      "Iter #6: 0.831 <-> 0.882\n",
      "Iter #7: 0.874 <-> 0.882\n",
      "Iter #8: 0.853 <-> 0.882\n",
      "Iter #9: 0.812 <-> 0.882\n",
      "Iter #10: 0.841 <-> 0.882\n",
      "Iter #11: 0.824 <-> 0.882\n",
      "Iter #12: 0.861 <-> 0.882\n",
      "Iter #13: 0.863 <-> 0.882\n",
      "Iter #14: 0.876 <-> 0.882\n",
      "Iter #15: 0.867 <-> 0.882\n",
      "Iter #16: 0.842 <-> 0.882\n",
      "Iter #17: 0.863 <-> 0.882\n",
      "Iter #18: 0.823 <-> 0.882\n",
      "Iter #19: 0.870 <-> 0.882\n",
      "Iter #20: 0.849 <-> 0.882\n",
      "Iter #21: 0.837 <-> 0.882\n",
      "Iter #22: 0.882 <-> 0.882\n",
      "Iter #23: 0.828 <-> 0.882\n",
      "Iter #24: 0.862 <-> 0.882\n",
      "Iter #25: 0.876 <-> 0.882\n",
      "Iter #26: 0.861 <-> 0.882\n",
      "Iter #27: 0.882 <-> 0.882\n",
      "Iter #28: 0.798 <-> 0.882\n",
      "Iter #29: 0.882 <-> 0.882\n",
      "Iter #30: 0.846 <-> 0.882\n",
      "Iter #31: 0.865 <-> 0.882\n",
      "Iter #32: 0.874 <-> 0.882\n",
      "Iter #33: 0.840 <-> 0.882\n",
      "Iter #34: 0.839 <-> 0.882\n",
      "Iter #35: 0.810 <-> 0.882\n",
      "Iter #36: 0.868 <-> 0.882\n",
      "Iter #37: 0.875 <-> 0.882\n",
      "Iter #38: 0.824 <-> 0.882\n",
      "Iter #39: 0.860 <-> 0.882\n",
      "Iter #40: 0.846 <-> 0.882\n",
      "Iter #41: 0.855 <-> 0.882\n",
      "Iter #42: 0.806 <-> 0.882\n",
      "Iter #43: 0.820 <-> 0.882\n",
      "Iter #44: 0.882 <-> 0.882\n",
      "Iter #45: 0.863 <-> 0.882\n",
      "Iter #46: 0.817 <-> 0.882\n",
      "Iter #47: 0.874 <-> 0.882\n",
      "Iter #48: 0.842 <-> 0.882\n",
      "Iter #49: 0.847 <-> 0.882\n",
      "Iter #50: 0.861 <-> 0.882\n",
      "Withdraw feature #29, added accracy 0\n",
      "NEW ROUND\n",
      "Iter #0: 0.811 <-> 0.882\n",
      "Iter #1: 0.810 <-> 0.882\n",
      "Iter #2: 0.846 <-> 0.882\n",
      "Iter #3: 0.802 <-> 0.882\n",
      "Iter #4: 0.871 <-> 0.882\n",
      "Iter #5: 0.856 <-> 0.882\n",
      "Iter #6: 0.832 <-> 0.882\n",
      "Iter #7: 0.879 <-> 0.882\n",
      "Iter #8: 0.853 <-> 0.882\n",
      "Iter #9: 0.812 <-> 0.882\n",
      "Iter #10: 0.847 <-> 0.882\n",
      "Iter #11: 0.791 <-> 0.882\n",
      "Iter #12: 0.861 <-> 0.882\n",
      "Iter #13: 0.867 <-> 0.882\n",
      "Iter #14: 0.877 <-> 0.882\n",
      "Iter #15: 0.868 <-> 0.882\n",
      "Iter #16: 0.789 <-> 0.882\n",
      "Iter #17: 0.869 <-> 0.882\n",
      "Iter #18: 0.820 <-> 0.882\n",
      "Iter #19: 0.871 <-> 0.882\n",
      "Iter #20: 0.844 <-> 0.882\n",
      "Iter #21: 0.825 <-> 0.882\n",
      "Iter #22: 0.882 <-> 0.882\n",
      "Iter #23: 0.789 <-> 0.882\n",
      "Iter #24: 0.853 <-> 0.882\n",
      "Iter #25: 0.798 <-> 0.882\n",
      "Iter #26: 0.853 <-> 0.882\n",
      "Iter #27: 0.881 <-> 0.882\n",
      "Iter #28: 0.806 <-> 0.882\n",
      "Iter #29: 0.861 <-> 0.882\n",
      "Iter #30: 0.866 <-> 0.882\n",
      "Iter #31: 0.875 <-> 0.882\n",
      "Iter #32: 0.840 <-> 0.882\n",
      "Iter #33: 0.829 <-> 0.882\n",
      "Iter #34: 0.810 <-> 0.882\n",
      "Iter #35: 0.866 <-> 0.882\n",
      "Iter #36: 0.875 <-> 0.882\n",
      "Iter #37: 0.789 <-> 0.882\n",
      "Iter #38: 0.860 <-> 0.882\n",
      "Iter #39: 0.840 <-> 0.882\n",
      "Iter #40: 0.857 <-> 0.882\n",
      "Iter #41: 0.795 <-> 0.882\n",
      "Iter #42: 0.808 <-> 0.882\n",
      "Iter #43: 0.805 <-> 0.882\n",
      "Iter #44: 0.860 <-> 0.882\n",
      "Iter #45: 0.807 <-> 0.882\n",
      "Iter #46: 0.873 <-> 0.882\n",
      "Iter #47: 0.791 <-> 0.882\n",
      "Iter #48: 0.837 <-> 0.882\n",
      "Iter #49: 0.856 <-> 0.882\n",
      "Withdraw feature #22, added accracy 0\n",
      "NEW ROUND\n",
      "Iter #0: 0.826 <-> 0.882\n",
      "Iter #1: 0.852 <-> 0.882\n",
      "Iter #2: 0.860 <-> 0.882\n",
      "Iter #3: 0.792 <-> 0.882\n",
      "Iter #4: 0.866 <-> 0.882\n",
      "Iter #5: 0.805 <-> 0.882\n",
      "Iter #6: 0.837 <-> 0.882\n",
      "Iter #7: 0.880 <-> 0.882\n",
      "Iter #8: 0.853 <-> 0.882\n",
      "Iter #9: 0.869 <-> 0.882\n",
      "Iter #10: 0.850 <-> 0.882\n",
      "Iter #11: 0.822 <-> 0.882\n",
      "Iter #12: 0.865 <-> 0.882\n",
      "Iter #13: 0.868 <-> 0.882\n",
      "Iter #14: 0.882 <-> 0.882\n",
      "Iter #15: 0.868 <-> 0.882\n",
      "Iter #16: 0.803 <-> 0.882\n",
      "Iter #17: 0.870 <-> 0.882\n",
      "Iter #18: 0.822 <-> 0.882\n",
      "Iter #19: 0.877 <-> 0.882\n",
      "Iter #20: 0.844 <-> 0.882\n",
      "Iter #21: 0.817 <-> 0.882\n",
      "Iter #22: 0.827 <-> 0.882\n",
      "Iter #23: 0.859 <-> 0.882\n",
      "Iter #24: 0.876 <-> 0.882\n",
      "Iter #25: 0.847 <-> 0.882\n",
      "Iter #26: 0.882 <-> 0.882\n",
      "Iter #27: 0.807 <-> 0.882\n",
      "Iter #28: 0.866 <-> 0.882\n",
      "Iter #29: 0.871 <-> 0.882\n",
      "Iter #30: 0.875 <-> 0.882\n",
      "Iter #31: 0.840 <-> 0.882\n",
      "Iter #32: 0.833 <-> 0.882\n",
      "Iter #33: 0.882 <-> 0.882\n",
      "Iter #34: 0.874 <-> 0.882\n",
      "Iter #35: 0.881 <-> 0.882\n",
      "Iter #36: 0.842 <-> 0.882\n",
      "Iter #37: 0.861 <-> 0.882\n",
      "Iter #38: 0.840 <-> 0.882\n",
      "Iter #39: 0.854 <-> 0.882\n",
      "Iter #40: 0.790 <-> 0.882\n",
      "Iter #41: 0.813 <-> 0.882\n",
      "Iter #42: 0.883 <-> 0.882\n",
      "Iter #43: 0.866 <-> 0.882\n",
      "Iter #44: 0.814 <-> 0.882\n",
      "Iter #45: 0.874 <-> 0.882\n",
      "Iter #46: 0.842 <-> 0.882\n",
      "Iter #47: 0.847 <-> 0.882\n",
      "Iter #48: 0.833 <-> 0.882\n",
      "Withdraw feature #33, added accracy 0\n",
      "NEW ROUND\n",
      "Iter #0: 0.831 <-> 0.882\n",
      "Iter #1: 0.813 <-> 0.882\n",
      "Iter #2: 0.863 <-> 0.882\n",
      "Iter #3: 0.817 <-> 0.882\n",
      "Iter #4: 0.864 <-> 0.882\n",
      "Iter #5: 0.815 <-> 0.882\n",
      "Iter #6: 0.818 <-> 0.882\n",
      "Iter #7: 0.879 <-> 0.882\n",
      "Iter #8: 0.853 <-> 0.882\n",
      "Iter #9: 0.818 <-> 0.882\n",
      "Iter #10: 0.844 <-> 0.882\n",
      "Iter #11: 0.818 <-> 0.882\n",
      "Iter #12: 0.865 <-> 0.882\n",
      "Iter #13: 0.867 <-> 0.882\n",
      "Iter #14: 0.811 <-> 0.882\n",
      "Iter #15: 0.877 <-> 0.882\n",
      "Iter #16: 0.815 <-> 0.882\n",
      "Iter #17: 0.874 <-> 0.882\n",
      "Iter #18: 0.816 <-> 0.882\n",
      "Iter #19: 0.816 <-> 0.882\n",
      "Iter #20: 0.843 <-> 0.882\n",
      "Iter #21: 0.808 <-> 0.882\n",
      "Iter #22: 0.799 <-> 0.882\n",
      "Iter #23: 0.814 <-> 0.882\n",
      "Iter #24: 0.818 <-> 0.882\n",
      "Iter #25: 0.812 <-> 0.882\n",
      "Iter #26: 0.814 <-> 0.882\n",
      "Iter #27: 0.797 <-> 0.882\n",
      "Iter #28: 0.830 <-> 0.882\n",
      "Iter #29: 0.871 <-> 0.882\n",
      "Iter #30: 0.859 <-> 0.882\n",
      "Iter #31: 0.813 <-> 0.882\n",
      "Iter #32: 0.839 <-> 0.882\n",
      "Iter #33: 0.869 <-> 0.882\n",
      "Iter #34: 0.813 <-> 0.882\n",
      "Iter #35: 0.833 <-> 0.882\n",
      "Iter #36: 0.812 <-> 0.882\n",
      "Iter #37: 0.815 <-> 0.882\n",
      "Iter #38: 0.808 <-> 0.882\n",
      "Iter #39: 0.829 <-> 0.882\n",
      "Iter #40: 0.823 <-> 0.882\n",
      "Iter #41: 0.813 <-> 0.882\n",
      "Iter #42: 0.820 <-> 0.882\n",
      "Iter #43: 0.811 <-> 0.882\n",
      "Iter #44: 0.869 <-> 0.882\n",
      "Iter #45: 0.817 <-> 0.882\n",
      "Iter #46: 0.828 <-> 0.882\n",
      "Iter #47: 0.863 <-> 0.882\n"
     ]
    }
   ],
   "source": [
    "ind_best = np.argmax(auc_svm)\n",
    "[acc_final,feature_ind] = back_step_selection_loso(X_norm, y_reg, Rank[:ind_best+1],ID)"
   ]
  },
  {
   "cell_type": "code",
   "execution_count": 11,
   "metadata": {},
   "outputs": [],
   "source": [
    "np.save('data/feature_idx_neutral.npy', feature_ind)    # .npy extension is added if not given\n",
    "feature_ind = np.load('data/feature_idx_neutral.npy')"
   ]
  },
  {
   "cell_type": "markdown",
   "metadata": {},
   "source": [
    "# 5-fold CV (full feature space)"
   ]
  },
  {
   "cell_type": "code",
   "execution_count": 12,
   "metadata": {},
   "outputs": [],
   "source": [
    "group_members= data_loader.get_k_fold_group_member()\n",
    "X_new = pd.DataFrame(X_norm)\n",
    "X_k_folds, y_k_folds = data_loader.get_custom_k_folds(X_new, y, ID, group_members)"
   ]
  },
  {
   "cell_type": "markdown",
   "metadata": {},
   "source": [
    "## GridSearch"
   ]
  },
  {
   "cell_type": "code",
   "execution_count": 13,
   "metadata": {},
   "outputs": [
    {
     "name": "stderr",
     "output_type": "stream",
     "text": [
      "100%|████████████████████████████████████████████████████████████████████████████████████████████████████████████████████████████████████████████████████████████████████████████████████████| 5/5 [00:00<00:00,  7.38it/s]\n",
      " 20%|████████████████████████████████████▊                                                                                                                                                   | 1/5 [00:00<00:00,  7.90it/s]"
     ]
    },
    {
     "name": "stdout",
     "output_type": "stream",
     "text": [
      "UAR = 0.391\n"
     ]
    },
    {
     "name": "stderr",
     "output_type": "stream",
     "text": [
      "100%|████████████████████████████████████████████████████████████████████████████████████████████████████████████████████████████████████████████████████████████████████████████████████████| 5/5 [00:00<00:00,  7.66it/s]\n",
      " 20%|████████████████████████████████████▊                                                                                                                                                   | 1/5 [00:00<00:00,  8.48it/s]"
     ]
    },
    {
     "name": "stdout",
     "output_type": "stream",
     "text": [
      "UAR = 0.419\n"
     ]
    },
    {
     "name": "stderr",
     "output_type": "stream",
     "text": [
      "100%|████████████████████████████████████████████████████████████████████████████████████████████████████████████████████████████████████████████████████████████████████████████████████████| 5/5 [00:00<00:00,  8.80it/s]\n",
      " 20%|████████████████████████████████████▊                                                                                                                                                   | 1/5 [00:00<00:00,  9.17it/s]"
     ]
    },
    {
     "name": "stdout",
     "output_type": "stream",
     "text": [
      "UAR = 0.419\n"
     ]
    },
    {
     "name": "stderr",
     "output_type": "stream",
     "text": [
      "100%|████████████████████████████████████████████████████████████████████████████████████████████████████████████████████████████████████████████████████████████████████████████████████████| 5/5 [00:00<00:00,  9.12it/s]\n",
      " 40%|█████████████████████████████████████████████████████████████████████████▌                                                                                                              | 2/5 [00:00<00:00, 10.20it/s]"
     ]
    },
    {
     "name": "stdout",
     "output_type": "stream",
     "text": [
      "UAR = 0.436\n"
     ]
    },
    {
     "name": "stderr",
     "output_type": "stream",
     "text": [
      "100%|████████████████████████████████████████████████████████████████████████████████████████████████████████████████████████████████████████████████████████████████████████████████████████| 5/5 [00:00<00:00, 10.10it/s]\n",
      " 40%|█████████████████████████████████████████████████████████████████████████▌                                                                                                              | 2/5 [00:00<00:00, 10.94it/s]"
     ]
    },
    {
     "name": "stdout",
     "output_type": "stream",
     "text": [
      "UAR = 0.456\n"
     ]
    },
    {
     "name": "stderr",
     "output_type": "stream",
     "text": [
      "100%|████████████████████████████████████████████████████████████████████████████████████████████████████████████████████████████████████████████████████████████████████████████████████████| 5/5 [00:00<00:00, 10.94it/s]\n",
      " 40%|█████████████████████████████████████████████████████████████████████████▌                                                                                                              | 2/5 [00:00<00:00, 10.16it/s]"
     ]
    },
    {
     "name": "stdout",
     "output_type": "stream",
     "text": [
      "UAR = 0.454\n"
     ]
    },
    {
     "name": "stderr",
     "output_type": "stream",
     "text": [
      "100%|████████████████████████████████████████████████████████████████████████████████████████████████████████████████████████████████████████████████████████████████████████████████████████| 5/5 [00:00<00:00, 10.22it/s]\n",
      " 20%|████████████████████████████████████▊                                                                                                                                                   | 1/5 [00:00<00:00,  9.88it/s]"
     ]
    },
    {
     "name": "stdout",
     "output_type": "stream",
     "text": [
      "UAR = 0.444\n"
     ]
    },
    {
     "name": "stderr",
     "output_type": "stream",
     "text": [
      "100%|████████████████████████████████████████████████████████████████████████████████████████████████████████████████████████████████████████████████████████████████████████████████████████| 5/5 [00:00<00:00, 10.50it/s]\n",
      " 20%|████████████████████████████████████▊                                                                                                                                                   | 1/5 [00:00<00:00,  9.34it/s]"
     ]
    },
    {
     "name": "stdout",
     "output_type": "stream",
     "text": [
      "UAR = 0.436\n"
     ]
    },
    {
     "name": "stderr",
     "output_type": "stream",
     "text": [
      "100%|████████████████████████████████████████████████████████████████████████████████████████████████████████████████████████████████████████████████████████████████████████████████████████| 5/5 [00:00<00:00,  9.83it/s]\n",
      " 20%|████████████████████████████████████▊                                                                                                                                                   | 1/5 [00:00<00:00,  9.66it/s]"
     ]
    },
    {
     "name": "stdout",
     "output_type": "stream",
     "text": [
      "UAR = 0.429\n"
     ]
    },
    {
     "name": "stderr",
     "output_type": "stream",
     "text": [
      "100%|████████████████████████████████████████████████████████████████████████████████████████████████████████████████████████████████████████████████████████████████████████████████████████| 5/5 [00:00<00:00,  9.86it/s]\n"
     ]
    },
    {
     "name": "stdout",
     "output_type": "stream",
     "text": [
      "UAR = 0.423\n",
      "UAR_best = 0.456, C_best = 0.004\n"
     ]
    },
    {
     "data": {
      "image/png": "[encoded data removed]",
      "text/plain": [
       "<Figure size 770x385 with 1 Axes>"
      ]
     },
     "metadata": {},
     "output_type": "display_data"
    }
   ],
   "source": [
    "C = np.logspace(-3.5, -1.0, 10, endpoint=True)\n",
    "UAR_list = []\n",
    "UAR_best = 0\n",
    "for val_C in C:\n",
    "    model = SVC(kernel = 'linear', C=val_C)\n",
    "    UAR,y_pr,y_tr,y_te = model_training.estimate_model(model, X_k_folds, y_k_folds)\n",
    "    if UAR_best<UAR:\n",
    "        UAR_best,y_pred,y_true,y_test = UAR,y_pr,y_tr,y_te\n",
    "        C_best = val_C\n",
    "    UAR_list.append(UAR)\n",
    "\n",
    "# fig,ax=plt.subplots(figsize=(7,3.5))\n",
    "# plt.rcParams.update({'font.size': 14})\n",
    "# plt.plot(C,UAR_list, marker='o', linestyle='dashed',)\n",
    "# plt.ylim([0.37, 0.45])\n",
    "# plt.xlabel('C')\n",
    "# plt.ylabel('UAR')\n",
    "\n",
    "fig,ax=plt.subplots(figsize=(7,3.5), dpi=110) # \n",
    "plt.rcParams.update({'font.size': 14})\n",
    "plt.plot(C,UAR_list, marker='o', linestyle='dashed',)\n",
    "# plt.semilogx(C,UAR_list, marker='o', linestyle='dashed',)\n",
    "plt.ylim([0.37, 0.48])\n",
    "# plt.xlabel('$\\log_{10}(C)$')\n",
    "plt.xlabel('$C$')\n",
    "plt.ylabel('UAR')\n",
    "plt.text(C_best-0.010, UAR_best+0.005, f'{UAR_best:.3f}')\n",
    "plt.title('SVM with linear kernel')\n",
    "print(f'UAR_best = {UAR_best:.3f}, C_best = {C_best:.3f}')"
   ]
  },
  {
   "cell_type": "code",
   "execution_count": 14,
   "metadata": {},
   "outputs": [
    {
     "data": {
      "image/png": "[encoded data removed]",
      "text/plain": [
       "<Figure size 704x528 with 2 Axes>"
      ]
     },
     "metadata": {},
     "output_type": "display_data"
    },
    {
     "name": "stdout",
     "output_type": "stream",
     "text": [
      "Saving confusion matrix with name:  Doc/figures/confusion_matrix_eng.jpg\n"
     ]
    }
   ],
   "source": [
    "# Confusion matrix\n",
    "plotting_utils.plot_confusion_matrix_eng(y_test, y_true, y_pred)"
   ]
  },
  {
   "cell_type": "markdown",
   "metadata": {},
   "source": [
    "# 5-fold CV (selected feature space)"
   ]
  },
  {
   "cell_type": "code",
   "execution_count": 15,
   "metadata": {},
   "outputs": [],
   "source": [
    "group_members= data_loader.get_k_fold_group_member()\n",
    "X_new = pd.DataFrame(X_norm[:,feature_ind])\n",
    "X_k_folds, y_k_folds = data_loader.get_custom_k_folds(X_new, y, ID, group_members)"
   ]
  },
  {
   "cell_type": "code",
   "execution_count": 16,
   "metadata": {},
   "outputs": [
    {
     "data": {
      "text/html": [
       "<div>\n",
       "<style scoped>\n",
       "    .dataframe tbody tr th:only-of-type {\n",
       "        vertical-align: middle;\n",
       "    }\n",
       "\n",
       "    .dataframe tbody tr th {\n",
       "        vertical-align: top;\n",
       "    }\n",
       "\n",
       "    .dataframe thead th {\n",
       "        text-align: right;\n",
       "    }\n",
       "</style>\n",
       "<table border=\"1\" class=\"dataframe\">\n",
       "  <thead>\n",
       "    <tr style=\"text-align: right;\">\n",
       "      <th></th>\n",
       "      <th>0</th>\n",
       "      <th>1</th>\n",
       "      <th>2</th>\n",
       "      <th>3</th>\n",
       "      <th>4</th>\n",
       "      <th>5</th>\n",
       "      <th>6</th>\n",
       "      <th>7</th>\n",
       "      <th>8</th>\n",
       "      <th>9</th>\n",
       "      <th>...</th>\n",
       "      <th>38</th>\n",
       "      <th>39</th>\n",
       "      <th>40</th>\n",
       "      <th>41</th>\n",
       "      <th>42</th>\n",
       "      <th>43</th>\n",
       "      <th>44</th>\n",
       "      <th>45</th>\n",
       "      <th>46</th>\n",
       "      <th>47</th>\n",
       "    </tr>\n",
       "  </thead>\n",
       "  <tbody>\n",
       "    <tr>\n",
       "      <th>0</th>\n",
       "      <td>0.327919</td>\n",
       "      <td>0.172226</td>\n",
       "      <td>1.972389</td>\n",
       "      <td>0.507975</td>\n",
       "      <td>1.136402</td>\n",
       "      <td>3.253256</td>\n",
       "      <td>0.827516</td>\n",
       "      <td>1.395033</td>\n",
       "      <td>-0.527543</td>\n",
       "      <td>0.176481</td>\n",
       "      <td>...</td>\n",
       "      <td>-0.134175</td>\n",
       "      <td>-0.803406</td>\n",
       "      <td>-0.412461</td>\n",
       "      <td>0.697438</td>\n",
       "      <td>-1.195752</td>\n",
       "      <td>1.077390</td>\n",
       "      <td>-0.839432</td>\n",
       "      <td>1.533704</td>\n",
       "      <td>1.841825</td>\n",
       "      <td>1.463552</td>\n",
       "    </tr>\n",
       "    <tr>\n",
       "      <th>1</th>\n",
       "      <td>-0.483370</td>\n",
       "      <td>0.613144</td>\n",
       "      <td>0.647493</td>\n",
       "      <td>-0.578013</td>\n",
       "      <td>0.712442</td>\n",
       "      <td>1.911722</td>\n",
       "      <td>-1.320254</td>\n",
       "      <td>0.097127</td>\n",
       "      <td>1.761002</td>\n",
       "      <td>-0.255397</td>\n",
       "      <td>...</td>\n",
       "      <td>-0.384878</td>\n",
       "      <td>-0.229401</td>\n",
       "      <td>-0.006407</td>\n",
       "      <td>-0.809363</td>\n",
       "      <td>-0.276979</td>\n",
       "      <td>-0.198047</td>\n",
       "      <td>-0.515657</td>\n",
       "      <td>-0.034422</td>\n",
       "      <td>-0.533340</td>\n",
       "      <td>-0.068275</td>\n",
       "    </tr>\n",
       "    <tr>\n",
       "      <th>2</th>\n",
       "      <td>-0.982420</td>\n",
       "      <td>0.981156</td>\n",
       "      <td>0.152506</td>\n",
       "      <td>-0.276989</td>\n",
       "      <td>0.594105</td>\n",
       "      <td>1.161570</td>\n",
       "      <td>-0.790393</td>\n",
       "      <td>-0.270297</td>\n",
       "      <td>0.082329</td>\n",
       "      <td>0.127939</td>\n",
       "      <td>...</td>\n",
       "      <td>0.685220</td>\n",
       "      <td>-1.340559</td>\n",
       "      <td>-0.618141</td>\n",
       "      <td>-0.330014</td>\n",
       "      <td>-0.823537</td>\n",
       "      <td>-0.340606</td>\n",
       "      <td>-0.161582</td>\n",
       "      <td>-0.980633</td>\n",
       "      <td>-0.602932</td>\n",
       "      <td>-0.508076</td>\n",
       "    </tr>\n",
       "    <tr>\n",
       "      <th>3</th>\n",
       "      <td>0.968978</td>\n",
       "      <td>-0.562788</td>\n",
       "      <td>1.409404</td>\n",
       "      <td>0.540148</td>\n",
       "      <td>0.547577</td>\n",
       "      <td>2.585998</td>\n",
       "      <td>-0.305098</td>\n",
       "      <td>1.052833</td>\n",
       "      <td>0.107714</td>\n",
       "      <td>-0.201216</td>\n",
       "      <td>...</td>\n",
       "      <td>0.561642</td>\n",
       "      <td>0.059512</td>\n",
       "      <td>0.141096</td>\n",
       "      <td>-0.948128</td>\n",
       "      <td>-1.134027</td>\n",
       "      <td>-0.655636</td>\n",
       "      <td>-0.065243</td>\n",
       "      <td>0.242407</td>\n",
       "      <td>-1.413805</td>\n",
       "      <td>0.906458</td>\n",
       "    </tr>\n",
       "    <tr>\n",
       "      <th>4</th>\n",
       "      <td>0.548798</td>\n",
       "      <td>0.343931</td>\n",
       "      <td>1.757624</td>\n",
       "      <td>1.195381</td>\n",
       "      <td>0.859079</td>\n",
       "      <td>3.082187</td>\n",
       "      <td>1.680597</td>\n",
       "      <td>3.622435</td>\n",
       "      <td>-0.365790</td>\n",
       "      <td>0.746405</td>\n",
       "      <td>...</td>\n",
       "      <td>1.999628</td>\n",
       "      <td>-1.493871</td>\n",
       "      <td>-0.439787</td>\n",
       "      <td>1.162407</td>\n",
       "      <td>-1.012739</td>\n",
       "      <td>-0.269781</td>\n",
       "      <td>-0.400117</td>\n",
       "      <td>0.420669</td>\n",
       "      <td>-0.537256</td>\n",
       "      <td>1.819556</td>\n",
       "    </tr>\n",
       "    <tr>\n",
       "      <th>...</th>\n",
       "      <td>...</td>\n",
       "      <td>...</td>\n",
       "      <td>...</td>\n",
       "      <td>...</td>\n",
       "      <td>...</td>\n",
       "      <td>...</td>\n",
       "      <td>...</td>\n",
       "      <td>...</td>\n",
       "      <td>...</td>\n",
       "      <td>...</td>\n",
       "      <td>...</td>\n",
       "      <td>...</td>\n",
       "      <td>...</td>\n",
       "      <td>...</td>\n",
       "      <td>...</td>\n",
       "      <td>...</td>\n",
       "      <td>...</td>\n",
       "      <td>...</td>\n",
       "      <td>...</td>\n",
       "      <td>...</td>\n",
       "      <td>...</td>\n",
       "    </tr>\n",
       "    <tr>\n",
       "      <th>1435</th>\n",
       "      <td>0.137958</td>\n",
       "      <td>0.995423</td>\n",
       "      <td>-0.402387</td>\n",
       "      <td>1.267308</td>\n",
       "      <td>1.929130</td>\n",
       "      <td>-0.068379</td>\n",
       "      <td>0.637919</td>\n",
       "      <td>0.566415</td>\n",
       "      <td>0.126003</td>\n",
       "      <td>0.129546</td>\n",
       "      <td>...</td>\n",
       "      <td>0.991508</td>\n",
       "      <td>1.734500</td>\n",
       "      <td>-0.499437</td>\n",
       "      <td>0.974451</td>\n",
       "      <td>1.049207</td>\n",
       "      <td>1.785393</td>\n",
       "      <td>-1.151167</td>\n",
       "      <td>0.132503</td>\n",
       "      <td>1.585598</td>\n",
       "      <td>1.597194</td>\n",
       "    </tr>\n",
       "    <tr>\n",
       "      <th>1436</th>\n",
       "      <td>1.705626</td>\n",
       "      <td>-0.063867</td>\n",
       "      <td>0.399012</td>\n",
       "      <td>1.304799</td>\n",
       "      <td>-0.514948</td>\n",
       "      <td>0.593122</td>\n",
       "      <td>2.429269</td>\n",
       "      <td>1.044760</td>\n",
       "      <td>-0.249330</td>\n",
       "      <td>0.941597</td>\n",
       "      <td>...</td>\n",
       "      <td>1.087294</td>\n",
       "      <td>-0.070141</td>\n",
       "      <td>0.081307</td>\n",
       "      <td>2.646820</td>\n",
       "      <td>1.745137</td>\n",
       "      <td>-1.404305</td>\n",
       "      <td>-0.500354</td>\n",
       "      <td>-0.364632</td>\n",
       "      <td>0.767564</td>\n",
       "      <td>0.060126</td>\n",
       "    </tr>\n",
       "    <tr>\n",
       "      <th>1437</th>\n",
       "      <td>0.619210</td>\n",
       "      <td>0.205071</td>\n",
       "      <td>-0.567749</td>\n",
       "      <td>1.806541</td>\n",
       "      <td>-0.014449</td>\n",
       "      <td>0.221267</td>\n",
       "      <td>0.640135</td>\n",
       "      <td>0.996080</td>\n",
       "      <td>-0.207775</td>\n",
       "      <td>0.302507</td>\n",
       "      <td>...</td>\n",
       "      <td>1.178085</td>\n",
       "      <td>1.270279</td>\n",
       "      <td>0.236277</td>\n",
       "      <td>1.148263</td>\n",
       "      <td>-0.167680</td>\n",
       "      <td>-0.486382</td>\n",
       "      <td>-0.443740</td>\n",
       "      <td>0.780604</td>\n",
       "      <td>1.035466</td>\n",
       "      <td>1.555189</td>\n",
       "    </tr>\n",
       "    <tr>\n",
       "      <th>1438</th>\n",
       "      <td>-0.363270</td>\n",
       "      <td>1.012529</td>\n",
       "      <td>0.113842</td>\n",
       "      <td>0.129659</td>\n",
       "      <td>0.708992</td>\n",
       "      <td>-0.560947</td>\n",
       "      <td>-0.435340</td>\n",
       "      <td>0.540462</td>\n",
       "      <td>-0.655802</td>\n",
       "      <td>-0.487100</td>\n",
       "      <td>...</td>\n",
       "      <td>0.512360</td>\n",
       "      <td>1.083050</td>\n",
       "      <td>-0.615214</td>\n",
       "      <td>0.130952</td>\n",
       "      <td>-1.023055</td>\n",
       "      <td>-1.447142</td>\n",
       "      <td>-0.442472</td>\n",
       "      <td>0.503808</td>\n",
       "      <td>-0.851576</td>\n",
       "      <td>-0.481803</td>\n",
       "    </tr>\n",
       "    <tr>\n",
       "      <th>1439</th>\n",
       "      <td>0.173805</td>\n",
       "      <td>-0.824109</td>\n",
       "      <td>-0.583821</td>\n",
       "      <td>0.930129</td>\n",
       "      <td>-0.189102</td>\n",
       "      <td>0.441506</td>\n",
       "      <td>-0.414545</td>\n",
       "      <td>0.377852</td>\n",
       "      <td>0.890701</td>\n",
       "      <td>-0.115070</td>\n",
       "      <td>...</td>\n",
       "      <td>-0.145302</td>\n",
       "      <td>1.564248</td>\n",
       "      <td>0.168978</td>\n",
       "      <td>-0.415641</td>\n",
       "      <td>0.801533</td>\n",
       "      <td>-0.819402</td>\n",
       "      <td>-0.787276</td>\n",
       "      <td>-1.027925</td>\n",
       "      <td>-0.611064</td>\n",
       "      <td>0.062806</td>\n",
       "    </tr>\n",
       "  </tbody>\n",
       "</table>\n",
       "<p>1440 rows × 48 columns</p>\n",
       "</div>"
      ],
      "text/plain": [
       "            0         1         2         3         4         5         6   \\\n",
       "0     0.327919  0.172226  1.972389  0.507975  1.136402  3.253256  0.827516   \n",
       "1    -0.483370  0.613144  0.647493 -0.578013  0.712442  1.911722 -1.320254   \n",
       "2    -0.982420  0.981156  0.152506 -0.276989  0.594105  1.161570 -0.790393   \n",
       "3     0.968978 -0.562788  1.409404  0.540148  0.547577  2.585998 -0.305098   \n",
       "4     0.548798  0.343931  1.757624  1.195381  0.859079  3.082187  1.680597   \n",
       "...        ...       ...       ...       ...       ...       ...       ...   \n",
       "1435  0.137958  0.995423 -0.402387  1.267308  1.929130 -0.068379  0.637919   \n",
       "1436  1.705626 -0.063867  0.399012  1.304799 -0.514948  0.593122  2.429269   \n",
       "1437  0.619210  0.205071 -0.567749  1.806541 -0.014449  0.221267  0.640135   \n",
       "1438 -0.363270  1.012529  0.113842  0.129659  0.708992 -0.560947 -0.435340   \n",
       "1439  0.173805 -0.824109 -0.583821  0.930129 -0.189102  0.441506 -0.414545   \n",
       "\n",
       "            7         8         9   ...        38        39        40  \\\n",
       "0     1.395033 -0.527543  0.176481  ... -0.134175 -0.803406 -0.412461   \n",
       "1     0.097127  1.761002 -0.255397  ... -0.384878 -0.229401 -0.006407   \n",
       "2    -0.270297  0.082329  0.127939  ...  0.685220 -1.340559 -0.618141   \n",
       "3     1.052833  0.107714 -0.201216  ...  0.561642  0.059512  0.141096   \n",
       "4     3.622435 -0.365790  0.746405  ...  1.999628 -1.493871 -0.439787   \n",
       "...        ...       ...       ...  ...       ...       ...       ...   \n",
       "1435  0.566415  0.126003  0.129546  ...  0.991508  1.734500 -0.499437   \n",
       "1436  1.044760 -0.249330  0.941597  ...  1.087294 -0.070141  0.081307   \n",
       "1437  0.996080 -0.207775  0.302507  ...  1.178085  1.270279  0.236277   \n",
       "1438  0.540462 -0.655802 -0.487100  ...  0.512360  1.083050 -0.615214   \n",
       "1439  0.377852  0.890701 -0.115070  ... -0.145302  1.564248  0.168978   \n",
       "\n",
       "            41        42        43        44        45        46        47  \n",
       "0     0.697438 -1.195752  1.077390 -0.839432  1.533704  1.841825  1.463552  \n",
       "1    -0.809363 -0.276979 -0.198047 -0.515657 -0.034422 -0.533340 -0.068275  \n",
       "2    -0.330014 -0.823537 -0.340606 -0.161582 -0.980633 -0.602932 -0.508076  \n",
       "3    -0.948128 -1.134027 -0.655636 -0.065243  0.242407 -1.413805  0.906458  \n",
       "4     1.162407 -1.012739 -0.269781 -0.400117  0.420669 -0.537256  1.819556  \n",
       "...        ...       ...       ...       ...       ...       ...       ...  \n",
       "1435  0.974451  1.049207  1.785393 -1.151167  0.132503  1.585598  1.597194  \n",
       "1436  2.646820  1.745137 -1.404305 -0.500354 -0.364632  0.767564  0.060126  \n",
       "1437  1.148263 -0.167680 -0.486382 -0.443740  0.780604  1.035466  1.555189  \n",
       "1438  0.130952 -1.023055 -1.447142 -0.442472  0.503808 -0.851576 -0.481803  \n",
       "1439 -0.415641  0.801533 -0.819402 -0.787276 -1.027925 -0.611064  0.062806  \n",
       "\n",
       "[1440 rows x 48 columns]"
      ]
     },
     "execution_count": 16,
     "metadata": {},
     "output_type": "execute_result"
    }
   ],
   "source": [
    "X_new"
   ]
  },
  {
   "cell_type": "markdown",
   "metadata": {},
   "source": [
    "## GridSearch"
   ]
  },
  {
   "cell_type": "code",
   "execution_count": 17,
   "metadata": {},
   "outputs": [
    {
     "name": "stderr",
     "output_type": "stream",
     "text": [
      "100%|████████████████████████████████████████████████████████████████████████████████████████████████████████████████████████████████████████████████████████████████████████████████████████| 5/5 [00:00<00:00, 16.91it/s]\n",
      " 40%|█████████████████████████████████████████████████████████████████████████▌                                                                                                              | 2/5 [00:00<00:00, 16.55it/s]"
     ]
    },
    {
     "name": "stdout",
     "output_type": "stream",
     "text": [
      "UAR = 0.306\n"
     ]
    },
    {
     "name": "stderr",
     "output_type": "stream",
     "text": [
      "100%|████████████████████████████████████████████████████████████████████████████████████████████████████████████████████████████████████████████████████████████████████████████████████████| 5/5 [00:00<00:00, 16.80it/s]\n",
      " 40%|█████████████████████████████████████████████████████████████████████████▌                                                                                                              | 2/5 [00:00<00:00, 17.30it/s]"
     ]
    },
    {
     "name": "stdout",
     "output_type": "stream",
     "text": [
      "UAR = 0.309\n"
     ]
    },
    {
     "name": "stderr",
     "output_type": "stream",
     "text": [
      "100%|████████████████████████████████████████████████████████████████████████████████████████████████████████████████████████████████████████████████████████████████████████████████████████| 5/5 [00:00<00:00, 17.59it/s]\n",
      " 40%|█████████████████████████████████████████████████████████████████████████▌                                                                                                              | 2/5 [00:00<00:00, 16.01it/s]"
     ]
    },
    {
     "name": "stdout",
     "output_type": "stream",
     "text": [
      "UAR = 0.316\n"
     ]
    },
    {
     "name": "stderr",
     "output_type": "stream",
     "text": [
      "100%|████████████████████████████████████████████████████████████████████████████████████████████████████████████████████████████████████████████████████████████████████████████████████████| 5/5 [00:00<00:00, 16.71it/s]\n",
      " 40%|█████████████████████████████████████████████████████████████████████████▌                                                                                                              | 2/5 [00:00<00:00, 17.47it/s]"
     ]
    },
    {
     "name": "stdout",
     "output_type": "stream",
     "text": [
      "UAR = 0.339\n"
     ]
    },
    {
     "name": "stderr",
     "output_type": "stream",
     "text": [
      "100%|████████████████████████████████████████████████████████████████████████████████████████████████████████████████████████████████████████████████████████████████████████████████████████| 5/5 [00:00<00:00, 17.73it/s]\n",
      " 40%|█████████████████████████████████████████████████████████████████████████▌                                                                                                              | 2/5 [00:00<00:00, 17.13it/s]"
     ]
    },
    {
     "name": "stdout",
     "output_type": "stream",
     "text": [
      "UAR = 0.358\n"
     ]
    },
    {
     "name": "stderr",
     "output_type": "stream",
     "text": [
      "100%|████████████████████████████████████████████████████████████████████████████████████████████████████████████████████████████████████████████████████████████████████████████████████████| 5/5 [00:00<00:00, 17.82it/s]\n",
      " 40%|█████████████████████████████████████████████████████████████████████████▌                                                                                                              | 2/5 [00:00<00:00, 16.95it/s]"
     ]
    },
    {
     "name": "stdout",
     "output_type": "stream",
     "text": [
      "UAR = 0.363\n"
     ]
    },
    {
     "name": "stderr",
     "output_type": "stream",
     "text": [
      "100%|████████████████████████████████████████████████████████████████████████████████████████████████████████████████████████████████████████████████████████████████████████████████████████| 5/5 [00:00<00:00, 17.48it/s]\n",
      " 40%|█████████████████████████████████████████████████████████████████████████▌                                                                                                              | 2/5 [00:00<00:00, 18.13it/s]"
     ]
    },
    {
     "name": "stdout",
     "output_type": "stream",
     "text": [
      "UAR = 0.370\n"
     ]
    },
    {
     "name": "stderr",
     "output_type": "stream",
     "text": [
      "100%|████████████████████████████████████████████████████████████████████████████████████████████████████████████████████████████████████████████████████████████████████████████████████████| 5/5 [00:00<00:00, 18.67it/s]\n",
      " 40%|█████████████████████████████████████████████████████████████████████████▌                                                                                                              | 2/5 [00:00<00:00, 19.81it/s]"
     ]
    },
    {
     "name": "stdout",
     "output_type": "stream",
     "text": [
      "UAR = 0.372\n"
     ]
    },
    {
     "name": "stderr",
     "output_type": "stream",
     "text": [
      "100%|████████████████████████████████████████████████████████████████████████████████████████████████████████████████████████████████████████████████████████████████████████████████████████| 5/5 [00:00<00:00, 18.62it/s]\n",
      " 40%|█████████████████████████████████████████████████████████████████████████▌                                                                                                              | 2/5 [00:00<00:00, 18.79it/s]"
     ]
    },
    {
     "name": "stdout",
     "output_type": "stream",
     "text": [
      "UAR = 0.386\n"
     ]
    },
    {
     "name": "stderr",
     "output_type": "stream",
     "text": [
      "100%|████████████████████████████████████████████████████████████████████████████████████████████████████████████████████████████████████████████████████████████████████████████████████████| 5/5 [00:00<00:00, 18.34it/s]\n",
      " 40%|█████████████████████████████████████████████████████████████████████████▌                                                                                                              | 2/5 [00:00<00:00, 18.40it/s]"
     ]
    },
    {
     "name": "stdout",
     "output_type": "stream",
     "text": [
      "UAR = 0.392\n"
     ]
    },
    {
     "name": "stderr",
     "output_type": "stream",
     "text": [
      "100%|████████████████████████████████████████████████████████████████████████████████████████████████████████████████████████████████████████████████████████████████████████████████████████| 5/5 [00:00<00:00, 19.17it/s]\n",
      " 40%|█████████████████████████████████████████████████████████████████████████▌                                                                                                              | 2/5 [00:00<00:00, 19.72it/s]"
     ]
    },
    {
     "name": "stdout",
     "output_type": "stream",
     "text": [
      "UAR = 0.393\n"
     ]
    },
    {
     "name": "stderr",
     "output_type": "stream",
     "text": [
      "100%|████████████████████████████████████████████████████████████████████████████████████████████████████████████████████████████████████████████████████████████████████████████████████████| 5/5 [00:00<00:00, 19.20it/s]\n",
      " 40%|█████████████████████████████████████████████████████████████████████████▌                                                                                                              | 2/5 [00:00<00:00, 18.57it/s]"
     ]
    },
    {
     "name": "stdout",
     "output_type": "stream",
     "text": [
      "UAR = 0.394\n"
     ]
    },
    {
     "name": "stderr",
     "output_type": "stream",
     "text": [
      "100%|████████████████████████████████████████████████████████████████████████████████████████████████████████████████████████████████████████████████████████████████████████████████████████| 5/5 [00:00<00:00, 19.49it/s]\n",
      " 40%|█████████████████████████████████████████████████████████████████████████▌                                                                                                              | 2/5 [00:00<00:00, 18.79it/s]"
     ]
    },
    {
     "name": "stdout",
     "output_type": "stream",
     "text": [
      "UAR = 0.398\n"
     ]
    },
    {
     "name": "stderr",
     "output_type": "stream",
     "text": [
      "100%|████████████████████████████████████████████████████████████████████████████████████████████████████████████████████████████████████████████████████████████████████████████████████████| 5/5 [00:00<00:00, 20.01it/s]\n",
      " 60%|██████████████████████████████████████████████████████████████████████████████████████████████████████████████▍                                                                         | 3/5 [00:00<00:00, 21.26it/s]"
     ]
    },
    {
     "name": "stdout",
     "output_type": "stream",
     "text": [
      "UAR = 0.404\n"
     ]
    },
    {
     "name": "stderr",
     "output_type": "stream",
     "text": [
      "100%|████████████████████████████████████████████████████████████████████████████████████████████████████████████████████████████████████████████████████████████████████████████████████████| 5/5 [00:00<00:00, 21.39it/s]\n",
      " 60%|██████████████████████████████████████████████████████████████████████████████████████████████████████████████▍                                                                         | 3/5 [00:00<00:00, 21.41it/s]"
     ]
    },
    {
     "name": "stdout",
     "output_type": "stream",
     "text": [
      "UAR = 0.403\n"
     ]
    },
    {
     "name": "stderr",
     "output_type": "stream",
     "text": [
      "100%|████████████████████████████████████████████████████████████████████████████████████████████████████████████████████████████████████████████████████████████████████████████████████████| 5/5 [00:00<00:00, 21.59it/s]\n",
      " 60%|██████████████████████████████████████████████████████████████████████████████████████████████████████████████▍                                                                         | 3/5 [00:00<00:00, 21.79it/s]"
     ]
    },
    {
     "name": "stdout",
     "output_type": "stream",
     "text": [
      "UAR = 0.402\n"
     ]
    },
    {
     "name": "stderr",
     "output_type": "stream",
     "text": [
      "100%|████████████████████████████████████████████████████████████████████████████████████████████████████████████████████████████████████████████████████████████████████████████████████████| 5/5 [00:00<00:00, 21.94it/s]\n",
      " 60%|██████████████████████████████████████████████████████████████████████████████████████████████████████████████▍                                                                         | 3/5 [00:00<00:00, 22.00it/s]"
     ]
    },
    {
     "name": "stdout",
     "output_type": "stream",
     "text": [
      "UAR = 0.410\n"
     ]
    },
    {
     "name": "stderr",
     "output_type": "stream",
     "text": [
      "100%|████████████████████████████████████████████████████████████████████████████████████████████████████████████████████████████████████████████████████████████████████████████████████████| 5/5 [00:00<00:00, 22.11it/s]\n",
      " 60%|██████████████████████████████████████████████████████████████████████████████████████████████████████████████▍                                                                         | 3/5 [00:00<00:00, 21.44it/s]"
     ]
    },
    {
     "name": "stdout",
     "output_type": "stream",
     "text": [
      "UAR = 0.410\n"
     ]
    },
    {
     "name": "stderr",
     "output_type": "stream",
     "text": [
      "100%|████████████████████████████████████████████████████████████████████████████████████████████████████████████████████████████████████████████████████████████████████████████████████████| 5/5 [00:00<00:00, 21.88it/s]\n",
      " 60%|██████████████████████████████████████████████████████████████████████████████████████████████████████████████▍                                                                         | 3/5 [00:00<00:00, 22.13it/s]"
     ]
    },
    {
     "name": "stdout",
     "output_type": "stream",
     "text": [
      "UAR = 0.409\n"
     ]
    },
    {
     "name": "stderr",
     "output_type": "stream",
     "text": [
      "100%|████████████████████████████████████████████████████████████████████████████████████████████████████████████████████████████████████████████████████████████████████████████████████████| 5/5 [00:00<00:00, 22.41it/s]\n",
      " 60%|██████████████████████████████████████████████████████████████████████████████████████████████████████████████▍                                                                         | 3/5 [00:00<00:00, 21.98it/s]"
     ]
    },
    {
     "name": "stdout",
     "output_type": "stream",
     "text": [
      "UAR = 0.402\n"
     ]
    },
    {
     "name": "stderr",
     "output_type": "stream",
     "text": [
      "100%|████████████████████████████████████████████████████████████████████████████████████████████████████████████████████████████████████████████████████████████████████████████████████████| 5/5 [00:00<00:00, 22.29it/s]\n",
      " 60%|██████████████████████████████████████████████████████████████████████████████████████████████████████████████▍                                                                         | 3/5 [00:00<00:00, 23.01it/s]"
     ]
    },
    {
     "name": "stdout",
     "output_type": "stream",
     "text": [
      "UAR = 0.398\n"
     ]
    },
    {
     "name": "stderr",
     "output_type": "stream",
     "text": [
      "100%|████████████████████████████████████████████████████████████████████████████████████████████████████████████████████████████████████████████████████████████████████████████████████████| 5/5 [00:00<00:00, 22.66it/s]\n",
      " 60%|██████████████████████████████████████████████████████████████████████████████████████████████████████████████▍                                                                         | 3/5 [00:00<00:00, 23.10it/s]"
     ]
    },
    {
     "name": "stdout",
     "output_type": "stream",
     "text": [
      "UAR = 0.400\n"
     ]
    },
    {
     "name": "stderr",
     "output_type": "stream",
     "text": [
      "100%|████████████████████████████████████████████████████████████████████████████████████████████████████████████████████████████████████████████████████████████████████████████████████████| 5/5 [00:00<00:00, 22.85it/s]\n",
      " 60%|██████████████████████████████████████████████████████████████████████████████████████████████████████████████▍                                                                         | 3/5 [00:00<00:00, 22.98it/s]"
     ]
    },
    {
     "name": "stdout",
     "output_type": "stream",
     "text": [
      "UAR = 0.401\n"
     ]
    },
    {
     "name": "stderr",
     "output_type": "stream",
     "text": [
      "100%|████████████████████████████████████████████████████████████████████████████████████████████████████████████████████████████████████████████████████████████████████████████████████████| 5/5 [00:00<00:00, 22.15it/s]\n",
      " 60%|██████████████████████████████████████████████████████████████████████████████████████████████████████████████▍                                                                         | 3/5 [00:00<00:00, 21.63it/s]"
     ]
    },
    {
     "name": "stdout",
     "output_type": "stream",
     "text": [
      "UAR = 0.402\n"
     ]
    },
    {
     "name": "stderr",
     "output_type": "stream",
     "text": [
      "100%|████████████████████████████████████████████████████████████████████████████████████████████████████████████████████████████████████████████████████████████████████████████████████████| 5/5 [00:00<00:00, 21.31it/s]\n",
      " 60%|██████████████████████████████████████████████████████████████████████████████████████████████████████████████▍                                                                         | 3/5 [00:00<00:00, 20.81it/s]"
     ]
    },
    {
     "name": "stdout",
     "output_type": "stream",
     "text": [
      "UAR = 0.391\n"
     ]
    },
    {
     "name": "stderr",
     "output_type": "stream",
     "text": [
      "100%|████████████████████████████████████████████████████████████████████████████████████████████████████████████████████████████████████████████████████████████████████████████████████████| 5/5 [00:00<00:00, 21.18it/s]\n",
      " 60%|██████████████████████████████████████████████████████████████████████████████████████████████████████████████▍                                                                         | 3/5 [00:00<00:00, 21.00it/s]"
     ]
    },
    {
     "name": "stdout",
     "output_type": "stream",
     "text": [
      "UAR = 0.392\n"
     ]
    },
    {
     "name": "stderr",
     "output_type": "stream",
     "text": [
      "100%|████████████████████████████████████████████████████████████████████████████████████████████████████████████████████████████████████████████████████████████████████████████████████████| 5/5 [00:00<00:00, 21.05it/s]\n",
      " 60%|██████████████████████████████████████████████████████████████████████████████████████████████████████████████▍                                                                         | 3/5 [00:00<00:00, 20.96it/s]"
     ]
    },
    {
     "name": "stdout",
     "output_type": "stream",
     "text": [
      "UAR = 0.387\n"
     ]
    },
    {
     "name": "stderr",
     "output_type": "stream",
     "text": [
      "100%|████████████████████████████████████████████████████████████████████████████████████████████████████████████████████████████████████████████████████████████████████████████████████████| 5/5 [00:00<00:00, 20.60it/s]\n",
      " 40%|█████████████████████████████████████████████████████████████████████████▌                                                                                                              | 2/5 [00:00<00:00, 20.00it/s]"
     ]
    },
    {
     "name": "stdout",
     "output_type": "stream",
     "text": [
      "UAR = 0.394\n"
     ]
    },
    {
     "name": "stderr",
     "output_type": "stream",
     "text": [
      "100%|████████████████████████████████████████████████████████████████████████████████████████████████████████████████████████████████████████████████████████████████████████████████████████| 5/5 [00:00<00:00, 19.83it/s]\n",
      " 40%|█████████████████████████████████████████████████████████████████████████▌                                                                                                              | 2/5 [00:00<00:00, 18.76it/s]"
     ]
    },
    {
     "name": "stdout",
     "output_type": "stream",
     "text": [
      "UAR = 0.398\n"
     ]
    },
    {
     "name": "stderr",
     "output_type": "stream",
     "text": [
      "100%|████████████████████████████████████████████████████████████████████████████████████████████████████████████████████████████████████████████████████████████████████████████████████████| 5/5 [00:00<00:00, 18.80it/s]\n",
      " 40%|█████████████████████████████████████████████████████████████████████████▌                                                                                                              | 2/5 [00:00<00:00, 17.36it/s]"
     ]
    },
    {
     "name": "stdout",
     "output_type": "stream",
     "text": [
      "UAR = 0.395\n"
     ]
    },
    {
     "name": "stderr",
     "output_type": "stream",
     "text": [
      "100%|████████████████████████████████████████████████████████████████████████████████████████████████████████████████████████████████████████████████████████████████████████████████████████| 5/5 [00:00<00:00, 17.34it/s]\n",
      " 40%|█████████████████████████████████████████████████████████████████████████▌                                                                                                              | 2/5 [00:00<00:00, 15.39it/s]"
     ]
    },
    {
     "name": "stdout",
     "output_type": "stream",
     "text": [
      "UAR = 0.395\n"
     ]
    },
    {
     "name": "stderr",
     "output_type": "stream",
     "text": [
      "100%|████████████████████████████████████████████████████████████████████████████████████████████████████████████████████████████████████████████████████████████████████████████████████████| 5/5 [00:00<00:00, 15.58it/s]\n",
      " 40%|█████████████████████████████████████████████████████████████████████████▌                                                                                                              | 2/5 [00:00<00:00, 15.57it/s]"
     ]
    },
    {
     "name": "stdout",
     "output_type": "stream",
     "text": [
      "UAR = 0.389\n"
     ]
    },
    {
     "name": "stderr",
     "output_type": "stream",
     "text": [
      "100%|████████████████████████████████████████████████████████████████████████████████████████████████████████████████████████████████████████████████████████████████████████████████████████| 5/5 [00:00<00:00, 15.26it/s]\n",
      " 40%|█████████████████████████████████████████████████████████████████████████▌                                                                                                              | 2/5 [00:00<00:00, 13.52it/s]"
     ]
    },
    {
     "name": "stdout",
     "output_type": "stream",
     "text": [
      "UAR = 0.381\n"
     ]
    },
    {
     "name": "stderr",
     "output_type": "stream",
     "text": [
      "100%|████████████████████████████████████████████████████████████████████████████████████████████████████████████████████████████████████████████████████████████████████████████████████████| 5/5 [00:00<00:00, 13.71it/s]\n",
      " 40%|█████████████████████████████████████████████████████████████████████████▌                                                                                                              | 2/5 [00:00<00:00, 11.54it/s]"
     ]
    },
    {
     "name": "stdout",
     "output_type": "stream",
     "text": [
      "UAR = 0.383\n"
     ]
    },
    {
     "name": "stderr",
     "output_type": "stream",
     "text": [
      "100%|████████████████████████████████████████████████████████████████████████████████████████████████████████████████████████████████████████████████████████████████████████████████████████| 5/5 [00:00<00:00, 12.21it/s]\n",
      " 40%|█████████████████████████████████████████████████████████████████████████▌                                                                                                              | 2/5 [00:00<00:00, 10.81it/s]"
     ]
    },
    {
     "name": "stdout",
     "output_type": "stream",
     "text": [
      "UAR = 0.372\n"
     ]
    },
    {
     "name": "stderr",
     "output_type": "stream",
     "text": [
      "100%|████████████████████████████████████████████████████████████████████████████████████████████████████████████████████████████████████████████████████████████████████████████████████████| 5/5 [00:00<00:00, 10.84it/s]\n",
      "  0%|                                                                                                                                                                                                | 0/5 [00:00<?, ?it/s]"
     ]
    },
    {
     "name": "stdout",
     "output_type": "stream",
     "text": [
      "UAR = 0.374\n"
     ]
    },
    {
     "name": "stderr",
     "output_type": "stream",
     "text": [
      "100%|████████████████████████████████████████████████████████████████████████████████████████████████████████████████████████████████████████████████████████████████████████████████████████| 5/5 [00:00<00:00, 10.01it/s]\n",
      " 20%|████████████████████████████████████▊                                                                                                                                                   | 1/5 [00:00<00:00,  7.99it/s]"
     ]
    },
    {
     "name": "stdout",
     "output_type": "stream",
     "text": [
      "UAR = 0.372\n"
     ]
    },
    {
     "name": "stderr",
     "output_type": "stream",
     "text": [
      "100%|████████████████████████████████████████████████████████████████████████████████████████████████████████████████████████████████████████████████████████████████████████████████████████| 5/5 [00:00<00:00,  8.50it/s]\n",
      " 20%|████████████████████████████████████▊                                                                                                                                                   | 1/5 [00:00<00:00,  7.47it/s]"
     ]
    },
    {
     "name": "stdout",
     "output_type": "stream",
     "text": [
      "UAR = 0.372\n"
     ]
    },
    {
     "name": "stderr",
     "output_type": "stream",
     "text": [
      "100%|████████████████████████████████████████████████████████████████████████████████████████████████████████████████████████████████████████████████████████████████████████████████████████| 5/5 [00:00<00:00,  7.39it/s]\n",
      " 20%|████████████████████████████████████▊                                                                                                                                                   | 1/5 [00:00<00:00,  5.66it/s]"
     ]
    },
    {
     "name": "stdout",
     "output_type": "stream",
     "text": [
      "UAR = 0.371\n"
     ]
    },
    {
     "name": "stderr",
     "output_type": "stream",
     "text": [
      "100%|████████████████████████████████████████████████████████████████████████████████████████████████████████████████████████████████████████████████████████████████████████████████████████| 5/5 [00:00<00:00,  6.19it/s]\n"
     ]
    },
    {
     "name": "stdout",
     "output_type": "stream",
     "text": [
      "UAR = 0.371\n",
      "UAR_best = 0.410, C_best = 0.011\n"
     ]
    },
    {
     "data": {
      "image/png": "[encoded data removed]",
      "text/plain": [
       "<Figure size 770x385 with 1 Axes>"
      ]
     },
     "metadata": {},
     "output_type": "display_data"
    }
   ],
   "source": [
    "C = np.logspace(-3.5, -0.0, 40, endpoint=True)\n",
    "UAR_list = []\n",
    "UAR_best = 0\n",
    "for val_C in C:\n",
    "    model = SVC(kernel = 'linear', C=val_C)\n",
    "    UAR,y_pr,y_tr,y_te = model_training.estimate_model(model, X_k_folds, y_k_folds)\n",
    "    if UAR_best<UAR:\n",
    "        UAR_best,y_pred,y_true,y_test = UAR,y_pr,y_tr,y_te\n",
    "        C_best = val_C\n",
    "    UAR_list.append(UAR)\n",
    "\n",
    "fig,ax=plt.subplots(figsize=(7,3.5), dpi=110) \n",
    "plt.rcParams.update({'font.size': 14})\n",
    "plt.plot(C,UAR_list, marker='o', linestyle='dashed',)\n",
    "# plt.semilogx(C,UAR_list, marker='o', linestyle='dashed',)\n",
    "plt.ylim([0.37, 0.48])\n",
    "# plt.xlabel('$\\log_{10}(C)$')\n",
    "plt.xlabel('$C$')\n",
    "plt.ylabel('UAR')\n",
    "plt.text(C_best-0.010, UAR_best+0.005, f'{UAR_best:.3f}')\n",
    "plt.title('SVM with linear kernel')\n",
    "print(f'UAR_best = {UAR_best:.3f}, C_best = {C_best:.3f}')"
   ]
  },
  {
   "cell_type": "markdown",
   "metadata": {},
   "source": [
    "## Confusion matrix"
   ]
  },
  {
   "cell_type": "code",
   "execution_count": 19,
   "metadata": {},
   "outputs": [
    {
     "data": {
      "image/png": "[encoded data removed]",
      "text/plain": [
       "<Figure size 704x528 with 2 Axes>"
      ]
     },
     "metadata": {},
     "output_type": "display_data"
    },
    {
     "name": "stdout",
     "output_type": "stream",
     "text": [
      "Saving confusion matrix with name:  Doc/figures/confusion_matrix_eng.jpg\n"
     ]
    }
   ],
   "source": [
    "plotting_utils.plot_confusion_matrix_eng(y_test, y_true, y_pred)"
   ]
  }
 ],
 "metadata": {
  "kernelspec": {
   "display_name": "Python 3 (ipykernel)",
   "language": "python",
   "name": "python3"
  },
  "language_info": {
   "codemirror_mode": {
    "name": "ipython",
    "version": 3
   },
   "file_extension": ".py",
   "mimetype": "text/x-python",
   "name": "python",
   "nbconvert_exporter": "python",
   "pygments_lexer": "ipython3",
   "version": "3.8.10"
  },
  "vscode": {
   "interpreter": {
    "hash": "a42ccb73e7d9bfdf27e036f1d2b8b681e55fc0743cc5586bc2474d4a60f4b886"
   }
  }
 },
 "nbformat": 4,
 "nbformat_minor": 2
}
