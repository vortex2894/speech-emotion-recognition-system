{
  "cells": [
    {
      "cell_type": "markdown",
      "metadata": {
        "id": "YvN4E0CjpEAk"
      },
      "source": [
        "### Import dependencies"
      ]
    },
    {
      "cell_type": "code",
      "execution_count": 1,
      "metadata": {
        "id": "LALgcVpUoPAs"
      },
      "outputs": [],
      "source": [
        "import torch\n",
        "import torch.nn as nn\n",
        "import torch.nn.functional as F\n",
        "from torch.optim import SGD, Adam\n",
        "from torch.utils.data import Dataset\n",
        "\n",
        "import matplotlib.pyplot as plt\n",
        "import seaborn as sns\n",
        "import pandas as pd\n",
        "from tqdm import tqdm\n",
        "from sklearn.metrics import confusion_matrix\n",
        "import time\n",
        "import datetime\n",
        "import numpy as np\n",
        "\n",
        "from ignite.metrics.recall import Recall\n",
        "from ignite.engine import *\n",
        "\n",
        "def eval_step(engine, batch):\n",
        "    return batch\n",
        "\n",
        "default_evaluator = Engine(eval_step)\n",
        "test_evaluator = Engine(eval_step)  # ?\n",
        "\n",
        "device = torch.device(\"cuda\" if torch.cuda.is_available() else \"cpu\")"
      ]
    },
    {
      "cell_type": "markdown",
      "metadata": {},
      "source": [
        "# Prepare Dataloader"
      ]
    },
    {
      "cell_type": "code",
      "execution_count": 2,
      "metadata": {},
      "outputs": [],
      "source": [
        "class SER_Dataset(Dataset):\n",
        "    def __init__(self, data_path):\n",
        "        \"\"\"\n",
        "        Аргументы:\n",
        "            data_path -- путь к папке извлеченными признаками\n",
        "        \"\"\"\n",
        "        \n",
        "        self._ids = list([])    # speaker IDs\n",
        "\n",
        "        X = pd.read_csv(\"../../data/2023-11-08/feature_mfcc_34_delta_delta_nfft_4096.csv\", index_col=0)\n",
        "        y = pd.read_csv('../../data/2023-11-08/y_labels_feature_34_mfcc_delta_delta_nfft_4096.csv', index_col=0)\n",
        "        ID= pd.read_csv('../../data/2023-11-08/IDs_feature_mfcc_34_delta_delta_nfft_4096.csv', index_col=0)\n",
        "\n",
        "        # Convert features and labels to numpy arrays\n",
        "        X = X.values\n",
        "        y.replace({'neutral':0, 'calm':1, 'happy':2, 'sad':3, 'angry':4, 'fear':5, 'disgust':6, 'surprised':7}, inplace=True)\n",
        "        y = torch.tensor(y.values)\n",
        "        self.y = torch.nn.functional.one_hot(y, num_classes=8)\n",
        "        self.y = self.y.squeeze(dim=1)\n",
        "        self.y = self.y.float()\n",
        "        self.X = torch.from_numpy(X).float()\n",
        "\n",
        "        self.folds = list(([2, 5, 14, 15, 16], # 0\n",
        "                           [3, 6, 7, 13, 18], # 1\n",
        "                           [10, 11, 12, 19, 20], # 2\n",
        "                           [8, 17, 21, 23, 24], # 3\n",
        "                           [1, 4, 9, 22]))     # 4\n",
        "\n",
        "        self.folds_val = list(([3, 6],\n",
        "                              [10, 11],\n",
        "                              [8, 17],\n",
        "                              [1, 14],\n",
        "                              [2, 5]))\n",
        "\n",
        "        self.X_ids = list(np.array(ID.values).squeeze())        \n",
        "       \n",
        "        # device = torch.device(\"cuda\" if torch.cuda.is_available() else \"cpu\")\n",
        "\n",
        "        # self.X = self.X.to(device)\n",
        "        # self.y = self.y.to(device)\n",
        "\n",
        "    def __len__(self):\n",
        "        return self.X.shape[0]\n",
        "\n",
        "    def __getitem__(self, index):\n",
        "        return self.X[index,:], self.y[index,:]\n",
        "\n",
        "    def get_kth_fold_inds(self, fold_num):\n",
        "        ids_train = list([])\n",
        "        ids_val  = list([])\n",
        "        ids_test = list([])\n",
        "        for i in range(len(self.X_ids)):\n",
        "            # print(self.X_ids[i])\n",
        "            # print(self.folds[fold_num])\n",
        "            if self.X_ids[i] in self.folds[fold_num]:\n",
        "                ids_test.append(i)\n",
        "            elif self.X_ids[i] in self.folds_val[fold_num]:\n",
        "                ids_val.append(i)\n",
        "            else:\n",
        "                ids_train.append(i)\n",
        "        return (ids_train,ids_val, ids_test)"
      ]
    },
    {
      "cell_type": "code",
      "execution_count": 3,
      "metadata": {},
      "outputs": [],
      "source": [
        "## test dataloader\n",
        "SER_data_set = SER_Dataset('')\n",
        "# print(len(SER_data_set))\n",
        "# X,y = SER_data_set[2]\n",
        "# print(X)\n",
        "# print(y)\n",
        "# ids_train,ids_val, ids_test = SER_data_set.get_kth_fold_inds(4)"
      ]
    },
    {
      "cell_type": "markdown",
      "metadata": {
        "id": "ngPcxS0YpDZQ"
      },
      "source": [
        "# Linear NN"
      ]
    },
    {
      "cell_type": "code",
      "execution_count": 5,
      "metadata": {
        "id": "Eh785LXNpO6I"
      },
      "outputs": [],
      "source": [
        "class SER_one_layer_NN(nn.Module):\n",
        "    def __init__(self, input_size, num_classes):\n",
        "        super(SER_one_layer_NN, self).__init__()\n",
        "        self.fc1 = nn.Linear(input_size, num_classes)        \n",
        "        self.num_classes = num_classes\n",
        "\n",
        "        torch.manual_seed(702)\n",
        "        nn.init.xavier_uniform_(self.fc1.weight)        \n",
        "\n",
        "\n",
        "    def forward(self, x):\n",
        "        # Multiply input by weights and add biases\n",
        "        linear_output = self.fc1(x)\n",
        "        SER_out = torch.nn.functional.softmax(linear_output, dim=0)\n",
        "        return SER_out"
      ]
    },
    {
      "cell_type": "markdown",
      "metadata": {},
      "source": [
        "## Model test"
      ]
    },
    {
      "cell_type": "code",
      "execution_count": 11,
      "metadata": {},
      "outputs": [],
      "source": [
        "X,y = SER_data_set[2]\n",
        "model = SER_one_layer_NN(len(X), y.shape[0])\n",
        "y_out = model(X)"
      ]
    },
    {
      "cell_type": "markdown",
      "metadata": {},
      "source": [
        "# Development of train/val/test loop"
      ]
    },
    {
      "cell_type": "code",
      "execution_count": 7,
      "metadata": {},
      "outputs": [
        {
          "name": "stderr",
          "output_type": "stream",
          "text": [
            "Epoch 1: 100%|██████████| 204/204 [00:00<00:00, 911.01it/s]\n"
          ]
        },
        {
          "name": "stdout",
          "output_type": "stream",
          "text": [
            "2024-03-17 21:39:49.619595 Epoch 1, Train loss 2.016, Val loss 1.937, UAR_val = 0.359\n"
          ]
        },
        {
          "name": "stderr",
          "output_type": "stream",
          "text": [
            "Epoch 2: 100%|██████████| 204/204 [00:00<00:00, 1015.25it/s]\n"
          ]
        },
        {
          "name": "stdout",
          "output_type": "stream",
          "text": [
            "2024-03-17 21:39:49.834527 Epoch 2, Train loss 1.946, Val loss 1.887, UAR_val = 0.391\n"
          ]
        },
        {
          "name": "stderr",
          "output_type": "stream",
          "text": [
            "Epoch 3: 100%|██████████| 204/204 [00:00<00:00, 868.36it/s]\n"
          ]
        },
        {
          "name": "stdout",
          "output_type": "stream",
          "text": [
            "2024-03-17 21:39:50.083447 Epoch 3, Train loss 1.903, Val loss 1.862, UAR_val = 0.469\n"
          ]
        },
        {
          "name": "stderr",
          "output_type": "stream",
          "text": [
            "Epoch 4: 100%|██████████| 204/204 [00:00<00:00, 906.95it/s]\n"
          ]
        },
        {
          "name": "stdout",
          "output_type": "stream",
          "text": [
            "2024-03-17 21:39:50.322370 Epoch 4, Train loss 1.850, Val loss 1.854, UAR_val = 0.461\n"
          ]
        },
        {
          "name": "stderr",
          "output_type": "stream",
          "text": [
            "Epoch 5: 100%|██████████| 204/204 [00:00<00:00, 832.01it/s]\n"
          ]
        },
        {
          "name": "stdout",
          "output_type": "stream",
          "text": [
            "2024-03-17 21:39:50.583555 Epoch 5, Train loss 1.850, Val loss 1.837, UAR_val = 0.445\n"
          ]
        },
        {
          "name": "stderr",
          "output_type": "stream",
          "text": [
            "Epoch 6: 100%|██████████| 204/204 [00:00<00:00, 790.95it/s]\n"
          ]
        },
        {
          "name": "stdout",
          "output_type": "stream",
          "text": [
            "2024-03-17 21:39:50.856469 Epoch 6, Train loss 1.830, Val loss 1.813, UAR_val = 0.531\n"
          ]
        },
        {
          "name": "stderr",
          "output_type": "stream",
          "text": [
            "Epoch 7: 100%|██████████| 204/204 [00:00<00:00, 915.10it/s]\n"
          ]
        },
        {
          "name": "stdout",
          "output_type": "stream",
          "text": [
            "2024-03-17 21:39:51.100392 Epoch 7, Train loss 1.809, Val loss 1.803, UAR_val = 0.531\n"
          ]
        },
        {
          "name": "stderr",
          "output_type": "stream",
          "text": [
            "Epoch 8: 100%|██████████| 204/204 [00:00<00:00, 967.14it/s]\n"
          ]
        },
        {
          "name": "stdout",
          "output_type": "stream",
          "text": [
            "2024-03-17 21:39:51.325319 Epoch 8, Train loss 1.808, Val loss 1.794, UAR_val = 0.539\n"
          ]
        },
        {
          "name": "stderr",
          "output_type": "stream",
          "text": [
            "Epoch 9: 100%|██████████| 204/204 [00:00<00:00, 887.24it/s]\n"
          ]
        },
        {
          "name": "stdout",
          "output_type": "stream",
          "text": [
            "2024-03-17 21:39:51.570240 Epoch 9, Train loss 1.798, Val loss 1.801, UAR_val = 0.531\n"
          ]
        },
        {
          "name": "stderr",
          "output_type": "stream",
          "text": [
            "Epoch 10: 100%|██████████| 204/204 [00:00<00:00, 962.57it/s]\n"
          ]
        },
        {
          "name": "stdout",
          "output_type": "stream",
          "text": [
            "2024-03-17 21:39:51.797167 Epoch 10, Train loss 1.781, Val loss 1.801, UAR_val = 0.500\n"
          ]
        },
        {
          "name": "stderr",
          "output_type": "stream",
          "text": [
            "Epoch 11: 100%|██████████| 204/204 [00:00<00:00, 985.82it/s]\n"
          ]
        },
        {
          "name": "stdout",
          "output_type": "stream",
          "text": [
            "2024-03-17 21:39:52.017097 Epoch 11, Train loss 1.783, Val loss 1.799, UAR_val = 0.562\n"
          ]
        },
        {
          "name": "stderr",
          "output_type": "stream",
          "text": [
            "Epoch 12: 100%|██████████| 204/204 [00:00<00:00, 767.16it/s]\n"
          ]
        },
        {
          "name": "stdout",
          "output_type": "stream",
          "text": [
            "2024-03-17 21:39:52.297008 Epoch 12, Train loss 1.757, Val loss 1.789, UAR_val = 0.578\n"
          ]
        },
        {
          "name": "stderr",
          "output_type": "stream",
          "text": [
            "Epoch 13: 100%|██████████| 204/204 [00:00<00:00, 958.06it/s]\n"
          ]
        },
        {
          "name": "stdout",
          "output_type": "stream",
          "text": [
            "2024-03-17 21:39:52.526936 Epoch 13, Train loss 1.767, Val loss 1.795, UAR_val = 0.578\n"
          ]
        },
        {
          "name": "stderr",
          "output_type": "stream",
          "text": [
            "Epoch 14: 100%|██████████| 204/204 [00:00<00:00, 900.71it/s]\n"
          ]
        },
        {
          "name": "stdout",
          "output_type": "stream",
          "text": [
            "2024-03-17 21:39:52.768418 Epoch 14, Train loss 1.749, Val loss 1.793, UAR_val = 0.555\n"
          ]
        },
        {
          "name": "stderr",
          "output_type": "stream",
          "text": [
            "Epoch 15: 100%|██████████| 204/204 [00:00<00:00, 990.30it/s]\n"
          ]
        },
        {
          "name": "stdout",
          "output_type": "stream",
          "text": [
            "2024-03-17 21:39:52.990413 Epoch 15, Train loss 1.737, Val loss 1.786, UAR_val = 0.578\n"
          ]
        },
        {
          "name": "stderr",
          "output_type": "stream",
          "text": [
            "Epoch 16: 100%|██████████| 204/204 [00:00<00:00, 898.59it/s]\n"
          ]
        },
        {
          "name": "stdout",
          "output_type": "stream",
          "text": [
            "2024-03-17 21:39:53.236428 Epoch 16, Train loss 1.752, Val loss 1.787, UAR_val = 0.586\n"
          ]
        },
        {
          "name": "stderr",
          "output_type": "stream",
          "text": [
            "Epoch 17: 100%|██████████| 204/204 [00:00<00:00, 957.76it/s]\n"
          ]
        },
        {
          "name": "stdout",
          "output_type": "stream",
          "text": [
            "2024-03-17 21:39:53.465420 Epoch 17, Train loss 1.752, Val loss 1.788, UAR_val = 0.562\n"
          ]
        },
        {
          "name": "stderr",
          "output_type": "stream",
          "text": [
            "Epoch 18: 100%|██████████| 204/204 [00:00<00:00, 962.25it/s]\n"
          ]
        },
        {
          "name": "stdout",
          "output_type": "stream",
          "text": [
            "2024-03-17 21:39:53.693419 Epoch 18, Train loss 1.740, Val loss 1.785, UAR_val = 0.555\n"
          ]
        },
        {
          "name": "stderr",
          "output_type": "stream",
          "text": [
            "Epoch 19: 100%|██████████| 204/204 [00:00<00:00, 980.75it/s]\n"
          ]
        },
        {
          "name": "stdout",
          "output_type": "stream",
          "text": [
            "2024-03-17 21:39:53.917418 Epoch 19, Train loss 1.753, Val loss 1.780, UAR_val = 0.562\n"
          ]
        },
        {
          "name": "stderr",
          "output_type": "stream",
          "text": [
            "Epoch 20: 100%|██████████| 204/204 [00:00<00:00, 980.75it/s]"
          ]
        },
        {
          "name": "stdout",
          "output_type": "stream",
          "text": [
            "2024-03-17 21:39:54.139417 Epoch 20, Train loss 1.739, Val loss 1.772, UAR_val = 0.570\n",
            " UAR_test = 0.509\n"
          ]
        },
        {
          "name": "stderr",
          "output_type": "stream",
          "text": [
            "\n"
          ]
        },
        {
          "data": {
            "text/plain": [
              "Text(0, 0.5, 'Ошибка обучения')"
            ]
          },
          "execution_count": 7,
          "metadata": {},
          "output_type": "execute_result"
        },
        {
          "data": {
            "image/png": "[encoded data removed]",
            "text/plain": [
              "<Figure size 600x250 with 1 Axes>"
            ]
          },
          "metadata": {},
          "output_type": "display_data"
        }
      ],
      "source": [
        "# Этот код использовался для написания и отладки всех последующих процедур\n",
        "\n",
        "model = SER_one_layer_NN(306,8)\n",
        "n_epochs = 20\n",
        "\n",
        "optimizer = Adam(model.parameters(),lr=5e-4, weight_decay=1e-2) # weight_decay is L2 regularization\n",
        "loss_fn = nn.CrossEntropyLoss()\n",
        "\n",
        "SER_data_set = SER_Dataset('')\n",
        "\n",
        "inds_train,inds_val,inds_test = SER_data_set.get_kth_fold_inds(0)\n",
        "train_set = torch.utils.data.dataset.Subset(SER_data_set, inds_train)\n",
        "val_set = torch.utils.data.dataset.Subset(SER_data_set, inds_val)\n",
        "test_set = torch.utils.data.dataset.Subset(SER_data_set, inds_test)\n",
        "\n",
        "train_loader = torch.utils.data.DataLoader(train_set, batch_size=5,shuffle=True)  # num_workers=2\n",
        "val_loader = torch.utils.data.DataLoader(val_set, batch_size=5, shuffle=False)\n",
        "test_loader = torch.utils.data.DataLoader(test_set, batch_size=5, shuffle=False) \n",
        "\n",
        "metric = Recall()\n",
        "macro_metric = Recall(average=True)\n",
        "\n",
        "metric.attach(default_evaluator, \"recall\")\n",
        "macro_metric.attach(default_evaluator, \"macro recall\")\n",
        "\n",
        "macro_metric.attach(test_evaluator, \"macro recall\")\n",
        "\n",
        "MODEL_PATH = \"model_backup/model_nn.pt\"\n",
        "loss_train_history = np.ndarray((n_epochs))\n",
        "loss_val_history = np.ndarray((n_epochs))\n",
        "lrs = []\n",
        "best_epoch = -1\n",
        "loss_val_min = 100\n",
        "for epoch in range(1,n_epochs+1):\n",
        "    model.train()\n",
        "    loss_train = 0.0\n",
        "    for X, labels in tqdm(train_loader, desc=f\"Epoch {epoch}\", leave=True): #train_loader:        \n",
        "        outputs = model(X)\n",
        "        outputs = outputs.squeeze(dim=1) # for batch train_loader\n",
        "        loss = loss_fn(outputs, labels)\n",
        "        optimizer.zero_grad()\n",
        "        loss.backward()\n",
        "        optimizer.step()\n",
        "        loss_train += loss.item()\n",
        "    loss_train = loss_train / len(train_loader)\n",
        "\n",
        "    # prediction on val set\n",
        "    loss_val = 0.0\n",
        "    model.eval()\n",
        "    val_pred = []\n",
        "    val_true = []\n",
        "    with torch.no_grad():\n",
        "        for X, labels in val_loader:\n",
        "            pred = model(X)\n",
        "            pred = pred.squeeze(dim=1) # for batch train_loader\n",
        "\n",
        "            loss = loss_fn(pred, labels)\n",
        "            loss_val += loss.item()\n",
        "\n",
        "            # _,pred = torch.max(pred, dim=1)\n",
        "            _,labels = torch.max(labels, dim=1)\n",
        "\n",
        "            val_pred.append(pred)\n",
        "            val_true.append(labels)                        \n",
        "\n",
        "        val_pred = torch.cat(val_pred)\n",
        "        val_true = torch.cat(val_true)\n",
        "\n",
        "        default_evaluator.terminate()\n",
        "        state = default_evaluator.run([[val_pred, val_true]])\n",
        "        # print(f\"Recall: {state.metrics['recall']}\")\n",
        "        # print(f\"Macro Recall: {state.metrics['macro recall']}\")\n",
        "\n",
        "        loss_val = loss_val / len(val_loader)\n",
        "\n",
        "        loss_train_history[epoch-1] = loss_train\n",
        "        loss_val_history[epoch-1] = loss_val\n",
        "\n",
        "        if loss_val < loss_val_min:\n",
        "            torch.save(model.state_dict(), MODEL_PATH)\n",
        "            loss_val_min = loss_val\n",
        "            best_epoch = epoch-1\n",
        "        UAR = state.metrics['macro recall']\n",
        "        print(f'{datetime.datetime.now()} Epoch {epoch}, Train loss {loss_train:.3f}, Val loss {loss_val:.3f}, UAR_val = {UAR:.3f}')\n",
        "\n",
        "model.load_state_dict(torch.load(MODEL_PATH))\n",
        "\n",
        "# prediction on test set\n",
        "test_pred = []\n",
        "test_true = []\n",
        "model.eval()\n",
        "with torch.no_grad():\n",
        "    i = 0\n",
        "    for X, labels in test_loader:    \n",
        "        pred = model(X)\n",
        "        # pred = torch.squeeze(pred,1)\n",
        "        # pred = torch.squeeze(pred)        \n",
        "        # label = torch.squeeze(label,0)\n",
        "        _,labels = torch.max(labels, dim=1)\n",
        "\n",
        "        test_pred.append(pred)\n",
        "        test_true.append(labels)                        \n",
        "\n",
        "    test_pred = torch.cat(test_pred)\n",
        "    test_true = torch.cat(test_true)\n",
        "\n",
        "    test_evaluator.terminate()\n",
        "    state = test_evaluator.run([[test_pred, test_true]])\n",
        "\n",
        "UAR_test = state.metrics['macro recall']\n",
        "print(f' UAR_test = {UAR_test:.3f}')        \n",
        "\n",
        "fig, ax = plt.subplots(figsize=(6,2.5))\n",
        "plt.rcParams.update({'font.size': 12})\n",
        "# plt.subplot(1,2,1)\n",
        "plt.plot(range(n_epochs), loss_train_history, label='Обучающий набор')\n",
        "plt.plot(range(n_epochs), loss_val_history, label='Проверочный набор')\n",
        "plt.plot(best_epoch,loss_val_min,color='red', marker='o', linewidth=1, markersize=5)\n",
        "plt.legend()\n",
        "plt.xlabel('Эпоха')\n",
        "plt.ylabel('Ошибка обучения')"
      ]
    },
    {
      "cell_type": "markdown",
      "metadata": {},
      "source": [
        "# Train loop"
      ]
    },
    {
      "cell_type": "code",
      "execution_count": 35,
      "metadata": {},
      "outputs": [],
      "source": [
        "def training_loop(n_epochs, optimizer, model, loss_fn, train_loader, val_loader):\n",
        "    metric = Recall()\n",
        "    macro_metric = Recall(average=True)        \n",
        "\n",
        "    macro_metric.attach(test_evaluator, \"macro recall\")\n",
        "\n",
        "    MODEL_PATH = \"model_backup/model_nn.pt\"\n",
        "    loss_train_history = np.ndarray((n_epochs))\n",
        "    loss_val_history = np.ndarray((n_epochs))\n",
        "    best_epoch = -1\n",
        "    loss_val_min = 100\n",
        "    for epoch in range(1,n_epochs+1):\n",
        "        model.train()\n",
        "        loss_train = 0.0\n",
        "        for X, labels in tqdm(train_loader, desc=f\"Epoch {epoch}\", leave=True): #train_loader:        \n",
        "            outputs = model(X)\n",
        "            outputs = outputs.squeeze(dim=1) # for batch train_loader\n",
        "            loss = loss_fn(outputs, labels)\n",
        "            optimizer.zero_grad()\n",
        "            loss.backward()\n",
        "            optimizer.step()\n",
        "            loss_train += loss.item()\n",
        "        loss_train = loss_train / len(train_loader)\n",
        "\n",
        "        # prediction on val set\n",
        "        loss_val = 0.0\n",
        "        model.eval()\n",
        "        val_pred = []\n",
        "        val_true = []\n",
        "        with torch.no_grad():\n",
        "            for X, labels in val_loader:\n",
        "                pred = model(X)\n",
        "                pred = pred.squeeze(dim=1) # for batch train_loader\n",
        "\n",
        "                loss = loss_fn(pred, labels)\n",
        "                loss_val += loss.item()\n",
        "\n",
        "                # _,pred = torch.max(pred, dim=1)\n",
        "                _,labels = torch.max(labels, dim=1)\n",
        "\n",
        "                val_pred.append(pred)\n",
        "                val_true.append(labels)                        \n",
        "\n",
        "            val_pred = torch.cat(val_pred)\n",
        "            val_true = torch.cat(val_true)\n",
        "\n",
        "            default_evaluator.terminate()\n",
        "            state = default_evaluator.run([[val_pred, val_true]])\n",
        "\n",
        "            loss_val = loss_val / len(val_loader)\n",
        "\n",
        "            loss_train_history[epoch-1] = loss_train\n",
        "            loss_val_history[epoch-1] = loss_val\n",
        "\n",
        "            if loss_val < loss_val_min:\n",
        "                torch.save(model.state_dict(), MODEL_PATH)\n",
        "                loss_val_min = loss_val\n",
        "                best_epoch = epoch-1\n",
        "            UAR = state.metrics['macro recall']\n",
        "            if epoch==1 or epoch%5==0:\n",
        "                print(f'{datetime.datetime.now()} Epoch {epoch}, Train loss {loss_train:.3f}, Val loss {loss_val:.3f}, UAR_val = {UAR:.3f}')\n",
        "\n",
        "        model.load_state_dict(torch.load(MODEL_PATH))\n",
        "\n",
        "    # fig, ax = plt.subplots(figsize=(6,2.5))\n",
        "    # plt.rcParams.update({'font.size': 12})\n",
        "    # plt.plot(range(n_epochs), loss_train_history, label='Обучающий набор')\n",
        "    # plt.plot(range(n_epochs), loss_val_history, label='Проверочный набор')\n",
        "    # plt.plot(best_epoch,loss_val_min,color='red', marker='o', linewidth=1, markersize=5)\n",
        "    # plt.legend()\n",
        "    # plt.xlabel('Эпоха')\n",
        "    # plt.ylabel('Ошибка обучения')\n",
        "    # plt.show()\n",
        "        \n",
        "    # Saving results\n",
        "    # image_name = f'figures/loss_NN.jpg'\n",
        "    # fig.savefig(image_name, format='jpg', dpi=110, bbox_inches='tight', pad_inches = 0.2)\n",
        "    return (loss_train_history,loss_val_history,loss_val_min,best_epoch)"
      ]
    },
    {
      "cell_type": "code",
      "execution_count": 10,
      "metadata": {},
      "outputs": [
        {
          "name": "stderr",
          "output_type": "stream",
          "text": [
            "Epoch 1: 100%|██████████| 204/204 [00:00<00:00, 1005.25it/s]\n"
          ]
        },
        {
          "name": "stdout",
          "output_type": "stream",
          "text": [
            "2024-03-17 22:10:16.029081 Epoch 1, Train loss 2.016, Val loss 1.937, UAR_val = 0.359\n"
          ]
        },
        {
          "name": "stderr",
          "output_type": "stream",
          "text": [
            "Epoch 2: 100%|██████████| 204/204 [00:00<00:00, 965.32it/s]\n"
          ]
        },
        {
          "name": "stdout",
          "output_type": "stream",
          "text": [
            "2024-03-17 22:10:16.262909 Epoch 2, Train loss 1.946, Val loss 1.887, UAR_val = 0.391\n"
          ]
        },
        {
          "name": "stderr",
          "output_type": "stream",
          "text": [
            "Epoch 3: 100%|██████████| 204/204 [00:00<00:00, 962.80it/s]\n"
          ]
        },
        {
          "name": "stdout",
          "output_type": "stream",
          "text": [
            "2024-03-17 22:10:16.498208 Epoch 3, Train loss 1.903, Val loss 1.862, UAR_val = 0.469\n"
          ]
        },
        {
          "name": "stderr",
          "output_type": "stream",
          "text": [
            "Epoch 4: 100%|██████████| 204/204 [00:00<00:00, 1000.32it/s]\n"
          ]
        },
        {
          "name": "stdout",
          "output_type": "stream",
          "text": [
            "2024-03-17 22:10:16.724136 Epoch 4, Train loss 1.850, Val loss 1.854, UAR_val = 0.461\n"
          ]
        },
        {
          "name": "stderr",
          "output_type": "stream",
          "text": [
            "Epoch 5: 100%|██████████| 204/204 [00:00<00:00, 1010.23it/s]\n"
          ]
        },
        {
          "name": "stdout",
          "output_type": "stream",
          "text": [
            "2024-03-17 22:10:16.947065 Epoch 5, Train loss 1.850, Val loss 1.837, UAR_val = 0.445\n"
          ]
        },
        {
          "data": {
            "image/png": "[encoded data removed]",
            "text/plain": [
              "<Figure size 600x250 with 1 Axes>"
            ]
          },
          "metadata": {},
          "output_type": "display_data"
        }
      ],
      "source": [
        "model = SER_one_layer_NN(306,8)\n",
        "n_epochs = 5\n",
        "\n",
        "optimizer = Adam(model.parameters(),lr=5e-4, weight_decay=1e-2) # weight_decay is L2 regularization\n",
        "loss_fn = nn.CrossEntropyLoss()\n",
        "\n",
        "SER_data_set = SER_Dataset('')\n",
        "\n",
        "loss_train_history, loss_val_history, loss_val_min, best_epoch = training_loop(n_epochs, optimizer, model, loss_fn, train_loader, val_loader)"
      ]
    },
    {
      "cell_type": "markdown",
      "metadata": {
        "id": "_7DIuHzeFIDa"
      },
      "source": [
        "# k-fold CV"
      ]
    },
    {
      "cell_type": "code",
      "execution_count": 39,
      "metadata": {
        "colab": {
          "base_uri": "https://localhost:8080/"
        },
        "id": "zn8o-FxFE9dv",
        "outputId": "740fa71c-5241-4a18-bcfe-1f7b922614a7"
      },
      "outputs": [],
      "source": [
        "def k_fold_CV(dataset=None, model = None, loss_fn = None, optimizer = None, n_epochs = 20, k_fold=5):\n",
        "    MODEL_PATH = \"model_backup/model_nn.pt\"\n",
        "    INIT_MODEL_PATH = \"model_backup/model_nn_init.pt\"\n",
        "\n",
        "    torch.save(model.state_dict(), INIT_MODEL_PATH)\n",
        "\n",
        "    macro_metric = Recall(average=True)\n",
        "    macro_metric.attach(test_evaluator, \"macro recall\")\n",
        "\n",
        "    test_pred = []\n",
        "    test_true = []\n",
        "    \n",
        "    loss_train_history_list = list()\n",
        "    loss_val_history_list = list()\n",
        "    loss_val_best_hist = list()\n",
        "    best_epoch_hist = list()\n",
        "    \n",
        "    for i in range(k_fold):\n",
        "\n",
        "        inds_train,inds_val,inds_test = dataset.get_kth_fold_inds(i)\n",
        "\n",
        "        train_set = torch.utils.data.dataset.Subset(dataset,inds_train)\n",
        "        val_set = torch.utils.data.dataset.Subset(dataset,inds_val)\n",
        "        test_set = torch.utils.data.dataset.Subset(dataset,inds_test)\n",
        "\n",
        "        train_loader = torch.utils.data.DataLoader(train_set, batch_size=5,shuffle=True)  # num_workers=2\n",
        "        val_loader = torch.utils.data.DataLoader(val_set, batch_size=5, shuffle=False)\n",
        "        test_loader = torch.utils.data.DataLoader(test_set, batch_size=5, shuffle=False)    # num_workers=2\n",
        "\n",
        "        model.load_state_dict(torch.load(INIT_MODEL_PATH))   # reset model parameters\n",
        "\n",
        "        loss_train_history, loss_val_history, loss_val_min, best_epoch = training_loop(n_epochs, optimizer, model, loss_fn, train_loader, val_loader)\n",
        "\n",
        "        loss_train_history_list.append(loss_train_history)\n",
        "        loss_val_history_list.append(loss_val_history)\n",
        "        loss_val_best_hist.append(loss_val_min)\n",
        "        best_epoch_hist.append(best_epoch)             \n",
        "\n",
        "        # prediction on test set\n",
        "        model.load_state_dict(torch.load(MODEL_PATH))   # load model from previous train/val cycle\n",
        "        \n",
        "        model.eval()\n",
        "        with torch.no_grad():\n",
        "            i = 0\n",
        "            for X, labels in test_loader:    \n",
        "                pred = model(X)\n",
        "                _,labels = torch.max(labels, dim=1)\n",
        "\n",
        "                test_pred.append(pred)\n",
        "                test_true.append(labels)                            \n",
        "\n",
        "    fig, ax = plt.subplots(figsize=(14,2.5))\n",
        "    plt.rcParams.update({'font.size': 9})\n",
        "\n",
        "    for i in range(k_fold):\n",
        "        plt.subplot(1,k_fold,i+1)\n",
        "        plt.plot(range(n_epochs), loss_train_history_list[i], label='Обучающий набор')\n",
        "        plt.plot(range(n_epochs), loss_val_history_list[i], label='Проверочный набор')\n",
        "        plt.plot(best_epoch_hist[i],loss_val_best_hist[i],color='red', marker='o', linewidth=1, markersize=5)\n",
        "        plt.legend()\n",
        "        plt.xlabel('Эпоха')\n",
        "        plt.ylabel('Ошибка обучения')\n",
        "\n",
        "    plt.subplots_adjust(wspace=0.9)\n",
        "    \n",
        "    test_pred = torch.cat(test_pred)\n",
        "    test_true = torch.cat(test_true)\n",
        "    \n",
        "    print(test_pred.shape)\n",
        "    \n",
        "    test_evaluator.terminate()\n",
        "    state = test_evaluator.run([[test_pred, test_true]])\n",
        "\n",
        "    UAR_test = state.metrics['macro recall']\n",
        "    print('Final results')\n",
        "\n",
        "    print(f' UAR_test = {UAR_test:.3f}')"
      ]
    },
    {
      "cell_type": "markdown",
      "metadata": {
        "id": "VoaufiM9FLOY"
      },
      "source": [
        "# Train model (with 5-fold CV)"
      ]
    },
    {
      "cell_type": "code",
      "execution_count": 40,
      "metadata": {},
      "outputs": [
        {
          "name": "stderr",
          "output_type": "stream",
          "text": [
            "Epoch 1: 100%|██████████| 204/204 [00:00<00:00, 981.65it/s]\n"
          ]
        },
        {
          "name": "stdout",
          "output_type": "stream",
          "text": [
            "2024-03-18 00:02:00.652539 Epoch 1, Train loss 2.070, Val loss 2.038, UAR_val = 0.180\n"
          ]
        },
        {
          "name": "stderr",
          "output_type": "stream",
          "text": [
            "Epoch 2: 100%|██████████| 204/204 [00:00<00:00, 962.57it/s]\n",
            "Epoch 3: 100%|██████████| 204/204 [00:00<00:00, 931.81it/s]\n",
            "Epoch 4: 100%|██████████| 204/204 [00:00<00:00, 1015.25it/s]\n",
            "Epoch 5: 100%|██████████| 204/204 [00:00<00:00, 990.60it/s] \n"
          ]
        },
        {
          "name": "stdout",
          "output_type": "stream",
          "text": [
            "2024-03-18 00:02:01.583241 Epoch 5, Train loss 1.972, Val loss 1.939, UAR_val = 0.352\n"
          ]
        },
        {
          "name": "stderr",
          "output_type": "stream",
          "text": [
            "Epoch 6: 100%|██████████| 204/204 [00:00<00:00, 675.71it/s]\n",
            "Epoch 7: 100%|██████████| 204/204 [00:00<00:00, 1015.25it/s]\n",
            "Epoch 8: 100%|██████████| 204/204 [00:00<00:00, 1015.25it/s]\n",
            "Epoch 9: 100%|██████████| 204/204 [00:00<00:00, 697.69it/s] \n",
            "Epoch 10: 100%|██████████| 204/204 [00:00<00:00, 1022.91it/s]\n"
          ]
        },
        {
          "name": "stdout",
          "output_type": "stream",
          "text": [
            "2024-03-18 00:02:02.887324 Epoch 10, Train loss 1.911, Val loss 1.882, UAR_val = 0.406\n"
          ]
        },
        {
          "name": "stderr",
          "output_type": "stream",
          "text": [
            "Epoch 11: 100%|██████████| 204/204 [00:00<00:00, 985.82it/s] \n",
            "Epoch 12: 100%|██████████| 204/204 [00:00<00:00, 1025.46it/s]\n",
            "Epoch 13: 100%|██████████| 204/204 [00:00<00:00, 1015.25it/s]\n",
            "Epoch 14: 100%|██████████| 204/204 [00:00<00:00, 1030.63it/s]\n",
            "Epoch 15: 100%|██████████| 204/204 [00:00<00:00, 1030.63it/s]\n"
          ]
        },
        {
          "name": "stdout",
          "output_type": "stream",
          "text": [
            "2024-03-18 00:02:03.995969 Epoch 15, Train loss 1.869, Val loss 1.855, UAR_val = 0.453\n"
          ]
        },
        {
          "name": "stderr",
          "output_type": "stream",
          "text": [
            "Epoch 16: 100%|██████████| 204/204 [00:00<00:00, 1000.33it/s]\n",
            "Epoch 17: 100%|██████████| 204/204 [00:00<00:00, 1030.64it/s]\n",
            "Epoch 18: 100%|██████████| 204/204 [00:00<00:00, 1025.46it/s]\n",
            "Epoch 19: 100%|██████████| 204/204 [00:00<00:00, 933.57it/s]\n",
            "Epoch 20: 100%|██████████| 204/204 [00:00<00:00, 1020.32it/s]\n"
          ]
        },
        {
          "name": "stdout",
          "output_type": "stream",
          "text": [
            "2024-03-18 00:02:05.123193 Epoch 20, Train loss 1.845, Val loss 1.832, UAR_val = 0.492\n"
          ]
        },
        {
          "name": "stderr",
          "output_type": "stream",
          "text": [
            "Epoch 21: 100%|██████████| 204/204 [00:00<00:00, 981.08it/s]\n",
            "Epoch 22: 100%|██████████| 204/204 [00:00<00:00, 1025.46it/s]\n",
            "Epoch 23: 100%|██████████| 204/204 [00:00<00:00, 1030.64it/s]\n",
            "Epoch 24: 100%|██████████| 204/204 [00:00<00:00, 962.57it/s]\n",
            "Epoch 25: 100%|██████████| 204/204 [00:00<00:00, 1041.15it/s]\n"
          ]
        },
        {
          "name": "stdout",
          "output_type": "stream",
          "text": [
            "2024-03-18 00:02:06.243835 Epoch 25, Train loss 1.827, Val loss 1.822, UAR_val = 0.477\n"
          ]
        },
        {
          "name": "stderr",
          "output_type": "stream",
          "text": [
            "Epoch 26: 100%|██████████| 204/204 [00:00<00:00, 985.83it/s] \n",
            "Epoch 27: 100%|██████████| 204/204 [00:00<00:00, 1035.87it/s]\n",
            "Epoch 28: 100%|██████████| 204/204 [00:00<00:00, 997.35it/s] \n",
            "Epoch 29: 100%|██████████| 204/204 [00:00<00:00, 996.36it/s] \n",
            "Epoch 30: 100%|██████████| 204/204 [00:00<00:00, 1030.64it/s]\n"
          ]
        },
        {
          "name": "stdout",
          "output_type": "stream",
          "text": [
            "2024-03-18 00:02:07.363710 Epoch 30, Train loss 1.816, Val loss 1.813, UAR_val = 0.516\n"
          ]
        },
        {
          "name": "stderr",
          "output_type": "stream",
          "text": [
            "Epoch 31: 100%|██████████| 204/204 [00:00<00:00, 990.61it/s] \n",
            "Epoch 32: 100%|██████████| 204/204 [00:00<00:00, 1020.33it/s]\n",
            "Epoch 33: 100%|██████████| 204/204 [00:00<00:00, 703.67it/s]\n",
            "Epoch 34: 100%|██████████| 204/204 [00:00<00:00, 1035.86it/s]\n",
            "Epoch 35: 100%|██████████| 204/204 [00:00<00:00, 1030.64it/s]\n"
          ]
        },
        {
          "name": "stdout",
          "output_type": "stream",
          "text": [
            "2024-03-18 00:02:08.554330 Epoch 35, Train loss 1.795, Val loss 1.809, UAR_val = 0.547\n"
          ]
        },
        {
          "name": "stderr",
          "output_type": "stream",
          "text": [
            "Epoch 36: 100%|██████████| 204/204 [00:00<00:00, 995.44it/s] \n",
            "Epoch 37: 100%|██████████| 204/204 [00:00<00:00, 1015.25it/s]\n",
            "Epoch 38: 100%|██████████| 204/204 [00:00<00:00, 882.42it/s]\n",
            "Epoch 39: 100%|██████████| 204/204 [00:00<00:00, 1020.33it/s]\n",
            "Epoch 40: 100%|██████████| 204/204 [00:00<00:00, 1025.46it/s]\n"
          ]
        },
        {
          "name": "stdout",
          "output_type": "stream",
          "text": [
            "2024-03-18 00:02:09.695221 Epoch 40, Train loss 1.788, Val loss 1.802, UAR_val = 0.531\n"
          ]
        },
        {
          "name": "stderr",
          "output_type": "stream",
          "text": [
            "Epoch 41: 100%|██████████| 204/204 [00:00<00:00, 990.62it/s] \n",
            "Epoch 42: 100%|██████████| 204/204 [00:00<00:00, 1035.86it/s]\n",
            "Epoch 43: 100%|██████████| 204/204 [00:00<00:00, 1025.45it/s]\n",
            "Epoch 44: 100%|██████████| 204/204 [00:00<00:00, 944.75it/s]\n",
            "Epoch 45: 100%|██████████| 204/204 [00:00<00:00, 1035.87it/s]\n"
          ]
        },
        {
          "name": "stdout",
          "output_type": "stream",
          "text": [
            "2024-03-18 00:02:10.811865 Epoch 45, Train loss 1.777, Val loss 1.798, UAR_val = 0.531\n"
          ]
        },
        {
          "name": "stderr",
          "output_type": "stream",
          "text": [
            "Epoch 46: 100%|██████████| 204/204 [00:00<00:00, 1000.32it/s]\n",
            "Epoch 47: 100%|██████████| 204/204 [00:00<00:00, 957.26it/s] \n",
            "Epoch 48: 100%|██████████| 204/204 [00:00<00:00, 1012.47it/s]\n",
            "Epoch 49: 100%|██████████| 204/204 [00:00<00:00, 971.74it/s]\n",
            "Epoch 50: 100%|██████████| 204/204 [00:00<00:00, 1030.63it/s]\n"
          ]
        },
        {
          "name": "stdout",
          "output_type": "stream",
          "text": [
            "2024-03-18 00:02:11.924649 Epoch 50, Train loss 1.787, Val loss 1.795, UAR_val = 0.547\n"
          ]
        },
        {
          "name": "stderr",
          "output_type": "stream",
          "text": [
            "Epoch 1: 100%|██████████| 204/204 [00:00<00:00, 995.44it/s] \n"
          ]
        },
        {
          "name": "stdout",
          "output_type": "stream",
          "text": [
            "2024-03-18 00:02:12.171570 Epoch 1, Train loss 2.072, Val loss 2.077, UAR_val = 0.133\n"
          ]
        },
        {
          "name": "stderr",
          "output_type": "stream",
          "text": [
            "Epoch 2: 100%|██████████| 204/204 [00:00<00:00, 981.08it/s]\n",
            "Epoch 3: 100%|██████████| 204/204 [00:00<00:00, 1030.63it/s]\n",
            "Epoch 4: 100%|██████████| 204/204 [00:00<00:00, 1030.63it/s]\n",
            "Epoch 5: 100%|██████████| 204/204 [00:00<00:00, 1015.25it/s]\n"
          ]
        },
        {
          "name": "stdout",
          "output_type": "stream",
          "text": [
            "2024-03-18 00:02:13.058286 Epoch 5, Train loss 1.947, Val loss 1.995, UAR_val = 0.250\n"
          ]
        },
        {
          "name": "stderr",
          "output_type": "stream",
          "text": [
            "Epoch 6: 100%|██████████| 204/204 [00:00<00:00, 985.83it/s]\n",
            "Epoch 7: 100%|██████████| 204/204 [00:00<00:00, 941.70it/s]\n",
            "Epoch 8: 100%|██████████| 204/204 [00:00<00:00, 1030.64it/s]\n",
            "Epoch 9: 100%|██████████| 204/204 [00:00<00:00, 1015.25it/s]\n",
            "Epoch 10: 100%|██████████| 204/204 [00:00<00:00, 723.63it/s] \n"
          ]
        },
        {
          "name": "stdout",
          "output_type": "stream",
          "text": [
            "2024-03-18 00:02:14.272598 Epoch 10, Train loss 1.885, Val loss 1.948, UAR_val = 0.312\n"
          ]
        },
        {
          "name": "stderr",
          "output_type": "stream",
          "text": [
            "Epoch 11: 100%|██████████| 204/204 [00:00<00:00, 985.82it/s]\n",
            "Epoch 12: 100%|██████████| 204/204 [00:00<00:00, 1030.64it/s]\n",
            "Epoch 13: 100%|██████████| 204/204 [00:00<00:00, 985.83it/s] \n",
            "Epoch 14: 100%|██████████| 204/204 [00:00<00:00, 1020.32it/s]\n",
            "Epoch 15: 100%|██████████| 204/204 [00:00<00:00, 949.14it/s]\n"
          ]
        },
        {
          "name": "stdout",
          "output_type": "stream",
          "text": [
            "2024-03-18 00:02:15.409235 Epoch 15, Train loss 1.848, Val loss 1.916, UAR_val = 0.320\n"
          ]
        },
        {
          "name": "stderr",
          "output_type": "stream",
          "text": [
            "Epoch 16: 100%|██████████| 204/204 [00:00<00:00, 915.91it/s]\n",
            "Epoch 17: 100%|██████████| 204/204 [00:00<00:00, 1025.46it/s]\n",
            "Epoch 18: 100%|██████████| 204/204 [00:00<00:00, 1020.33it/s]\n",
            "Epoch 19: 100%|██████████| 204/204 [00:00<00:00, 1035.86it/s]\n",
            "Epoch 20: 100%|██████████| 204/204 [00:00<00:00, 1020.33it/s]\n"
          ]
        },
        {
          "name": "stdout",
          "output_type": "stream",
          "text": [
            "2024-03-18 00:02:16.539677 Epoch 20, Train loss 1.811, Val loss 1.895, UAR_val = 0.352\n"
          ]
        },
        {
          "name": "stderr",
          "output_type": "stream",
          "text": [
            "Epoch 21: 100%|██████████| 204/204 [00:00<00:00, 995.44it/s] \n",
            "Epoch 22: 100%|██████████| 204/204 [00:00<00:00, 931.80it/s]\n",
            "Epoch 23: 100%|██████████| 204/204 [00:00<00:00, 1030.63it/s]\n",
            "Epoch 24: 100%|██████████| 204/204 [00:00<00:00, 1025.46it/s]\n",
            "Epoch 25: 100%|██████████| 204/204 [00:00<00:00, 990.15it/s] \n"
          ]
        },
        {
          "name": "stdout",
          "output_type": "stream",
          "text": [
            "2024-03-18 00:02:17.673832 Epoch 25, Train loss 1.805, Val loss 1.883, UAR_val = 0.344\n"
          ]
        },
        {
          "name": "stderr",
          "output_type": "stream",
          "text": [
            "Epoch 26: 100%|██████████| 204/204 [00:00<00:00, 955.42it/s]\n",
            "Epoch 27: 100%|██████████| 204/204 [00:00<00:00, 1025.45it/s]\n",
            "Epoch 28: 100%|██████████| 204/204 [00:00<00:00, 958.06it/s]\n",
            "Epoch 29: 100%|██████████| 204/204 [00:00<00:00, 1035.87it/s]\n",
            "Epoch 30: 100%|██████████| 204/204 [00:00<00:00, 1030.63it/s]\n"
          ]
        },
        {
          "name": "stdout",
          "output_type": "stream",
          "text": [
            "2024-03-18 00:02:18.800372 Epoch 30, Train loss 1.784, Val loss 1.867, UAR_val = 0.398\n"
          ]
        },
        {
          "name": "stderr",
          "output_type": "stream",
          "text": [
            "Epoch 31: 100%|██████████| 204/204 [00:00<00:00, 1000.32it/s]\n",
            "Epoch 32: 100%|██████████| 204/204 [00:00<00:00, 1025.46it/s]\n",
            "Epoch 33: 100%|██████████| 204/204 [00:00<00:00, 1025.46it/s]\n",
            "Epoch 34: 100%|██████████| 204/204 [00:00<00:00, 953.58it/s]\n",
            "Epoch 35: 100%|██████████| 204/204 [00:00<00:00, 937.94it/s]\n"
          ]
        },
        {
          "name": "stdout",
          "output_type": "stream",
          "text": [
            "2024-03-18 00:02:19.942574 Epoch 35, Train loss 1.786, Val loss 1.859, UAR_val = 0.430\n"
          ]
        },
        {
          "name": "stderr",
          "output_type": "stream",
          "text": [
            "Epoch 36: 100%|██████████| 204/204 [00:00<00:00, 696.47it/s]\n",
            "Epoch 37: 100%|██████████| 204/204 [00:00<00:00, 1030.63it/s]\n",
            "Epoch 38: 100%|██████████| 204/204 [00:00<00:00, 1025.46it/s]\n",
            "Epoch 39: 100%|██████████| 204/204 [00:00<00:00, 1025.46it/s]\n",
            "Epoch 40: 100%|██████████| 204/204 [00:00<00:00, 1035.87it/s]\n"
          ]
        },
        {
          "name": "stdout",
          "output_type": "stream",
          "text": [
            "2024-03-18 00:02:21.099205 Epoch 40, Train loss 1.780, Val loss 1.859, UAR_val = 0.453\n"
          ]
        },
        {
          "name": "stderr",
          "output_type": "stream",
          "text": [
            "Epoch 41: 100%|██████████| 204/204 [00:00<00:00, 981.08it/s]\n",
            "Epoch 42: 100%|██████████| 204/204 [00:00<00:00, 1015.26it/s]\n",
            "Epoch 43: 100%|██████████| 204/204 [00:00<00:00, 1020.33it/s]\n",
            "Epoch 44: 100%|██████████| 204/204 [00:00<00:00, 986.18it/s] \n",
            "Epoch 45: 100%|██████████| 204/204 [00:00<00:00, 998.04it/s] \n"
          ]
        },
        {
          "name": "stdout",
          "output_type": "stream",
          "text": [
            "2024-03-18 00:02:22.202161 Epoch 45, Train loss 1.781, Val loss 1.855, UAR_val = 0.430\n"
          ]
        },
        {
          "name": "stderr",
          "output_type": "stream",
          "text": [
            "Epoch 46: 100%|██████████| 204/204 [00:00<00:00, 995.44it/s] \n",
            "Epoch 47: 100%|██████████| 204/204 [00:00<00:00, 1025.45it/s]\n",
            "Epoch 48: 100%|██████████| 204/204 [00:00<00:00, 1041.15it/s]\n",
            "Epoch 49: 100%|██████████| 204/204 [00:00<00:00, 887.24it/s]\n",
            "Epoch 50: 100%|██████████| 204/204 [00:00<00:00, 1025.46it/s]\n"
          ]
        },
        {
          "name": "stdout",
          "output_type": "stream",
          "text": [
            "2024-03-18 00:02:23.328801 Epoch 50, Train loss 1.757, Val loss 1.853, UAR_val = 0.461\n"
          ]
        },
        {
          "name": "stderr",
          "output_type": "stream",
          "text": [
            "Epoch 1: 100%|██████████| 204/204 [00:00<00:00, 995.44it/s] \n"
          ]
        },
        {
          "name": "stdout",
          "output_type": "stream",
          "text": [
            "2024-03-18 00:02:23.576723 Epoch 1, Train loss 2.064, Val loss 2.024, UAR_val = 0.180\n"
          ]
        },
        {
          "name": "stderr",
          "output_type": "stream",
          "text": [
            "Epoch 2: 100%|██████████| 204/204 [00:00<00:00, 990.61it/s] \n",
            "Epoch 3: 100%|██████████| 204/204 [00:00<00:00, 1035.87it/s]\n",
            "Epoch 4: 100%|██████████| 204/204 [00:00<00:00, 938.71it/s]\n",
            "Epoch 5: 100%|██████████| 204/204 [00:00<00:00, 1030.63it/s]\n"
          ]
        },
        {
          "name": "stdout",
          "output_type": "stream",
          "text": [
            "2024-03-18 00:02:24.481822 Epoch 5, Train loss 1.941, Val loss 1.936, UAR_val = 0.305\n"
          ]
        },
        {
          "name": "stderr",
          "output_type": "stream",
          "text": [
            "Epoch 6: 100%|██████████| 204/204 [00:00<00:00, 976.39it/s]\n",
            "Epoch 7: 100%|██████████| 204/204 [00:00<00:00, 1000.33it/s]\n",
            "Epoch 8: 100%|██████████| 204/204 [00:00<00:00, 995.44it/s] \n",
            "Epoch 9: 100%|██████████| 204/204 [00:00<00:00, 1030.64it/s]\n",
            "Epoch 10: 100%|██████████| 204/204 [00:00<00:00, 1025.46it/s]\n"
          ]
        },
        {
          "name": "stdout",
          "output_type": "stream",
          "text": [
            "2024-03-18 00:02:25.604464 Epoch 10, Train loss 1.886, Val loss 1.896, UAR_val = 0.391\n"
          ]
        },
        {
          "name": "stderr",
          "output_type": "stream",
          "text": [
            "Epoch 11: 100%|██████████| 204/204 [00:00<00:00, 990.61it/s] \n",
            "Epoch 12: 100%|██████████| 204/204 [00:00<00:00, 1030.63it/s]\n",
            "Epoch 13: 100%|██████████| 204/204 [00:00<00:00, 916.32it/s] \n",
            "Epoch 14: 100%|██████████| 204/204 [00:00<00:00, 995.58it/s] \n",
            "Epoch 15: 100%|██████████| 204/204 [00:00<00:00, 1041.15it/s]\n"
          ]
        },
        {
          "name": "stdout",
          "output_type": "stream",
          "text": [
            "2024-03-18 00:02:26.850082 Epoch 15, Train loss 1.852, Val loss 1.873, UAR_val = 0.438\n"
          ]
        },
        {
          "name": "stderr",
          "output_type": "stream",
          "text": [
            "Epoch 16: 100%|██████████| 204/204 [00:00<00:00, 990.61it/s] \n",
            "Epoch 17: 100%|██████████| 204/204 [00:00<00:00, 1015.25it/s]\n",
            "Epoch 18: 100%|██████████| 204/204 [00:00<00:00, 1035.86it/s]\n",
            "Epoch 19: 100%|██████████| 204/204 [00:00<00:00, 1015.25it/s]\n",
            "Epoch 20: 100%|██████████| 204/204 [00:00<00:00, 1030.64it/s]\n"
          ]
        },
        {
          "name": "stdout",
          "output_type": "stream",
          "text": [
            "2024-03-18 00:02:27.958728 Epoch 20, Train loss 1.836, Val loss 1.862, UAR_val = 0.445\n"
          ]
        },
        {
          "name": "stderr",
          "output_type": "stream",
          "text": [
            "Epoch 21: 100%|██████████| 204/204 [00:00<00:00, 995.44it/s] \n",
            "Epoch 22: 100%|██████████| 204/204 [00:00<00:00, 1020.33it/s]\n",
            "Epoch 23: 100%|██████████| 204/204 [00:00<00:00, 890.44it/s]\n",
            "Epoch 24: 100%|██████████| 204/204 [00:00<00:00, 1000.32it/s]\n",
            "Epoch 25: 100%|██████████| 204/204 [00:00<00:00, 1030.64it/s]\n"
          ]
        },
        {
          "name": "stdout",
          "output_type": "stream",
          "text": [
            "2024-03-18 00:02:29.096538 Epoch 25, Train loss 1.800, Val loss 1.852, UAR_val = 0.477\n"
          ]
        },
        {
          "name": "stderr",
          "output_type": "stream",
          "text": [
            "Epoch 26: 100%|██████████| 204/204 [00:00<00:00, 958.06it/s]\n",
            "Epoch 27: 100%|██████████| 204/204 [00:00<00:00, 1015.27it/s]\n",
            "Epoch 28: 100%|██████████| 204/204 [00:00<00:00, 1015.25it/s]\n",
            "Epoch 29: 100%|██████████| 204/204 [00:00<00:00, 1030.64it/s]\n",
            "Epoch 30: 100%|██████████| 204/204 [00:00<00:00, 1035.86it/s]\n"
          ]
        },
        {
          "name": "stdout",
          "output_type": "stream",
          "text": [
            "2024-03-18 00:02:30.218180 Epoch 30, Train loss 1.805, Val loss 1.843, UAR_val = 0.477\n"
          ]
        },
        {
          "name": "stderr",
          "output_type": "stream",
          "text": [
            "Epoch 31: 100%|██████████| 204/204 [00:00<00:00, 995.45it/s] \n",
            "Epoch 32: 100%|██████████| 204/204 [00:00<00:00, 930.80it/s] \n",
            "Epoch 33: 100%|██████████| 204/204 [00:00<00:00, 972.97it/s]\n",
            "Epoch 34: 100%|██████████| 204/204 [00:00<00:00, 1030.64it/s]\n",
            "Epoch 35: 100%|██████████| 204/204 [00:00<00:00, 1020.32it/s]\n"
          ]
        },
        {
          "name": "stdout",
          "output_type": "stream",
          "text": [
            "2024-03-18 00:02:31.360408 Epoch 35, Train loss 1.794, Val loss 1.839, UAR_val = 0.500\n"
          ]
        },
        {
          "name": "stderr",
          "output_type": "stream",
          "text": [
            "Epoch 36: 100%|██████████| 204/204 [00:00<00:00, 985.82it/s] \n",
            "Epoch 37: 100%|██████████| 204/204 [00:00<00:00, 1030.64it/s]\n",
            "Epoch 38: 100%|██████████| 204/204 [00:00<00:00, 1035.87it/s]\n",
            "Epoch 39: 100%|██████████| 204/204 [00:00<00:00, 1025.45it/s]\n",
            "Epoch 40: 100%|██████████| 204/204 [00:00<00:00, 1030.63it/s]\n"
          ]
        },
        {
          "name": "stdout",
          "output_type": "stream",
          "text": [
            "2024-03-18 00:02:32.459057 Epoch 40, Train loss 1.793, Val loss 1.831, UAR_val = 0.492\n"
          ]
        },
        {
          "name": "stderr",
          "output_type": "stream",
          "text": [
            "Epoch 41: 100%|██████████| 204/204 [00:00<00:00, 666.88it/s]\n",
            "Epoch 42: 100%|██████████| 204/204 [00:00<00:00, 965.87it/s]\n",
            "Epoch 43: 100%|██████████| 204/204 [00:00<00:00, 967.13it/s]\n",
            "Epoch 44: 100%|██████████| 204/204 [00:00<00:00, 1020.33it/s]\n",
            "Epoch 45: 100%|██████████| 204/204 [00:00<00:00, 1035.87it/s]\n"
          ]
        },
        {
          "name": "stdout",
          "output_type": "stream",
          "text": [
            "2024-03-18 00:02:33.696939 Epoch 45, Train loss 1.783, Val loss 1.826, UAR_val = 0.500\n"
          ]
        },
        {
          "name": "stderr",
          "output_type": "stream",
          "text": [
            "Epoch 46: 100%|██████████| 204/204 [00:00<00:00, 923.37it/s]\n",
            "Epoch 47: 100%|██████████| 204/204 [00:00<00:00, 1030.63it/s]\n",
            "Epoch 48: 100%|██████████| 204/204 [00:00<00:00, 1041.14it/s]\n",
            "Epoch 49: 100%|██████████| 204/204 [00:00<00:00, 1020.33it/s]\n",
            "Epoch 50: 100%|██████████| 204/204 [00:00<00:00, 1046.49it/s]\n"
          ]
        },
        {
          "name": "stdout",
          "output_type": "stream",
          "text": [
            "2024-03-18 00:02:34.814582 Epoch 50, Train loss 1.773, Val loss 1.825, UAR_val = 0.508\n"
          ]
        },
        {
          "name": "stderr",
          "output_type": "stream",
          "text": [
            "Epoch 1: 100%|██████████| 204/204 [00:00<00:00, 924.80it/s]\n"
          ]
        },
        {
          "name": "stdout",
          "output_type": "stream",
          "text": [
            "2024-03-18 00:02:35.078158 Epoch 1, Train loss 2.068, Val loss 2.085, UAR_val = 0.180\n"
          ]
        },
        {
          "name": "stderr",
          "output_type": "stream",
          "text": [
            "Epoch 2: 100%|██████████| 204/204 [00:00<00:00, 985.83it/s]\n",
            "Epoch 3: 100%|██████████| 204/204 [00:00<00:00, 1015.26it/s]\n",
            "Epoch 4: 100%|██████████| 204/204 [00:00<00:00, 1025.46it/s]\n",
            "Epoch 5: 100%|██████████| 204/204 [00:00<00:00, 949.14it/s]\n"
          ]
        },
        {
          "name": "stdout",
          "output_type": "stream",
          "text": [
            "2024-03-18 00:02:35.981869 Epoch 5, Train loss 1.960, Val loss 1.986, UAR_val = 0.250\n"
          ]
        },
        {
          "name": "stderr",
          "output_type": "stream",
          "text": [
            "Epoch 6: 100%|██████████| 204/204 [00:00<00:00, 1000.32it/s]\n",
            "Epoch 7: 100%|██████████| 204/204 [00:00<00:00, 1025.46it/s]\n",
            "Epoch 8: 100%|██████████| 204/204 [00:00<00:00, 1030.63it/s]\n",
            "Epoch 9: 100%|██████████| 204/204 [00:00<00:00, 1025.46it/s]\n",
            "Epoch 10: 100%|██████████| 204/204 [00:00<00:00, 1005.25it/s]\n"
          ]
        },
        {
          "name": "stdout",
          "output_type": "stream",
          "text": [
            "2024-03-18 00:02:37.099514 Epoch 10, Train loss 1.898, Val loss 1.936, UAR_val = 0.344\n"
          ]
        },
        {
          "name": "stderr",
          "output_type": "stream",
          "text": [
            "Epoch 11: 100%|██████████| 204/204 [00:00<00:00, 927.51it/s]\n",
            "Epoch 12: 100%|██████████| 204/204 [00:00<00:00, 1025.46it/s]\n",
            "Epoch 13: 100%|██████████| 204/204 [00:00<00:00, 1020.33it/s]\n",
            "Epoch 14: 100%|██████████| 204/204 [00:00<00:00, 1030.64it/s]\n",
            "Epoch 15: 100%|██████████| 204/204 [00:00<00:00, 1025.45it/s]\n"
          ]
        },
        {
          "name": "stdout",
          "output_type": "stream",
          "text": [
            "2024-03-18 00:02:38.221593 Epoch 15, Train loss 1.858, Val loss 1.911, UAR_val = 0.391\n"
          ]
        },
        {
          "name": "stderr",
          "output_type": "stream",
          "text": [
            "Epoch 16: 100%|██████████| 204/204 [00:00<00:00, 696.47it/s]\n",
            "Epoch 17: 100%|██████████| 204/204 [00:00<00:00, 1025.46it/s]\n",
            "Epoch 18: 100%|██████████| 204/204 [00:00<00:00, 1020.33it/s]\n",
            "Epoch 19: 100%|██████████| 204/204 [00:00<00:00, 923.37it/s]\n",
            "Epoch 20: 100%|██████████| 204/204 [00:00<00:00, 943.26it/s]\n"
          ]
        },
        {
          "name": "stdout",
          "output_type": "stream",
          "text": [
            "2024-03-18 00:02:39.460538 Epoch 20, Train loss 1.845, Val loss 1.893, UAR_val = 0.398\n"
          ]
        },
        {
          "name": "stderr",
          "output_type": "stream",
          "text": [
            "Epoch 21: 100%|██████████| 204/204 [00:00<00:00, 995.44it/s] \n",
            "Epoch 22: 100%|██████████| 204/204 [00:00<00:00, 1025.46it/s]\n",
            "Epoch 23: 100%|██████████| 204/204 [00:00<00:00, 1020.33it/s]\n",
            "Epoch 24: 100%|██████████| 204/204 [00:00<00:00, 1030.64it/s]\n",
            "Epoch 25: 100%|██████████| 204/204 [00:00<00:00, 1025.46it/s]\n"
          ]
        },
        {
          "name": "stdout",
          "output_type": "stream",
          "text": [
            "2024-03-18 00:02:40.570183 Epoch 25, Train loss 1.824, Val loss 1.881, UAR_val = 0.422\n"
          ]
        },
        {
          "name": "stderr",
          "output_type": "stream",
          "text": [
            "Epoch 26: 100%|██████████| 204/204 [00:00<00:00, 990.61it/s] \n",
            "Epoch 27: 100%|██████████| 204/204 [00:00<00:00, 1020.33it/s]\n",
            "Epoch 28: 100%|██████████| 204/204 [00:00<00:00, 1020.33it/s]\n",
            "Epoch 29: 100%|██████████| 204/204 [00:00<00:00, 861.70it/s] \n",
            "Epoch 30: 100%|██████████| 204/204 [00:00<00:00, 932.01it/s]\n"
          ]
        },
        {
          "name": "stdout",
          "output_type": "stream",
          "text": [
            "2024-03-18 00:02:41.736236 Epoch 30, Train loss 1.814, Val loss 1.868, UAR_val = 0.438\n"
          ]
        },
        {
          "name": "stderr",
          "output_type": "stream",
          "text": [
            "Epoch 31: 100%|██████████| 204/204 [00:00<00:00, 1000.32it/s]\n",
            "Epoch 32: 100%|██████████| 204/204 [00:00<00:00, 1030.63it/s]\n",
            "Epoch 33: 100%|██████████| 204/204 [00:00<00:00, 1025.46it/s]\n",
            "Epoch 34: 100%|██████████| 204/204 [00:00<00:00, 1025.46it/s]\n",
            "Epoch 35: 100%|██████████| 204/204 [00:00<00:00, 1010.23it/s]\n"
          ]
        },
        {
          "name": "stdout",
          "output_type": "stream",
          "text": [
            "2024-03-18 00:02:42.851880 Epoch 35, Train loss 1.788, Val loss 1.859, UAR_val = 0.453\n"
          ]
        },
        {
          "name": "stderr",
          "output_type": "stream",
          "text": [
            "Epoch 36: 100%|██████████| 204/204 [00:00<00:00, 995.44it/s] \n",
            "Epoch 37: 100%|██████████| 204/204 [00:00<00:00, 1030.63it/s]\n",
            "Epoch 38: 100%|██████████| 204/204 [00:00<00:00, 1020.33it/s]\n",
            "Epoch 39: 100%|██████████| 204/204 [00:00<00:00, 936.57it/s]\n",
            "Epoch 40: 100%|██████████| 204/204 [00:00<00:00, 995.44it/s] \n"
          ]
        },
        {
          "name": "stdout",
          "output_type": "stream",
          "text": [
            "2024-03-18 00:02:43.985403 Epoch 40, Train loss 1.796, Val loss 1.851, UAR_val = 0.453\n"
          ]
        },
        {
          "name": "stderr",
          "output_type": "stream",
          "text": [
            "Epoch 41: 100%|██████████| 204/204 [00:00<00:00, 990.61it/s] \n",
            "Epoch 42: 100%|██████████| 204/204 [00:00<00:00, 1015.25it/s]\n",
            "Epoch 43: 100%|██████████| 204/204 [00:00<00:00, 1025.45it/s]\n",
            "Epoch 44: 100%|██████████| 204/204 [00:00<00:00, 1030.63it/s]\n",
            "Epoch 45: 100%|██████████| 204/204 [00:00<00:00, 691.75it/s]\n"
          ]
        },
        {
          "name": "stdout",
          "output_type": "stream",
          "text": [
            "2024-03-18 00:02:45.179021 Epoch 45, Train loss 1.765, Val loss 1.845, UAR_val = 0.453\n"
          ]
        },
        {
          "name": "stderr",
          "output_type": "stream",
          "text": [
            "Epoch 46: 100%|██████████| 204/204 [00:00<00:00, 990.61it/s] \n",
            "Epoch 47: 100%|██████████| 204/204 [00:00<00:00, 1025.46it/s]\n",
            "Epoch 48: 100%|██████████| 204/204 [00:00<00:00, 950.38it/s]\n",
            "Epoch 49: 100%|██████████| 204/204 [00:00<00:00, 958.05it/s] \n",
            "Epoch 50: 100%|██████████| 204/204 [00:00<00:00, 1025.46it/s]\n"
          ]
        },
        {
          "name": "stdout",
          "output_type": "stream",
          "text": [
            "2024-03-18 00:02:46.295386 Epoch 50, Train loss 1.771, Val loss 1.842, UAR_val = 0.445\n"
          ]
        },
        {
          "name": "stderr",
          "output_type": "stream",
          "text": [
            "Epoch 1: 100%|██████████| 216/216 [00:00<00:00, 995.71it/s] \n"
          ]
        },
        {
          "name": "stdout",
          "output_type": "stream",
          "text": [
            "2024-03-18 00:02:46.556303 Epoch 1, Train loss 2.073, Val loss 2.047, UAR_val = 0.203\n"
          ]
        },
        {
          "name": "stderr",
          "output_type": "stream",
          "text": [
            "Epoch 2: 100%|██████████| 216/216 [00:00<00:00, 977.69it/s]\n",
            "Epoch 3: 100%|██████████| 216/216 [00:00<00:00, 1019.20it/s]\n",
            "Epoch 4: 100%|██████████| 216/216 [00:00<00:00, 1024.02it/s]\n",
            "Epoch 5: 100%|██████████| 216/216 [00:00<00:00, 1024.03it/s]\n"
          ]
        },
        {
          "name": "stdout",
          "output_type": "stream",
          "text": [
            "2024-03-18 00:02:47.499002 Epoch 5, Train loss 1.949, Val loss 1.936, UAR_val = 0.344\n"
          ]
        },
        {
          "name": "stderr",
          "output_type": "stream",
          "text": [
            "Epoch 6: 100%|██████████| 216/216 [00:00<00:00, 995.71it/s] \n",
            "Epoch 7: 100%|██████████| 216/216 [00:00<00:00, 871.10it/s] \n",
            "Epoch 8: 100%|██████████| 216/216 [00:00<00:00, 1024.03it/s]\n",
            "Epoch 9: 100%|██████████| 216/216 [00:00<00:00, 1024.03it/s]\n",
            "Epoch 10: 100%|██████████| 216/216 [00:00<00:00, 1024.03it/s]\n"
          ]
        },
        {
          "name": "stdout",
          "output_type": "stream",
          "text": [
            "2024-03-18 00:02:48.712539 Epoch 10, Train loss 1.892, Val loss 1.877, UAR_val = 0.438\n"
          ]
        },
        {
          "name": "stderr",
          "output_type": "stream",
          "text": [
            "Epoch 11: 100%|██████████| 216/216 [00:00<00:00, 995.72it/s] \n",
            "Epoch 12: 100%|██████████| 216/216 [00:00<00:00, 1000.32it/s]\n",
            "Epoch 13: 100%|██████████| 216/216 [00:00<00:00, 904.06it/s]\n",
            "Epoch 14: 100%|██████████| 216/216 [00:00<00:00, 1028.90it/s]\n",
            "Epoch 15: 100%|██████████| 216/216 [00:00<00:00, 1024.02it/s]\n"
          ]
        },
        {
          "name": "stdout",
          "output_type": "stream",
          "text": [
            "2024-03-18 00:02:49.918154 Epoch 15, Train loss 1.850, Val loss 1.849, UAR_val = 0.461\n"
          ]
        },
        {
          "name": "stderr",
          "output_type": "stream",
          "text": [
            "Epoch 16: 100%|██████████| 216/216 [00:00<00:00, 924.91it/s]\n",
            "Epoch 17: 100%|██████████| 216/216 [00:00<00:00, 1028.90it/s]\n",
            "Epoch 18: 100%|██████████| 216/216 [00:00<00:00, 1019.20it/s]\n",
            "Epoch 19: 100%|██████████| 216/216 [00:00<00:00, 809.25it/s]\n",
            "Epoch 20: 100%|██████████| 216/216 [00:00<00:00, 1033.83it/s]\n"
          ]
        },
        {
          "name": "stdout",
          "output_type": "stream",
          "text": [
            "2024-03-18 00:02:51.193394 Epoch 20, Train loss 1.839, Val loss 1.831, UAR_val = 0.461\n"
          ]
        },
        {
          "name": "stderr",
          "output_type": "stream",
          "text": [
            "Epoch 21: 100%|██████████| 216/216 [00:00<00:00, 1000.32it/s]\n",
            "Epoch 22: 100%|██████████| 216/216 [00:00<00:00, 1028.90it/s]\n",
            "Epoch 23: 100%|██████████| 216/216 [00:00<00:00, 1028.90it/s]\n",
            "Epoch 24: 100%|██████████| 216/216 [00:00<00:00, 1028.90it/s]\n",
            "Epoch 25: 100%|██████████| 216/216 [00:00<00:00, 920.97it/s]\n"
          ]
        },
        {
          "name": "stdout",
          "output_type": "stream",
          "text": [
            "2024-03-18 00:02:52.390622 Epoch 25, Train loss 1.822, Val loss 1.820, UAR_val = 0.461\n"
          ]
        },
        {
          "name": "stderr",
          "output_type": "stream",
          "text": [
            "Epoch 26: 100%|██████████| 216/216 [00:00<00:00, 991.14it/s]\n",
            "Epoch 27: 100%|██████████| 216/216 [00:00<00:00, 1024.03it/s]\n",
            "Epoch 28: 100%|██████████| 216/216 [00:00<00:00, 995.71it/s] \n",
            "Epoch 29: 100%|██████████| 216/216 [00:00<00:00, 968.92it/s]\n",
            "Epoch 30: 100%|██████████| 216/216 [00:00<00:00, 956.05it/s]\n"
          ]
        },
        {
          "name": "stdout",
          "output_type": "stream",
          "text": [
            "2024-03-18 00:02:53.603234 Epoch 30, Train loss 1.799, Val loss 1.810, UAR_val = 0.477\n"
          ]
        },
        {
          "name": "stderr",
          "output_type": "stream",
          "text": [
            "Epoch 31: 100%|██████████| 216/216 [00:00<00:00, 854.03it/s]\n",
            "Epoch 32: 100%|██████████| 216/216 [00:00<00:00, 904.07it/s]\n",
            "Epoch 33: 100%|██████████| 216/216 [00:00<00:00, 913.84it/s]\n",
            "Epoch 34: 100%|██████████| 216/216 [00:00<00:00, 910.81it/s]\n",
            "Epoch 35: 100%|██████████| 216/216 [00:00<00:00, 1014.41it/s]\n"
          ]
        },
        {
          "name": "stdout",
          "output_type": "stream",
          "text": [
            "2024-03-18 00:02:54.890467 Epoch 35, Train loss 1.786, Val loss 1.804, UAR_val = 0.500\n"
          ]
        },
        {
          "name": "stderr",
          "output_type": "stream",
          "text": [
            "Epoch 36: 100%|██████████| 216/216 [00:00<00:00, 991.15it/s] \n",
            "Epoch 37: 100%|██████████| 216/216 [00:00<00:00, 1014.42it/s]\n",
            "Epoch 38: 100%|██████████| 216/216 [00:00<00:00, 1019.20it/s]\n",
            "Epoch 39: 100%|██████████| 216/216 [00:00<00:00, 1028.91it/s]\n",
            "Epoch 40: 100%|██████████| 216/216 [00:00<00:00, 1028.91it/s]\n"
          ]
        },
        {
          "name": "stdout",
          "output_type": "stream",
          "text": [
            "2024-03-18 00:02:56.061094 Epoch 40, Train loss 1.781, Val loss 1.798, UAR_val = 0.492\n"
          ]
        },
        {
          "name": "stderr",
          "output_type": "stream",
          "text": [
            "Epoch 41: 100%|██████████| 216/216 [00:00<00:00, 964.60it/s]\n",
            "Epoch 42: 100%|██████████| 216/216 [00:00<00:00, 972.36it/s] \n",
            "Epoch 43: 100%|██████████| 216/216 [00:00<00:00, 643.14it/s]\n",
            "Epoch 44: 100%|██████████| 216/216 [00:00<00:00, 951.85it/s]\n",
            "Epoch 45: 100%|██████████| 216/216 [00:00<00:00, 939.43it/s]\n"
          ]
        },
        {
          "name": "stdout",
          "output_type": "stream",
          "text": [
            "2024-03-18 00:02:57.422698 Epoch 45, Train loss 1.775, Val loss 1.794, UAR_val = 0.492\n"
          ]
        },
        {
          "name": "stderr",
          "output_type": "stream",
          "text": [
            "Epoch 46: 100%|██████████| 216/216 [00:00<00:00, 1024.02it/s]\n",
            "Epoch 47: 100%|██████████| 216/216 [00:00<00:00, 931.32it/s] \n",
            "Epoch 48: 100%|██████████| 216/216 [00:00<00:00, 1024.03it/s]\n",
            "Epoch 49: 100%|██████████| 216/216 [00:00<00:00, 1043.81it/s]\n",
            "Epoch 50: 100%|██████████| 216/216 [00:00<00:00, 1048.88it/s]\n",
            "C:\\Users\\Tanya\\AppData\\Local\\Temp\\ipykernel_4704\\3919292168.py:56: MatplotlibDeprecationWarning: Auto-removal of overlapping axes is deprecated since 3.6 and will be removed two minor releases later; explicitly call ax.remove() as needed.\n",
            "  plt.subplot(1,k_fold,i+1)\n"
          ]
        },
        {
          "name": "stdout",
          "output_type": "stream",
          "text": [
            "2024-03-18 00:02:58.594324 Epoch 50, Train loss 1.769, Val loss 1.786, UAR_val = 0.492\n",
            "torch.Size([1440, 8])\n",
            "Final results\n",
            " UAR_test = 0.462\n"
          ]
        },
        {
          "data": {
            "image/png": "[encoded data removed]",
            "text/plain": [
              "<Figure size 1400x250 with 5 Axes>"
            ]
          },
          "metadata": {},
          "output_type": "display_data"
        }
      ],
      "source": [
        "model = SER_one_layer_NN(306,8).to(device)\n",
        "n_epochs = 50\n",
        "optimizer = Adam(model.parameters(),lr=1e-4, weight_decay=1e-2) # weight_decay is L2 regularization\n",
        "loss_fn = nn.CrossEntropyLoss()\n",
        "\n",
        "SER_data_set = SER_Dataset('')\n",
        "\n",
        "k_fold_CV(dataset=SER_data_set, model = model, optimizer=optimizer, loss_fn = loss_fn, n_epochs=n_epochs)"
      ]
    }
  ],
  "metadata": {
    "colab": {
      "provenance": []
    },
    "kernelspec": {
      "display_name": "Python 3",
      "name": "python3"
    },
    "language_info": {
      "codemirror_mode": {
        "name": "ipython",
        "version": 3
      },
      "file_extension": ".py",
      "mimetype": "text/x-python",
      "name": "python",
      "nbconvert_exporter": "python",
      "pygments_lexer": "ipython3",
      "version": "3.10.10"
    }
  },
  "nbformat": 4,
  "nbformat_minor": 0
}
