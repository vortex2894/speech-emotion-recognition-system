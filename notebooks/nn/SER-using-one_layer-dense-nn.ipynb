{
  "cells": [
    {
      "cell_type": "markdown",
      "metadata": {
        "id": "YvN4E0CjpEAk"
      },
      "source": [
        "### Import dependencies"
      ]
    },
    {
      "cell_type": "code",
      "execution_count": 5,
      "metadata": {
        "id": "LALgcVpUoPAs"
      },
      "outputs": [],
      "source": [
        "import torch\n",
        "import torch.nn as nn\n",
        "import torch.nn.functional as F\n",
        "from torch.optim import SGD, Adam\n",
        "from torch.utils.data import Dataset\n",
        "\n",
        "import matplotlib.pyplot as plt\n",
        "import seaborn as sns\n",
        "import pandas as pd\n",
        "from tqdm import tqdm\n",
        "from sklearn.metrics import confusion_matrix\n",
        "import time\n",
        "import datetime\n",
        "import numpy as np\n",
        "\n",
        "from ignite.metrics.recall import Recall\n",
        "from ignite.engine import *\n",
        "\n",
        "def eval_step(engine, batch):\n",
        "    return batch\n",
        "\n",
        "default_evaluator = Engine(eval_step)\n",
        "\n",
        "device = torch.device(\"cuda\" if torch.cuda.is_available() else \"cpu\")"
      ]
    },
    {
      "cell_type": "markdown",
      "metadata": {},
      "source": [
        "# Prepare Dataloader"
      ]
    },
    {
      "cell_type": "code",
      "execution_count": 8,
      "metadata": {},
      "outputs": [],
      "source": [
        "class SER_Dataset(Dataset):\n",
        "    def __init__(self, data_path):\n",
        "        \"\"\"\n",
        "        Аргументы:\n",
        "            data_path -- путь к папке извлеченными признаками\n",
        "        \"\"\"\n",
        "        \n",
        "        self._ids = list([])    # speaker IDs\n",
        "\n",
        "        X = pd.read_csv(\"../../data/2023-11-08/feature_mfcc_34_delta_delta_nfft_4096.csv\", index_col=0)\n",
        "        y = pd.read_csv('../../data/2023-11-08/y_labels_feature_34_mfcc_delta_delta_nfft_4096.csv', index_col=0)\n",
        "        ID= pd.read_csv('../../data/2023-11-08/IDs_feature_mfcc_34_delta_delta_nfft_4096.csv', index_col=0)\n",
        "\n",
        "        # Convert features and labels to numpy arrays\n",
        "        X = X.values\n",
        "        y.replace({'neutral':0, 'calm':1, 'happy':2, 'sad':3, 'angry':4, 'fear':5, 'disgust':6, 'surprised':7}, inplace=True)\n",
        "        y = torch.tensor(y.values)\n",
        "        self.y = torch.nn.functional.one_hot(y, num_classes=8)\n",
        "        self.y = self.y.squeeze(dim=1)\n",
        "        self.y = self.y.float()\n",
        "        self.X = torch.from_numpy(X).float()\n",
        "\n",
        "        self.folds = list(([2, 5, 14, 15, 16], # 0\n",
        "                           [3, 6, 7, 13, 18], # 1\n",
        "                           [10, 11, 12, 19, 20], # 2\n",
        "                           [8, 17, 21, 23, 24], # 3\n",
        "                           [1, 4, 9, 22]))     # 4\n",
        "\n",
        "        self.folds_val = list(([3, 6],\n",
        "                              [10, 11],\n",
        "                              [8, 17],\n",
        "                              [1, 14],\n",
        "                              [2, 5]))\n",
        "\n",
        "        self.X_ids = list(np.array(ID.values).squeeze())        \n",
        "       \n",
        "        # device = torch.device(\"cuda\" if torch.cuda.is_available() else \"cpu\")\n",
        "\n",
        "        # self.X = self.X.to(device)\n",
        "        # self.y = self.y.to(device)\n",
        "\n",
        "    def __len__(self):\n",
        "        return self.X.shape[0]\n",
        "\n",
        "    def __getitem__(self, index):\n",
        "        return self.X[index,:], self.y[index,:]\n",
        "\n",
        "    def get_kth_fold_inds(self, fold_num):\n",
        "        ids_train = list([])\n",
        "        ids_val  = list([])\n",
        "        ids_test = list([])\n",
        "        for i in range(len(self.X_ids)):\n",
        "            # print(self.X_ids[i])\n",
        "            # print(self.folds[fold_num])\n",
        "            if self.X_ids[i] in self.folds[fold_num]:\n",
        "                ids_test.append(i)\n",
        "            elif self.X_ids[i] in self.folds_val[fold_num]:\n",
        "                ids_val.append(i)\n",
        "            else:\n",
        "                ids_train.append(i)\n",
        "        return (ids_train,ids_val, ids_test)"
      ]
    },
    {
      "cell_type": "code",
      "execution_count": 9,
      "metadata": {},
      "outputs": [],
      "source": [
        "## test dataloader\n",
        "SER_data_set = SER_Dataset('')\n",
        "# print(len(SER_data_set))\n",
        "# X,y = SER_data_set[2]\n",
        "# print(X)\n",
        "# print(y)\n",
        "# ids_train,ids_val, ids_test = SER_data_set.get_kth_fold_inds(4)"
      ]
    },
    {
      "cell_type": "markdown",
      "metadata": {
        "id": "ngPcxS0YpDZQ"
      },
      "source": [
        "# Linear NN"
      ]
    },
    {
      "cell_type": "code",
      "execution_count": 10,
      "metadata": {
        "id": "Eh785LXNpO6I"
      },
      "outputs": [],
      "source": [
        "class SER_one_layer_NN(nn.Module):\n",
        "    def __init__(self, input_size, num_classes):\n",
        "        super(SER_one_layer_NN, self).__init__()\n",
        "        self.fc1 = nn.Linear(input_size, num_classes)        \n",
        "        self.num_classes = num_classes\n",
        "\n",
        "        torch.manual_seed(702)\n",
        "        nn.init.xavier_uniform_(self.fc1.weight)        \n",
        "\n",
        "\n",
        "    def forward(self, x):\n",
        "        # Multiply input by weights and add biases\n",
        "        linear_output = self.fc1(x)\n",
        "        SER_out = torch.nn.functional.softmax(linear_output, dim=0)\n",
        "        return SER_out\n",
        "\n",
        "    # def train_model(self, input_data, target_labels, num_epochs=1000, learning_rate=0.01):\n",
        "    #     # Define the loss function\n",
        "    #     criterion = nn.CrossEntropyLoss()\n",
        "    #     # Define the optimizer\n",
        "    #     optimizer = optim.SGD(self.parameters(), lr=learning_rate)\n",
        "\n",
        "    #     for epoch in range(num_epochs):\n",
        "    #         # Forward pass\n",
        "    #         outputs = self(input_data)\n",
        "\n",
        "    #         # Compute the loss\n",
        "    #         loss = criterion(outputs, target_labels)\n",
        "\n",
        "    #         # Backward pass and optimization\n",
        "    #         optimizer.zero_grad()\n",
        "    #         loss.backward()\n",
        "    #         optimizer.step()\n",
        "\n",
        "    #         # Print the loss every few epochs\n",
        "    #         if epoch % 10 == 0:\n",
        "    #             print(f\"Epoch {epoch}: Loss {loss.item()}\")\n",
        "\n",
        "    # def predict(self, input_data):\n",
        "    #     # Forward pass to get the output logits\n",
        "    #     logits = self(input_data)\n",
        "    #     # Apply softmax to get probabilities\n",
        "    #     probabilities = F.softmax(logits, dim=1)\n",
        "    #     # Get the class label with highest probability\n",
        "    #     predicted_labels = torch.argmax(probabilities, dim=1)\n",
        "    #     return predicted_labels\n",
        "\n",
        "\n",
        "    # def estimate(self, y_true, y_pred):\n",
        "    #   \"\"\"\n",
        "    #   calculates the unweighted average recall across all the classes present\n",
        "    #   in the true labels (y_true)\n",
        "    #   and predicted labels (y_pred) using the confusion matrix.\n",
        "    #   \"\"\"\n",
        "    #   cm = confusion_matrix(y_true, y_pred)\n",
        "    #   num_classes = len(cm)\n",
        "    #   recalls = []\n",
        "    #   for i in range(self.num_classes):\n",
        "    #       true_positives = cm[i, i]\n",
        "    #       actual_positives = sum(cm[i, :])\n",
        "    #       recall = true_positives / actual_positives\n",
        "    #       recalls.append(recall)\n",
        "    #   average_recall = sum(recalls) / num_classes\n",
        "    #   return average_recall"
      ]
    },
    {
      "cell_type": "markdown",
      "metadata": {},
      "source": [
        "## Model test"
      ]
    },
    {
      "cell_type": "code",
      "execution_count": 11,
      "metadata": {},
      "outputs": [],
      "source": [
        "X,y = SER_data_set[2]\n",
        "model = SER_one_layer_NN(len(X), y.shape[0])\n",
        "y_out = model(X)"
      ]
    },
    {
      "cell_type": "code",
      "execution_count": 21,
      "metadata": {},
      "outputs": [
        {
          "name": "stderr",
          "output_type": "stream",
          "text": [
            "Epoch 1: 100%|██████████| 204/204 [00:00<00:00, 814.58it/s]\n"
          ]
        },
        {
          "name": "stdout",
          "output_type": "stream",
          "text": [
            "2024-03-17 17:56:22.514139 Epoch 1, Train loss 2.016, Val loss 1.937, UAR_val = 0.359\n"
          ]
        },
        {
          "name": "stderr",
          "output_type": "stream",
          "text": [
            "Epoch 2: 100%|██████████| 204/204 [00:00<00:00, 767.16it/s]\n"
          ]
        },
        {
          "name": "stdout",
          "output_type": "stream",
          "text": [
            "2024-03-17 17:56:22.805046 Epoch 2, Train loss 1.946, Val loss 1.887, UAR_val = 0.391\n"
          ]
        },
        {
          "name": "stderr",
          "output_type": "stream",
          "text": [
            "Epoch 3: 100%|██████████| 204/204 [00:00<00:00, 767.16it/s]\n"
          ]
        },
        {
          "name": "stdout",
          "output_type": "stream",
          "text": [
            "2024-03-17 17:56:23.095952 Epoch 3, Train loss 1.903, Val loss 1.862, UAR_val = 0.469\n"
          ]
        },
        {
          "name": "stderr",
          "output_type": "stream",
          "text": [
            "Epoch 4: 100%|██████████| 204/204 [00:00<00:00, 694.84it/s]\n"
          ]
        },
        {
          "name": "stdout",
          "output_type": "stream",
          "text": [
            "2024-03-17 17:56:23.414537 Epoch 4, Train loss 1.850, Val loss 1.854, UAR_val = 0.461\n"
          ]
        },
        {
          "name": "stderr",
          "output_type": "stream",
          "text": [
            "Epoch 5: 100%|██████████| 204/204 [00:00<00:00, 793.62it/s]\n"
          ]
        },
        {
          "name": "stdout",
          "output_type": "stream",
          "text": [
            "2024-03-17 17:56:23.695577 Epoch 5, Train loss 1.850, Val loss 1.837, UAR_val = 0.445\n"
          ]
        },
        {
          "name": "stderr",
          "output_type": "stream",
          "text": [
            "Epoch 6: 100%|██████████| 204/204 [00:00<00:00, 800.26it/s]\n"
          ]
        },
        {
          "name": "stdout",
          "output_type": "stream",
          "text": [
            "2024-03-17 17:56:23.976487 Epoch 6, Train loss 1.830, Val loss 1.813, UAR_val = 0.531\n"
          ]
        },
        {
          "name": "stderr",
          "output_type": "stream",
          "text": [
            "Epoch 7: 100%|██████████| 204/204 [00:00<00:00, 738.69it/s]\n"
          ]
        },
        {
          "name": "stdout",
          "output_type": "stream",
          "text": [
            "2024-03-17 17:56:24.276645 Epoch 7, Train loss 1.809, Val loss 1.803, UAR_val = 0.531\n"
          ]
        },
        {
          "name": "stderr",
          "output_type": "stream",
          "text": [
            "Epoch 8: 100%|██████████| 204/204 [00:00<00:00, 758.61it/s]\n"
          ]
        },
        {
          "name": "stdout",
          "output_type": "stream",
          "text": [
            "2024-03-17 17:56:24.570551 Epoch 8, Train loss 1.808, Val loss 1.794, UAR_val = 0.539\n"
          ]
        },
        {
          "name": "stderr",
          "output_type": "stream",
          "text": [
            "Epoch 9: 100%|██████████| 204/204 [00:00<00:00, 754.54it/s]\n"
          ]
        },
        {
          "name": "stdout",
          "output_type": "stream",
          "text": [
            "2024-03-17 17:56:24.865910 Epoch 9, Train loss 1.798, Val loss 1.801, UAR_val = 0.531\n"
          ]
        },
        {
          "name": "stderr",
          "output_type": "stream",
          "text": [
            "Epoch 10: 100%|██████████| 204/204 [00:00<00:00, 635.72it/s]\n"
          ]
        },
        {
          "name": "stdout",
          "output_type": "stream",
          "text": [
            "2024-03-17 17:56:25.226794 Epoch 10, Train loss 1.781, Val loss 1.801, UAR_val = 0.500\n"
          ]
        },
        {
          "name": "stderr",
          "output_type": "stream",
          "text": [
            "Epoch 11: 100%|██████████| 204/204 [00:00<00:00, 755.49it/s]\n"
          ]
        },
        {
          "name": "stdout",
          "output_type": "stream",
          "text": [
            "2024-03-17 17:56:25.519809 Epoch 11, Train loss 1.783, Val loss 1.799, UAR_val = 0.562\n"
          ]
        },
        {
          "name": "stderr",
          "output_type": "stream",
          "text": [
            "Epoch 12: 100%|██████████| 204/204 [00:00<00:00, 610.97it/s]\n"
          ]
        },
        {
          "name": "stdout",
          "output_type": "stream",
          "text": [
            "2024-03-17 17:56:25.882694 Epoch 12, Train loss 1.757, Val loss 1.789, UAR_val = 0.578\n"
          ]
        },
        {
          "name": "stderr",
          "output_type": "stream",
          "text": [
            "Epoch 13: 100%|██████████| 204/204 [00:00<00:00, 787.55it/s]\n"
          ]
        },
        {
          "name": "stdout",
          "output_type": "stream",
          "text": [
            "2024-03-17 17:56:26.164715 Epoch 13, Train loss 1.767, Val loss 1.795, UAR_val = 0.578\n"
          ]
        },
        {
          "name": "stderr",
          "output_type": "stream",
          "text": [
            "Epoch 14: 100%|██████████| 204/204 [00:00<00:00, 728.81it/s]\n"
          ]
        },
        {
          "name": "stdout",
          "output_type": "stream",
          "text": [
            "2024-03-17 17:56:26.469618 Epoch 14, Train loss 1.749, Val loss 1.793, UAR_val = 0.555\n"
          ]
        },
        {
          "name": "stderr",
          "output_type": "stream",
          "text": [
            "Epoch 15: 100%|██████████| 204/204 [00:00<00:00, 800.39it/s]\n"
          ]
        },
        {
          "name": "stdout",
          "output_type": "stream",
          "text": [
            "2024-03-17 17:56:26.748488 Epoch 15, Train loss 1.737, Val loss 1.786, UAR_val = 0.578\n"
          ]
        },
        {
          "name": "stderr",
          "output_type": "stream",
          "text": [
            "Epoch 16: 100%|██████████| 204/204 [00:00<00:00, 800.26it/s]\n"
          ]
        },
        {
          "name": "stdout",
          "output_type": "stream",
          "text": [
            "2024-03-17 17:56:27.033396 Epoch 16, Train loss 1.752, Val loss 1.787, UAR_val = 0.586\n"
          ]
        },
        {
          "name": "stderr",
          "output_type": "stream",
          "text": [
            "Epoch 17: 100%|██████████| 204/204 [00:00<00:00, 809.78it/s]\n"
          ]
        },
        {
          "name": "stdout",
          "output_type": "stream",
          "text": [
            "2024-03-17 17:56:27.309308 Epoch 17, Train loss 1.752, Val loss 1.788, UAR_val = 0.562\n"
          ]
        },
        {
          "name": "stderr",
          "output_type": "stream",
          "text": [
            "Epoch 18: 100%|██████████| 204/204 [00:00<00:00, 703.40it/s]\n"
          ]
        },
        {
          "name": "stdout",
          "output_type": "stream",
          "text": [
            "2024-03-17 17:56:27.628434 Epoch 18, Train loss 1.740, Val loss 1.785, UAR_val = 0.555\n"
          ]
        },
        {
          "name": "stderr",
          "output_type": "stream",
          "text": [
            "Epoch 19: 100%|██████████| 204/204 [00:00<00:00, 791.37it/s]\n"
          ]
        },
        {
          "name": "stdout",
          "output_type": "stream",
          "text": [
            "2024-03-17 17:56:27.911206 Epoch 19, Train loss 1.753, Val loss 1.780, UAR_val = 0.562\n"
          ]
        },
        {
          "name": "stderr",
          "output_type": "stream",
          "text": [
            "Epoch 20: 100%|██████████| 204/204 [00:00<00:00, 797.13it/s]\n"
          ]
        },
        {
          "name": "stdout",
          "output_type": "stream",
          "text": [
            "2024-03-17 17:56:28.191118 Epoch 20, Train loss 1.739, Val loss 1.772, UAR_val = 0.570\n"
          ]
        },
        {
          "data": {
            "text/plain": [
              "Text(0, 0.5, 'Ошибка обучения')"
            ]
          },
          "execution_count": 21,
          "metadata": {},
          "output_type": "execute_result"
        },
        {
          "data": {
            "image/png": "[encoded data removed]",
            "text/plain": [
              "<Figure size 600x250 with 1 Axes>"
            ]
          },
          "metadata": {},
          "output_type": "display_data"
        }
      ],
      "source": [
        "model = SER_one_layer_NN(306,8)\n",
        "n_epochs = 20\n",
        "\n",
        "optimizer = Adam(model.parameters(),lr=5e-4, weight_decay=1e-2) # weight_decay is L2 regularization\n",
        "loss_fn = nn.CrossEntropyLoss()\n",
        "\n",
        "SER_data_set = SER_Dataset('')\n",
        "\n",
        "inds_train,inds_val,inds_test = SER_data_set.get_kth_fold_inds(0)\n",
        "train_set = torch.utils.data.dataset.Subset(SER_data_set, inds_train)\n",
        "val_set = torch.utils.data.dataset.Subset(SER_data_set, inds_val)\n",
        "# test_set = torch.utils.data.dataset.Subset(SER_data_set, inds_test)\n",
        "\n",
        "train_loader = torch.utils.data.DataLoader(train_set, batch_size=5,shuffle=True)  # num_workers=2\n",
        "val_loader = torch.utils.data.DataLoader(val_set, batch_size=5, shuffle=False)\n",
        "# test_loader = torch.utils.data.DataLoader(test_set, batch_size=1, shuffle=False) \n",
        "\n",
        "metric = Recall()\n",
        "macro_metric = Recall(average=True)\n",
        "\n",
        "metric.attach(default_evaluator, \"recall\")\n",
        "macro_metric.attach(default_evaluator, \"macro recall\")\n",
        "\n",
        "\n",
        "MODEL_PATH = \"model_backup/model_nn.pt\"\n",
        "loss_train_history = np.ndarray((n_epochs))\n",
        "loss_val_history = np.ndarray((n_epochs))\n",
        "lrs = []\n",
        "best_epoch = -1\n",
        "loss_val_min = 100\n",
        "for epoch in range(1,n_epochs+1):\n",
        "    model.train()\n",
        "    loss_train = 0.0\n",
        "    for X, labels in tqdm(train_loader, desc=f\"Epoch {epoch}\", leave=True): #train_loader:        \n",
        "        outputs = model(X)\n",
        "        outputs = outputs.squeeze(dim=1) # for batch train_loader\n",
        "        loss = loss_fn(outputs, labels)\n",
        "        optimizer.zero_grad()\n",
        "        loss.backward()\n",
        "        optimizer.step()\n",
        "        loss_train += loss.item()\n",
        "    loss_train = loss_train / len(train_loader)\n",
        "\n",
        "    # prediction on val set\n",
        "    loss_val = 0.0\n",
        "    TP_TN_sum = 0\n",
        "    total = 0\n",
        "    model.eval()\n",
        "    val_pred = []\n",
        "    val_true = []\n",
        "    with torch.no_grad():\n",
        "        for X, labels in val_loader:\n",
        "            pred = model(X)\n",
        "            pred = pred.squeeze(dim=1) # for batch train_loader\n",
        "\n",
        "            loss = loss_fn(pred, labels)\n",
        "            loss_val += loss.item()\n",
        "\n",
        "            # _,pred = torch.max(pred, dim=1)\n",
        "            _,labels = torch.max(labels, dim=1)\n",
        "\n",
        "            val_pred.append(pred)\n",
        "            val_true.append(labels)                        \n",
        "\n",
        "        val_pred = torch.cat(val_pred)\n",
        "        val_true = torch.cat(val_true)\n",
        "\n",
        "        default_evaluator.terminate()\n",
        "        state = default_evaluator.run([[val_pred, val_true]])\n",
        "        # print(f\"Recall: {state.metrics['recall']}\")\n",
        "        # print(f\"Macro Recall: {state.metrics['macro recall']}\")\n",
        "\n",
        "        loss_val = loss_val / len(val_loader)\n",
        "\n",
        "        loss_train_history[epoch-1] = loss_train\n",
        "        loss_val_history[epoch-1] = loss_val\n",
        "\n",
        "        if loss_val < loss_val_min:\n",
        "            torch.save(model.state_dict(), MODEL_PATH)\n",
        "            loss_val_min = loss_val\n",
        "            best_epoch = epoch-1\n",
        "        UAR = state.metrics['macro recall']\n",
        "        print(f'{datetime.datetime.now()} Epoch {epoch}, Train loss {loss_train:.3f}, Val loss {loss_val:.3f}, UAR_val = {UAR:.3f}')\n",
        "\n",
        "model.load_state_dict(torch.load(MODEL_PATH))\n",
        "\n",
        "fig, ax = plt.subplots(figsize=(6,2.5))\n",
        "plt.rcParams.update({'font.size': 12})\n",
        "# plt.subplot(1,2,1)\n",
        "plt.plot(range(n_epochs), loss_train_history, label='Обучающий набор')\n",
        "plt.plot(range(n_epochs), loss_val_history, label='Проверочный набор')\n",
        "plt.plot(best_epoch,loss_val_min,color='red', marker='o', linewidth=1, markersize=5)\n",
        "plt.legend()\n",
        "plt.xlabel('Эпоха')\n",
        "plt.ylabel('Ошибка обучения')"
      ]
    },
    {
      "cell_type": "markdown",
      "metadata": {},
      "source": [
        "# Train loop"
      ]
    },
    {
      "cell_type": "code",
      "execution_count": null,
      "metadata": {},
      "outputs": [],
      "source": [
        "def training_loop(n_epochs, optimizer, lr_scheduler, model, loss_fn, train_loader, val_loader):\n",
        "    MODEL_PATH = \"model_backup/model_nn.pt\"\n",
        "    loss_train_history = np.ndarray((n_epochs))\n",
        "    loss_val_history = np.ndarray((n_epochs))\n",
        "    lrs = []\n",
        "    best_epoch = -1\n",
        "    loss_val_min = 100\n",
        "    for epoch in range(1,n_epochs+1):\n",
        "        model.train()\n",
        "        loss_train = 0.0\n",
        "        for specs, labels in tqdm(train_loader, desc=f\"Epoch {epoch}\", leave=True): #train_loader:\n",
        "            specs = specs.float()\n",
        "            outputs = model(specs)\n",
        "            outputs = outputs.squeeze(dim=1) # for batch train_loader\n",
        "            # print('output:',outputs)\n",
        "            # print('labels:',labels)\n",
        "            loss = loss_fn(outputs, labels)\n",
        "            optimizer.zero_grad()\n",
        "            loss.backward()\n",
        "            optimizer.step()\n",
        "            loss_train += loss.item()\n",
        "        loss_train = loss_train / len(train_loader)\n",
        "\n",
        "        # prediction on val set\n",
        "        loss_val = 0.0\n",
        "        TP_TN_sum = 0\n",
        "        total = 0\n",
        "        model.eval()\n",
        "        with torch.no_grad():\n",
        "            for spec, label in val_loader:\n",
        "                spec = spec.float()\n",
        "                pred = model(spec)\n",
        "                pred = torch.squeeze(pred,1)\n",
        "\n",
        "                loss = loss_fn(pred, label)\n",
        "                loss_val += loss.item()\n",
        "\n",
        "                _,pred = torch.max(pred, dim=1)\n",
        "                _,label = torch.max(label, dim=1)\n",
        "\n",
        "                total += len(label)\n",
        "\n",
        "                TP_TN_sum = TP_TN_sum + torch.sum(label==pred)\n",
        "\n",
        "        acc_val = TP_TN_sum/total\n",
        "        loss_val = loss_val / len(val_loader)\n",
        "\n",
        "        loss_train_history[epoch-1] = loss_train\n",
        "        loss_val_history[epoch-1] = loss_val\n",
        "\n",
        "        if loss_val < loss_val_min:\n",
        "            torch.save(model.state_dict(), MODEL_PATH)\n",
        "            loss_val_min = loss_val\n",
        "            best_epoch = epoch-1\n",
        "\n",
        "        # if epoch==1 or epoch%2==0:\n",
        "        print(f'{datetime.datetime.now()} Epoch {epoch}, Train loss {loss_train:.3f}, Val loss {loss_val:.3f}, Acc_val = {acc_val:.2f}')\n",
        "\n",
        "        lrs.append(optimizer.param_groups[0][\"lr\"])\n",
        "        lr_scheduler.step()\n",
        "\n",
        "    # model = torch.load(MODEL_PATH)\n",
        "    model.load_state_dict(torch.load(MODEL_PATH))\n",
        "\n",
        "    fig, ax = plt.subplots(figsize=(6,2.5))\n",
        "    plt.rcParams.update({'font.size': 12})\n",
        "    # plt.subplot(1,2,1)\n",
        "    plt.plot(range(n_epochs), loss_train_history, label='Обучающий набор')\n",
        "    plt.plot(range(n_epochs), loss_val_history, label='Проверочный набор')\n",
        "    plt.plot(best_epoch,loss_val_min,color='red', marker='o', linewidth=1, markersize=5)\n",
        "    plt.legend()\n",
        "    plt.xlabel('Эпоха')\n",
        "    plt.ylabel('Ошибка обучения')\n",
        "    # plt.subplot(1,2,2)\n",
        "    # plt.plot(range(len(lrs)),lrs)\n",
        "    # plt.xlabel('step')\n",
        "    # plt.ylabel('lr')\n",
        "    plt.show()\n",
        "    # Saving results\n",
        "    # image_name = f'figures/loss_NN.jpg'\n",
        "    # fig.savefig(image_name, format='jpg', dpi=110, bbox_inches='tight', pad_inches = 0.2)\n",
        "    return (loss_train_history,loss_val_history,loss_val_min,best_epoch)"
      ]
    },
    {
      "cell_type": "markdown",
      "metadata": {
        "id": "_7DIuHzeFIDa"
      },
      "source": [
        "### Experiment"
      ]
    },
    {
      "cell_type": "code",
      "execution_count": 194,
      "metadata": {
        "colab": {
          "base_uri": "https://localhost:8080/"
        },
        "id": "zn8o-FxFE9dv",
        "outputId": "740fa71c-5241-4a18-bcfe-1f7b922614a7"
      },
      "outputs": [
        {
          "name": "stdout",
          "output_type": "stream",
          "text": [
            "[[7]\n",
            " [2]\n",
            " [1]\n",
            " ...\n",
            " [7]\n",
            " [6]\n",
            " [5]]\n",
            "Shape of x_tensor: torch.Size([1440, 306])\n",
            "Shape of y_tensor: torch.Size([1440])\n"
          ]
        }
      ],
      "source": [
        "# Load data from CSV files using pandas\n",
        "features_df = pd.read_csv('/content/feature_mfcc_34_delta_delta_nfft_8192.csv', index_col=0)\n",
        "labels_df = pd.read_csv('/content/y_labels_feature_34_mfcc_delta_delta_nfft_8192.csv', index_col=0)\n",
        "\n",
        "# Convert features and labels to numpy arrays\n",
        "features = features_df.values\n",
        "labels_df.replace({'neutral':0, 'calm':1, 'happy':2, 'sad':3, 'angry':4, 'fear':5, 'disgust':6, 'surprised':7}, inplace=True)\n",
        "labels = labels_df.values\n",
        "print(labels)\n",
        "\n",
        "# Convert numpy arrays to PyTorch tensors\n",
        "x_tensor = torch.tensor(features, dtype=torch.float32)\n",
        "y_tensor = torch.tensor(labels, dtype=torch.long).squeeze()  # Assuming labels are integers (long tensor)\n",
        "\n",
        "# Print shape of tensors\n",
        "print(\"Shape of x_tensor:\", x_tensor.shape)\n",
        "print(\"Shape of y_tensor:\", y_tensor.shape)"
      ]
    },
    {
      "cell_type": "code",
      "execution_count": 201,
      "metadata": {
        "colab": {
          "base_uri": "https://localhost:8080/"
        },
        "id": "ori_ITnsFCPP",
        "outputId": "eb67bf51-c2f6-48e4-9d8e-4ac26098c0b1"
      },
      "outputs": [
        {
          "name": "stdout",
          "output_type": "stream",
          "text": [
            "Shape of x_train: torch.Size([1007, 306])\n",
            "Shape of y_train: torch.Size([1007])\n",
            "Shape of x_test: torch.Size([433, 306])\n",
            "Shape of y_test: torch.Size([433])\n"
          ]
        }
      ],
      "source": [
        "train_ratio = 0.7  # 80% of the data for training, 20% for testing\n",
        "# Calculate the number of samples for training and testing\n",
        "train_size = int(train_ratio * len(x_tensor))\n",
        "test_size = len(x_tensor) - train_size\n",
        "\n",
        "# Shuffle the indices of the samples\n",
        "indices = torch.randperm(len(x_tensor))\n",
        "\n",
        "# Split the indices into training and testing sets\n",
        "train_indices = indices[:train_size]\n",
        "test_indices = indices[train_size:]\n",
        "\n",
        "# Use the indices to extract the samples for training and testing\n",
        "x_train, y_train = x_tensor[train_indices], y_tensor[train_indices]\n",
        "x_test, y_test = x_tensor[test_indices], y_tensor[test_indices]\n",
        "\n",
        "# Print the shapes of the training and testing sets\n",
        "print(\"Shape of x_train:\", x_train.shape)\n",
        "print(\"Shape of y_train:\", y_train.shape)\n",
        "print(\"Shape of x_test:\", x_test.shape)\n",
        "print(\"Shape of y_test:\", y_test.shape)"
      ]
    },
    {
      "cell_type": "code",
      "execution_count": 204,
      "metadata": {
        "colab": {
          "base_uri": "https://localhost:8080/"
        },
        "id": "bXntyjvzFNx_",
        "outputId": "fb9a94be-58ff-428f-c3c3-eb6a5b538308"
      },
      "outputs": [
        {
          "name": "stdout",
          "output_type": "stream",
          "text": [
            "Epoch 0: Loss 22.201038360595703\n",
            "Epoch 10: Loss 12.007477760314941\n",
            "Epoch 20: Loss 9.196626663208008\n",
            "Epoch 30: Loss 7.431214332580566\n",
            "Epoch 40: Loss 6.15256404876709\n",
            "Epoch 50: Loss 5.200140476226807\n",
            "Epoch 60: Loss 4.501382350921631\n",
            "Epoch 70: Loss 3.9571022987365723\n",
            "Epoch 80: Loss 3.51375412940979\n",
            "Epoch 90: Loss 3.1484124660491943\n",
            "Epoch 100: Loss 2.842606544494629\n",
            "Epoch 110: Loss 2.582691192626953\n",
            "Epoch 120: Loss 2.359424114227295\n",
            "Epoch 130: Loss 2.167097806930542\n",
            "Epoch 140: Loss 2.000316619873047\n",
            "Epoch 150: Loss 1.853821039199829\n",
            "Epoch 160: Loss 1.7234177589416504\n",
            "Epoch 170: Loss 1.6062692403793335\n",
            "Epoch 180: Loss 1.5004349946975708\n",
            "Epoch 190: Loss 1.4046496152877808\n",
            "Epoch 200: Loss 1.3181558847427368\n",
            "Epoch 210: Loss 1.2400637865066528\n",
            "Epoch 220: Loss 1.169301152229309\n",
            "Epoch 230: Loss 1.1049368381500244\n",
            "Epoch 240: Loss 1.046176552772522\n",
            "Epoch 250: Loss 0.9923300743103027\n",
            "Epoch 260: Loss 0.9428204298019409\n",
            "Epoch 270: Loss 0.8972203135490417\n",
            "Epoch 280: Loss 0.8552097082138062\n",
            "Epoch 290: Loss 0.8164157271385193\n",
            "Epoch 300: Loss 0.7804450988769531\n",
            "Epoch 310: Loss 0.746967077255249\n",
            "Epoch 320: Loss 0.7157087326049805\n",
            "Epoch 330: Loss 0.6864404678344727\n",
            "Epoch 340: Loss 0.6589691042900085\n",
            "Epoch 350: Loss 0.6331303715705872\n",
            "Epoch 360: Loss 0.6087819337844849\n",
            "Epoch 370: Loss 0.585800051689148\n",
            "Epoch 380: Loss 0.5640761852264404\n",
            "Epoch 390: Loss 0.5435153841972351\n",
            "Epoch 400: Loss 0.5240335464477539\n",
            "Epoch 410: Loss 0.5055558085441589\n",
            "Epoch 420: Loss 0.4880148768424988\n",
            "Epoch 430: Loss 0.47135061025619507\n",
            "Epoch 440: Loss 0.4555092751979828\n",
            "Epoch 450: Loss 0.4404431879520416\n",
            "Epoch 460: Loss 0.4261089861392975\n",
            "Epoch 470: Loss 0.41246676445007324\n",
            "Epoch 480: Loss 0.3994787037372589\n",
            "Epoch 490: Loss 0.3871079683303833\n",
            "Epoch 500: Loss 0.3753190338611603\n",
            "Epoch 510: Loss 0.3640778958797455\n",
            "Epoch 520: Loss 0.353352427482605\n",
            "Epoch 530: Loss 0.34311315417289734\n",
            "Epoch 540: Loss 0.3333326578140259\n",
            "Epoch 550: Loss 0.3239850699901581\n",
            "Epoch 560: Loss 0.3150465786457062\n",
            "Epoch 570: Loss 0.30649426579475403\n",
            "Epoch 580: Loss 0.2983072102069855\n",
            "Epoch 590: Loss 0.2904658615589142\n",
            "Epoch 600: Loss 0.28295227885246277\n",
            "Epoch 610: Loss 0.27575013041496277\n",
            "Epoch 620: Loss 0.2688443064689636\n",
            "Epoch 630: Loss 0.2622212767601013\n",
            "Epoch 640: Loss 0.25586792826652527\n",
            "Epoch 650: Loss 0.24977241456508636\n",
            "Epoch 660: Loss 0.24392306804656982\n",
            "Epoch 670: Loss 0.23830899596214294\n",
            "Epoch 680: Loss 0.2329196035861969\n",
            "Epoch 690: Loss 0.22774450480937958\n",
            "Epoch 700: Loss 0.22277359664440155\n",
            "Epoch 710: Loss 0.21799726784229279\n",
            "Epoch 720: Loss 0.21340619027614594\n",
            "Epoch 730: Loss 0.20899133384227753\n",
            "Epoch 740: Loss 0.20474404096603394\n",
            "Epoch 750: Loss 0.20065602660179138\n",
            "Epoch 760: Loss 0.19671940803527832\n",
            "Epoch 770: Loss 0.1929267793893814\n",
            "Epoch 780: Loss 0.18927101790905\n",
            "Epoch 790: Loss 0.18574541807174683\n",
            "Epoch 800: Loss 0.18234354257583618\n",
            "Epoch 810: Loss 0.17905952036380768\n",
            "Epoch 820: Loss 0.17588762938976288\n",
            "Epoch 830: Loss 0.1728225201368332\n",
            "Epoch 840: Loss 0.1698591262102127\n",
            "Epoch 850: Loss 0.16699287295341492\n",
            "Epoch 860: Loss 0.16421915590763092\n",
            "Epoch 870: Loss 0.16153383255004883\n",
            "Epoch 880: Loss 0.15893302857875824\n",
            "Epoch 890: Loss 0.15641294419765472\n",
            "Epoch 900: Loss 0.15396995842456818\n",
            "Epoch 910: Loss 0.15160086750984192\n",
            "Epoch 920: Loss 0.1493024080991745\n",
            "Epoch 930: Loss 0.14707155525684357\n",
            "Epoch 940: Loss 0.14490540325641632\n",
            "Epoch 950: Loss 0.14280109107494354\n",
            "Epoch 960: Loss 0.14075607061386108\n",
            "Epoch 970: Loss 0.13876786828041077\n",
            "Epoch 980: Loss 0.1368338167667389\n",
            "Epoch 990: Loss 0.13495180010795593\n",
            "Epoch 1000: Loss 0.13311952352523804\n",
            "Epoch 1010: Loss 0.13133493065834045\n",
            "Epoch 1020: Loss 0.12959598004817963\n",
            "Epoch 1030: Loss 0.1279008537530899\n",
            "Epoch 1040: Loss 0.12624774873256683\n",
            "Epoch 1050: Loss 0.12463489919900894\n",
            "Epoch 1060: Loss 0.12306083738803864\n",
            "Epoch 1070: Loss 0.12152394652366638\n",
            "Epoch 1080: Loss 0.12002284079790115\n",
            "Epoch 1090: Loss 0.1185561865568161\n",
            "Epoch 1100: Loss 0.11712268739938736\n",
            "Epoch 1110: Loss 0.11572112143039703\n",
            "Epoch 1120: Loss 0.11435046792030334\n",
            "Epoch 1130: Loss 0.11300954967737198\n",
            "Epoch 1140: Loss 0.11169735342264175\n",
            "Epoch 1150: Loss 0.11041299998760223\n",
            "Epoch 1160: Loss 0.10915551334619522\n",
            "Epoch 1170: Loss 0.10792408138513565\n",
            "Epoch 1180: Loss 0.10671792924404144\n",
            "Epoch 1190: Loss 0.10553622245788574\n",
            "Epoch 1200: Loss 0.10437828302383423\n",
            "Epoch 1210: Loss 0.103243388235569\n",
            "Epoch 1220: Loss 0.10213097929954529\n",
            "Epoch 1230: Loss 0.10104035586118698\n",
            "Epoch 1240: Loss 0.0999709963798523\n",
            "Epoch 1250: Loss 0.0989222601056099\n",
            "Epoch 1260: Loss 0.09789369255304337\n",
            "Epoch 1270: Loss 0.09688476473093033\n",
            "Epoch 1280: Loss 0.09589500725269318\n",
            "Epoch 1290: Loss 0.0949239432811737\n",
            "Epoch 1300: Loss 0.09397109597921371\n",
            "Epoch 1310: Loss 0.09303612262010574\n",
            "Epoch 1320: Loss 0.09211849421262741\n",
            "Epoch 1330: Loss 0.09121788293123245\n",
            "Epoch 1340: Loss 0.09033390879631042\n",
            "Epoch 1350: Loss 0.08946617692708969\n",
            "Epoch 1360: Loss 0.08861426264047623\n",
            "Epoch 1370: Loss 0.08777789026498795\n",
            "Epoch 1380: Loss 0.08695666491985321\n",
            "Epoch 1390: Loss 0.08615026623010635\n",
            "Epoch 1400: Loss 0.08535830676555634\n",
            "Epoch 1410: Loss 0.08458051830530167\n",
            "Epoch 1420: Loss 0.08381655812263489\n",
            "Epoch 1430: Loss 0.08306612074375153\n",
            "Epoch 1440: Loss 0.08232884109020233\n",
            "Epoch 1450: Loss 0.08160451799631119\n",
            "Epoch 1460: Loss 0.08089274913072586\n",
            "Epoch 1470: Loss 0.08019335567951202\n",
            "Epoch 1480: Loss 0.07950595766305923\n",
            "Epoch 1490: Loss 0.07883031666278839\n",
            "Epoch 1500: Loss 0.07816620916128159\n",
            "Epoch 1510: Loss 0.07751332223415375\n",
            "Epoch 1520: Loss 0.07687141001224518\n",
            "Epoch 1530: Loss 0.07624022662639618\n",
            "Epoch 1540: Loss 0.07561954855918884\n",
            "Epoch 1550: Loss 0.07500911504030228\n",
            "Epoch 1560: Loss 0.07440873980522156\n",
            "Epoch 1570: Loss 0.0738181546330452\n",
            "Epoch 1580: Loss 0.07323715090751648\n",
            "Epoch 1590: Loss 0.07266553491353989\n",
            "Epoch 1600: Loss 0.07210307568311691\n",
            "Epoch 1610: Loss 0.07154960185289383\n",
            "Epoch 1620: Loss 0.07100490480661392\n",
            "Epoch 1630: Loss 0.07046879827976227\n",
            "Epoch 1640: Loss 0.06994106620550156\n",
            "Epoch 1650: Loss 0.06942160427570343\n",
            "Epoch 1660: Loss 0.06891018897294998\n",
            "Epoch 1670: Loss 0.06840663403272629\n",
            "Epoch 1680: Loss 0.0679108053445816\n",
            "Epoch 1690: Loss 0.0674225240945816\n",
            "Epoch 1700: Loss 0.06694165617227554\n",
            "Epoch 1710: Loss 0.06646797806024551\n",
            "Epoch 1720: Loss 0.06600143015384674\n",
            "Epoch 1730: Loss 0.0655418187379837\n",
            "Epoch 1740: Loss 0.06508897989988327\n",
            "Epoch 1750: Loss 0.06464281678199768\n",
            "Epoch 1760: Loss 0.0642031580209732\n",
            "Epoch 1770: Loss 0.06376990675926208\n",
            "Epoch 1780: Loss 0.06334288418292999\n",
            "Epoch 1790: Loss 0.06292200088500977\n",
            "Epoch 1800: Loss 0.06250711530447006\n",
            "Epoch 1810: Loss 0.06209808960556984\n",
            "Epoch 1820: Loss 0.06169482693076134\n",
            "Epoch 1830: Loss 0.06129719316959381\n",
            "Epoch 1840: Loss 0.060905102640390396\n",
            "Epoch 1850: Loss 0.06051843240857124\n",
            "Epoch 1860: Loss 0.0601370595395565\n",
            "Epoch 1870: Loss 0.05976087227463722\n",
            "Epoch 1880: Loss 0.059389784932136536\n",
            "Epoch 1890: Loss 0.059023719280958176\n",
            "Epoch 1900: Loss 0.0586625300347805\n",
            "Epoch 1910: Loss 0.058306120336055756\n",
            "Epoch 1920: Loss 0.05795442312955856\n",
            "Epoch 1930: Loss 0.05760734900832176\n",
            "Epoch 1940: Loss 0.057264797389507294\n",
            "Epoch 1950: Loss 0.05692664161324501\n",
            "Epoch 1960: Loss 0.05659287050366402\n",
            "Epoch 1970: Loss 0.05626334622502327\n",
            "Epoch 1980: Loss 0.055938005447387695\n",
            "Epoch 1990: Loss 0.055616769939661026\n",
            "Epoch 2000: Loss 0.0552995428442955\n",
            "Epoch 2010: Loss 0.05498626083135605\n",
            "Epoch 2020: Loss 0.05467686429619789\n",
            "Epoch 2030: Loss 0.05437127500772476\n",
            "Epoch 2040: Loss 0.0540693923830986\n",
            "Epoch 2050: Loss 0.05377116799354553\n",
            "Epoch 2060: Loss 0.05347654968500137\n",
            "Epoch 2070: Loss 0.05318543687462807\n",
            "Epoch 2080: Loss 0.052897822111845016\n",
            "Epoch 2090: Loss 0.05261356383562088\n",
            "Epoch 2100: Loss 0.052332669496536255\n",
            "Epoch 2110: Loss 0.052055031061172485\n",
            "Epoch 2120: Loss 0.05178060382604599\n",
            "Epoch 2130: Loss 0.051509369164705276\n",
            "Epoch 2140: Loss 0.05124121159315109\n",
            "Epoch 2150: Loss 0.050976090133190155\n",
            "Epoch 2160: Loss 0.05071399360895157\n",
            "Epoch 2170: Loss 0.05045482516288757\n",
            "Epoch 2180: Loss 0.050198569893836975\n",
            "Epoch 2190: Loss 0.049945130944252014\n",
            "Epoch 2200: Loss 0.049694497138261795\n",
            "Epoch 2210: Loss 0.04944662004709244\n",
            "Epoch 2220: Loss 0.04920143634080887\n",
            "Epoch 2230: Loss 0.048958901315927505\n",
            "Epoch 2240: Loss 0.04871899262070656\n",
            "Epoch 2250: Loss 0.048481620848178864\n",
            "Epoch 2260: Loss 0.048246800899505615\n",
            "Epoch 2270: Loss 0.04801445081830025\n",
            "Epoch 2280: Loss 0.047784533351659775\n",
            "Epoch 2290: Loss 0.0475570484995842\n",
            "Epoch 2300: Loss 0.04733188822865486\n",
            "Epoch 2310: Loss 0.04710905998945236\n",
            "Epoch 2320: Loss 0.04688854143023491\n",
            "Epoch 2330: Loss 0.04667026177048683\n",
            "Epoch 2340: Loss 0.04645421728491783\n",
            "Epoch 2350: Loss 0.04624031111598015\n",
            "Epoch 2360: Loss 0.04602858051657677\n",
            "Epoch 2370: Loss 0.04581896960735321\n",
            "Epoch 2380: Loss 0.0456114262342453\n",
            "Epoch 2390: Loss 0.04540592059493065\n",
            "Epoch 2400: Loss 0.04520244151353836\n",
            "Epoch 2410: Loss 0.045000966638326645\n",
            "Epoch 2420: Loss 0.04480142891407013\n",
            "Epoch 2430: Loss 0.04460383206605911\n",
            "Epoch 2440: Loss 0.04440811276435852\n",
            "Epoch 2450: Loss 0.04421427100896835\n",
            "Epoch 2460: Loss 0.044022269546985626\n",
            "Epoch 2470: Loss 0.04383208602666855\n",
            "Epoch 2480: Loss 0.04364369809627533\n",
            "Epoch 2490: Loss 0.04345707595348358\n",
            "Epoch 2500: Loss 0.043272171169519424\n",
            "Epoch 2510: Loss 0.04308899864554405\n",
            "Epoch 2520: Loss 0.04290749505162239\n",
            "Epoch 2530: Loss 0.04272765293717384\n",
            "Epoch 2540: Loss 0.04254944995045662\n",
            "Epoch 2550: Loss 0.04237288236618042\n",
            "Epoch 2560: Loss 0.04219789057970047\n",
            "Epoch 2570: Loss 0.04202446714043617\n",
            "Epoch 2580: Loss 0.04185261204838753\n",
            "Epoch 2590: Loss 0.041682250797748566\n",
            "Epoch 2600: Loss 0.041513413190841675\n",
            "Epoch 2610: Loss 0.041346076875925064\n",
            "Epoch 2620: Loss 0.04118017479777336\n",
            "Epoch 2630: Loss 0.04101574420928955\n",
            "Epoch 2640: Loss 0.040852732956409454\n",
            "Epoch 2650: Loss 0.040691111236810684\n",
            "Epoch 2660: Loss 0.040530893951654434\n",
            "Epoch 2670: Loss 0.04037204757332802\n",
            "Epoch 2680: Loss 0.040214549750089645\n",
            "Epoch 2690: Loss 0.04005837440490723\n",
            "Epoch 2700: Loss 0.03990351781249046\n",
            "Epoch 2710: Loss 0.03974996507167816\n",
            "Epoch 2720: Loss 0.03959767892956734\n",
            "Epoch 2730: Loss 0.039446666836738586\n",
            "Epoch 2740: Loss 0.03929692134261131\n",
            "Epoch 2750: Loss 0.039148397743701935\n",
            "Epoch 2760: Loss 0.03900106996297836\n",
            "Epoch 2770: Loss 0.03885497897863388\n",
            "Epoch 2780: Loss 0.03871005028486252\n",
            "Epoch 2790: Loss 0.03856627643108368\n",
            "Epoch 2800: Loss 0.038423679769039154\n",
            "Epoch 2810: Loss 0.03828222677111626\n",
            "Epoch 2820: Loss 0.03814190253615379\n",
            "Epoch 2830: Loss 0.03800269588828087\n",
            "Epoch 2840: Loss 0.0378645695745945\n",
            "Epoch 2850: Loss 0.03772754222154617\n",
            "Epoch 2860: Loss 0.0375915952026844\n",
            "Epoch 2870: Loss 0.0374566875398159\n",
            "Epoch 2880: Loss 0.037322841584682465\n",
            "Epoch 2890: Loss 0.0371900275349617\n",
            "Epoch 2900: Loss 0.03705823794007301\n",
            "Epoch 2910: Loss 0.03692745044827461\n",
            "Epoch 2920: Loss 0.0367976650595665\n",
            "Epoch 2930: Loss 0.03666886314749718\n",
            "Epoch 2940: Loss 0.03654104098677635\n",
            "Epoch 2950: Loss 0.03641418367624283\n",
            "Epoch 2960: Loss 0.03628827631473541\n",
            "Epoch 2970: Loss 0.036163315176963806\n",
            "Epoch 2980: Loss 0.036039259284734726\n",
            "Epoch 2990: Loss 0.03591614589095116\n",
            "Epoch 3000: Loss 0.035793937742710114\n",
            "Epoch 3010: Loss 0.0356726236641407\n",
            "Epoch 3020: Loss 0.03555219992995262\n",
            "Epoch 3030: Loss 0.03543265163898468\n",
            "Epoch 3040: Loss 0.035313963890075684\n",
            "Epoch 3050: Loss 0.03519613668322563\n",
            "Epoch 3060: Loss 0.03507916256785393\n",
            "Epoch 3070: Loss 0.03496303781867027\n",
            "Epoch 3080: Loss 0.03484771028161049\n",
            "Epoch 3090: Loss 0.03473324328660965\n",
            "Epoch 3100: Loss 0.03461955860257149\n",
            "Epoch 3110: Loss 0.03450668603181839\n",
            "Epoch 3120: Loss 0.03439461439847946\n",
            "Epoch 3130: Loss 0.03428332135081291\n",
            "Epoch 3140: Loss 0.03417280688881874\n",
            "Epoch 3150: Loss 0.03406304493546486\n",
            "Epoch 3160: Loss 0.03395405039191246\n",
            "Epoch 3170: Loss 0.03384581580758095\n",
            "Epoch 3180: Loss 0.033738311380147934\n",
            "Epoch 3190: Loss 0.03363155573606491\n",
            "Epoch 3200: Loss 0.03352552652359009\n",
            "Epoch 3210: Loss 0.033420197665691376\n",
            "Epoch 3220: Loss 0.033315595239400864\n",
            "Epoch 3230: Loss 0.03321170434355736\n",
            "Epoch 3240: Loss 0.03310851380228996\n",
            "Epoch 3250: Loss 0.033006004989147186\n",
            "Epoch 3260: Loss 0.03290417417883873\n",
            "Epoch 3270: Loss 0.032803021371364594\n",
            "Epoch 3280: Loss 0.03270253911614418\n",
            "Epoch 3290: Loss 0.03260272741317749\n",
            "Epoch 3300: Loss 0.032503560185432434\n",
            "Epoch 3310: Loss 0.03240503743290901\n",
            "Epoch 3320: Loss 0.03230716660618782\n",
            "Epoch 3330: Loss 0.03220992535352707\n",
            "Epoch 3340: Loss 0.03211332485079765\n",
            "Epoch 3350: Loss 0.032017339020967484\n",
            "Epoch 3360: Loss 0.03192196041345596\n",
            "Epoch 3370: Loss 0.03182720020413399\n",
            "Epoch 3380: Loss 0.03173304349184036\n",
            "Epoch 3390: Loss 0.03163949400186539\n",
            "Epoch 3400: Loss 0.031546544283628464\n",
            "Epoch 3410: Loss 0.031454142183065414\n",
            "Epoch 3420: Loss 0.03136235848069191\n",
            "Epoch 3430: Loss 0.031271129846572876\n",
            "Epoch 3440: Loss 0.031180480495095253\n",
            "Epoch 3450: Loss 0.031090401113033295\n",
            "Epoch 3460: Loss 0.03100086934864521\n",
            "Epoch 3470: Loss 0.030911898240447044\n",
            "Epoch 3480: Loss 0.0308234766125679\n",
            "Epoch 3490: Loss 0.030735572800040245\n",
            "Epoch 3500: Loss 0.030648227781057358\n",
            "Epoch 3510: Loss 0.0305614210665226\n",
            "Epoch 3520: Loss 0.030475124716758728\n",
            "Epoch 3530: Loss 0.030389362946152687\n",
            "Epoch 3540: Loss 0.030304132029414177\n",
            "Epoch 3550: Loss 0.030219389125704765\n",
            "Epoch 3560: Loss 0.030135171487927437\n",
            "Epoch 3570: Loss 0.03005143627524376\n",
            "Epoch 3580: Loss 0.02996821515262127\n",
            "Epoch 3590: Loss 0.029885487630963326\n",
            "Epoch 3600: Loss 0.029803236946463585\n",
            "Epoch 3610: Loss 0.029721474274992943\n",
            "Epoch 3620: Loss 0.029640205204486847\n",
            "Epoch 3630: Loss 0.029559407383203506\n",
            "Epoch 3640: Loss 0.02947908826172352\n",
            "Epoch 3650: Loss 0.029399223625659943\n",
            "Epoch 3660: Loss 0.029319820925593376\n",
            "Epoch 3670: Loss 0.02924088016152382\n",
            "Epoch 3680: Loss 0.02916240505874157\n",
            "Epoch 3690: Loss 0.029084382578730583\n",
            "Epoch 3700: Loss 0.029006803408265114\n",
            "Epoch 3710: Loss 0.02892964705824852\n",
            "Epoch 3720: Loss 0.02885294333100319\n",
            "Epoch 3730: Loss 0.028776677325367928\n",
            "Epoch 3740: Loss 0.02870084159076214\n",
            "Epoch 3750: Loss 0.028625430539250374\n",
            "Epoch 3760: Loss 0.028550444170832634\n",
            "Epoch 3770: Loss 0.028475891798734665\n",
            "Epoch 3780: Loss 0.02840173989534378\n",
            "Epoch 3790: Loss 0.028328005224466324\n",
            "Epoch 3800: Loss 0.028254685923457146\n",
            "Epoch 3810: Loss 0.028181757777929306\n",
            "Epoch 3820: Loss 0.028109239414334297\n",
            "Epoch 3830: Loss 0.02803712897002697\n",
            "Epoch 3840: Loss 0.027965398505330086\n",
            "Epoch 3850: Loss 0.027894072234630585\n",
            "Epoch 3860: Loss 0.027823135256767273\n",
            "Epoch 3870: Loss 0.027752574533224106\n",
            "Epoch 3880: Loss 0.027682404965162277\n",
            "Epoch 3890: Loss 0.027612613514065742\n",
            "Epoch 3900: Loss 0.027543192729353905\n",
            "Epoch 3910: Loss 0.02747415006160736\n",
            "Epoch 3920: Loss 0.027405472472310066\n",
            "Epoch 3930: Loss 0.02733715809881687\n",
            "Epoch 3940: Loss 0.027269216254353523\n",
            "Epoch 3950: Loss 0.027201630175113678\n",
            "Epoch 3960: Loss 0.027134403586387634\n",
            "Epoch 3970: Loss 0.027067527174949646\n",
            "Epoch 3980: Loss 0.027001002803444862\n",
            "Epoch 3990: Loss 0.02693483792245388\n",
            "Epoch 4000: Loss 0.026869017630815506\n",
            "Epoch 4010: Loss 0.026803532615303993\n",
            "Epoch 4020: Loss 0.026738394051790237\n",
            "Epoch 4030: Loss 0.026673587039113045\n",
            "Epoch 4040: Loss 0.02660912089049816\n",
            "Epoch 4050: Loss 0.026544976979494095\n",
            "Epoch 4060: Loss 0.026481173932552338\n",
            "Epoch 4070: Loss 0.0264176893979311\n",
            "Epoch 4080: Loss 0.02635454200208187\n",
            "Epoch 4090: Loss 0.026291705667972565\n",
            "Epoch 4100: Loss 0.026229191571474075\n",
            "Epoch 4110: Loss 0.0261670034378767\n",
            "Epoch 4120: Loss 0.026105113327503204\n",
            "Epoch 4130: Loss 0.026043551042675972\n",
            "Epoch 4140: Loss 0.02598228119313717\n",
            "Epoch 4150: Loss 0.025921335443854332\n",
            "Epoch 4160: Loss 0.025860683992505074\n",
            "Epoch 4170: Loss 0.025800343602895737\n",
            "Epoch 4180: Loss 0.025740299373865128\n",
            "Epoch 4190: Loss 0.025680555030703545\n",
            "Epoch 4200: Loss 0.025621090084314346\n",
            "Epoch 4210: Loss 0.02556193247437477\n",
            "Epoch 4220: Loss 0.025503071025013924\n",
            "Epoch 4230: Loss 0.02544448897242546\n",
            "Epoch 4240: Loss 0.02538619004189968\n",
            "Epoch 4250: Loss 0.02532818913459778\n",
            "Epoch 4260: Loss 0.02527046576142311\n",
            "Epoch 4270: Loss 0.025213023647665977\n",
            "Epoch 4280: Loss 0.02515585906803608\n",
            "Epoch 4290: Loss 0.02509896270930767\n",
            "Epoch 4300: Loss 0.025042355060577393\n",
            "Epoch 4310: Loss 0.02498599886894226\n",
            "Epoch 4320: Loss 0.024929935112595558\n",
            "Epoch 4330: Loss 0.024874120950698853\n",
            "Epoch 4340: Loss 0.024818575009703636\n",
            "Epoch 4350: Loss 0.024763301014900208\n",
            "Epoch 4360: Loss 0.024708282202482224\n",
            "Epoch 4370: Loss 0.02465352788567543\n",
            "Epoch 4380: Loss 0.02459903620183468\n",
            "Epoch 4390: Loss 0.024544792249798775\n",
            "Epoch 4400: Loss 0.024490807205438614\n",
            "Epoch 4410: Loss 0.024437077343463898\n",
            "Epoch 4420: Loss 0.02438359521329403\n",
            "Epoch 4430: Loss 0.02433035336434841\n",
            "Epoch 4440: Loss 0.024277379736304283\n",
            "Epoch 4450: Loss 0.024224629625678062\n",
            "Epoch 4460: Loss 0.024172136560082436\n",
            "Epoch 4470: Loss 0.02411988563835621\n",
            "Epoch 4480: Loss 0.024067869409918785\n",
            "Epoch 4490: Loss 0.024016086012125015\n",
            "Epoch 4500: Loss 0.023964546620845795\n",
            "Epoch 4510: Loss 0.023913243785500526\n",
            "Epoch 4520: Loss 0.02386217936873436\n",
            "Epoch 4530: Loss 0.0238113421946764\n",
            "Epoch 4540: Loss 0.023760735988616943\n",
            "Epoch 4550: Loss 0.023710351437330246\n",
            "Epoch 4560: Loss 0.023660210892558098\n",
            "Epoch 4570: Loss 0.023610275238752365\n",
            "Epoch 4580: Loss 0.023560572415590286\n",
            "Epoch 4590: Loss 0.023511085659265518\n",
            "Epoch 4600: Loss 0.023461826145648956\n",
            "Epoch 4610: Loss 0.023412780836224556\n",
            "Epoch 4620: Loss 0.02336396463215351\n",
            "Epoch 4630: Loss 0.023315351456403732\n",
            "Epoch 4640: Loss 0.023266959935426712\n",
            "Epoch 4650: Loss 0.023218786343932152\n",
            "Epoch 4660: Loss 0.02317081019282341\n",
            "Epoch 4670: Loss 0.023123061284422874\n",
            "Epoch 4680: Loss 0.02307550609111786\n",
            "Epoch 4690: Loss 0.02302817441523075\n",
            "Epoch 4700: Loss 0.022981038317084312\n",
            "Epoch 4710: Loss 0.022934118285775185\n",
            "Epoch 4720: Loss 0.02288738824427128\n",
            "Epoch 4730: Loss 0.022840864956378937\n",
            "Epoch 4740: Loss 0.022794539108872414\n",
            "Epoch 4750: Loss 0.022748423740267754\n",
            "Epoch 4760: Loss 0.022702500224113464\n",
            "Epoch 4770: Loss 0.022656762972474098\n",
            "Epoch 4780: Loss 0.022611239925026894\n",
            "Epoch 4790: Loss 0.022565895691514015\n",
            "Epoch 4800: Loss 0.02252076007425785\n",
            "Epoch 4810: Loss 0.02247580513358116\n",
            "Epoch 4820: Loss 0.022431042045354843\n",
            "Epoch 4830: Loss 0.022386470809578896\n",
            "Epoch 4840: Loss 0.022342078387737274\n",
            "Epoch 4850: Loss 0.02229788340628147\n",
            "Epoch 4860: Loss 0.022253870964050293\n",
            "Epoch 4870: Loss 0.02221004292368889\n",
            "Epoch 4880: Loss 0.022166399285197258\n",
            "Epoch 4890: Loss 0.022122932597994804\n",
            "Epoch 4900: Loss 0.02207965776324272\n",
            "Epoch 4910: Loss 0.022036539390683174\n",
            "Epoch 4920: Loss 0.021993624046444893\n",
            "Epoch 4930: Loss 0.021950874477624893\n",
            "Epoch 4940: Loss 0.02190830558538437\n",
            "Epoch 4950: Loss 0.021865908056497574\n",
            "Epoch 4960: Loss 0.021823693066835403\n",
            "Epoch 4970: Loss 0.021781638264656067\n",
            "Epoch 4980: Loss 0.021739766001701355\n",
            "Epoch 4990: Loss 0.021698055788874626\n",
            "UAR: 0.5911574552512664\n"
          ]
        }
      ],
      "source": [
        "model = BasicPerceptron(input_size=306, num_classes=8)\n",
        "model.train_model(x_train, y_train, num_epochs=5000, learning_rate=0.1)\n",
        "\n",
        "# 2. Predict labels for the testing/validation data\n",
        "y_pred = model.predict(x_test)\n",
        "\n",
        "# 3. Calculate accuracy\n",
        "uar = model.estimate(y_test, y_pred)\n",
        "\n",
        "print(f\"UAR: {uar}\")"
      ]
    },
    {
      "cell_type": "markdown",
      "metadata": {
        "id": "VoaufiM9FLOY"
      },
      "source": [
        "### TRY K-FOLD"
      ]
    },
    {
      "cell_type": "code",
      "execution_count": 176,
      "metadata": {
        "id": "Ww6hRbBw9Tv2"
      },
      "outputs": [],
      "source": [
        "def load_dataset(X_path='/content/feature_mfcc_34_delta_delta_nfft_8192.csv',\n",
        "                 y_path='/content/y_labels_feature_34_mfcc_delta_delta_nfft_8192.csv',\n",
        "                 ID_path='/content/IDs_feature_mfcc_34_delta_delta_nfft_8192.csv'):\n",
        "    starting_time = time.time()\n",
        "    X = pd.read_csv(X_path)\n",
        "    X = X.drop('Unnamed: 0', axis=1)\n",
        "    y = pd.read_csv(y_path)\n",
        "    y = y.drop('Unnamed: 0', axis=1)\n",
        "    ID = pd.read_csv(ID_path)\n",
        "    ID = ID.drop('Unnamed: 0', axis=1)\n",
        "\n",
        "    print(\"data loaded in \" + str(time.time() - starting_time) + \"ms\")\n",
        "    print(X.head())\n",
        "    print(\"X.shape = \", X.shape)\n",
        "    print(\"X.columns = \", X.columns)\n",
        "\n",
        "    return X, y, ID\n",
        "\n",
        "def get_k_fold_group_member():\n",
        "    return {\n",
        "        '0': {2, 5, 14, 15, 16},\n",
        "        '1': {3, 6, 7, 13, 18},\n",
        "        '2': {10, 11, 12, 19, 20},\n",
        "        '3': {8, 17, 21, 23, 24},\n",
        "        '4': {1, 4, 9, 22}\n",
        "    }\n",
        "\n",
        "def get_custom_k_folds(X, y, ID, group_members):\n",
        "    X_k_fold = dict()\n",
        "    y_k_fold = dict()\n",
        "    for k, members in group_members.items():\n",
        "        fold_X = pd.DataFrame()\n",
        "        fold_y = pd.DataFrame()\n",
        "\n",
        "        for actor_ID in members:\n",
        "            inds = ID[ID['0'] == actor_ID].index.tolist()\n",
        "            fold_X = pd.concat([fold_X, X.loc[inds, :]])\n",
        "            fold_y = pd.concat([fold_y, y.loc[inds, :]])\n",
        "        X_k_fold[k] = fold_X\n",
        "        y_k_fold[k] = fold_y\n",
        "    return X_k_fold, y_k_fold"
      ]
    },
    {
      "cell_type": "code",
      "execution_count": 177,
      "metadata": {
        "id": "ANyAKl7o95yf"
      },
      "outputs": [],
      "source": [
        "# Load data from CSV files using pandas\n",
        "X = pd.read_csv('/content/feature_mfcc_34_delta_delta_nfft_8192.csv', index_col=0)\n",
        "y = pd.read_csv('/content/y_labels_feature_34_mfcc_delta_delta_nfft_8192.csv', index_col=0)\n",
        "IDs = pd.read_csv('/content/IDs_feature_mfcc_34_delta_delta_nfft_8192.csv', index_col=0)\n",
        "\n",
        "group_members= get_k_fold_group_member()\n",
        "\n",
        "\n",
        "X_k_folds, y_k_folds = get_custom_k_folds(X, y, IDs, group_members)"
      ]
    },
    {
      "cell_type": "code",
      "execution_count": 178,
      "metadata": {
        "colab": {
          "base_uri": "https://localhost:8080/"
        },
        "id": "z_hA2ZqZAikw",
        "outputId": "1dd99029-be3e-4515-bb1b-74a504365506"
      },
      "outputs": [
        {
          "name": "stdout",
          "output_type": "stream",
          "text": [
            "{'0':               0\n",
            "1380       calm\n",
            "1381       calm\n",
            "1382    neutral\n",
            "1383      angry\n",
            "1384  surprised\n",
            "...         ...\n",
            "595     disgust\n",
            "596         sad\n",
            "597         sad\n",
            "598       angry\n",
            "599   surprised\n",
            "\n",
            "[300 rows x 1 columns], '1':              0\n",
            "120       calm\n",
            "121      angry\n",
            "122      angry\n",
            "123        sad\n",
            "124  surprised\n",
            "..         ...\n",
            "955    disgust\n",
            "956       calm\n",
            "957      angry\n",
            "958        sad\n",
            "959        sad\n",
            "\n",
            "[300 rows x 1 columns], '2':               0\n",
            "1200      happy\n",
            "1201        sad\n",
            "1202    neutral\n",
            "1203    neutral\n",
            "1204    neutral\n",
            "...         ...\n",
            "475   surprised\n",
            "476       angry\n",
            "477       happy\n",
            "478   surprised\n",
            "479        calm\n",
            "\n",
            "[300 rows x 1 columns], '3':               0\n",
            "1320        sad\n",
            "1321       calm\n",
            "1322    disgust\n",
            "1323  surprised\n",
            "1324       calm\n",
            "...         ...\n",
            "295   surprised\n",
            "296   surprised\n",
            "297         sad\n",
            "298       angry\n",
            "299     neutral\n",
            "\n",
            "[300 rows x 1 columns], '4':               0\n",
            "1260      happy\n",
            "1261    disgust\n",
            "1262    disgust\n",
            "1263    disgust\n",
            "1264       fear\n",
            "...         ...\n",
            "55          sad\n",
            "56          sad\n",
            "57         calm\n",
            "58    surprised\n",
            "59         calm\n",
            "\n",
            "[240 rows x 1 columns]}\n"
          ]
        }
      ],
      "source": [
        "print(y_k_folds)"
      ]
    },
    {
      "cell_type": "code",
      "execution_count": 181,
      "metadata": {
        "id": "2BPAsFSMACBW"
      },
      "outputs": [],
      "source": [
        "def estimate_model(model, X_k_folds, y_k_folds, num_epochs=10000):\n",
        "    y_pred = []\n",
        "    y_true = []\n",
        "\n",
        "    for k in X_k_folds.keys():\n",
        "        # Prepare dataset\n",
        "        X_train = pd.DataFrame()\n",
        "        y_train = pd.DataFrame()\n",
        "        for i in X_k_folds.keys():\n",
        "            if (i != k):\n",
        "                X_train = pd.concat([X_train, X_k_folds[i]])\n",
        "                y_train = pd.concat([y_train, y_k_folds[i]])\n",
        "            else:\n",
        "                X_test = X_k_folds[i]\n",
        "                y_test = y_k_folds[i]\n",
        "        x_tensor = torch.tensor(X_train.values, dtype=torch.float32)\n",
        "        y_train_normalized = pd.Series(y_train.values.ravel()).replace({'neutral':0, 'calm':1, 'happy':2, 'sad':3, 'angry':4, 'fear':5, 'disgust':6, 'surprised':7})\n",
        "        y_tensor = torch.tensor(y_train_normalized)  # Assuming labels are integers (long tensor)\n",
        "        model.train_model(x_tensor, y_tensor)\n",
        "        y_pred_k_fold = model.predict(torch.tensor(X_test.values, dtype=torch.float32))\n",
        "\n",
        "        y_pred = np.concatenate((y_pred, y_pred_k_fold), axis=None)\n",
        "        y_true = np.concatenate((y_true, y_test.values), axis=None)\n",
        "\n",
        "    UAR = model.estimate(y_true, y_pred)\n",
        "    # print(f'UAR = {UAR:.3f}')\n",
        "    return UAR, y_pred, y_true"
      ]
    },
    {
      "cell_type": "code",
      "execution_count": 198,
      "metadata": {
        "id": "9VAjduWtAK4O"
      },
      "outputs": [],
      "source": [
        "model = BasicPerceptron(input_size=306, num_classes=8)\n",
        "uar, y_pred, y_true=estimate_model(model, X_k_folds, y_k_folds, num_epochs=10)\n",
        "\n",
        "print(f\"UAR: {uar}\")"
      ]
    },
    {
      "cell_type": "markdown",
      "metadata": {
        "id": "E7W540oJzl5E"
      },
      "source": []
    }
  ],
  "metadata": {
    "colab": {
      "provenance": []
    },
    "kernelspec": {
      "display_name": "Python 3",
      "name": "python3"
    },
    "language_info": {
      "codemirror_mode": {
        "name": "ipython",
        "version": 3
      },
      "file_extension": ".py",
      "mimetype": "text/x-python",
      "name": "python",
      "nbconvert_exporter": "python",
      "pygments_lexer": "ipython3",
      "version": "3.10.10"
    }
  },
  "nbformat": 4,
  "nbformat_minor": 0
}
