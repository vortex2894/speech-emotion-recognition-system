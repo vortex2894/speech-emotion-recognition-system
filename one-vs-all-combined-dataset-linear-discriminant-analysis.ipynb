{
 "cells": [
  {
   "cell_type": "markdown",
   "metadata": {},
   "source": [
    "# Libraries"
   ]
  },
  {
   "cell_type": "code",
   "execution_count": 11,
   "metadata": {},
   "outputs": [],
   "source": [
    "from matplotlib import pyplot as plt\n",
    "%matplotlib inline\n",
    "import time\n",
    "import pandas as pd\n",
    "import numpy as np\n",
    "from tqdm import tqdm\n",
    "import data_loader\n",
    "import model_evaluation\n",
    "import plotting_utils\n",
    "import model_training\n",
    "from sklearn.discriminant_analysis import LinearDiscriminantAnalysis"
   ]
  },
  {
   "cell_type": "markdown",
   "metadata": {},
   "source": [
    "# Loading Dataset"
   ]
  },
  {
   "cell_type": "code",
   "execution_count": 2,
   "metadata": {},
   "outputs": [
    {
     "name": "stdout",
     "output_type": "stream",
     "text": [
      "data loaded in 0.06975769996643066ms\n",
      "          0         1         2         3         4         5         6  \\\n",
      "0  0.327805 -0.464719 -0.540320 -0.983787 -1.276392 -0.517576 -0.059207   \n",
      "1 -0.483202 -0.287426  0.073267 -0.259939 -1.043461  0.220426 -0.243781   \n",
      "2 -0.982079  1.092156 -0.237941 -0.002997 -0.934974  0.313563  0.708375   \n",
      "3  0.968642 -1.604765 -0.123183 -0.789169 -1.783557 -0.222486 -0.352760   \n",
      "4  0.548607 -1.485735 -0.842989 -0.959707 -1.563772 -0.373401 -0.273213   \n",
      "\n",
      "          7         8         9  ...       296       297       298       299  \\\n",
      "0 -1.325718 -0.865250 -1.400271  ... -0.000500  0.245232  0.467592  0.179897   \n",
      "1 -0.745799 -0.558315 -0.667095  ...  0.081401 -0.156604  0.054227  1.335473   \n",
      "2  0.392641 -0.112142 -0.675854  ...  1.159202 -0.281807  0.370446  0.969862   \n",
      "3 -1.354752 -0.871037 -0.944073  ... -0.582348  1.606737 -1.213523  0.283672   \n",
      "4 -1.374351 -0.530736 -0.333489  ... -0.312877 -1.016252 -0.713702  0.537837   \n",
      "\n",
      "        300       301       302       303       304       305  \n",
      "0 -0.071906 -0.257116  0.544333 -0.231348  0.071897 -0.767122  \n",
      "1 -0.344696  0.016769  0.729152  0.075905 -0.108514 -0.293366  \n",
      "2 -0.315806  0.671840  0.658161  0.343669  1.597481  0.445682  \n",
      "3 -0.615416 -0.066494 -0.169077 -0.277765 -0.735832 -0.675801  \n",
      "4  1.182357  1.962940 -0.635250  0.001021 -0.530822 -0.600576  \n",
      "\n",
      "[5 rows x 306 columns]\n",
      "X.shape =  (1440, 306)\n",
      "X.columns =  Index(['0', '1', '2', '3', '4', '5', '6', '7', '8', '9',\n",
      "       ...\n",
      "       '296', '297', '298', '299', '300', '301', '302', '303', '304', '305'],\n",
      "      dtype='object', length=306)\n"
     ]
    }
   ],
   "source": [
    "X, y, ID = data_loader.load_dataset(X_path='data/2023-11-08/feature_mfcc_34_delta_delta_nfft_4096.csv', \n",
    "                                    y_path='data/2023-11-08/y_labels_feature_34_mfcc_delta_delta_nfft_4096.csv',\n",
    "                                    ID_path='data/2023-11-08/IDs_feature_mfcc_34_delta_delta_nfft_4096.csv')"
   ]
  },
  {
   "cell_type": "code",
   "execution_count": 3,
   "metadata": {},
   "outputs": [],
   "source": [
    "calm_feature_idx = np.load('data/feature_idx_calm.npy')\n",
    "angry_feature_idx = np.load('data/feature_idx_angry.npy')\n",
    "disgust_feature_idx = np.load('data/feature_idx_disgust.npy')\n",
    "fear_feature_idx = np.load('data/feature_idx_fear.npy')\n",
    "happy_feature_idx = np.load('data/feature_idx_happy.npy')\n",
    "neutral_feature_idx = np.load('data/feature_idx_neutral.npy')\n",
    "sad_feature_idx = np.load('data/feature_idx_sad.npy')\n",
    "surprised_feature_idx = np.load('data/feature_idx_surprised.npy')"
   ]
  },
  {
   "cell_type": "code",
   "execution_count": 4,
   "metadata": {},
   "outputs": [
    {
     "data": {
      "text/plain": [
       "array([  0,  37,  38,  41,  42,  50,  54,  56,  67,  74,  91, 108, 109,\n",
       "       111, 141, 142, 146, 150, 156, 160, 165, 175, 180, 182, 184, 185,\n",
       "       189, 204, 207, 211, 214, 216, 217, 220, 221, 224, 228, 238, 239,\n",
       "       240, 241, 243, 245, 248, 250, 253, 256, 259])"
      ]
     },
     "execution_count": 4,
     "metadata": {},
     "output_type": "execute_result"
    }
   ],
   "source": [
    "neutral_feature_idx"
   ]
  },
  {
   "cell_type": "code",
   "execution_count": 5,
   "metadata": {},
   "outputs": [
    {
     "data": {
      "text/plain": [
       "(217,)"
      ]
     },
     "execution_count": 5,
     "metadata": {},
     "output_type": "execute_result"
    }
   ],
   "source": [
    "combined_unique_indices = np.unique(np.concatenate((calm_feature_idx, \n",
    "                                                   angry_feature_idx,\n",
    "                                                  disgust_feature_idx,\n",
    "                                                  fear_feature_idx,\n",
    "                                                  happy_feature_idx,\n",
    "                                                  neutral_feature_idx,\n",
    "                                                  sad_feature_idx,\n",
    "                                                  surprised_feature_idx)))\n",
    "combined_unique_indices.shape"
   ]
  },
  {
   "cell_type": "code",
   "execution_count": 6,
   "metadata": {},
   "outputs": [
    {
     "data": {
      "text/plain": [
       "array([  0,   2,   4,   5,   6,   7,   8,  10,  11,  12,  14,  15,  16,\n",
       "        17,  18,  19,  21,  22,  24,  25,  27,  28,  29,  30,  31,  33,\n",
       "        34,  35,  36,  37,  38,  39,  40,  41,  42,  43,  44,  45,  46,\n",
       "        47,  48,  49,  50,  51,  52,  53,  54,  55,  56,  57,  58,  60,\n",
       "        61,  62,  63,  64,  65,  66,  67,  68,  69,  70,  71,  72,  73,\n",
       "        74,  75,  79,  80,  83,  84,  85,  86,  88,  91,  97,  98, 102,\n",
       "       106, 107, 108, 109, 110, 111, 112, 113, 114, 115, 116, 118, 119,\n",
       "       120, 123, 124, 125, 126, 128, 130, 136, 137, 138, 141, 142, 143,\n",
       "       144, 145, 146, 147, 148, 149, 150, 151, 152, 153, 154, 155, 156,\n",
       "       158, 160, 161, 162, 163, 165, 168, 169, 170, 171, 172, 173, 174,\n",
       "       175, 176, 177, 178, 179, 180, 181, 182, 183, 184, 185, 186, 187,\n",
       "       188, 189, 190, 191, 192, 194, 195, 196, 197, 198, 199, 204, 205,\n",
       "       206, 207, 208, 209, 210, 211, 212, 213, 214, 215, 216, 217, 218,\n",
       "       219, 220, 221, 222, 223, 224, 225, 226, 227, 228, 229, 230, 231,\n",
       "       232, 233, 234, 235, 236, 237, 238, 239, 240, 241, 242, 243, 244,\n",
       "       245, 246, 247, 248, 249, 250, 251, 253, 255, 256, 257, 258, 259,\n",
       "       261, 263, 267, 268, 272, 275, 284, 285, 297])"
      ]
     },
     "execution_count": 6,
     "metadata": {},
     "output_type": "execute_result"
    }
   ],
   "source": [
    "combined_unique_indices"
   ]
  },
  {
   "cell_type": "code",
   "execution_count": 7,
   "metadata": {},
   "outputs": [
    {
     "data": {
      "text/plain": [
       "(1440, 217)"
      ]
     },
     "execution_count": 7,
     "metadata": {},
     "output_type": "execute_result"
    }
   ],
   "source": [
    "X_with_selected_features = pd.DataFrame(X.iloc[:, combined_unique_indices])\n",
    "X_with_selected_features.shape"
   ]
  },
  {
   "cell_type": "code",
   "execution_count": 8,
   "metadata": {},
   "outputs": [
    {
     "data": {
      "text/html": [
       "<div>\n",
       "<style scoped>\n",
       "    .dataframe tbody tr th:only-of-type {\n",
       "        vertical-align: middle;\n",
       "    }\n",
       "\n",
       "    .dataframe tbody tr th {\n",
       "        vertical-align: top;\n",
       "    }\n",
       "\n",
       "    .dataframe thead th {\n",
       "        text-align: right;\n",
       "    }\n",
       "</style>\n",
       "<table border=\"1\" class=\"dataframe\">\n",
       "  <thead>\n",
       "    <tr style=\"text-align: right;\">\n",
       "      <th></th>\n",
       "      <th>0</th>\n",
       "    </tr>\n",
       "  </thead>\n",
       "  <tbody>\n",
       "    <tr>\n",
       "      <th>0</th>\n",
       "      <td>surprised</td>\n",
       "    </tr>\n",
       "    <tr>\n",
       "      <th>1</th>\n",
       "      <td>happy</td>\n",
       "    </tr>\n",
       "    <tr>\n",
       "      <th>2</th>\n",
       "      <td>calm</td>\n",
       "    </tr>\n",
       "    <tr>\n",
       "      <th>3</th>\n",
       "      <td>happy</td>\n",
       "    </tr>\n",
       "    <tr>\n",
       "      <th>4</th>\n",
       "      <td>surprised</td>\n",
       "    </tr>\n",
       "    <tr>\n",
       "      <th>...</th>\n",
       "      <td>...</td>\n",
       "    </tr>\n",
       "    <tr>\n",
       "      <th>1435</th>\n",
       "      <td>surprised</td>\n",
       "    </tr>\n",
       "    <tr>\n",
       "      <th>1436</th>\n",
       "      <td>angry</td>\n",
       "    </tr>\n",
       "    <tr>\n",
       "      <th>1437</th>\n",
       "      <td>surprised</td>\n",
       "    </tr>\n",
       "    <tr>\n",
       "      <th>1438</th>\n",
       "      <td>disgust</td>\n",
       "    </tr>\n",
       "    <tr>\n",
       "      <th>1439</th>\n",
       "      <td>fear</td>\n",
       "    </tr>\n",
       "  </tbody>\n",
       "</table>\n",
       "<p>1440 rows × 1 columns</p>\n",
       "</div>"
      ],
      "text/plain": [
       "              0\n",
       "0     surprised\n",
       "1         happy\n",
       "2          calm\n",
       "3         happy\n",
       "4     surprised\n",
       "...         ...\n",
       "1435  surprised\n",
       "1436      angry\n",
       "1437  surprised\n",
       "1438    disgust\n",
       "1439       fear\n",
       "\n",
       "[1440 rows x 1 columns]"
      ]
     },
     "execution_count": 8,
     "metadata": {},
     "output_type": "execute_result"
    }
   ],
   "source": [
    "y"
   ]
  },
  {
   "cell_type": "code",
   "execution_count": 9,
   "metadata": {},
   "outputs": [
    {
     "data": {
      "text/html": [
       "<div>\n",
       "<style scoped>\n",
       "    .dataframe tbody tr th:only-of-type {\n",
       "        vertical-align: middle;\n",
       "    }\n",
       "\n",
       "    .dataframe tbody tr th {\n",
       "        vertical-align: top;\n",
       "    }\n",
       "\n",
       "    .dataframe thead th {\n",
       "        text-align: right;\n",
       "    }\n",
       "</style>\n",
       "<table border=\"1\" class=\"dataframe\">\n",
       "  <thead>\n",
       "    <tr style=\"text-align: right;\">\n",
       "      <th></th>\n",
       "      <th>0</th>\n",
       "    </tr>\n",
       "  </thead>\n",
       "  <tbody>\n",
       "    <tr>\n",
       "      <th>0</th>\n",
       "      <td>8</td>\n",
       "    </tr>\n",
       "    <tr>\n",
       "      <th>1</th>\n",
       "      <td>3</td>\n",
       "    </tr>\n",
       "    <tr>\n",
       "      <th>2</th>\n",
       "      <td>2</td>\n",
       "    </tr>\n",
       "    <tr>\n",
       "      <th>3</th>\n",
       "      <td>3</td>\n",
       "    </tr>\n",
       "    <tr>\n",
       "      <th>4</th>\n",
       "      <td>8</td>\n",
       "    </tr>\n",
       "    <tr>\n",
       "      <th>...</th>\n",
       "      <td>...</td>\n",
       "    </tr>\n",
       "    <tr>\n",
       "      <th>1435</th>\n",
       "      <td>8</td>\n",
       "    </tr>\n",
       "    <tr>\n",
       "      <th>1436</th>\n",
       "      <td>5</td>\n",
       "    </tr>\n",
       "    <tr>\n",
       "      <th>1437</th>\n",
       "      <td>8</td>\n",
       "    </tr>\n",
       "    <tr>\n",
       "      <th>1438</th>\n",
       "      <td>7</td>\n",
       "    </tr>\n",
       "    <tr>\n",
       "      <th>1439</th>\n",
       "      <td>6</td>\n",
       "    </tr>\n",
       "  </tbody>\n",
       "</table>\n",
       "<p>1440 rows × 1 columns</p>\n",
       "</div>"
      ],
      "text/plain": [
       "      0\n",
       "0     8\n",
       "1     3\n",
       "2     2\n",
       "3     3\n",
       "4     8\n",
       "...  ..\n",
       "1435  8\n",
       "1436  5\n",
       "1437  8\n",
       "1438  7\n",
       "1439  6\n",
       "\n",
       "[1440 rows x 1 columns]"
      ]
     },
     "execution_count": 9,
     "metadata": {},
     "output_type": "execute_result"
    }
   ],
   "source": [
    "label_mapping_dict = {'neutral': 1, \n",
    "                         'calm': 2, \n",
    "                         'happy': 3, \n",
    "                         'sad': 4, \n",
    "                         'angry': 5, \n",
    "                         'fear': 6, \n",
    "                         'disgust': 7, \n",
    "                         'surprised': 8}\n",
    "y_converted = y.replace(label_mapping_dict)\n",
    "y_converted"
   ]
  },
  {
   "cell_type": "markdown",
   "metadata": {},
   "source": [
    "# 5-fold CV (selected feature space)"
   ]
  },
  {
   "cell_type": "code",
   "execution_count": 10,
   "metadata": {},
   "outputs": [],
   "source": [
    "group_members= data_loader.get_k_fold_group_member()\n",
    "X_k_folds, y_k_folds = data_loader.get_custom_k_folds(X_with_selected_features, y_converted, ID, group_members)"
   ]
  },
  {
   "cell_type": "markdown",
   "metadata": {},
   "source": [
    "## GridSearch"
   ]
  },
  {
   "cell_type": "code",
   "execution_count": 15,
   "metadata": {},
   "outputs": [
    {
     "name": "stderr",
     "output_type": "stream",
     "text": [
      "100%|█████████████████████████████████████████████████████████████████████████████████████████████████████████████████████████████████████████████████████████████████████████████████████████████████| 5/5 [00:00<00:00,  8.04it/s]"
     ]
    },
    {
     "name": "stdout",
     "output_type": "stream",
     "text": [
      "UAR = 0.477\n"
     ]
    },
    {
     "name": "stderr",
     "output_type": "stream",
     "text": [
      "\n"
     ]
    }
   ],
   "source": [
    "model = LinearDiscriminantAnalysis()\n",
    "UAR_best,y_pred,y_true,y_test = model_training.estimate_model(model, X_k_folds, y_k_folds)"
   ]
  },
  {
   "cell_type": "code",
   "execution_count": 16,
   "metadata": {},
   "outputs": [
    {
     "name": "stdout",
     "output_type": "stream",
     "text": [
      "UAR_best = 0.477\n"
     ]
    }
   ],
   "source": [
    "print(f'UAR_best = {UAR_best:.3f}')"
   ]
  },
  {
   "cell_type": "markdown",
   "metadata": {},
   "source": [
    "## Result visualization"
   ]
  },
  {
   "cell_type": "markdown",
   "metadata": {},
   "source": [
    "## Confusion matrix"
   ]
  },
  {
   "cell_type": "code",
   "execution_count": 17,
   "metadata": {},
   "outputs": [
    {
     "data": {
      "image/png": "[encoded data removed]",
      "text/plain": [
       "<Figure size 704x528 with 2 Axes>"
      ]
     },
     "metadata": {},
     "output_type": "display_data"
    },
    {
     "name": "stdout",
     "output_type": "stream",
     "text": [
      "Saving confusion matrix with name:  Doc/figures/confusion_matrix_eng.jpg\n"
     ]
    }
   ],
   "source": [
    "plotting_utils.plot_confusion_matrix_eng(y_test, y_true, y_pred)"
   ]
  },
  {
   "cell_type": "code",
   "execution_count": null,
   "metadata": {},
   "outputs": [],
   "source": []
  }
 ],
 "metadata": {
  "kernelspec": {
   "display_name": "Python 3 (ipykernel)",
   "language": "python",
   "name": "python3"
  },
  "language_info": {
   "codemirror_mode": {
    "name": "ipython",
    "version": 3
   },
   "file_extension": ".py",
   "mimetype": "text/x-python",
   "name": "python",
   "nbconvert_exporter": "python",
   "pygments_lexer": "ipython3",
   "version": "3.10.5"
  },
  "vscode": {
   "interpreter": {
    "hash": "a42ccb73e7d9bfdf27e036f1d2b8b681e55fc0743cc5586bc2474d4a60f4b886"
   }
  }
 },
 "nbformat": 4,
 "nbformat_minor": 2
}
